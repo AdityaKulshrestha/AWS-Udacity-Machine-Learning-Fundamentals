{
 "cells": [
  {
   "cell_type": "markdown",
   "metadata": {},
   "source": [
    "# Convolutional Neural Networks\n",
    "\n",
    "## Project: Write an Algorithm for Landmark Classification\n",
    "\n",
    "\n",
    "### Introduction\n",
    "\n",
    "The project folder has the following structure:\n",
    "\n",
    "* In the main directory you have this notebook, `cnn_from_scratch.ipynb`, that contains the instruction and some questions you will have to answer. Follow this notebook and complete the required sections in order.\n",
    "\n",
    "* In the `src/` directory you have several source files. As instructed in this notebook, you will open and complete those files, then come back to this notebook to execute some tests that will verify what you have done. While these tests don't guarantee that your work is bug-free, they will help you finding the most obvious problems so you will be able to proceed to the next step with confidence.\n",
    "\n",
    "* Sometimes you will need to restart the notebook. If you do so, remember to execute also the cells containing the code you have already completed starting from the top, before you move on.\n",
    "\n",
    "In addition to implementing code, there will be questions that you must answer which relate to the project and your implementation. Each section where you will answer a question is preceded by a **'Question'** header. Carefully read each question and provide thorough answers in the following text boxes that begin with **'Answer:'**. Your project submission will be evaluated based on your answers to each of the questions and the implementation you provide.\n",
    "\n",
    "> <img src=\"static_images/icons/noun-info-2558213.png\" alt=\"?\" style=\"width:25px\"/> Code and Markdown cells can be executed using the **Shift + Enter** keyboard shortcut.  Markdown cells can be edited by double-clicking the cell to enter edit mode.\n",
    "\n",
    "The rubric contains _optional_ \"Stand Out Suggestions\" for enhancing the project beyond the minimum requirements. If you decide to pursue the \"Stand Out Suggestions\", you should include the code in this Jupyter notebook.\n",
    "\n",
    "### Designing and training a CNN from scratch\n",
    "\n",
    "In this notebook, you will create a CNN that classifies landmarks.  You must create your CNN _from scratch_ (so, you can't use transfer learning _yet_!), and you must attain a test accuracy of at least 50%.\n",
    "\n",
    "Although 50% may seem low at first glance, it seems more reasonable after realizing how difficult of a problem this is. Many times, an image that is taken at a landmark captures a fairly mundane image of an animal or plant, like in the following picture.\n",
    "\n",
    "<img src=\"static_images/train/00.Haleakala_National_Park/084c2aa50d0a9249.jpg\" alt=\"Bird in Haleakalā National Park\" style=\"width: 400px;\"/>\n",
    "\n",
    "Just by looking at that image alone, would you have been able to guess that it was taken at the Haleakalā National Park in Hawaii?\n",
    "\n",
    "An accuracy of 50% is significantly better than random guessing, which would provide an accuracy of just 2% (100% / 50 classes). In Step 2 of this notebook, you will have the opportunity to greatly improve accuracy by using transfer learning to create a CNN.\n",
    "\n",
    "Experiment with different architectures, hyperparameters, training strategies, and trust your intuition.  And, of course, have fun!\n",
    "\n",
    "---\n",
    "## <img src=\"static_images/icons/noun-advance-2109145.png\" alt=\">\" style=\"width:50px\"/> Step 0: Setting up\n",
    "\n",
    "The following cells make sure that your environment is setup correctly, download the data if you don't have it already, and also check that your GPU is available and ready to go. You have to execute them every time you restart your notebook."
   ]
  },
  {
   "cell_type": "code",
   "execution_count": 1,
   "metadata": {},
   "outputs": [],
   "source": [
    "%load_ext autoreload\n",
    "%autoreload 2"
   ]
  },
  {
   "cell_type": "code",
   "execution_count": 2,
   "metadata": {},
   "outputs": [
    {
     "name": "stderr",
     "output_type": "stream",
     "text": [
      "'grep' is not recognized as an internal or external command,\n",
      "operable program or batch file.\n"
     ]
    }
   ],
   "source": [
    "# Install requirements\n",
    "!pip install -r requirements.txt | grep -v \"already satisfied\""
   ]
  },
  {
   "cell_type": "markdown",
   "metadata": {},
   "source": [
    "Important! After you have ran pip install, please restart the kernel using the **Kernel** menu "
   ]
  },
  {
   "cell_type": "code",
   "execution_count": 3,
   "metadata": {},
   "outputs": [
    {
     "name": "stdout",
     "output_type": "stream",
     "text": [
      "GPU available\n",
      "Dataset already downloaded. If you need to re-download, please delete the directory landmark_images\n",
      "Reusing cached mean and std\n"
     ]
    }
   ],
   "source": [
    "from src.helpers import setup_env\n",
    "\n",
    "# If running locally, this will download dataset (make sure you have at \n",
    "# least 2 Gb of space on your hard drive)\n",
    "setup_env()"
   ]
  },
  {
   "cell_type": "markdown",
   "metadata": {},
   "source": [
    "---\n",
    "## <img src=\"static_images/icons/noun-advance-2109145.png\" alt=\">\" style=\"width:50px\"/> Step 1: Data\n",
    "\n",
    "In this and the following steps we are going to complete some code, and then execute some tests to make sure the code works as intended. \n",
    "\n",
    "Open the file `src/data.py`. It contains a function called `get_data_loaders`. Read the function and complete all the parts marked by `YOUR CODE HERE`. Once you have finished, test that your implementation is correct by executing the following cell (see below for what to do if a test fails):"
   ]
  },
  {
   "cell_type": "code",
   "execution_count": 4,
   "metadata": {},
   "outputs": [
    {
     "name": "stdout",
     "output_type": "stream",
     "text": [
      "\u001b[1m============================= test session starts =============================\u001b[0m\n",
      "platform win32 -- Python 3.9.13, pytest-7.4.0, pluggy-1.0.0 -- C:\\Users\\91876\\anaconda3\\python.exe\n",
      "cachedir: .pytest_cache\n",
      "rootdir: D:\\Drive D\\LearningML\\Courses\\Udacity\\AWS Fundamentals\\LandMark Identification\n",
      "plugins: anyio-3.5.0, hydra-core-1.2.0\n",
      "\u001b[1mcollecting ... \u001b[0mcollected 4 items / 1 deselected / 3 selected\n",
      "\n",
      "src/data.py::test_data_loaders_keys \u001b[32mPASSED\u001b[0m\u001b[32m                               [ 33%]\u001b[0m\n",
      "src/data.py::test_data_loaders_output_type \u001b[32mPASSED\u001b[0m\u001b[32m                        [ 66%]\u001b[0m\n",
      "src/data.py::test_data_loaders_output_shape \u001b[32mPASSED\u001b[0m\u001b[32m                       [100%]\u001b[0m\n",
      "\n",
      "\u001b[32m======================= \u001b[32m\u001b[1m3 passed\u001b[0m, \u001b[33m1 deselected\u001b[0m\u001b[32m in 7.44s\u001b[0m\u001b[32m =======================\u001b[0m\n"
     ]
    }
   ],
   "source": [
    "!pytest -vv src/data.py -k data_loaders"
   ]
  },
  {
   "cell_type": "markdown",
   "metadata": {},
   "source": [
    "You should see something like:\n",
    "```\n",
    "src/data.py::test_data_loaders_keys PASSED                               [ 33%]\n",
    "src/data.py::test_data_loaders_output_type PASSED                        [ 66%]\n",
    "src/data.py::test_data_loaders_output_shape PASSED                       [100%]\n",
    "\n",
    "======================= 3 passed, 1 deselected in 1.81s ========================\n",
    "```\n",
    "If all the tests are `PASSED`, you can move to the next section.\n",
    "\n",
    "> <img src=\"static_images/icons/noun-info-2558213.png\" alt=\"?\" style=\"width:25px\"/> **What to do if tests fail**\n",
    "When a test fails, `pytest` will mark it as `FAILED` as opposed to `PASSED`, and will print a lot of useful output, including a message that should tell you what the problem is. For example, this is the output of a failed test:\n",
    "> ```\n",
    ">    def test_data_loaders_keys(data_loaders):\n",
    ">    \n",
    ">       assert set(data_loaders.keys()) == {\"train\", \"valid\", \"test\"}\n",
    "E       AssertionError: assert {'tes', 'train', 'valid'} == {'test', 'train', 'valid'}\n",
    "E         Extra items in the left set:\n",
    "E         'tes'\n",
    "E         Full diff:\n",
    "E         - {'test', 'train', 'valid'}\n",
    "E         + {'tes', 'train', 'valid'}\n",
    "E         ?                          +++++++\n",
    ">\n",
    "> src/data.py:171: AssertionError\n",
    "-------------- Captured stdout setup ----------------------------------------------\n",
    "Reusing cached mean and std for landmark_images\n",
    "Dataset mean: tensor([0.4638, 0.4725, 0.4687]), std: tensor([0.2699, 0.2706, 0.3018])\n",
    "=========== short test summary info ===============================================\n",
    "FAILED src/data.py::test_data_loaders_keys - AssertionError: The keys of the data_loaders dictionary should be train, valid and test\n",
    "> ``` \n",
    "> In the `short test summary info` you can see a short description of the problem. In this case, the dictionary we are returning has the wrong keys. Going above a little, you can see that the test expects `{'test', 'train', 'valid'}` while we are returning `{'tes', 'train', 'valid'}` (there is a missing `t`). So we can go back to our function, fix that problem and test again.\n",
    "> \n",
    "> In other cases, you might get an error like:\n",
    "> ```\n",
    "    def _conv_forward(self, input: Tensor, weight: Tensor, bias: Optional[Tensor]):\n",
    "        if self.padding_mode != 'zeros':\n",
    "            return F.conv2d(F.pad(input, self._reversed_padding_repeated_twice, mode=self.padding_mode),\n",
    "                            weight, bias, self.stride,\n",
    "                            _pair(0), self.dilation, self.groups)\n",
    "        return F.conv2d(input, weight, bias, self.stride,\n",
    ">                       self.padding, self.dilation, self.groups)\n",
    "E       RuntimeError: Input type (torch.cuda.FloatTensor) and weight type (torch.FloatTensor) should be the same\n",
    ">\n",
    "> ../../../../miniconda3/envs/udacity_starter/lib/python3.7/site-packages/torch/nn/modules/conv.py:440: RuntimeError\n",
    "> ```\n",
    "> Looking at the stack trace you should be able to understand what it is going on. In this case, we forgot to add a `.cuda()` to some tensor. For example, the model is on the GPU, but the data aren't."
   ]
  },
  {
   "cell_type": "markdown",
   "metadata": {},
   "source": [
    "<img src=\"static_images/icons/noun-question-mark-869751.png\" alt=\"?\" style=\"width:25px\"/> **Question:** Describe your chosen procedure for preprocessing the data. \n",
    "- How does your code resize the images (by cropping, stretching, etc)?  What size did you pick for the input tensor, and why?\n",
    "- Did you decide to augment the dataset?  If so, how (through translations, flips, rotations, etc)?  If not, why not?"
   ]
  },
  {
   "cell_type": "markdown",
   "metadata": {},
   "source": [
    "<img src=\"static_images/icons/noun-answer-3361020.png\" alt=\">\" style=\"width:25px\"/> **Answer**: My code first resizes the image to 256 and then crops to 224. I picked 224 as the input size because it is the recommended input size for using pytorch's pre-trained models. I did decide to augment the dataset via RandAugment, a typical set of augmentations for natural images. I added this augmentation with the goal of improving my model's robustness, thus improving test accuracy."
   ]
  },
  {
   "cell_type": "markdown",
   "metadata": {},
   "source": [
    "### Visualize a Batch of Training Data\n",
    "\n",
    "Go back to `src/data.py` and complete the function `visualize_one_batch` in all places with the `YOUR CODE HERE` marker. After you're done, execute the following cell and make sure the test `src/data.py::test_visualize_one_batch` is `PASSED`:"
   ]
  },
  {
   "cell_type": "code",
   "execution_count": 5,
   "metadata": {},
   "outputs": [
    {
     "name": "stdout",
     "output_type": "stream",
     "text": [
      "\u001b[1m============================= test session starts =============================\u001b[0m\n",
      "platform win32 -- Python 3.9.13, pytest-7.4.0, pluggy-1.0.0 -- C:\\Users\\91876\\anaconda3\\python.exe\n",
      "cachedir: .pytest_cache\n",
      "rootdir: D:\\Drive D\\LearningML\\Courses\\Udacity\\AWS Fundamentals\\LandMark Identification\n",
      "plugins: anyio-3.5.0, hydra-core-1.2.0\n",
      "\u001b[1mcollecting ... \u001b[0mcollected 4 items / 3 deselected / 1 selected\n",
      "\n",
      "src/data.py::test_visualize_one_batch \u001b[32mPASSED\u001b[0m\u001b[32m                             [100%]\u001b[0m\n",
      "\n",
      "\u001b[32m======================= \u001b[32m\u001b[1m1 passed\u001b[0m, \u001b[33m3 deselected\u001b[0m\u001b[32m in 7.85s\u001b[0m\u001b[32m =======================\u001b[0m\n"
     ]
    }
   ],
   "source": [
    "!pytest -vv src/data.py -k visualize_one_batch"
   ]
  },
  {
   "cell_type": "markdown",
   "metadata": {},
   "source": [
    "We can now use the code we just completed to get a batch of images from your train data loader and look at them.\n",
    "\n",
    "Visualizing the output of your data loader is a great way to ensure that your data loading and preprocessing (including transforms such as rotations, translations, color transforms...) are working as expected."
   ]
  },
  {
   "cell_type": "code",
   "execution_count": 6,
   "metadata": {},
   "outputs": [],
   "source": [
    "import multiprocessing\n",
    "num_workers = multiprocessing.cpu_count()"
   ]
  },
  {
   "cell_type": "code",
   "execution_count": null,
   "metadata": {},
   "outputs": [
    {
     "name": "stdout",
     "output_type": "stream",
     "text": [
      "Reusing cached mean and std\n",
      "Dataset mean: tensor([0.4638, 0.4725, 0.4687]), std: tensor([0.2699, 0.2706, 0.3018])\n"
     ]
    }
   ],
   "source": [
    "%matplotlib inline\n",
    "from src.data import visualize_one_batch, get_data_loaders\n",
    "\n",
    "# use get_data_loaders to get the data_loaders dictionary. Use a batch_size\n",
    "# of 5, a validation size of 0.01 and num_workers=-1 (all CPUs)\n",
    "data_loaders = get_data_loaders(batch_size = 5, num_workers = num_workers, valid_size=0.01)\n",
    "\n",
    "visualize_one_batch(data_loaders)"
   ]
  },
  {
   "cell_type": "markdown",
   "metadata": {},
   "source": [
    "---\n",
    "## <img src=\"static_images/icons/noun-advance-2109145.png\" alt=\">\" style=\"width:50px\"/> Step 2: Define model\n",
    "\n",
    "Open `src/model.py` and complete the `MyModel` class filling in all the `YOUR CODE HERE` sections. After you're done, execute the following test and make sure it passes:"
   ]
  },
  {
   "cell_type": "code",
   "execution_count": null,
   "metadata": {},
   "outputs": [],
   "source": [
    "!pytest -vv src/model.py"
   ]
  },
  {
   "cell_type": "markdown",
   "metadata": {},
   "source": [
    "<img src=\"static_images/icons/noun-question-mark-869751.png\" alt=\"?\" style=\"width:25px\"/> **Question**: Outline the steps you took to get to your final CNN architecture and your reasoning at each step.  "
   ]
  },
  {
   "cell_type": "markdown",
   "metadata": {},
   "source": [
    "<img src=\"static_images/icons/noun-answer-3361020.png\" alt=\">\" style=\"width:25px\"/> __Answer:__ I decided to use 5 convolutional layers so that my model could be sufficiently expressive. I used dropout layers to reduce my model's tendency to overfit the training data. I made my model output a 50-dimensional vector to match with the 50 available landmark classes."
   ]
  },
  {
   "cell_type": "markdown",
   "metadata": {},
   "source": [
    "---\n",
    "## <img src=\"static_images/icons/noun-advance-2109145.png\" alt=\">\" style=\"width:50px\"/> Step 3: define loss and optimizer\n",
    "\n",
    "Open `src/optimization.py` and complete the `get_loss` function, then execute the test and make sure it passes:"
   ]
  },
  {
   "cell_type": "code",
   "execution_count": 7,
   "metadata": {},
   "outputs": [
    {
     "name": "stdout",
     "output_type": "stream",
     "text": [
      "\u001b[1m============================= test session starts =============================\u001b[0m\n",
      "platform win32 -- Python 3.9.13, pytest-7.4.0, pluggy-1.0.0 -- C:\\Users\\91876\\anaconda3\\python.exe\n",
      "cachedir: .pytest_cache\n",
      "rootdir: D:\\Drive D\\LearningML\\Courses\\Udacity\\AWS Fundamentals\\LandMark Identification\n",
      "plugins: anyio-3.5.0, hydra-core-1.2.0\n",
      "\u001b[1mcollecting ... \u001b[0mcollected 7 items / 6 deselected / 1 selected\n",
      "\n",
      "src/optimization.py::test_get_loss \u001b[32mPASSED\u001b[0m\u001b[32m                                [100%]\u001b[0m\n",
      "\n",
      "\u001b[32m======================= \u001b[32m\u001b[1m1 passed\u001b[0m, \u001b[33m6 deselected\u001b[0m\u001b[32m in 4.69s\u001b[0m\u001b[32m =======================\u001b[0m\n"
     ]
    }
   ],
   "source": [
    "!pytest -vv src/optimization.py -k get_loss"
   ]
  },
  {
   "cell_type": "markdown",
   "metadata": {},
   "source": [
    "Then, in the same file, complete the `get_optimizer` function then execute its tests, and make sure they all pass:"
   ]
  },
  {
   "cell_type": "code",
   "execution_count": 8,
   "metadata": {},
   "outputs": [
    {
     "name": "stdout",
     "output_type": "stream",
     "text": [
      "\u001b[1m============================= test session starts =============================\u001b[0m\n",
      "platform win32 -- Python 3.9.13, pytest-7.4.0, pluggy-1.0.0 -- C:\\Users\\91876\\anaconda3\\python.exe\n",
      "cachedir: .pytest_cache\n",
      "rootdir: D:\\Drive D\\LearningML\\Courses\\Udacity\\AWS Fundamentals\\LandMark Identification\n",
      "plugins: anyio-3.5.0, hydra-core-1.2.0\n",
      "\u001b[1mcollecting ... \u001b[0mcollected 7 items / 1 deselected / 6 selected\n",
      "\n",
      "src/optimization.py::test_get_optimizer_type \u001b[32mPASSED\u001b[0m\u001b[32m                      [ 16%]\u001b[0m\n",
      "src/optimization.py::test_get_optimizer_is_linked_with_model \u001b[32mPASSED\u001b[0m\u001b[32m      [ 33%]\u001b[0m\n",
      "src/optimization.py::test_get_optimizer_returns_adam \u001b[32mPASSED\u001b[0m\u001b[32m              [ 50%]\u001b[0m\n",
      "src/optimization.py::test_get_optimizer_sets_learning_rate \u001b[32mPASSED\u001b[0m\u001b[32m        [ 66%]\u001b[0m\n",
      "src/optimization.py::test_get_optimizer_sets_momentum \u001b[32mPASSED\u001b[0m\u001b[32m             [ 83%]\u001b[0m\n",
      "src/optimization.py::test_get_optimizer_sets_weight_decat \u001b[32mPASSED\u001b[0m\u001b[32m         [100%]\u001b[0m\n",
      "\n",
      "\u001b[32m======================= \u001b[32m\u001b[1m6 passed\u001b[0m, \u001b[33m1 deselected\u001b[0m\u001b[32m in 4.97s\u001b[0m\u001b[32m =======================\u001b[0m\n"
     ]
    }
   ],
   "source": [
    "!pytest -vv src/optimization.py -k get_optimizer"
   ]
  },
  {
   "cell_type": "markdown",
   "metadata": {},
   "source": [
    "---\n",
    "## <img src=\"static_images/icons/noun-advance-2109145.png\" alt=\">\" style=\"width:50px\"/> Step 4: Train and Validate the Model\n",
    "\n",
    "> <img src=\"static_images/icons/noun-info-2558213.png\" alt=\"?\" style=\"width:25px\"/> Testing ML code is notoriously difficult. The tests in this section merely exercise the functions you are completing, so it will help you catching glaring problems but it won't guarantee that your training code is bug-free. If you see that your loss is not decreasing, for example, that's a sign of a bug or of a flawed model design. Use your judgement.\n",
    "\n",
    "Open `src/train.py` and complete the `train_one_epoch` function, then run the tests:"
   ]
  },
  {
   "cell_type": "code",
   "execution_count": 9,
   "metadata": {},
   "outputs": [
    {
     "name": "stdout",
     "output_type": "stream",
     "text": [
      "\u001b[1m============================= test session starts =============================\u001b[0m\n",
      "platform win32 -- Python 3.9.13, pytest-7.4.0, pluggy-1.0.0 -- C:\\Users\\91876\\anaconda3\\python.exe\n",
      "cachedir: .pytest_cache\n",
      "rootdir: D:\\Drive D\\LearningML\\Courses\\Udacity\\AWS Fundamentals\\LandMark Identification\n",
      "plugins: anyio-3.5.0, hydra-core-1.2.0\n",
      "\u001b[1mcollecting ... \u001b[0mcollected 4 items / 3 deselected / 1 selected\n",
      "\n",
      "src/train.py::test_train_one_epoch \u001b[32mPASSED\u001b[0m\u001b[32m                                [100%]\u001b[0m\n",
      "\n",
      "\u001b[32m====================== \u001b[32m\u001b[1m1 passed\u001b[0m, \u001b[33m3 deselected\u001b[0m\u001b[32m in 26.40s\u001b[0m\u001b[32m =======================\u001b[0m\n"
     ]
    }
   ],
   "source": [
    "!pytest -vv src/train.py -k train_one_epoch"
   ]
  },
  {
   "cell_type": "markdown",
   "metadata": {},
   "source": [
    "Now complete the `valid` function, then run the tests:"
   ]
  },
  {
   "cell_type": "code",
   "execution_count": 10,
   "metadata": {},
   "outputs": [
    {
     "name": "stdout",
     "output_type": "stream",
     "text": [
      "\u001b[1m============================= test session starts =============================\u001b[0m\n",
      "platform win32 -- Python 3.9.13, pytest-7.4.0, pluggy-1.0.0 -- C:\\Users\\91876\\anaconda3\\python.exe\n",
      "cachedir: .pytest_cache\n",
      "rootdir: D:\\Drive D\\LearningML\\Courses\\Udacity\\AWS Fundamentals\\LandMark Identification\n",
      "plugins: anyio-3.5.0, hydra-core-1.2.0\n",
      "\u001b[1mcollecting ... \u001b[0mcollected 4 items / 3 deselected / 1 selected\n",
      "\n",
      "src/train.py::test_valid_one_epoch \u001b[32mPASSED\u001b[0m\u001b[32m                                [100%]\u001b[0m\n",
      "\n",
      "\u001b[32m====================== \u001b[32m\u001b[1m1 passed\u001b[0m, \u001b[33m3 deselected\u001b[0m\u001b[32m in 22.58s\u001b[0m\u001b[32m =======================\u001b[0m\n"
     ]
    }
   ],
   "source": [
    "!pytest -vv src/train.py -k valid_one_epoch"
   ]
  },
  {
   "cell_type": "markdown",
   "metadata": {},
   "source": [
    "Now complete the `optimize` function, then run the tests:"
   ]
  },
  {
   "cell_type": "code",
   "execution_count": 11,
   "metadata": {},
   "outputs": [
    {
     "name": "stdout",
     "output_type": "stream",
     "text": [
      "\u001b[1m============================= test session starts =============================\u001b[0m\n",
      "platform win32 -- Python 3.9.13, pytest-7.4.0, pluggy-1.0.0 -- C:\\Users\\91876\\anaconda3\\python.exe\n",
      "cachedir: .pytest_cache\n",
      "rootdir: D:\\Drive D\\LearningML\\Courses\\Udacity\\AWS Fundamentals\\LandMark Identification\n",
      "plugins: anyio-3.5.0, hydra-core-1.2.0\n",
      "\u001b[1mcollecting ... \u001b[0mcollected 4 items / 3 deselected / 1 selected\n",
      "\n",
      "src/train.py::test_optimize \u001b[32mPASSED\u001b[0m\u001b[32m                                       [100%]\u001b[0m\n",
      "\n",
      "\u001b[32m====================== \u001b[32m\u001b[1m1 passed\u001b[0m, \u001b[33m3 deselected\u001b[0m\u001b[32m in 29.64s\u001b[0m\u001b[32m =======================\u001b[0m\n"
     ]
    }
   ],
   "source": [
    "!pytest -vv src/train.py -k optimize"
   ]
  },
  {
   "cell_type": "markdown",
   "metadata": {},
   "source": [
    "Finally, complete the `test` function then run the tests:"
   ]
  },
  {
   "cell_type": "code",
   "execution_count": 12,
   "metadata": {},
   "outputs": [
    {
     "name": "stdout",
     "output_type": "stream",
     "text": [
      "\u001b[1m============================= test session starts =============================\u001b[0m\n",
      "platform win32 -- Python 3.9.13, pytest-7.4.0, pluggy-1.0.0 -- C:\\Users\\91876\\anaconda3\\python.exe\n",
      "cachedir: .pytest_cache\n",
      "rootdir: D:\\Drive D\\LearningML\\Courses\\Udacity\\AWS Fundamentals\\LandMark Identification\n",
      "plugins: anyio-3.5.0, hydra-core-1.2.0\n",
      "\u001b[1mcollecting ... \u001b[0mcollected 4 items / 3 deselected / 1 selected\n",
      "\n",
      "src/train.py::test_one_epoch_test \u001b[32mPASSED\u001b[0m\u001b[32m                                 [100%]\u001b[0m\n",
      "\n",
      "\u001b[32m====================== \u001b[32m\u001b[1m1 passed\u001b[0m, \u001b[33m3 deselected\u001b[0m\u001b[32m in 59.67s\u001b[0m\u001b[32m =======================\u001b[0m\n"
     ]
    }
   ],
   "source": [
    "!pytest -vv src/train.py -k one_epoch_test"
   ]
  },
  {
   "cell_type": "markdown",
   "metadata": {},
   "source": [
    "---\n",
    "## <img src=\"static_images/icons/noun-advance-2109145.png\" alt=\">\" style=\"width:50px\"/> Step 5: Putting everything together\n",
    "\n",
    "Allright, good job getting here! Now it's time to see if all our hard work pays off. In the following cell we will train your model and validate it against the validation set.\n",
    "\n",
    "Let's start by defining a few hyperparameters. Feel free to experiment with different values and try to optimize your model:"
   ]
  },
  {
   "cell_type": "code",
   "execution_count": 39,
   "metadata": {},
   "outputs": [],
   "source": [
    "batch_size = 2        # size of the minibatch for stochastic gradient descent (or Adam)\n",
    "valid_size = 0.2       # fraction of the training data to reserve for validation\n",
    "num_epochs = 50        # number of epochs for training\n",
    "num_classes = 50       # number of classes. Do not change this\n",
    "dropout = 0.4          # dropout for our model\n",
    "learning_rate = 0.001  # Learning rate for SGD (or Adam)\n",
    "opt = 'sgd'            # optimizer. 'sgd' or 'adam'\n",
    "weight_decay = 0.0     # regularization. Increase this to combat overfitting"
   ]
  },
  {
   "cell_type": "code",
   "execution_count": 40,
   "metadata": {},
   "outputs": [
    {
     "name": "stdout",
     "output_type": "stream",
     "text": [
      "Reusing cached mean and std\n",
      "Dataset mean: tensor([0.4638, 0.4725, 0.4687]), std: tensor([0.2699, 0.2706, 0.3018])\n"
     ]
    },
    {
     "name": "stderr",
     "output_type": "stream",
     "text": [
      "Training:   2%|▋                              | 46/1998 [00:03<02:43, 11.91it/s]\n"
     ]
    },
    {
     "name": "stdout",
     "output_type": "stream",
     "text": [
      "Unexpected exception formatting exception. Falling back to standard exception\n"
     ]
    },
    {
     "name": "stderr",
     "output_type": "stream",
     "text": [
      "Traceback (most recent call last):\n",
      "  File \"C:\\Users\\91876\\anaconda3\\lib\\site-packages\\IPython\\core\\interactiveshell.py\", line 3508, in run_code\n",
      "    exec(code_obj, self.user_global_ns, self.user_ns)\n",
      "  File \"C:\\Users\\91876\\AppData\\Local\\Temp\\ipykernel_17240\\3689438083.py\", line 27, in <module>\n",
      "  File \"D:\\Drive D\\LearningML\\Courses\\Udacity\\AWS Fundamentals\\LandMark Identification\\src\\train.py\", line 115, in optimize\n",
      "    train_loss = train_one_epoch(\n",
      "  File \"D:\\Drive D\\LearningML\\Courses\\Udacity\\AWS Fundamentals\\LandMark Identification\\src\\train.py\", line 27, in train_one_epoch\n",
      "    for batch_idx, (data, target) in tqdm(\n",
      "  File \"C:\\Users\\91876\\anaconda3\\lib\\site-packages\\tqdm\\std.py\", line 1178, in __iter__\n",
      "    for obj in iterable:\n",
      "  File \"C:\\Users\\91876\\anaconda3\\lib\\site-packages\\torch\\utils\\data\\dataloader.py\", line 633, in __next__\n",
      "    data = self._next_data()\n",
      "  File \"C:\\Users\\91876\\anaconda3\\lib\\site-packages\\torch\\utils\\data\\dataloader.py\", line 1345, in _next_data\n",
      "    return self._process_data(data)\n",
      "  File \"C:\\Users\\91876\\anaconda3\\lib\\site-packages\\torch\\utils\\data\\dataloader.py\", line 1371, in _process_data\n",
      "    data.reraise()\n",
      "  File \"C:\\Users\\91876\\anaconda3\\lib\\site-packages\\torch\\_utils.py\", line 644, in reraise\n",
      "    raise exception\n",
      "RuntimeError: Caught RuntimeError in DataLoader worker process 10.\n",
      "Original Traceback (most recent call last):\n",
      "  File \"C:\\Users\\91876\\anaconda3\\lib\\site-packages\\torch\\utils\\data\\_utils\\worker.py\", line 308, in _worker_loop\n",
      "    data = fetcher.fetch(index)\n",
      "  File \"C:\\Users\\91876\\anaconda3\\lib\\site-packages\\torch\\utils\\data\\_utils\\fetch.py\", line 54, in fetch\n",
      "    return self.collate_fn(data)\n",
      "  File \"C:\\Users\\91876\\anaconda3\\lib\\site-packages\\torch\\utils\\data\\_utils\\collate.py\", line 265, in default_collate\n",
      "    return collate(batch, collate_fn_map=default_collate_fn_map)\n",
      "  File \"C:\\Users\\91876\\anaconda3\\lib\\site-packages\\torch\\utils\\data\\_utils\\collate.py\", line 142, in collate\n",
      "    return [collate(samples, collate_fn_map=collate_fn_map) for samples in transposed]  # Backwards compatibility.\n",
      "  File \"C:\\Users\\91876\\anaconda3\\lib\\site-packages\\torch\\utils\\data\\_utils\\collate.py\", line 142, in <listcomp>\n",
      "    return [collate(samples, collate_fn_map=collate_fn_map) for samples in transposed]  # Backwards compatibility.\n",
      "  File \"C:\\Users\\91876\\anaconda3\\lib\\site-packages\\torch\\utils\\data\\_utils\\collate.py\", line 119, in collate\n",
      "    return collate_fn_map[elem_type](batch, collate_fn_map=collate_fn_map)\n",
      "  File \"C:\\Users\\91876\\anaconda3\\lib\\site-packages\\torch\\utils\\data\\_utils\\collate.py\", line 160, in collate_tensor_fn\n",
      "    storage = elem._typed_storage()._new_shared(numel, device=elem.device)\n",
      "  File \"C:\\Users\\91876\\anaconda3\\lib\\site-packages\\torch\\storage.py\", line 732, in _new_shared\n",
      "    untyped_storage = torch.UntypedStorage._new_shared(size * self._element_size(), device=device)\n",
      "  File \"C:\\Users\\91876\\anaconda3\\lib\\site-packages\\torch\\storage.py\", line 222, in _new_shared\n",
      "    return cls._new_using_filename_cpu(size)\n",
      "RuntimeError: Couldn't open shared file mapping: <0000019878BB4482>, error code: <1455>\n",
      "\n",
      "\n",
      "During handling of the above exception, another exception occurred:\n",
      "\n",
      "Traceback (most recent call last):\n",
      "  File \"C:\\Users\\91876\\anaconda3\\lib\\site-packages\\IPython\\core\\interactiveshell.py\", line 2105, in showtraceback\n",
      "    stb = self.InteractiveTB.structured_traceback(\n",
      "  File \"C:\\Users\\91876\\anaconda3\\lib\\site-packages\\IPython\\core\\ultratb.py\", line 1396, in structured_traceback\n",
      "    return FormattedTB.structured_traceback(\n",
      "  File \"C:\\Users\\91876\\anaconda3\\lib\\site-packages\\IPython\\core\\ultratb.py\", line 1287, in structured_traceback\n",
      "    return VerboseTB.structured_traceback(\n",
      "  File \"C:\\Users\\91876\\anaconda3\\lib\\site-packages\\IPython\\core\\ultratb.py\", line 1140, in structured_traceback\n",
      "    formatted_exception = self.format_exception_as_a_whole(etype, evalue, etb, number_of_lines_of_context,\n",
      "  File \"C:\\Users\\91876\\anaconda3\\lib\\site-packages\\IPython\\core\\ultratb.py\", line 1030, in format_exception_as_a_whole\n",
      "    self.get_records(etb, number_of_lines_of_context, tb_offset) if etb else []\n",
      "  File \"C:\\Users\\91876\\anaconda3\\lib\\site-packages\\IPython\\core\\ultratb.py\", line 1098, in get_records\n",
      "    mod = inspect.getmodule(cf.tb_frame)\n",
      "  File \"C:\\Users\\91876\\anaconda3\\lib\\inspect.py\", line 738, in getmodule\n",
      "  File \"C:\\Users\\91876\\anaconda3\\lib\\inspect.py\", line 721, in getabsfile\n",
      "    _filename = getsourcefile(object) or getfile(object)\n",
      "  File \"C:\\Users\\91876\\anaconda3\\lib\\inspect.py\", line 709, in getsourcefile\n",
      "    if getattr(getmodule(object, filename), '__loader__', None) is not None:\n",
      "  File \"C:\\Users\\91876\\anaconda3\\lib\\inspect.py\", line 745, in getmodule\n",
      "    for modname, module in sys.modules.copy().items():\n",
      "MemoryError\n"
     ]
    }
   ],
   "source": [
    "from src.data import get_data_loaders\n",
    "from src.train import optimize\n",
    "from src.optimization import get_optimizer, get_loss\n",
    "from src.model import MyModel\n",
    "\n",
    "# get the data loaders using batch_size and valid_size defined in the previous\n",
    "# cell\n",
    "# HINT: do NOT copy/paste the values. Use the variables instead\n",
    "data_loaders = get_data_loaders(batch_size = batch_size, num_workers = num_workers, valid_size=valid_size)\n",
    "\n",
    "# instance model MyModel with num_classes and drouput defined in the previous\n",
    "# cell\n",
    "model = MyModel(num_classes=num_classes, dropout=dropout)\n",
    "\n",
    "# Get the optimizer using get_optimizer and the model you just created, the learning rate,\n",
    "# the optimizer and the weight decay specified in the previous cell\n",
    "optimizer = get_optimizer(\n",
    "    model = model,\n",
    "    optimizer = \"SGD\",\n",
    "    learning_rate= learning_rate,\n",
    "    weight_decay= weight_decay,\n",
    ")\n",
    "\n",
    "# Get the loss using get_loss\n",
    "loss = get_loss()\n",
    "\n",
    "optimize(\n",
    "    data_loaders,\n",
    "    model,\n",
    "    optimizer,\n",
    "    loss,\n",
    "    n_epochs=num_epochs,\n",
    "    save_path=\"checkpoints/best_val_loss.pt\",\n",
    "    interactive_tracking=True\n",
    ")"
   ]
  },
  {
   "cell_type": "markdown",
   "metadata": {},
   "source": [
    "---\n",
    "## <img src=\"static_images/icons/noun-advance-2109145.png\" alt=\">\" style=\"width:50px\"/> Step 6: testing against the Test Set\n",
    "\n",
    "> <img src=\"static_images/icons/noun-info-2558213.png\" alt=\"?\" style=\"width:25px\"/> only run this *after* you have completed hyperpameter optimization. Do not optimize hyperparameters by looking at the results on the test set, or you might overfit on the test set (bad, bad, bad)\n",
    "\n",
    "Run the code cell below to try out your model on the test dataset of landmark images. Ensure that your test accuracy is greater than 50%."
   ]
  },
  {
   "cell_type": "code",
   "execution_count": 16,
   "metadata": {},
   "outputs": [
    {
     "name": "stderr",
     "output_type": "stream",
     "text": [
      "\r",
      "Testing:   0%|                                         | 0/1250 [00:00<?, ?it/s]"
     ]
    },
    {
     "name": "stdout",
     "output_type": "stream",
     "text": [
      "Original shape torch.Size([1, 3, 224, 224])\n"
     ]
    },
    {
     "name": "stderr",
     "output_type": "stream",
     "text": [
      "Testing:   0%|                                 | 4/1250 [00:07<28:43,  1.38s/it]"
     ]
    },
    {
     "name": "stdout",
     "output_type": "stream",
     "text": [
      "Original shape torch.Size([1, 3, 224, 224])\n",
      "Original shape torch.Size([1, 3, 224, 224])\n",
      "Original shape torch.Size([1, 3, 224, 224])\n",
      "Original shape torch.Size([1, 3, 224, 224])\n",
      "Original shape torch.Size([1, 3, 224, 224])\n"
     ]
    },
    {
     "name": "stderr",
     "output_type": "stream",
     "text": [
      "\r",
      "Testing:   1%|▏                                | 7/1250 [00:07<14:17,  1.45it/s]"
     ]
    },
    {
     "name": "stdout",
     "output_type": "stream",
     "text": [
      "Original shape torch.Size([1, 3, 224, 224])\n",
      "Original shape torch.Size([1, 3, 224, 224])\n"
     ]
    },
    {
     "name": "stderr",
     "output_type": "stream",
     "text": [
      "Testing:   1%|▎                               | 12/1250 [00:07<06:14,  3.31it/s]"
     ]
    },
    {
     "name": "stdout",
     "output_type": "stream",
     "text": [
      "Original shape torch.Size([1, 3, 224, 224])\n",
      "Original shape torch.Size([1, 3, 224, 224])\n",
      "Original shape torch.Size([1, 3, 224, 224])\n",
      "Original shape torch.Size([1, 3, 224, 224])\n",
      "Original shape torch.Size([1, 3, 224, 224])\n",
      "Original shape torch.Size([1, 3, 224, 224])\n"
     ]
    },
    {
     "name": "stderr",
     "output_type": "stream",
     "text": [
      "\r",
      "Testing:   1%|▍                               | 15/1250 [00:07<04:10,  4.93it/s]"
     ]
    },
    {
     "name": "stdout",
     "output_type": "stream",
     "text": [
      "Original shape torch.Size([1, 3, 224, 224])\n",
      "Original shape torch.Size([1, 3, 224, 224])\n",
      "Original shape torch.Size([1, 3, 224, 224])\n"
     ]
    },
    {
     "name": "stderr",
     "output_type": "stream",
     "text": [
      "Testing:   2%|▌                               | 20/1250 [00:08<02:52,  7.12it/s]"
     ]
    },
    {
     "name": "stdout",
     "output_type": "stream",
     "text": [
      "Original shape torch.Size([1, 3, 224, 224])\n",
      "Original shape torch.Size([1, 3, 224, 224])\n",
      "Original shape torch.Size([1, 3, 224, 224])\n",
      "Original shape torch.Size([1, 3, 224, 224])\n"
     ]
    },
    {
     "name": "stderr",
     "output_type": "stream",
     "text": [
      "Testing:   2%|▋                               | 26/1250 [00:08<01:39, 12.31it/s]"
     ]
    },
    {
     "name": "stdout",
     "output_type": "stream",
     "text": [
      "Original shape torch.Size([1, 3, 224, 224])\n",
      "Original shape torch.Size([1, 3, 224, 224])\n",
      "Original shape torch.Size([1, 3, 224, 224])\n",
      "Original shape torch.Size([1, 3, 224, 224])\n",
      "Original shape torch.Size([1, 3, 224, 224])\n",
      "Original shape torch.Size([1, 3, 224, 224])\n"
     ]
    },
    {
     "name": "stderr",
     "output_type": "stream",
     "text": [
      "Testing:   3%|▊                               | 33/1250 [00:08<01:07, 17.96it/s]"
     ]
    },
    {
     "name": "stdout",
     "output_type": "stream",
     "text": [
      "Original shape torch.Size([1, 3, 224, 224])\n",
      "Original shape torch.Size([1, 3, 224, 224])\n",
      "Original shape torch.Size([1, 3, 224, 224])\n",
      "Original shape torch.Size([1, 3, 224, 224])\n",
      "Original shape torch.Size([1, 3, 224, 224])\n",
      "Original shape torch.Size([1, 3, 224, 224])\n",
      "Original shape torch.Size([1, 3, 224, 224])\n"
     ]
    },
    {
     "name": "stderr",
     "output_type": "stream",
     "text": [
      "Testing:   3%|▉                               | 39/1250 [00:09<01:03, 19.21it/s]"
     ]
    },
    {
     "name": "stdout",
     "output_type": "stream",
     "text": [
      "Original shape torch.Size([1, 3, 224, 224])\n",
      "Original shape torch.Size([1, 3, 224, 224])\n",
      "Original shape torch.Size([1, 3, 224, 224])\n",
      "Original shape torch.Size([1, 3, 224, 224])\n",
      "Original shape torch.Size([1, 3, 224, 224])\n",
      "Original shape torch.Size([1, 3, 224, 224])\n",
      "Original shape torch.Size([1, 3, 224, 224])\n"
     ]
    },
    {
     "name": "stderr",
     "output_type": "stream",
     "text": [
      "\r",
      "Testing:   3%|█                               | 43/1250 [00:09<00:54, 22.26it/s]"
     ]
    },
    {
     "name": "stdout",
     "output_type": "stream",
     "text": [
      "Original shape torch.Size([1, 3, 224, 224])\n",
      "Original shape torch.Size([1, 3, 224, 224])\n",
      "Original shape torch.Size([1, 3, 224, 224])\n",
      "Original shape torch.Size([1, 3, 224, 224])\n"
     ]
    },
    {
     "name": "stderr",
     "output_type": "stream",
     "text": [
      "Testing:   4%|█▎                              | 49/1250 [00:09<00:58, 20.67it/s]"
     ]
    },
    {
     "name": "stdout",
     "output_type": "stream",
     "text": [
      "Original shape torch.Size([1, 3, 224, 224])\n",
      "Original shape torch.Size([1, 3, 224, 224])\n",
      "Original shape torch.Size([1, 3, 224, 224])\n",
      "Original shape torch.Size([1, 3, 224, 224])\n",
      "Original shape torch.Size([1, 3, 224, 224])\n",
      "Original shape torch.Size([1, 3, 224, 224])\n"
     ]
    },
    {
     "name": "stderr",
     "output_type": "stream",
     "text": [
      "Testing:   5%|█▍                              | 57/1250 [00:09<00:47, 25.35it/s]"
     ]
    },
    {
     "name": "stdout",
     "output_type": "stream",
     "text": [
      "Original shape torch.Size([1, 3, 224, 224])\n",
      "Original shape torch.Size([1, 3, 224, 224])\n",
      "Original shape torch.Size([1, 3, 224, 224])\n",
      "Original shape torch.Size([1, 3, 224, 224])\n",
      "Original shape torch.Size([1, 3, 224, 224])\n",
      "Original shape torch.Size([1, 3, 224, 224])\n"
     ]
    },
    {
     "name": "stderr",
     "output_type": "stream",
     "text": [
      "\r",
      "Testing:   5%|█▌                              | 60/1250 [00:10<00:54, 21.82it/s]"
     ]
    },
    {
     "name": "stdout",
     "output_type": "stream",
     "text": [
      "Original shape torch.Size([1, 3, 224, 224])\n",
      "Original shape torch.Size([1, 3, 224, 224])\n",
      "Original shape torch.Size([1, 3, 224, 224])\n",
      "Original shape torch.Size([1, 3, 224, 224])\n",
      "Original shape torch.Size([1, 3, 224, 224])\n",
      "Original shape torch.Size([1, 3, 224, 224])\n",
      "Original shape torch.Size([1, 3, 224, 224])\n"
     ]
    },
    {
     "name": "stderr",
     "output_type": "stream",
     "text": [
      "Testing:   5%|█▋                              | 67/1250 [00:10<00:55, 21.38it/s]"
     ]
    },
    {
     "name": "stdout",
     "output_type": "stream",
     "text": [
      "Original shape torch.Size([1, 3, 224, 224])\n",
      "Original shape torch.Size([1, 3, 224, 224])\n",
      "Original shape torch.Size([1, 3, 224, 224])\n"
     ]
    },
    {
     "name": "stderr",
     "output_type": "stream",
     "text": [
      "Testing:   6%|█▉                              | 74/1250 [00:10<00:48, 24.16it/s]"
     ]
    },
    {
     "name": "stdout",
     "output_type": "stream",
     "text": [
      "Original shape torch.Size([1, 3, 224, 224])\n",
      "Original shape torch.Size([1, 3, 224, 224])\n",
      "Original shape torch.Size([1, 3, 224, 224])\n",
      "Original shape torch.Size([1, 3, 224, 224])\n",
      "Original shape torch.Size([1, 3, 224, 224])\n",
      "Original shape torch.Size([1, 3, 224, 224])\n",
      "Original shape torch.Size([1, 3, 224, 224])\n"
     ]
    },
    {
     "name": "stderr",
     "output_type": "stream",
     "text": [
      "\r",
      "Testing:   6%|█▉                              | 77/1250 [00:10<00:54, 21.51it/s]"
     ]
    },
    {
     "name": "stdout",
     "output_type": "stream",
     "text": [
      "Original shape torch.Size([1, 3, 224, 224])\n",
      "Original shape torch.Size([1, 3, 224, 224])\n",
      "Original shape torch.Size([1, 3, 224, 224])\n"
     ]
    },
    {
     "name": "stderr",
     "output_type": "stream",
     "text": [
      "\r",
      "Testing:   6%|██                              | 80/1250 [00:10<00:54, 21.50it/s]"
     ]
    },
    {
     "name": "stdout",
     "output_type": "stream",
     "text": [
      "Original shape torch.Size([1, 3, 224, 224])\n",
      "Original shape torch.Size([1, 3, 224, 224])\n",
      "Original shape torch.Size([1, 3, 224, 224])\n",
      "Original shape torch.Size([1, 3, 224, 224])\n",
      "Original shape torch.Size([1, 3, 224, 224])\n",
      "Original shape torch.Size([1, 3, 224, 224])\n"
     ]
    },
    {
     "name": "stderr",
     "output_type": "stream",
     "text": [
      "Testing:   7%|██▏                             | 87/1250 [00:11<00:47, 24.50it/s]"
     ]
    },
    {
     "name": "stdout",
     "output_type": "stream",
     "text": [
      "Original shape torch.Size([1, 3, 224, 224])\n",
      "Original shape torch.Size([1, 3, 224, 224])\n",
      "Original shape torch.Size([1, 3, 224, 224])\n",
      "Original shape torch.Size([1, 3, 224, 224])\n",
      "Original shape torch.Size([1, 3, 224, 224])\n"
     ]
    },
    {
     "name": "stderr",
     "output_type": "stream",
     "text": [
      "Testing:   8%|██▍                             | 94/1250 [00:11<00:46, 24.73it/s]"
     ]
    },
    {
     "name": "stdout",
     "output_type": "stream",
     "text": [
      "Original shape torch.Size([1, 3, 224, 224])\n",
      "Original shape torch.Size([1, 3, 224, 224])\n",
      "Original shape torch.Size([1, 3, 224, 224])\n",
      "Original shape torch.Size([1, 3, 224, 224])\n",
      "Original shape torch.Size([1, 3, 224, 224])\n",
      "Original shape torch.Size([1, 3, 224, 224])\n",
      "Original shape torch.Size([1, 3, 224, 224])\n"
     ]
    },
    {
     "name": "stderr",
     "output_type": "stream",
     "text": [
      "Testing:   8%|██▍                            | 100/1250 [00:11<00:43, 26.52it/s]"
     ]
    },
    {
     "name": "stdout",
     "output_type": "stream",
     "text": [
      "Original shape torch.Size([1, 3, 224, 224])\n",
      "Original shape torch.Size([1, 3, 224, 224])\n",
      "Original shape torch.Size([1, 3, 224, 224])\n",
      "Original shape torch.Size([1, 3, 224, 224])\n",
      "Original shape torch.Size([1, 3, 224, 224])\n",
      "Original shape torch.Size([1, 3, 224, 224])\n"
     ]
    },
    {
     "name": "stderr",
     "output_type": "stream",
     "text": [
      "Testing:   8%|██▋                            | 106/1250 [00:11<00:42, 27.01it/s]"
     ]
    },
    {
     "name": "stdout",
     "output_type": "stream",
     "text": [
      "Original shape torch.Size([1, 3, 224, 224])\n",
      "Original shape torch.Size([1, 3, 224, 224])\n",
      "Original shape torch.Size([1, 3, 224, 224])\n",
      "Original shape torch.Size([1, 3, 224, 224])\n",
      "Original shape torch.Size([1, 3, 224, 224])\n",
      "Original shape torch.Size([1, 3, 224, 224])\n",
      "Original shape torch.Size([1, 3, 224, 224])\n"
     ]
    },
    {
     "name": "stderr",
     "output_type": "stream",
     "text": [
      "\r",
      "Testing:   9%|██▋                            | 109/1250 [00:12<00:42, 26.84it/s]"
     ]
    },
    {
     "name": "stdout",
     "output_type": "stream",
     "text": [
      "Original shape torch.Size([1, 3, 224, 224])\n",
      "Original shape torch.Size([1, 3, 224, 224])\n",
      "Original shape torch.Size([1, 3, 224, 224])\n"
     ]
    },
    {
     "name": "stderr",
     "output_type": "stream",
     "text": [
      "Testing:   9%|██▉                            | 116/1250 [00:12<00:47, 23.90it/s]"
     ]
    },
    {
     "name": "stdout",
     "output_type": "stream",
     "text": [
      "Original shape torch.Size([1, 3, 224, 224])\n",
      "Original shape torch.Size([1, 3, 224, 224])\n",
      "Original shape torch.Size([1, 3, 224, 224])\n",
      "Original shape torch.Size([1, 3, 224, 224])\n",
      "Original shape torch.Size([1, 3, 224, 224])\n",
      "Original shape torch.Size([1, 3, 224, 224])\n"
     ]
    },
    {
     "name": "stderr",
     "output_type": "stream",
     "text": [
      "Testing:  10%|███                            | 122/1250 [00:12<00:46, 24.09it/s]"
     ]
    },
    {
     "name": "stdout",
     "output_type": "stream",
     "text": [
      "Original shape torch.Size([1, 3, 224, 224])\n",
      "Original shape torch.Size([1, 3, 224, 224])\n",
      "Original shape torch.Size([1, 3, 224, 224])\n",
      "Original shape torch.Size([1, 3, 224, 224])\n",
      "Original shape torch.Size([1, 3, 224, 224])\n",
      "Original shape torch.Size([1, 3, 224, 224])\n"
     ]
    },
    {
     "name": "stderr",
     "output_type": "stream",
     "text": [
      "\r",
      "Testing:  10%|███                            | 126/1250 [00:12<00:42, 26.41it/s]"
     ]
    },
    {
     "name": "stdout",
     "output_type": "stream",
     "text": [
      "Original shape torch.Size([1, 3, 224, 224])\n",
      "Original shape torch.Size([1, 3, 224, 224])\n",
      "Original shape torch.Size([1, 3, 224, 224])\n",
      "Original shape torch.Size([1, 3, 224, 224])\n",
      "Original shape torch.Size([1, 3, 224, 224])\n"
     ]
    },
    {
     "name": "stderr",
     "output_type": "stream",
     "text": [
      "Testing:  11%|███▎                           | 133/1250 [00:13<00:41, 26.66it/s]"
     ]
    },
    {
     "name": "stdout",
     "output_type": "stream",
     "text": [
      "Original shape torch.Size([1, 3, 224, 224])\n",
      "Original shape torch.Size([1, 3, 224, 224])\n",
      "Original shape torch.Size([1, 3, 224, 224])\n",
      "Original shape torch.Size([1, 3, 224, 224])\n",
      "Original shape torch.Size([1, 3, 224, 224])\n",
      "Original shape torch.Size([1, 3, 224, 224])\n",
      "Original shape torch.Size([1, 3, 224, 224])\n",
      "Original shape torch.Size([1, 3, 224, 224])\n"
     ]
    },
    {
     "name": "stderr",
     "output_type": "stream",
     "text": [
      "Testing:  11%|███▍                           | 140/1250 [00:13<00:40, 27.73it/s]"
     ]
    },
    {
     "name": "stdout",
     "output_type": "stream",
     "text": [
      "Original shape torch.Size([1, 3, 224, 224])\n",
      "Original shape torch.Size([1, 3, 224, 224])\n",
      "Original shape torch.Size([1, 3, 224, 224])\n",
      "Original shape torch.Size([1, 3, 224, 224])\n",
      "Original shape torch.Size([1, 3, 224, 224])\n"
     ]
    },
    {
     "name": "stderr",
     "output_type": "stream",
     "text": [
      "Testing:  12%|███▋                           | 147/1250 [00:13<00:40, 27.39it/s]"
     ]
    },
    {
     "name": "stdout",
     "output_type": "stream",
     "text": [
      "Original shape torch.Size([1, 3, 224, 224])\n",
      "Original shape torch.Size([1, 3, 224, 224])\n",
      "Original shape torch.Size([1, 3, 224, 224])\n",
      "Original shape torch.Size([1, 3, 224, 224])\n",
      "Original shape torch.Size([1, 3, 224, 224])\n",
      "Original shape torch.Size([1, 3, 224, 224])\n"
     ]
    },
    {
     "name": "stderr",
     "output_type": "stream",
     "text": [
      "\r",
      "Testing:  12%|███▋                           | 151/1250 [00:13<00:36, 29.83it/s]"
     ]
    },
    {
     "name": "stdout",
     "output_type": "stream",
     "text": [
      "Original shape torch.Size([1, 3, 224, 224])\n",
      "Original shape torch.Size([1, 3, 224, 224])\n",
      "Original shape torch.Size([1, 3, 224, 224])\n",
      "Original shape torch.Size([1, 3, 224, 224])\n",
      "Original shape torch.Size([1, 3, 224, 224])\n",
      "Original shape torch.Size([1, 3, 224, 224])\n",
      "Original shape torch.Size([1, 3, 224, 224])\n"
     ]
    },
    {
     "name": "stderr",
     "output_type": "stream",
     "text": [
      "Testing:  13%|███▉                           | 158/1250 [00:14<00:48, 22.54it/s]"
     ]
    },
    {
     "name": "stdout",
     "output_type": "stream",
     "text": [
      "Original shape torch.Size([1, 3, 224, 224])\n",
      "Original shape torch.Size([1, 3, 224, 224])\n",
      "Original shape torch.Size([1, 3, 224, 224])\n",
      "Original shape torch.Size([1, 3, 224, 224])\n"
     ]
    },
    {
     "name": "stderr",
     "output_type": "stream",
     "text": [
      "Testing:  13%|████                           | 165/1250 [00:14<00:42, 25.64it/s]"
     ]
    },
    {
     "name": "stdout",
     "output_type": "stream",
     "text": [
      "Original shape torch.Size([1, 3, 224, 224])\n",
      "Original shape torch.Size([1, 3, 224, 224])\n",
      "Original shape torch.Size([1, 3, 224, 224])\n",
      "Original shape torch.Size([1, 3, 224, 224])\n",
      "Original shape torch.Size([1, 3, 224, 224])\n",
      "Original shape torch.Size([1, 3, 224, 224])\n",
      "Original shape torch.Size([1, 3, 224, 224])\n"
     ]
    },
    {
     "name": "stderr",
     "output_type": "stream",
     "text": [
      "\r",
      "Testing:  13%|████▏                          | 168/1250 [00:14<00:46, 23.23it/s]"
     ]
    },
    {
     "name": "stdout",
     "output_type": "stream",
     "text": [
      "Original shape torch.Size([1, 3, 224, 224])\n",
      "Original shape torch.Size([1, 3, 224, 224])\n",
      "Original shape torch.Size([1, 3, 224, 224])\n",
      "Original shape torch.Size([1, 3, 224, 224])\n",
      "Original shape torch.Size([1, 3, 224, 224])\n"
     ]
    },
    {
     "name": "stderr",
     "output_type": "stream",
     "text": [
      "Testing:  14%|████▎                          | 176/1250 [00:14<00:38, 27.72it/s]"
     ]
    },
    {
     "name": "stdout",
     "output_type": "stream",
     "text": [
      "Original shape torch.Size([1, 3, 224, 224])\n",
      "Original shape torch.Size([1, 3, 224, 224])\n",
      "Original shape torch.Size([1, 3, 224, 224])\n",
      "Original shape torch.Size([1, 3, 224, 224])\n",
      "Original shape torch.Size([1, 3, 224, 224])\n",
      "Original shape torch.Size([1, 3, 224, 224])\n",
      "Original shape torch.Size([1, 3, 224, 224])\n"
     ]
    },
    {
     "name": "stderr",
     "output_type": "stream",
     "text": [
      "\r",
      "Testing:  14%|████▍                          | 179/1250 [00:14<00:44, 24.04it/s]"
     ]
    },
    {
     "name": "stdout",
     "output_type": "stream",
     "text": [
      "Original shape torch.Size([1, 3, 224, 224])\n",
      "Original shape torch.Size([1, 3, 224, 224])\n",
      "Original shape torch.Size([1, 3, 224, 224])\n",
      "Original shape torch.Size([1, 3, 224, 224])\n",
      "Original shape torch.Size([1, 3, 224, 224])\n"
     ]
    },
    {
     "name": "stderr",
     "output_type": "stream",
     "text": [
      "Testing:  15%|████▌                          | 186/1250 [00:15<00:44, 23.70it/s]"
     ]
    },
    {
     "name": "stdout",
     "output_type": "stream",
     "text": [
      "Original shape torch.Size([1, 3, 224, 224])\n",
      "Original shape torch.Size([1, 3, 224, 224])\n",
      "Original shape torch.Size([1, 3, 224, 224])\n",
      "Original shape torch.Size([1, 3, 224, 224])\n",
      "Original shape torch.Size([1, 3, 224, 224])\n"
     ]
    },
    {
     "name": "stderr",
     "output_type": "stream",
     "text": [
      "Testing:  15%|████▊                          | 192/1250 [00:15<00:45, 23.08it/s]"
     ]
    },
    {
     "name": "stdout",
     "output_type": "stream",
     "text": [
      "Original shape torch.Size([1, 3, 224, 224])\n",
      "Original shape torch.Size([1, 3, 224, 224])\n",
      "Original shape torch.Size([1, 3, 224, 224])\n",
      "Original shape torch.Size([1, 3, 224, 224])\n",
      "Original shape torch.Size([1, 3, 224, 224])\n"
     ]
    },
    {
     "name": "stderr",
     "output_type": "stream",
     "text": [
      "\r",
      "Testing:  16%|████▊                          | 196/1250 [00:15<00:42, 24.99it/s]"
     ]
    },
    {
     "name": "stdout",
     "output_type": "stream",
     "text": [
      "Original shape torch.Size([1, 3, 224, 224])\n",
      "Original shape torch.Size([1, 3, 224, 224])\n",
      "Original shape torch.Size([1, 3, 224, 224])\n",
      "Original shape torch.Size([1, 3, 224, 224])\n",
      "Original shape torch.Size([1, 3, 224, 224])\n",
      "Original shape torch.Size([1, 3, 224, 224])\n"
     ]
    },
    {
     "name": "stderr",
     "output_type": "stream",
     "text": [
      "Testing:  16%|█████                          | 203/1250 [00:15<00:38, 27.22it/s]"
     ]
    },
    {
     "name": "stdout",
     "output_type": "stream",
     "text": [
      "Original shape torch.Size([1, 3, 224, 224])\n",
      "Original shape torch.Size([1, 3, 224, 224])\n",
      "Original shape torch.Size([1, 3, 224, 224])\n",
      "Original shape torch.Size([1, 3, 224, 224])\n",
      "Original shape torch.Size([1, 3, 224, 224])\n",
      "Original shape torch.Size([1, 3, 224, 224])\n"
     ]
    },
    {
     "name": "stderr",
     "output_type": "stream",
     "text": [
      "Testing:  17%|█████▏                         | 210/1250 [00:16<00:36, 28.69it/s]"
     ]
    },
    {
     "name": "stdout",
     "output_type": "stream",
     "text": [
      "Original shape torch.Size([1, 3, 224, 224])\n",
      "Original shape torch.Size([1, 3, 224, 224])\n",
      "Original shape torch.Size([1, 3, 224, 224])\n",
      "Original shape torch.Size([1, 3, 224, 224])\n",
      "Original shape torch.Size([1, 3, 224, 224])\n",
      "Original shape torch.Size([1, 3, 224, 224])\n",
      "Original shape torch.Size([1, 3, 224, 224])\n"
     ]
    },
    {
     "name": "stderr",
     "output_type": "stream",
     "text": [
      "Testing:  17%|█████▍                         | 217/1250 [00:16<00:34, 29.72it/s]"
     ]
    },
    {
     "name": "stdout",
     "output_type": "stream",
     "text": [
      "Original shape torch.Size([1, 3, 224, 224])\n",
      "Original shape torch.Size([1, 3, 224, 224])\n",
      "Original shape torch.Size([1, 3, 224, 224])\n",
      "Original shape torch.Size([1, 3, 224, 224])\n",
      "Original shape torch.Size([1, 3, 224, 224])\n",
      "Original shape torch.Size([1, 3, 224, 224])\n",
      "Original shape torch.Size([1, 3, 224, 224])\n"
     ]
    },
    {
     "name": "stderr",
     "output_type": "stream",
     "text": [
      "Testing:  18%|█████▌                         | 224/1250 [00:16<00:34, 29.90it/s]"
     ]
    },
    {
     "name": "stdout",
     "output_type": "stream",
     "text": [
      "Original shape torch.Size([1, 3, 224, 224])\n",
      "Original shape torch.Size([1, 3, 224, 224])\n",
      "Original shape torch.Size([1, 3, 224, 224])\n",
      "Original shape torch.Size([1, 3, 224, 224])\n",
      "Original shape torch.Size([1, 3, 224, 224])\n",
      "Original shape torch.Size([1, 3, 224, 224])\n",
      "Original shape torch.Size([1, 3, 224, 224])\n"
     ]
    },
    {
     "name": "stderr",
     "output_type": "stream",
     "text": [
      "Testing:  18%|█████▋                         | 230/1250 [00:16<00:35, 28.68it/s]"
     ]
    },
    {
     "name": "stdout",
     "output_type": "stream",
     "text": [
      "Original shape torch.Size([1, 3, 224, 224])\n",
      "Original shape torch.Size([1, 3, 224, 224])\n",
      "Original shape torch.Size([1, 3, 224, 224])\n",
      "Original shape torch.Size([1, 3, 224, 224])\n",
      "Original shape torch.Size([1, 3, 224, 224])\n",
      "Original shape torch.Size([1, 3, 224, 224])\n"
     ]
    },
    {
     "name": "stderr",
     "output_type": "stream",
     "text": [
      "Testing:  19%|█████▉                         | 238/1250 [00:16<00:32, 31.50it/s]"
     ]
    },
    {
     "name": "stdout",
     "output_type": "stream",
     "text": [
      "Original shape torch.Size([1, 3, 224, 224])\n",
      "Original shape torch.Size([1, 3, 224, 224])\n",
      "Original shape torch.Size([1, 3, 224, 224])\n",
      "Original shape torch.Size([1, 3, 224, 224])\n",
      "Original shape torch.Size([1, 3, 224, 224])\n",
      "Original shape torch.Size([1, 3, 224, 224])\n",
      "Original shape torch.Size([1, 3, 224, 224])\n",
      "Original shape torch.Size([1, 3, 224, 224])\n"
     ]
    },
    {
     "name": "stderr",
     "output_type": "stream",
     "text": [
      "\r",
      "Testing:  19%|██████                         | 242/1250 [00:17<00:34, 29.62it/s]"
     ]
    },
    {
     "name": "stdout",
     "output_type": "stream",
     "text": [
      "Original shape torch.Size([1, 3, 224, 224])\n",
      "Original shape torch.Size([1, 3, 224, 224])\n",
      "Original shape torch.Size([1, 3, 224, 224])\n",
      "Original shape torch.Size([1, 3, 224, 224])\n",
      "Original shape torch.Size([1, 3, 224, 224])\n"
     ]
    },
    {
     "name": "stderr",
     "output_type": "stream",
     "text": [
      "Testing:  20%|██████▏                        | 249/1250 [00:17<00:35, 28.02it/s]"
     ]
    },
    {
     "name": "stdout",
     "output_type": "stream",
     "text": [
      "Original shape torch.Size([1, 3, 224, 224])\n",
      "Original shape torch.Size([1, 3, 224, 224])\n",
      "Original shape torch.Size([1, 3, 224, 224])\n",
      "Original shape torch.Size([1, 3, 224, 224])\n",
      "Original shape torch.Size([1, 3, 224, 224])\n",
      "Original shape torch.Size([1, 3, 224, 224])\n",
      "Original shape torch.Size([1, 3, 224, 224])\n"
     ]
    },
    {
     "name": "stderr",
     "output_type": "stream",
     "text": [
      "Testing:  20%|██████▎                        | 255/1250 [00:17<00:34, 28.54it/s]"
     ]
    },
    {
     "name": "stdout",
     "output_type": "stream",
     "text": [
      "Original shape torch.Size([1, 3, 224, 224])\n",
      "Original shape torch.Size([1, 3, 224, 224])\n",
      "Original shape torch.Size([1, 3, 224, 224])\n",
      "Original shape torch.Size([1, 3, 224, 224])\n",
      "Original shape torch.Size([1, 3, 224, 224])\n",
      "Original shape torch.Size([1, 3, 224, 224])\n"
     ]
    },
    {
     "name": "stderr",
     "output_type": "stream",
     "text": [
      "Testing:  21%|██████▍                        | 261/1250 [00:17<00:35, 27.94it/s]"
     ]
    },
    {
     "name": "stdout",
     "output_type": "stream",
     "text": [
      "Original shape torch.Size([1, 3, 224, 224])\n",
      "Original shape torch.Size([1, 3, 224, 224])\n",
      "Original shape torch.Size([1, 3, 224, 224])\n",
      "Original shape torch.Size([1, 3, 224, 224])\n",
      "Original shape torch.Size([1, 3, 224, 224])\n",
      "Original shape torch.Size([1, 3, 224, 224])\n"
     ]
    },
    {
     "name": "stderr",
     "output_type": "stream",
     "text": [
      "Testing:  21%|██████▌                        | 267/1250 [00:18<00:37, 26.18it/s]"
     ]
    },
    {
     "name": "stdout",
     "output_type": "stream",
     "text": [
      "Original shape torch.Size([1, 3, 224, 224])\n",
      "Original shape torch.Size([1, 3, 224, 224])\n",
      "Original shape torch.Size([1, 3, 224, 224])\n",
      "Original shape torch.Size([1, 3, 224, 224])\n",
      "Original shape torch.Size([1, 3, 224, 224])\n"
     ]
    },
    {
     "name": "stderr",
     "output_type": "stream",
     "text": [
      "Testing:  22%|██████▊                        | 273/1250 [00:18<00:37, 25.79it/s]"
     ]
    },
    {
     "name": "stdout",
     "output_type": "stream",
     "text": [
      "Original shape torch.Size([1, 3, 224, 224])\n",
      "Original shape torch.Size([1, 3, 224, 224])\n",
      "Original shape torch.Size([1, 3, 224, 224])\n",
      "Original shape torch.Size([1, 3, 224, 224])\n",
      "Original shape torch.Size([1, 3, 224, 224])\n",
      "Original shape torch.Size([1, 3, 224, 224])\n"
     ]
    },
    {
     "name": "stderr",
     "output_type": "stream",
     "text": [
      "Testing:  22%|██████▉                        | 279/1250 [00:18<00:39, 24.66it/s]"
     ]
    },
    {
     "name": "stdout",
     "output_type": "stream",
     "text": [
      "Original shape torch.Size([1, 3, 224, 224])\n",
      "Original shape torch.Size([1, 3, 224, 224])\n",
      "Original shape torch.Size([1, 3, 224, 224])\n",
      "Original shape torch.Size([1, 3, 224, 224])\n",
      "Original shape torch.Size([1, 3, 224, 224])\n"
     ]
    },
    {
     "name": "stderr",
     "output_type": "stream",
     "text": [
      "\r",
      "Testing:  23%|███████                        | 283/1250 [00:18<00:35, 27.00it/s]"
     ]
    },
    {
     "name": "stdout",
     "output_type": "stream",
     "text": [
      "Original shape torch.Size([1, 3, 224, 224])\n",
      "Original shape torch.Size([1, 3, 224, 224])\n",
      "Original shape torch.Size([1, 3, 224, 224])\n",
      "Original shape torch.Size([1, 3, 224, 224])\n",
      "Original shape torch.Size([1, 3, 224, 224])\n",
      "Original shape torch.Size([1, 3, 224, 224])\n",
      "Original shape torch.Size([1, 3, 224, 224])\n"
     ]
    },
    {
     "name": "stderr",
     "output_type": "stream",
     "text": [
      "Testing:  23%|███████▏                       | 290/1250 [00:18<00:33, 28.36it/s]"
     ]
    },
    {
     "name": "stdout",
     "output_type": "stream",
     "text": [
      "Original shape torch.Size([1, 3, 224, 224])\n",
      "Original shape torch.Size([1, 3, 224, 224])\n",
      "Original shape torch.Size([1, 3, 224, 224])\n",
      "Original shape torch.Size([1, 3, 224, 224])\n",
      "Original shape torch.Size([1, 3, 224, 224])\n",
      "Original shape torch.Size([1, 3, 224, 224])\n"
     ]
    },
    {
     "name": "stderr",
     "output_type": "stream",
     "text": [
      "Testing:  24%|███████▎                       | 296/1250 [00:19<00:34, 27.65it/s]"
     ]
    },
    {
     "name": "stdout",
     "output_type": "stream",
     "text": [
      "Original shape torch.Size([1, 3, 224, 224])\n",
      "Original shape torch.Size([1, 3, 224, 224])\n",
      "Original shape torch.Size([1, 3, 224, 224])\n",
      "Original shape torch.Size([1, 3, 224, 224])\n",
      "Original shape torch.Size([1, 3, 224, 224])\n",
      "Original shape torch.Size([1, 3, 224, 224])\n"
     ]
    },
    {
     "name": "stderr",
     "output_type": "stream",
     "text": [
      "Testing:  24%|███████▍                       | 302/1250 [00:19<00:39, 23.81it/s]"
     ]
    },
    {
     "name": "stdout",
     "output_type": "stream",
     "text": [
      "Original shape torch.Size([1, 3, 224, 224])\n",
      "Original shape torch.Size([1, 3, 224, 224])\n",
      "Original shape torch.Size([1, 3, 224, 224])\n",
      "Original shape torch.Size([1, 3, 224, 224])\n",
      "Original shape torch.Size([1, 3, 224, 224])\n",
      "Original shape torch.Size([1, 3, 224, 224])\n"
     ]
    },
    {
     "name": "stderr",
     "output_type": "stream",
     "text": [
      "Testing:  25%|███████▋                       | 308/1250 [00:19<00:39, 23.99it/s]"
     ]
    },
    {
     "name": "stdout",
     "output_type": "stream",
     "text": [
      "Original shape torch.Size([1, 3, 224, 224])\n",
      "Original shape torch.Size([1, 3, 224, 224])\n",
      "Original shape torch.Size([1, 3, 224, 224])\n",
      "Original shape torch.Size([1, 3, 224, 224])\n"
     ]
    },
    {
     "name": "stderr",
     "output_type": "stream",
     "text": [
      "\r",
      "Testing:  25%|███████▋                       | 311/1250 [00:19<00:47, 19.68it/s]"
     ]
    },
    {
     "name": "stdout",
     "output_type": "stream",
     "text": [
      "Original shape torch.Size([1, 3, 224, 224])\n",
      "Original shape torch.Size([1, 3, 224, 224])\n",
      "Original shape torch.Size([1, 3, 224, 224])\n",
      "Original shape torch.Size([1, 3, 224, 224])\n",
      "Original shape torch.Size([1, 3, 224, 224])\n",
      "Original shape torch.Size([1, 3, 224, 224])\n",
      "Original shape torch.Size([1, 3, 224, 224])\n"
     ]
    },
    {
     "name": "stderr",
     "output_type": "stream",
     "text": [
      "Testing:  26%|███████▉                       | 321/1250 [00:20<00:38, 24.39it/s]"
     ]
    },
    {
     "name": "stdout",
     "output_type": "stream",
     "text": [
      "Original shape torch.Size([1, 3, 224, 224])\n",
      "Original shape torch.Size([1, 3, 224, 224])\n",
      "Original shape torch.Size([1, 3, 224, 224])\n",
      "Original shape torch.Size([1, 3, 224, 224])\n",
      "Original shape torch.Size([1, 3, 224, 224])\n",
      "Original shape torch.Size([1, 3, 224, 224])\n"
     ]
    },
    {
     "name": "stderr",
     "output_type": "stream",
     "text": [
      "Testing:  26%|████████▏                      | 328/1250 [00:20<00:33, 27.18it/s]"
     ]
    },
    {
     "name": "stdout",
     "output_type": "stream",
     "text": [
      "Original shape torch.Size([1, 3, 224, 224])\n",
      "Original shape torch.Size([1, 3, 224, 224])\n",
      "Original shape torch.Size([1, 3, 224, 224])\n",
      "Original shape torch.Size([1, 3, 224, 224])\n",
      "Original shape torch.Size([1, 3, 224, 224])\n",
      "Original shape torch.Size([1, 3, 224, 224])\n",
      "Original shape torch.Size([1, 3, 224, 224])\n"
     ]
    },
    {
     "name": "stderr",
     "output_type": "stream",
     "text": [
      "\r",
      "Testing:  27%|████████▏                      | 332/1250 [00:20<00:33, 27.38it/s]"
     ]
    },
    {
     "name": "stdout",
     "output_type": "stream",
     "text": [
      "Original shape torch.Size([1, 3, 224, 224])\n",
      "Original shape torch.Size([1, 3, 224, 224])\n",
      "Original shape torch.Size([1, 3, 224, 224])\n",
      "Original shape torch.Size([1, 3, 224, 224])\n",
      "Original shape torch.Size([1, 3, 224, 224])\n"
     ]
    },
    {
     "name": "stderr",
     "output_type": "stream",
     "text": [
      "Testing:  27%|████████▍                      | 338/1250 [00:20<00:33, 27.15it/s]"
     ]
    },
    {
     "name": "stdout",
     "output_type": "stream",
     "text": [
      "Original shape torch.Size([1, 3, 224, 224])\n",
      "Original shape torch.Size([1, 3, 224, 224])\n",
      "Original shape torch.Size([1, 3, 224, 224])\n",
      "Original shape torch.Size([1, 3, 224, 224])\n",
      "Original shape torch.Size([1, 3, 224, 224])\n",
      "Original shape torch.Size([1, 3, 224, 224])\n"
     ]
    },
    {
     "name": "stderr",
     "output_type": "stream",
     "text": [
      "\r",
      "Testing:  27%|████████▍                      | 342/1250 [00:20<00:32, 28.10it/s]"
     ]
    },
    {
     "name": "stdout",
     "output_type": "stream",
     "text": [
      "Original shape torch.Size([1, 3, 224, 224])\n",
      "Original shape torch.Size([1, 3, 224, 224])\n",
      "Original shape torch.Size([1, 3, 224, 224])\n",
      "Original shape torch.Size([1, 3, 224, 224])\n"
     ]
    },
    {
     "name": "stderr",
     "output_type": "stream",
     "text": [
      "Testing:  28%|████████▋                      | 349/1250 [00:21<00:38, 23.19it/s]"
     ]
    },
    {
     "name": "stdout",
     "output_type": "stream",
     "text": [
      "Original shape torch.Size([1, 3, 224, 224])\n",
      "Original shape torch.Size([1, 3, 224, 224])\n",
      "Original shape torch.Size([1, 3, 224, 224])\n",
      "Original shape torch.Size([1, 3, 224, 224])\n",
      "Original shape torch.Size([1, 3, 224, 224])\n",
      "Original shape torch.Size([1, 3, 224, 224])\n",
      "Original shape torch.Size([1, 3, 224, 224])\n"
     ]
    },
    {
     "name": "stderr",
     "output_type": "stream",
     "text": [
      "Testing:  28%|████████▊                      | 355/1250 [00:21<00:46, 19.21it/s]"
     ]
    },
    {
     "name": "stdout",
     "output_type": "stream",
     "text": [
      "Original shape torch.Size([1, 3, 224, 224])\n",
      "Original shape torch.Size([1, 3, 224, 224])\n",
      "Original shape torch.Size([1, 3, 224, 224])\n",
      "Original shape torch.Size([1, 3, 224, 224])\n",
      "Original shape torch.Size([1, 3, 224, 224])\n"
     ]
    },
    {
     "name": "stderr",
     "output_type": "stream",
     "text": [
      "\r",
      "Testing:  29%|████████▉                      | 359/1250 [00:21<00:40, 22.03it/s]"
     ]
    },
    {
     "name": "stdout",
     "output_type": "stream",
     "text": [
      "Original shape torch.Size([1, 3, 224, 224])\n",
      "Original shape torch.Size([1, 3, 224, 224])\n",
      "Original shape torch.Size([1, 3, 224, 224])\n",
      "Original shape torch.Size([1, 3, 224, 224])\n",
      "Original shape torch.Size([1, 3, 224, 224])\n"
     ]
    },
    {
     "name": "stderr",
     "output_type": "stream",
     "text": [
      "Testing:  29%|█████████                      | 366/1250 [00:22<00:38, 22.72it/s]"
     ]
    },
    {
     "name": "stdout",
     "output_type": "stream",
     "text": [
      "Original shape torch.Size([1, 3, 224, 224])\n",
      "Original shape torch.Size([1, 3, 224, 224])\n",
      "Original shape torch.Size([1, 3, 224, 224])\n",
      "Original shape torch.Size([1, 3, 224, 224])\n",
      "Original shape torch.Size([1, 3, 224, 224])\n",
      "Original shape torch.Size([1, 3, 224, 224])\n",
      "Original shape torch.Size([1, 3, 224, 224])\n"
     ]
    },
    {
     "name": "stderr",
     "output_type": "stream",
     "text": [
      "\r",
      "Testing:  30%|█████████▏                     | 370/1250 [00:22<00:35, 24.81it/s]"
     ]
    },
    {
     "name": "stdout",
     "output_type": "stream",
     "text": [
      "Original shape torch.Size([1, 3, 224, 224])\n",
      "Original shape torch.Size([1, 3, 224, 224])\n",
      "Original shape torch.Size([1, 3, 224, 224])\n",
      "Original shape torch.Size([1, 3, 224, 224])\n",
      "Original shape torch.Size([1, 3, 224, 224])\n"
     ]
    },
    {
     "name": "stderr",
     "output_type": "stream",
     "text": [
      "Testing:  30%|█████████▎                     | 377/1250 [00:22<00:35, 24.26it/s]"
     ]
    },
    {
     "name": "stdout",
     "output_type": "stream",
     "text": [
      "Original shape torch.Size([1, 3, 224, 224])\n",
      "Original shape torch.Size([1, 3, 224, 224])\n",
      "Original shape torch.Size([1, 3, 224, 224])\n",
      "Original shape torch.Size([1, 3, 224, 224])\n",
      "Original shape torch.Size([1, 3, 224, 224])\n",
      "Original shape torch.Size([1, 3, 224, 224])\n",
      "Original shape torch.Size([1, 3, 224, 224])\n"
     ]
    },
    {
     "name": "stderr",
     "output_type": "stream",
     "text": [
      "Testing:  31%|█████████▌                     | 384/1250 [00:22<00:33, 25.81it/s]"
     ]
    },
    {
     "name": "stdout",
     "output_type": "stream",
     "text": [
      "Original shape torch.Size([1, 3, 224, 224])\n",
      "Original shape torch.Size([1, 3, 224, 224])\n",
      "Original shape torch.Size([1, 3, 224, 224])\n",
      "Original shape torch.Size([1, 3, 224, 224])\n",
      "Original shape torch.Size([1, 3, 224, 224])\n",
      "Original shape torch.Size([1, 3, 224, 224])\n"
     ]
    },
    {
     "name": "stderr",
     "output_type": "stream",
     "text": [
      "Testing:  31%|█████████▋                     | 390/1250 [00:23<00:31, 26.97it/s]"
     ]
    },
    {
     "name": "stdout",
     "output_type": "stream",
     "text": [
      "Original shape torch.Size([1, 3, 224, 224])\n",
      "Original shape torch.Size([1, 3, 224, 224])\n",
      "Original shape torch.Size([1, 3, 224, 224])\n",
      "Original shape torch.Size([1, 3, 224, 224])\n",
      "Original shape torch.Size([1, 3, 224, 224])\n",
      "Original shape torch.Size([1, 3, 224, 224])\n",
      "Original shape torch.Size([1, 3, 224, 224])\n"
     ]
    },
    {
     "name": "stderr",
     "output_type": "stream",
     "text": [
      "\r",
      "Testing:  31%|█████████▋                     | 393/1250 [00:23<00:32, 26.41it/s]"
     ]
    },
    {
     "name": "stdout",
     "output_type": "stream",
     "text": [
      "Original shape torch.Size([1, 3, 224, 224])\n",
      "Original shape torch.Size([1, 3, 224, 224])\n",
      "Original shape torch.Size([1, 3, 224, 224])\n"
     ]
    },
    {
     "name": "stderr",
     "output_type": "stream",
     "text": [
      "Testing:  32%|█████████▉                     | 400/1250 [00:23<00:34, 24.60it/s]"
     ]
    },
    {
     "name": "stdout",
     "output_type": "stream",
     "text": [
      "Original shape torch.Size([1, 3, 224, 224])\n",
      "Original shape torch.Size([1, 3, 224, 224])\n",
      "Original shape torch.Size([1, 3, 224, 224])\n",
      "Original shape torch.Size([1, 3, 224, 224])\n",
      "Original shape torch.Size([1, 3, 224, 224])\n",
      "Original shape torch.Size([1, 3, 224, 224])\n",
      "Original shape torch.Size([1, 3, 224, 224])\n"
     ]
    },
    {
     "name": "stderr",
     "output_type": "stream",
     "text": [
      "Testing:  32%|██████████                     | 406/1250 [00:23<00:33, 25.48it/s]"
     ]
    },
    {
     "name": "stdout",
     "output_type": "stream",
     "text": [
      "Original shape torch.Size([1, 3, 224, 224])\n",
      "Original shape torch.Size([1, 3, 224, 224])\n",
      "Original shape torch.Size([1, 3, 224, 224])\n",
      "Original shape torch.Size([1, 3, 224, 224])\n",
      "Original shape torch.Size([1, 3, 224, 224])\n",
      "Original shape torch.Size([1, 3, 224, 224])\n",
      "Original shape torch.Size([1, 3, 224, 224])\n"
     ]
    },
    {
     "name": "stderr",
     "output_type": "stream",
     "text": [
      "Testing:  33%|██████████▏                    | 413/1250 [00:24<00:30, 27.77it/s]"
     ]
    },
    {
     "name": "stdout",
     "output_type": "stream",
     "text": [
      "Original shape torch.Size([1, 3, 224, 224])\n",
      "Original shape torch.Size([1, 3, 224, 224])\n",
      "Original shape torch.Size([1, 3, 224, 224])\n",
      "Original shape torch.Size([1, 3, 224, 224])\n",
      "Original shape torch.Size([1, 3, 224, 224])\n",
      "Original shape torch.Size([1, 3, 224, 224])\n"
     ]
    },
    {
     "name": "stderr",
     "output_type": "stream",
     "text": [
      "Testing:  34%|██████████▍                    | 419/1250 [00:24<00:35, 23.18it/s]"
     ]
    },
    {
     "name": "stdout",
     "output_type": "stream",
     "text": [
      "Original shape torch.Size([1, 3, 224, 224])\n",
      "Original shape torch.Size([1, 3, 224, 224])\n",
      "Original shape torch.Size([1, 3, 224, 224])\n",
      "Original shape torch.Size([1, 3, 224, 224])\n",
      "Original shape torch.Size([1, 3, 224, 224])\n",
      "Original shape torch.Size([1, 3, 224, 224])\n"
     ]
    },
    {
     "name": "stderr",
     "output_type": "stream",
     "text": [
      "Testing:  34%|██████████▌                    | 426/1250 [00:24<00:31, 25.75it/s]"
     ]
    },
    {
     "name": "stdout",
     "output_type": "stream",
     "text": [
      "Original shape torch.Size([1, 3, 224, 224])\n",
      "Original shape torch.Size([1, 3, 224, 224])\n",
      "Original shape torch.Size([1, 3, 224, 224])\n",
      "Original shape torch.Size([1, 3, 224, 224])\n",
      "Original shape torch.Size([1, 3, 224, 224])\n",
      "Original shape torch.Size([1, 3, 224, 224])\n"
     ]
    },
    {
     "name": "stderr",
     "output_type": "stream",
     "text": [
      "Testing:  35%|██████████▋                    | 432/1250 [00:24<00:30, 26.91it/s]"
     ]
    },
    {
     "name": "stdout",
     "output_type": "stream",
     "text": [
      "Original shape torch.Size([1, 3, 224, 224])\n",
      "Original shape torch.Size([1, 3, 224, 224])\n",
      "Original shape torch.Size([1, 3, 224, 224])\n",
      "Original shape torch.Size([1, 3, 224, 224])\n",
      "Original shape torch.Size([1, 3, 224, 224])\n",
      "Original shape torch.Size([1, 3, 224, 224])\n"
     ]
    },
    {
     "name": "stderr",
     "output_type": "stream",
     "text": [
      "Testing:  35%|██████████▊                    | 438/1250 [00:25<00:31, 25.61it/s]"
     ]
    },
    {
     "name": "stdout",
     "output_type": "stream",
     "text": [
      "Original shape torch.Size([1, 3, 224, 224])\n",
      "Original shape torch.Size([1, 3, 224, 224])\n",
      "Original shape torch.Size([1, 3, 224, 224])\n",
      "Original shape torch.Size([1, 3, 224, 224])\n",
      "Original shape torch.Size([1, 3, 224, 224])\n",
      "Original shape torch.Size([1, 3, 224, 224])\n"
     ]
    },
    {
     "name": "stderr",
     "output_type": "stream",
     "text": [
      "Testing:  36%|███████████                    | 445/1250 [00:25<00:29, 27.59it/s]"
     ]
    },
    {
     "name": "stdout",
     "output_type": "stream",
     "text": [
      "Original shape torch.Size([1, 3, 224, 224])\n",
      "Original shape torch.Size([1, 3, 224, 224])\n",
      "Original shape torch.Size([1, 3, 224, 224])\n",
      "Original shape torch.Size([1, 3, 224, 224])\n",
      "Original shape torch.Size([1, 3, 224, 224])\n",
      "Original shape torch.Size([1, 3, 224, 224])\n",
      "Original shape torch.Size([1, 3, 224, 224])\n"
     ]
    },
    {
     "name": "stderr",
     "output_type": "stream",
     "text": [
      "\r",
      "Testing:  36%|███████████                    | 448/1250 [00:25<00:29, 27.08it/s]"
     ]
    },
    {
     "name": "stdout",
     "output_type": "stream",
     "text": [
      "Original shape torch.Size([1, 3, 224, 224])\n",
      "Original shape torch.Size([1, 3, 224, 224])\n",
      "Original shape torch.Size([1, 3, 224, 224])\n",
      "Original shape torch.Size([1, 3, 224, 224])\n",
      "Original shape torch.Size([1, 3, 224, 224])\n"
     ]
    },
    {
     "name": "stderr",
     "output_type": "stream",
     "text": [
      "Testing:  37%|███████████▎                   | 458/1250 [00:25<00:28, 27.42it/s]"
     ]
    },
    {
     "name": "stdout",
     "output_type": "stream",
     "text": [
      "Original shape torch.Size([1, 3, 224, 224])\n",
      "Original shape torch.Size([1, 3, 224, 224])\n",
      "Original shape torch.Size([1, 3, 224, 224])\n",
      "Original shape torch.Size([1, 3, 224, 224])\n",
      "Original shape torch.Size([1, 3, 224, 224])\n",
      "Original shape torch.Size([1, 3, 224, 224])\n",
      "Original shape torch.Size([1, 3, 224, 224])\n"
     ]
    },
    {
     "name": "stderr",
     "output_type": "stream",
     "text": [
      "Testing:  37%|███████████▌                   | 464/1250 [00:26<00:30, 25.87it/s]"
     ]
    },
    {
     "name": "stdout",
     "output_type": "stream",
     "text": [
      "Original shape torch.Size([1, 3, 224, 224])\n",
      "Original shape torch.Size([1, 3, 224, 224])\n",
      "Original shape torch.Size([1, 3, 224, 224])\n",
      "Original shape torch.Size([1, 3, 224, 224])\n",
      "Original shape torch.Size([1, 3, 224, 224])\n",
      "Original shape torch.Size([1, 3, 224, 224])\n"
     ]
    },
    {
     "name": "stderr",
     "output_type": "stream",
     "text": [
      "Testing:  38%|███████████▋                   | 471/1250 [00:26<00:27, 28.29it/s]"
     ]
    },
    {
     "name": "stdout",
     "output_type": "stream",
     "text": [
      "Original shape torch.Size([1, 3, 224, 224])\n",
      "Original shape torch.Size([1, 3, 224, 224])\n",
      "Original shape torch.Size([1, 3, 224, 224])\n",
      "Original shape torch.Size([1, 3, 224, 224])\n",
      "Original shape torch.Size([1, 3, 224, 224])\n",
      "Original shape torch.Size([1, 3, 224, 224])\n",
      "Original shape torch.Size([1, 3, 224, 224])\n"
     ]
    },
    {
     "name": "stderr",
     "output_type": "stream",
     "text": [
      "\r",
      "Testing:  38%|███████████▊                   | 474/1250 [00:26<00:31, 24.84it/s]"
     ]
    },
    {
     "name": "stdout",
     "output_type": "stream",
     "text": [
      "Original shape torch.Size([1, 3, 224, 224])\n",
      "Original shape torch.Size([1, 3, 224, 224])\n",
      "Original shape torch.Size([1, 3, 224, 224])\n",
      "Original shape torch.Size([1, 3, 224, 224])\n"
     ]
    },
    {
     "name": "stderr",
     "output_type": "stream",
     "text": [
      "Testing:  38%|███████████▉                   | 481/1250 [00:26<00:30, 24.93it/s]"
     ]
    },
    {
     "name": "stdout",
     "output_type": "stream",
     "text": [
      "Original shape torch.Size([1, 3, 224, 224])\n",
      "Original shape torch.Size([1, 3, 224, 224])\n",
      "Original shape torch.Size([1, 3, 224, 224])\n",
      "Original shape torch.Size([1, 3, 224, 224])\n",
      "Original shape torch.Size([1, 3, 224, 224])\n",
      "Original shape torch.Size([1, 3, 224, 224])\n"
     ]
    },
    {
     "name": "stderr",
     "output_type": "stream",
     "text": [
      "\r",
      "Testing:  39%|████████████                   | 484/1250 [00:26<00:37, 20.65it/s]"
     ]
    },
    {
     "name": "stdout",
     "output_type": "stream",
     "text": [
      "Original shape torch.Size([1, 3, 224, 224])\n",
      "Original shape torch.Size([1, 3, 224, 224])\n",
      "Original shape torch.Size([1, 3, 224, 224])\n",
      "Original shape torch.Size([1, 3, 224, 224])\n"
     ]
    },
    {
     "name": "stderr",
     "output_type": "stream",
     "text": [
      "Testing:  39%|████████████▏                  | 490/1250 [00:27<00:31, 23.87it/s]"
     ]
    },
    {
     "name": "stdout",
     "output_type": "stream",
     "text": [
      "Original shape torch.Size([1, 3, 224, 224])\n",
      "Original shape torch.Size([1, 3, 224, 224])\n",
      "Original shape torch.Size([1, 3, 224, 224])\n",
      "Original shape torch.Size([1, 3, 224, 224])\n",
      "Original shape torch.Size([1, 3, 224, 224])\n",
      "Original shape torch.Size([1, 3, 224, 224])\n"
     ]
    },
    {
     "name": "stderr",
     "output_type": "stream",
     "text": [
      "Testing:  40%|████████████▎                  | 496/1250 [00:27<00:33, 22.73it/s]"
     ]
    },
    {
     "name": "stdout",
     "output_type": "stream",
     "text": [
      "Original shape torch.Size([1, 3, 224, 224])\n",
      "Original shape torch.Size([1, 3, 224, 224])\n",
      "Original shape torch.Size([1, 3, 224, 224])\n",
      "Original shape torch.Size([1, 3, 224, 224])\n",
      "Original shape torch.Size([1, 3, 224, 224])\n"
     ]
    },
    {
     "name": "stderr",
     "output_type": "stream",
     "text": [
      "\r",
      "Testing:  40%|████████████▍                  | 500/1250 [00:27<00:30, 24.85it/s]"
     ]
    },
    {
     "name": "stdout",
     "output_type": "stream",
     "text": [
      "Original shape torch.Size([1, 3, 224, 224])\n",
      "Original shape torch.Size([1, 3, 224, 224])\n",
      "Original shape torch.Size([1, 3, 224, 224])\n",
      "Original shape torch.Size([1, 3, 224, 224])\n",
      "Original shape torch.Size([1, 3, 224, 224])\n"
     ]
    },
    {
     "name": "stderr",
     "output_type": "stream",
     "text": [
      "\r",
      "Testing:  40%|████████████▍                  | 503/1250 [00:27<00:34, 21.59it/s]"
     ]
    },
    {
     "name": "stdout",
     "output_type": "stream",
     "text": [
      "Original shape torch.Size([1, 3, 224, 224])\n",
      "Original shape torch.Size([1, 3, 224, 224])\n",
      "Original shape torch.Size([1, 3, 224, 224])\n",
      "Original shape torch.Size([1, 3, 224, 224])\n",
      "Original shape torch.Size([1, 3, 224, 224])\n"
     ]
    },
    {
     "name": "stderr",
     "output_type": "stream",
     "text": [
      "Testing:  41%|████████████▌                  | 509/1250 [00:27<00:32, 22.54it/s]"
     ]
    },
    {
     "name": "stdout",
     "output_type": "stream",
     "text": [
      "Original shape torch.Size([1, 3, 224, 224])\n",
      "Original shape torch.Size([1, 3, 224, 224])\n",
      "Original shape torch.Size([1, 3, 224, 224])\n",
      "Original shape torch.Size([1, 3, 224, 224])\n",
      "Original shape torch.Size([1, 3, 224, 224])\n",
      "Original shape torch.Size([1, 3, 224, 224])\n"
     ]
    },
    {
     "name": "stderr",
     "output_type": "stream",
     "text": [
      "Testing:  41%|████████████▊                  | 516/1250 [00:28<00:28, 25.65it/s]"
     ]
    },
    {
     "name": "stdout",
     "output_type": "stream",
     "text": [
      "Original shape torch.Size([1, 3, 224, 224])\n",
      "Original shape torch.Size([1, 3, 224, 224])\n",
      "Original shape torch.Size([1, 3, 224, 224])\n",
      "Original shape torch.Size([1, 3, 224, 224])\n",
      "Original shape torch.Size([1, 3, 224, 224])\n",
      "Original shape torch.Size([1, 3, 224, 224])\n"
     ]
    },
    {
     "name": "stderr",
     "output_type": "stream",
     "text": [
      "Testing:  42%|████████████▉                  | 523/1250 [00:28<00:26, 27.15it/s]"
     ]
    },
    {
     "name": "stdout",
     "output_type": "stream",
     "text": [
      "Original shape torch.Size([1, 3, 224, 224])\n",
      "Original shape torch.Size([1, 3, 224, 224])\n",
      "Original shape torch.Size([1, 3, 224, 224])\n",
      "Original shape torch.Size([1, 3, 224, 224])\n",
      "Original shape torch.Size([1, 3, 224, 224])\n",
      "Original shape torch.Size([1, 3, 224, 224])\n",
      "Original shape torch.Size([1, 3, 224, 224])\n"
     ]
    },
    {
     "name": "stderr",
     "output_type": "stream",
     "text": [
      "Testing:  42%|█████████████                  | 529/1250 [00:28<00:30, 23.87it/s]"
     ]
    },
    {
     "name": "stdout",
     "output_type": "stream",
     "text": [
      "Original shape torch.Size([1, 3, 224, 224])\n",
      "Original shape torch.Size([1, 3, 224, 224])\n",
      "Original shape torch.Size([1, 3, 224, 224])\n",
      "Original shape torch.Size([1, 3, 224, 224])\n",
      "Original shape torch.Size([1, 3, 224, 224])\n"
     ]
    },
    {
     "name": "stderr",
     "output_type": "stream",
     "text": [
      "\r",
      "Testing:  43%|█████████████▏                 | 533/1250 [00:28<00:27, 25.61it/s]"
     ]
    },
    {
     "name": "stdout",
     "output_type": "stream",
     "text": [
      "Original shape torch.Size([1, 3, 224, 224])\n",
      "Original shape torch.Size([1, 3, 224, 224])\n",
      "Original shape torch.Size([1, 3, 224, 224])\n",
      "Original shape torch.Size([1, 3, 224, 224])\n",
      "Original shape torch.Size([1, 3, 224, 224])\n"
     ]
    },
    {
     "name": "stderr",
     "output_type": "stream",
     "text": [
      "Testing:  43%|█████████████▎                 | 539/1250 [00:29<00:33, 21.48it/s]"
     ]
    },
    {
     "name": "stdout",
     "output_type": "stream",
     "text": [
      "Original shape torch.Size([1, 3, 224, 224])\n",
      "Original shape torch.Size([1, 3, 224, 224])\n",
      "Original shape torch.Size([1, 3, 224, 224])\n",
      "Original shape torch.Size([1, 3, 224, 224])\n",
      "Original shape torch.Size([1, 3, 224, 224])\n",
      "Original shape torch.Size([1, 3, 224, 224])\n"
     ]
    },
    {
     "name": "stderr",
     "output_type": "stream",
     "text": [
      "Testing:  44%|█████████████▌                 | 546/1250 [00:29<00:27, 25.27it/s]"
     ]
    },
    {
     "name": "stdout",
     "output_type": "stream",
     "text": [
      "Original shape torch.Size([1, 3, 224, 224])\n",
      "Original shape torch.Size([1, 3, 224, 224])\n",
      "Original shape torch.Size([1, 3, 224, 224])\n",
      "Original shape torch.Size([1, 3, 224, 224])\n",
      "Original shape torch.Size([1, 3, 224, 224])\n",
      "Original shape torch.Size([1, 3, 224, 224])\n"
     ]
    },
    {
     "name": "stderr",
     "output_type": "stream",
     "text": [
      "Testing:  44%|█████████████▋                 | 552/1250 [00:29<00:32, 21.77it/s]"
     ]
    },
    {
     "name": "stdout",
     "output_type": "stream",
     "text": [
      "Original shape torch.Size([1, 3, 224, 224])\n",
      "Original shape torch.Size([1, 3, 224, 224])\n",
      "Original shape torch.Size([1, 3, 224, 224])\n",
      "Original shape torch.Size([1, 3, 224, 224])\n",
      "Original shape torch.Size([1, 3, 224, 224])\n",
      "Original shape torch.Size([1, 3, 224, 224])\n",
      "Original shape torch.Size([1, 3, 224, 224])\n",
      "Original shape torch.Size([1, 3, 224, 224])\n"
     ]
    },
    {
     "name": "stderr",
     "output_type": "stream",
     "text": [
      "Testing:  45%|█████████████▊                 | 557/1250 [00:30<00:45, 15.38it/s]"
     ]
    },
    {
     "name": "stdout",
     "output_type": "stream",
     "text": [
      "Original shape torch.Size([1, 3, 224, 224])\n",
      "Original shape torch.Size([1, 3, 224, 224])\n",
      "Original shape torch.Size([1, 3, 224, 224])\n",
      "Original shape torch.Size([1, 3, 224, 224])\n"
     ]
    },
    {
     "name": "stderr",
     "output_type": "stream",
     "text": [
      "Testing:  45%|█████████████▉                 | 563/1250 [00:30<00:38, 17.65it/s]"
     ]
    },
    {
     "name": "stdout",
     "output_type": "stream",
     "text": [
      "Original shape torch.Size([1, 3, 224, 224])\n",
      "Original shape torch.Size([1, 3, 224, 224])\n",
      "Original shape torch.Size([1, 3, 224, 224])\n",
      "Original shape torch.Size([1, 3, 224, 224])\n",
      "Original shape torch.Size([1, 3, 224, 224])\n"
     ]
    },
    {
     "name": "stderr",
     "output_type": "stream",
     "text": [
      "Testing:  45%|██████████████                 | 568/1250 [00:30<00:33, 20.56it/s]"
     ]
    },
    {
     "name": "stdout",
     "output_type": "stream",
     "text": [
      "Original shape torch.Size([1, 3, 224, 224])\n",
      "Original shape torch.Size([1, 3, 224, 224])\n",
      "Original shape torch.Size([1, 3, 224, 224])\n",
      "Original shape torch.Size([1, 3, 224, 224])\n",
      "Original shape torch.Size([1, 3, 224, 224])\n",
      "Original shape torch.Size([1, 3, 224, 224])\n"
     ]
    },
    {
     "name": "stderr",
     "output_type": "stream",
     "text": [
      "Testing:  46%|██████████████▏                | 573/1250 [00:31<00:42, 15.78it/s]"
     ]
    },
    {
     "name": "stdout",
     "output_type": "stream",
     "text": [
      "Original shape torch.Size([1, 3, 224, 224])\n",
      "Original shape torch.Size([1, 3, 224, 224])\n",
      "Original shape torch.Size([1, 3, 224, 224])\n",
      "Original shape torch.Size([1, 3, 224, 224])\n"
     ]
    },
    {
     "name": "stderr",
     "output_type": "stream",
     "text": [
      "\r",
      "Testing:  46%|██████████████▎                | 575/1250 [00:31<00:44, 15.15it/s]"
     ]
    },
    {
     "name": "stdout",
     "output_type": "stream",
     "text": [
      "Original shape torch.Size([1, 3, 224, 224])\n",
      "Original shape torch.Size([1, 3, 224, 224])\n"
     ]
    },
    {
     "name": "stderr",
     "output_type": "stream",
     "text": [
      "Testing:  46%|██████████████▎                | 579/1250 [00:31<01:08,  9.77it/s]"
     ]
    },
    {
     "name": "stdout",
     "output_type": "stream",
     "text": [
      "Original shape torch.Size([1, 3, 224, 224])\n",
      "Original shape torch.Size([1, 3, 224, 224])\n",
      "Original shape torch.Size([1, 3, 224, 224])\n",
      "Original shape torch.Size([1, 3, 224, 224])\n"
     ]
    },
    {
     "name": "stderr",
     "output_type": "stream",
     "text": [
      "Testing:  47%|██████████████▌                | 585/1250 [00:32<01:11,  9.37it/s]"
     ]
    },
    {
     "name": "stdout",
     "output_type": "stream",
     "text": [
      "Original shape torch.Size([1, 3, 224, 224])\n",
      "Original shape torch.Size([1, 3, 224, 224])\n",
      "Original shape torch.Size([1, 3, 224, 224])\n",
      "Original shape torch.Size([1, 3, 224, 224])\n",
      "Original shape torch.Size([1, 3, 224, 224])\n",
      "Original shape torch.Size([1, 3, 224, 224])\n",
      "Original shape torch.Size([1, 3, 224, 224])\n"
     ]
    },
    {
     "name": "stderr",
     "output_type": "stream",
     "text": [
      "Testing:  47%|██████████████▋                | 590/1250 [00:33<00:57, 11.43it/s]"
     ]
    },
    {
     "name": "stdout",
     "output_type": "stream",
     "text": [
      "Original shape torch.Size([1, 3, 224, 224])\n",
      "Original shape torch.Size([1, 3, 224, 224])\n",
      "Original shape torch.Size([1, 3, 224, 224])\n"
     ]
    },
    {
     "name": "stderr",
     "output_type": "stream",
     "text": [
      "Testing:  48%|██████████████▊                | 595/1250 [00:33<00:43, 15.10it/s]"
     ]
    },
    {
     "name": "stdout",
     "output_type": "stream",
     "text": [
      "Original shape torch.Size([1, 3, 224, 224])\n",
      "Original shape torch.Size([1, 3, 224, 224])\n",
      "Original shape torch.Size([1, 3, 224, 224])\n",
      "Original shape torch.Size([1, 3, 224, 224])\n",
      "Original shape torch.Size([1, 3, 224, 224])\n",
      "Original shape torch.Size([1, 3, 224, 224])\n",
      "Original shape torch.Size([1, 3, 224, 224])\n"
     ]
    },
    {
     "name": "stderr",
     "output_type": "stream",
     "text": [
      "Testing:  48%|██████████████▉                | 601/1250 [00:33<00:45, 14.24it/s]"
     ]
    },
    {
     "name": "stdout",
     "output_type": "stream",
     "text": [
      "Original shape torch.Size([1, 3, 224, 224])\n",
      "Original shape torch.Size([1, 3, 224, 224])\n",
      "Original shape torch.Size([1, 3, 224, 224])\n",
      "Original shape torch.Size([1, 3, 224, 224])\n",
      "Original shape torch.Size([1, 3, 224, 224])\n",
      "Original shape torch.Size([1, 3, 224, 224])\n"
     ]
    },
    {
     "name": "stderr",
     "output_type": "stream",
     "text": [
      "Testing:  49%|███████████████                | 607/1250 [00:33<00:32, 19.57it/s]"
     ]
    },
    {
     "name": "stdout",
     "output_type": "stream",
     "text": [
      "Original shape torch.Size([1, 3, 224, 224])\n",
      "Original shape torch.Size([1, 3, 224, 224])\n",
      "Original shape torch.Size([1, 3, 224, 224])\n",
      "Original shape torch.Size([1, 3, 224, 224])\n",
      "Original shape torch.Size([1, 3, 224, 224])\n",
      "Original shape torch.Size([1, 3, 224, 224])\n",
      "Original shape torch.Size([1, 3, 224, 224])\n"
     ]
    },
    {
     "name": "stderr",
     "output_type": "stream",
     "text": [
      "Testing:  49%|███████████████▎               | 615/1250 [00:34<00:39, 16.22it/s]"
     ]
    },
    {
     "name": "stdout",
     "output_type": "stream",
     "text": [
      "Original shape torch.Size([1, 3, 224, 224])\n",
      "Original shape torch.Size([1, 3, 224, 224])\n",
      "Original shape torch.Size([1, 3, 224, 224])\n",
      "Original shape torch.Size([1, 3, 224, 224])\n",
      "Original shape torch.Size([1, 3, 224, 224])\n",
      "Original shape torch.Size([1, 3, 224, 224])\n"
     ]
    },
    {
     "name": "stderr",
     "output_type": "stream",
     "text": [
      "Testing:  50%|███████████████▍               | 621/1250 [00:34<00:30, 20.96it/s]"
     ]
    },
    {
     "name": "stdout",
     "output_type": "stream",
     "text": [
      "Original shape torch.Size([1, 3, 224, 224])\n",
      "Original shape torch.Size([1, 3, 224, 224])\n",
      "Original shape torch.Size([1, 3, 224, 224])\n",
      "Original shape torch.Size([1, 3, 224, 224])\n",
      "Original shape torch.Size([1, 3, 224, 224])\n",
      "Original shape torch.Size([1, 3, 224, 224])\n"
     ]
    },
    {
     "name": "stderr",
     "output_type": "stream",
     "text": [
      "\r",
      "Testing:  50%|███████████████▍               | 624/1250 [00:34<00:30, 20.34it/s]"
     ]
    },
    {
     "name": "stdout",
     "output_type": "stream",
     "text": [
      "Original shape torch.Size([1, 3, 224, 224])\n",
      "Original shape torch.Size([1, 3, 224, 224])\n",
      "Original shape torch.Size([1, 3, 224, 224])\n"
     ]
    },
    {
     "name": "stderr",
     "output_type": "stream",
     "text": [
      "Testing:  50%|███████████████▌               | 630/1250 [00:35<00:35, 17.49it/s]"
     ]
    },
    {
     "name": "stdout",
     "output_type": "stream",
     "text": [
      "Original shape torch.Size([1, 3, 224, 224])\n",
      "Original shape torch.Size([1, 3, 224, 224])\n",
      "Original shape torch.Size([1, 3, 224, 224])\n",
      "Original shape torch.Size([1, 3, 224, 224])\n",
      "Original shape torch.Size([1, 3, 224, 224])\n"
     ]
    },
    {
     "name": "stderr",
     "output_type": "stream",
     "text": [
      "Testing:  51%|███████████████▊               | 636/1250 [00:35<00:28, 21.90it/s]"
     ]
    },
    {
     "name": "stdout",
     "output_type": "stream",
     "text": [
      "Original shape torch.Size([1, 3, 224, 224])\n",
      "Original shape torch.Size([1, 3, 224, 224])\n",
      "Original shape torch.Size([1, 3, 224, 224])\n",
      "Original shape torch.Size([1, 3, 224, 224])\n",
      "Original shape torch.Size([1, 3, 224, 224])\n",
      "Original shape torch.Size([1, 3, 224, 224])\n"
     ]
    },
    {
     "name": "stderr",
     "output_type": "stream",
     "text": [
      "\r",
      "Testing:  51%|███████████████▊               | 639/1250 [00:36<00:48, 12.58it/s]"
     ]
    },
    {
     "name": "stdout",
     "output_type": "stream",
     "text": [
      "Original shape torch.Size([1, 3, 224, 224])\n",
      "Original shape torch.Size([1, 3, 224, 224])\n",
      "Original shape torch.Size([1, 3, 224, 224])\n",
      "Original shape torch.Size([1, 3, 224, 224])\n",
      "Original shape torch.Size([1, 3, 224, 224])\n"
     ]
    },
    {
     "name": "stderr",
     "output_type": "stream",
     "text": [
      "Testing:  52%|███████████████▉               | 645/1250 [00:36<00:39, 15.47it/s]"
     ]
    },
    {
     "name": "stdout",
     "output_type": "stream",
     "text": [
      "Original shape torch.Size([1, 3, 224, 224])\n",
      "Original shape torch.Size([1, 3, 224, 224])\n",
      "Original shape torch.Size([1, 3, 224, 224])\n",
      "Original shape torch.Size([1, 3, 224, 224])\n",
      "Original shape torch.Size([1, 3, 224, 224])\n",
      "Original shape torch.Size([1, 3, 224, 224])\n"
     ]
    },
    {
     "name": "stderr",
     "output_type": "stream",
     "text": [
      "Testing:  52%|████████████████▏              | 651/1250 [00:36<00:32, 18.52it/s]"
     ]
    },
    {
     "name": "stdout",
     "output_type": "stream",
     "text": [
      "Original shape torch.Size([1, 3, 224, 224])\n",
      "Original shape torch.Size([1, 3, 224, 224])\n",
      "Original shape torch.Size([1, 3, 224, 224])\n",
      "Original shape torch.Size([1, 3, 224, 224])\n",
      "Original shape torch.Size([1, 3, 224, 224])\n",
      "Original shape torch.Size([1, 3, 224, 224])\n"
     ]
    },
    {
     "name": "stderr",
     "output_type": "stream",
     "text": [
      "\r",
      "Testing:  52%|████████████████▏              | 654/1250 [00:37<00:47, 12.42it/s]"
     ]
    },
    {
     "name": "stdout",
     "output_type": "stream",
     "text": [
      "Original shape torch.Size([1, 3, 224, 224])\n",
      "Original shape torch.Size([1, 3, 224, 224])\n"
     ]
    },
    {
     "name": "stderr",
     "output_type": "stream",
     "text": [
      "Testing:  53%|████████████████▎              | 659/1250 [00:37<00:42, 14.01it/s]"
     ]
    },
    {
     "name": "stdout",
     "output_type": "stream",
     "text": [
      "Original shape torch.Size([1, 3, 224, 224])\n",
      "Original shape torch.Size([1, 3, 224, 224])\n",
      "Original shape torch.Size([1, 3, 224, 224])\n",
      "Original shape torch.Size([1, 3, 224, 224])\n",
      "Original shape torch.Size([1, 3, 224, 224])\n",
      "Original shape torch.Size([1, 3, 224, 224])\n"
     ]
    },
    {
     "name": "stderr",
     "output_type": "stream",
     "text": [
      "Testing:  53%|████████████████▌              | 666/1250 [00:37<00:28, 20.41it/s]"
     ]
    },
    {
     "name": "stdout",
     "output_type": "stream",
     "text": [
      "Original shape torch.Size([1, 3, 224, 224])\n",
      "Original shape torch.Size([1, 3, 224, 224])\n",
      "Original shape torch.Size([1, 3, 224, 224])\n",
      "Original shape torch.Size([1, 3, 224, 224])\n",
      "Original shape torch.Size([1, 3, 224, 224])\n",
      "Original shape torch.Size([1, 3, 224, 224])\n",
      "Original shape torch.Size([1, 3, 224, 224])\n"
     ]
    },
    {
     "name": "stderr",
     "output_type": "stream",
     "text": [
      "Testing:  54%|████████████████▋              | 672/1250 [00:37<00:29, 19.86it/s]"
     ]
    },
    {
     "name": "stdout",
     "output_type": "stream",
     "text": [
      "Original shape torch.Size([1, 3, 224, 224])\n",
      "Original shape torch.Size([1, 3, 224, 224])\n",
      "Original shape torch.Size([1, 3, 224, 224])\n",
      "Original shape torch.Size([1, 3, 224, 224])\n"
     ]
    },
    {
     "name": "stderr",
     "output_type": "stream",
     "text": [
      "\r",
      "Testing:  54%|████████████████▋              | 675/1250 [00:38<00:30, 18.70it/s]"
     ]
    },
    {
     "name": "stdout",
     "output_type": "stream",
     "text": [
      "Original shape torch.Size([1, 3, 224, 224])\n",
      "Original shape torch.Size([1, 3, 224, 224])\n",
      "Original shape torch.Size([1, 3, 224, 224])\n",
      "Original shape torch.Size([1, 3, 224, 224])\n",
      "Original shape torch.Size([1, 3, 224, 224])\n",
      "Original shape torch.Size([1, 3, 224, 224])\n"
     ]
    },
    {
     "name": "stderr",
     "output_type": "stream",
     "text": [
      "Testing:  54%|████████████████▉              | 681/1250 [00:38<00:26, 21.69it/s]"
     ]
    },
    {
     "name": "stdout",
     "output_type": "stream",
     "text": [
      "Original shape torch.Size([1, 3, 224, 224])\n",
      "Original shape torch.Size([1, 3, 224, 224])\n",
      "Original shape torch.Size([1, 3, 224, 224])\n",
      "Original shape torch.Size([1, 3, 224, 224])\n"
     ]
    },
    {
     "name": "stderr",
     "output_type": "stream",
     "text": [
      "\r",
      "Testing:  55%|████████████████▉              | 684/1250 [00:38<00:32, 17.67it/s]"
     ]
    },
    {
     "name": "stdout",
     "output_type": "stream",
     "text": [
      "Original shape torch.Size([1, 3, 224, 224])\n",
      "Original shape torch.Size([1, 3, 224, 224])\n"
     ]
    },
    {
     "name": "stderr",
     "output_type": "stream",
     "text": [
      "\r",
      "Testing:  55%|█████████████████              | 687/1250 [00:38<00:36, 15.31it/s]"
     ]
    },
    {
     "name": "stdout",
     "output_type": "stream",
     "text": [
      "Original shape torch.Size([1, 3, 224, 224])\n",
      "Original shape torch.Size([1, 3, 224, 224])\n",
      "Original shape torch.Size([1, 3, 224, 224])\n",
      "Original shape torch.Size([1, 3, 224, 224])\n",
      "Original shape torch.Size([1, 3, 224, 224])\n"
     ]
    },
    {
     "name": "stderr",
     "output_type": "stream",
     "text": [
      "Testing:  55%|█████████████████▏             | 693/1250 [00:39<00:29, 19.18it/s]"
     ]
    },
    {
     "name": "stdout",
     "output_type": "stream",
     "text": [
      "Original shape torch.Size([1, 3, 224, 224])\n",
      "Original shape torch.Size([1, 3, 224, 224])\n",
      "Original shape torch.Size([1, 3, 224, 224])\n",
      "Original shape torch.Size([1, 3, 224, 224])\n",
      "Original shape torch.Size([1, 3, 224, 224])\n",
      "Original shape torch.Size([1, 3, 224, 224])\n"
     ]
    },
    {
     "name": "stderr",
     "output_type": "stream",
     "text": [
      "Testing:  56%|█████████████████▎             | 699/1250 [00:39<00:44, 12.51it/s]"
     ]
    },
    {
     "name": "stdout",
     "output_type": "stream",
     "text": [
      "Original shape torch.Size([1, 3, 224, 224])\n",
      "Original shape torch.Size([1, 3, 224, 224])\n",
      "Original shape torch.Size([1, 3, 224, 224])\n",
      "Original shape torch.Size([1, 3, 224, 224])\n",
      "Original shape torch.Size([1, 3, 224, 224])\n",
      "Original shape torch.Size([1, 3, 224, 224])\n"
     ]
    },
    {
     "name": "stderr",
     "output_type": "stream",
     "text": [
      "Testing:  56%|█████████████████▍             | 704/1250 [00:40<00:38, 14.26it/s]"
     ]
    },
    {
     "name": "stdout",
     "output_type": "stream",
     "text": [
      "Original shape torch.Size([1, 3, 224, 224])\n",
      "Original shape torch.Size([1, 3, 224, 224])\n",
      "Original shape torch.Size([1, 3, 224, 224])\n",
      "Original shape torch.Size([1, 3, 224, 224])\n"
     ]
    },
    {
     "name": "stderr",
     "output_type": "stream",
     "text": [
      "\r",
      "Testing:  56%|█████████████████▌             | 706/1250 [00:40<00:51, 10.55it/s]"
     ]
    },
    {
     "name": "stdout",
     "output_type": "stream",
     "text": [
      "Original shape torch.Size([1, 3, 224, 224])\n",
      "Original shape torch.Size([1, 3, 224, 224])\n"
     ]
    },
    {
     "name": "stderr",
     "output_type": "stream",
     "text": [
      "Testing:  57%|█████████████████▌             | 710/1250 [00:40<00:49, 10.89it/s]"
     ]
    },
    {
     "name": "stdout",
     "output_type": "stream",
     "text": [
      "Original shape torch.Size([1, 3, 224, 224])\n",
      "Original shape torch.Size([1, 3, 224, 224])\n",
      "Original shape torch.Size([1, 3, 224, 224])\n"
     ]
    },
    {
     "name": "stderr",
     "output_type": "stream",
     "text": [
      "Testing:  57%|█████████████████▋             | 714/1250 [00:41<00:39, 13.46it/s]"
     ]
    },
    {
     "name": "stdout",
     "output_type": "stream",
     "text": [
      "Original shape torch.Size([1, 3, 224, 224])\n",
      "Original shape torch.Size([1, 3, 224, 224])\n",
      "Original shape torch.Size([1, 3, 224, 224])\n",
      "Original shape torch.Size([1, 3, 224, 224])\n",
      "Original shape torch.Size([1, 3, 224, 224])\n"
     ]
    },
    {
     "name": "stderr",
     "output_type": "stream",
     "text": [
      "\r",
      "Testing:  57%|█████████████████▊             | 716/1250 [00:41<01:01,  8.70it/s]"
     ]
    },
    {
     "name": "stdout",
     "output_type": "stream",
     "text": [
      "Original shape torch.Size([1, 3, 224, 224])\n",
      "Original shape torch.Size([1, 3, 224, 224])\n"
     ]
    },
    {
     "name": "stderr",
     "output_type": "stream",
     "text": [
      "Testing:  58%|█████████████████▉             | 721/1250 [00:41<00:46, 11.47it/s]"
     ]
    },
    {
     "name": "stdout",
     "output_type": "stream",
     "text": [
      "Original shape torch.Size([1, 3, 224, 224])\n",
      "Original shape torch.Size([1, 3, 224, 224])\n",
      "Original shape torch.Size([1, 3, 224, 224])\n",
      "Original shape torch.Size([1, 3, 224, 224])\n",
      "Original shape torch.Size([1, 3, 224, 224])\n",
      "Original shape torch.Size([1, 3, 224, 224])\n"
     ]
    },
    {
     "name": "stderr",
     "output_type": "stream",
     "text": [
      "Testing:  58%|██████████████████             | 727/1250 [00:42<00:30, 16.88it/s]"
     ]
    },
    {
     "name": "stdout",
     "output_type": "stream",
     "text": [
      "Original shape torch.Size([1, 3, 224, 224])\n",
      "Original shape torch.Size([1, 3, 224, 224])\n",
      "Original shape torch.Size([1, 3, 224, 224])\n",
      "Original shape torch.Size([1, 3, 224, 224])\n",
      "Original shape torch.Size([1, 3, 224, 224])\n"
     ]
    },
    {
     "name": "stderr",
     "output_type": "stream",
     "text": [
      "\r",
      "Testing:  58%|██████████████████             | 730/1250 [00:42<00:46, 11.16it/s]"
     ]
    },
    {
     "name": "stdout",
     "output_type": "stream",
     "text": [
      "Original shape torch.Size([1, 3, 224, 224])\n",
      "Original shape torch.Size([1, 3, 224, 224])\n",
      "Original shape torch.Size([1, 3, 224, 224])\n"
     ]
    },
    {
     "name": "stderr",
     "output_type": "stream",
     "text": [
      "Testing:  59%|██████████████████▎            | 736/1250 [00:42<00:31, 16.43it/s]"
     ]
    },
    {
     "name": "stdout",
     "output_type": "stream",
     "text": [
      "Original shape torch.Size([1, 3, 224, 224])\n",
      "Original shape torch.Size([1, 3, 224, 224])\n",
      "Original shape torch.Size([1, 3, 224, 224])\n",
      "Original shape torch.Size([1, 3, 224, 224])\n",
      "Original shape torch.Size([1, 3, 224, 224])\n",
      "Original shape torch.Size([1, 3, 224, 224])\n",
      "Original shape torch.Size([1, 3, 224, 224])\n",
      "Original shape torch.Size([1, 3, 224, 224])\n"
     ]
    },
    {
     "name": "stderr",
     "output_type": "stream",
     "text": [
      "\r",
      "Testing:  59%|██████████████████▎            | 740/1250 [00:42<00:25, 20.26it/s]"
     ]
    },
    {
     "name": "stdout",
     "output_type": "stream",
     "text": [
      "Original shape torch.Size([1, 3, 224, 224])\n",
      "Original shape torch.Size([1, 3, 224, 224])\n"
     ]
    },
    {
     "name": "stderr",
     "output_type": "stream",
     "text": [
      "\r",
      "Testing:  59%|██████████████████▍            | 743/1250 [00:43<00:40, 12.50it/s]"
     ]
    },
    {
     "name": "stdout",
     "output_type": "stream",
     "text": [
      "Original shape torch.Size([1, 3, 224, 224])\n",
      "Original shape torch.Size([1, 3, 224, 224])\n"
     ]
    },
    {
     "name": "stderr",
     "output_type": "stream",
     "text": [
      "Testing:  60%|██████████████████▌            | 748/1250 [00:43<00:32, 15.47it/s]"
     ]
    },
    {
     "name": "stdout",
     "output_type": "stream",
     "text": [
      "Original shape torch.Size([1, 3, 224, 224])\n",
      "Original shape torch.Size([1, 3, 224, 224])\n",
      "Original shape torch.Size([1, 3, 224, 224])\n",
      "Original shape torch.Size([1, 3, 224, 224])\n",
      "Original shape torch.Size([1, 3, 224, 224])\n"
     ]
    },
    {
     "name": "stderr",
     "output_type": "stream",
     "text": [
      "\r",
      "Testing:  60%|██████████████████▌            | 751/1250 [00:44<00:50,  9.92it/s]"
     ]
    },
    {
     "name": "stdout",
     "output_type": "stream",
     "text": [
      "Original shape torch.Size([1, 3, 224, 224])\n",
      "Original shape torch.Size([1, 3, 224, 224])\n",
      "Original shape torch.Size([1, 3, 224, 224])\n",
      "Original shape torch.Size([1, 3, 224, 224])\n"
     ]
    },
    {
     "name": "stderr",
     "output_type": "stream",
     "text": [
      "Testing:  60%|██████████████████▋            | 755/1250 [00:44<00:54,  9.11it/s]"
     ]
    },
    {
     "name": "stdout",
     "output_type": "stream",
     "text": [
      "Original shape torch.Size([1, 3, 224, 224])\n",
      "Original shape torch.Size([1, 3, 224, 224])\n",
      "Original shape torch.Size([1, 3, 224, 224])\n",
      "Original shape torch.Size([1, 3, 224, 224])\n",
      "Original shape torch.Size([1, 3, 224, 224])\n"
     ]
    },
    {
     "name": "stderr",
     "output_type": "stream",
     "text": [
      "Testing:  61%|██████████████████▊            | 761/1250 [00:44<00:34, 14.11it/s]"
     ]
    },
    {
     "name": "stdout",
     "output_type": "stream",
     "text": [
      "Original shape torch.Size([1, 3, 224, 224])\n",
      "Original shape torch.Size([1, 3, 224, 224])\n",
      "Original shape torch.Size([1, 3, 224, 224])\n",
      "Original shape torch.Size([1, 3, 224, 224])\n",
      "Original shape torch.Size([1, 3, 224, 224])\n",
      "Original shape torch.Size([1, 3, 224, 224])\n"
     ]
    },
    {
     "name": "stderr",
     "output_type": "stream",
     "text": [
      "Testing:  61%|███████████████████            | 767/1250 [00:45<00:24, 19.44it/s]"
     ]
    },
    {
     "name": "stdout",
     "output_type": "stream",
     "text": [
      "Original shape torch.Size([1, 3, 224, 224])\n",
      "Original shape torch.Size([1, 3, 224, 224])\n",
      "Original shape torch.Size([1, 3, 224, 224])\n",
      "Original shape torch.Size([1, 3, 224, 224])\n",
      "Original shape torch.Size([1, 3, 224, 224])\n",
      "Original shape torch.Size([1, 3, 224, 224])\n"
     ]
    },
    {
     "name": "stderr",
     "output_type": "stream",
     "text": [
      "Testing:  62%|███████████████████▏           | 773/1250 [00:45<00:24, 19.30it/s]"
     ]
    },
    {
     "name": "stdout",
     "output_type": "stream",
     "text": [
      "Original shape torch.Size([1, 3, 224, 224])\n",
      "Original shape torch.Size([1, 3, 224, 224])\n",
      "Original shape torch.Size([1, 3, 224, 224])\n",
      "Original shape torch.Size([1, 3, 224, 224])\n",
      "Original shape torch.Size([1, 3, 224, 224])\n"
     ]
    },
    {
     "name": "stderr",
     "output_type": "stream",
     "text": [
      "\r",
      "Testing:  62%|███████████████████▏           | 776/1250 [00:45<00:24, 19.53it/s]"
     ]
    },
    {
     "name": "stdout",
     "output_type": "stream",
     "text": [
      "Original shape torch.Size([1, 3, 224, 224])\n",
      "Original shape torch.Size([1, 3, 224, 224])\n",
      "Original shape torch.Size([1, 3, 224, 224])\n",
      "Original shape torch.Size([1, 3, 224, 224])\n",
      "Original shape torch.Size([1, 3, 224, 224])\n"
     ]
    },
    {
     "name": "stderr",
     "output_type": "stream",
     "text": [
      "Testing:  62%|███████████████████▎           | 781/1250 [00:46<00:32, 14.22it/s]"
     ]
    },
    {
     "name": "stdout",
     "output_type": "stream",
     "text": [
      "Original shape torch.Size([1, 3, 224, 224])\n",
      "Original shape torch.Size([1, 3, 224, 224])\n",
      "Original shape torch.Size([1, 3, 224, 224])\n"
     ]
    },
    {
     "name": "stderr",
     "output_type": "stream",
     "text": [
      "Testing:  63%|███████████████████▍           | 785/1250 [00:46<00:49,  9.30it/s]"
     ]
    },
    {
     "name": "stdout",
     "output_type": "stream",
     "text": [
      "Original shape torch.Size([1, 3, 224, 224])\n",
      "Original shape torch.Size([1, 3, 224, 224])\n",
      "Original shape torch.Size([1, 3, 224, 224])\n",
      "Original shape torch.Size([1, 3, 224, 224])\n"
     ]
    },
    {
     "name": "stderr",
     "output_type": "stream",
     "text": [
      "Testing:  63%|███████████████████▌           | 790/1250 [00:47<00:38, 11.91it/s]"
     ]
    },
    {
     "name": "stdout",
     "output_type": "stream",
     "text": [
      "Original shape torch.Size([1, 3, 224, 224])\n",
      "Original shape torch.Size([1, 3, 224, 224])\n",
      "Original shape torch.Size([1, 3, 224, 224])\n",
      "Original shape torch.Size([1, 3, 224, 224])\n",
      "Original shape torch.Size([1, 3, 224, 224])\n",
      "Original shape torch.Size([1, 3, 224, 224])\n"
     ]
    },
    {
     "name": "stderr",
     "output_type": "stream",
     "text": [
      "\r",
      "Testing:  64%|███████████████████▋           | 794/1250 [00:47<00:29, 15.68it/s]"
     ]
    },
    {
     "name": "stdout",
     "output_type": "stream",
     "text": [
      "Original shape torch.Size([1, 3, 224, 224])\n",
      "Original shape torch.Size([1, 3, 224, 224])\n",
      "Original shape torch.Size([1, 3, 224, 224])\n"
     ]
    },
    {
     "name": "stderr",
     "output_type": "stream",
     "text": [
      "\r",
      "Testing:  64%|███████████████████▋           | 796/1250 [00:47<00:31, 14.55it/s]"
     ]
    },
    {
     "name": "stdout",
     "output_type": "stream",
     "text": [
      "Original shape torch.Size([1, 3, 224, 224])\n"
     ]
    },
    {
     "name": "stderr",
     "output_type": "stream",
     "text": [
      "Testing:  64%|███████████████████▊           | 801/1250 [00:47<00:35, 12.76it/s]"
     ]
    },
    {
     "name": "stdout",
     "output_type": "stream",
     "text": [
      "Original shape torch.Size([1, 3, 224, 224])\n",
      "Original shape torch.Size([1, 3, 224, 224])\n",
      "Original shape torch.Size([1, 3, 224, 224])\n",
      "Original shape torch.Size([1, 3, 224, 224])\n",
      "Original shape torch.Size([1, 3, 224, 224])\n"
     ]
    },
    {
     "name": "stderr",
     "output_type": "stream",
     "text": [
      "\r",
      "Testing:  64%|███████████████████▉           | 804/1250 [00:48<00:28, 15.51it/s]"
     ]
    },
    {
     "name": "stdout",
     "output_type": "stream",
     "text": [
      "Original shape torch.Size([1, 3, 224, 224])\n",
      "Original shape torch.Size([1, 3, 224, 224])\n",
      "Original shape torch.Size([1, 3, 224, 224])\n",
      "Original shape torch.Size([1, 3, 224, 224])\n",
      "Original shape torch.Size([1, 3, 224, 224])\n",
      "Original shape torch.Size([1, 3, 224, 224])\n"
     ]
    },
    {
     "name": "stderr",
     "output_type": "stream",
     "text": [
      "Testing:  65%|████████████████████           | 810/1250 [00:48<00:25, 17.40it/s]"
     ]
    },
    {
     "name": "stdout",
     "output_type": "stream",
     "text": [
      "Original shape torch.Size([1, 3, 224, 224])\n",
      "Original shape torch.Size([1, 3, 224, 224])\n",
      "Original shape torch.Size([1, 3, 224, 224])\n",
      "Original shape torch.Size([1, 3, 224, 224])\n"
     ]
    },
    {
     "name": "stderr",
     "output_type": "stream",
     "text": [
      "\r",
      "Testing:  65%|████████████████████▏          | 813/1250 [00:48<00:22, 19.34it/s]"
     ]
    },
    {
     "name": "stdout",
     "output_type": "stream",
     "text": [
      "Original shape torch.Size([1, 3, 224, 224])\n",
      "Original shape torch.Size([1, 3, 224, 224])\n",
      "Original shape torch.Size([1, 3, 224, 224])\n",
      "Original shape torch.Size([1, 3, 224, 224])\n"
     ]
    },
    {
     "name": "stderr",
     "output_type": "stream",
     "text": [
      "\r",
      "Testing:  65%|████████████████████▏          | 816/1250 [00:48<00:23, 18.43it/s]"
     ]
    },
    {
     "name": "stdout",
     "output_type": "stream",
     "text": [
      "Original shape torch.Size([1, 3, 224, 224])\n",
      "Original shape torch.Size([1, 3, 224, 224])\n"
     ]
    },
    {
     "name": "stderr",
     "output_type": "stream",
     "text": [
      "Testing:  66%|████████████████████▍          | 822/1250 [00:48<00:23, 18.48it/s]"
     ]
    },
    {
     "name": "stdout",
     "output_type": "stream",
     "text": [
      "Original shape torch.Size([1, 3, 224, 224])\n",
      "Original shape torch.Size([1, 3, 224, 224])\n",
      "Original shape torch.Size([1, 3, 224, 224])\n",
      "Original shape torch.Size([1, 3, 224, 224])\n",
      "Original shape torch.Size([1, 3, 224, 224])\n",
      "Original shape torch.Size([1, 3, 224, 224])\n",
      "Original shape torch.Size([1, 3, 224, 224])\n"
     ]
    },
    {
     "name": "stderr",
     "output_type": "stream",
     "text": [
      "Testing:  66%|████████████████████▌          | 829/1250 [00:49<00:27, 15.58it/s]"
     ]
    },
    {
     "name": "stdout",
     "output_type": "stream",
     "text": [
      "Original shape torch.Size([1, 3, 224, 224])\n",
      "Original shape torch.Size([1, 3, 224, 224])\n",
      "Original shape torch.Size([1, 3, 224, 224])\n",
      "Original shape torch.Size([1, 3, 224, 224])\n",
      "Original shape torch.Size([1, 3, 224, 224])\n",
      "Original shape torch.Size([1, 3, 224, 224])\n",
      "Original shape torch.Size([1, 3, 224, 224])\n"
     ]
    },
    {
     "name": "stderr",
     "output_type": "stream",
     "text": [
      "Testing:  67%|████████████████████▋          | 835/1250 [00:49<00:21, 19.04it/s]"
     ]
    },
    {
     "name": "stdout",
     "output_type": "stream",
     "text": [
      "Original shape torch.Size([1, 3, 224, 224])\n",
      "Original shape torch.Size([1, 3, 224, 224])\n",
      "Original shape torch.Size([1, 3, 224, 224])\n",
      "Original shape torch.Size([1, 3, 224, 224])\n"
     ]
    },
    {
     "name": "stderr",
     "output_type": "stream",
     "text": [
      "Testing:  67%|████████████████████▊          | 841/1250 [00:50<00:27, 15.01it/s]"
     ]
    },
    {
     "name": "stdout",
     "output_type": "stream",
     "text": [
      "Original shape torch.Size([1, 3, 224, 224])\n",
      "Original shape torch.Size([1, 3, 224, 224])\n",
      "Original shape torch.Size([1, 3, 224, 224])\n",
      "Original shape torch.Size([1, 3, 224, 224])\n",
      "Original shape torch.Size([1, 3, 224, 224])\n",
      "Original shape torch.Size([1, 3, 224, 224])\n",
      "Original shape torch.Size([1, 3, 224, 224])\n"
     ]
    },
    {
     "name": "stderr",
     "output_type": "stream",
     "text": [
      "\r",
      "Testing:  68%|████████████████████▉          | 844/1250 [00:50<00:23, 17.19it/s]"
     ]
    },
    {
     "name": "stdout",
     "output_type": "stream",
     "text": [
      "Original shape torch.Size([1, 3, 224, 224])\n",
      "Original shape torch.Size([1, 3, 224, 224])\n",
      "Original shape torch.Size([1, 3, 224, 224])\n"
     ]
    },
    {
     "name": "stderr",
     "output_type": "stream",
     "text": [
      "Testing:  68%|█████████████████████          | 850/1250 [00:51<00:29, 13.34it/s]"
     ]
    },
    {
     "name": "stdout",
     "output_type": "stream",
     "text": [
      "Original shape torch.Size([1, 3, 224, 224])\n",
      "Original shape torch.Size([1, 3, 224, 224])\n",
      "Original shape torch.Size([1, 3, 224, 224])\n",
      "Original shape torch.Size([1, 3, 224, 224])\n",
      "Original shape torch.Size([1, 3, 224, 224])\n"
     ]
    },
    {
     "name": "stderr",
     "output_type": "stream",
     "text": [
      "\r",
      "Testing:  68%|█████████████████████▏         | 853/1250 [00:51<00:26, 15.18it/s]"
     ]
    },
    {
     "name": "stdout",
     "output_type": "stream",
     "text": [
      "Original shape torch.Size([1, 3, 224, 224])\n",
      "Original shape torch.Size([1, 3, 224, 224])\n",
      "Original shape torch.Size([1, 3, 224, 224])\n",
      "Original shape torch.Size([1, 3, 224, 224])\n",
      "Original shape torch.Size([1, 3, 224, 224])\n"
     ]
    },
    {
     "name": "stderr",
     "output_type": "stream",
     "text": [
      "\r",
      "Testing:  68%|█████████████████████▏         | 856/1250 [00:51<00:34, 11.37it/s]"
     ]
    },
    {
     "name": "stdout",
     "output_type": "stream",
     "text": [
      "Original shape torch.Size([1, 3, 224, 224])\n",
      "Original shape torch.Size([1, 3, 224, 224])\n"
     ]
    },
    {
     "name": "stderr",
     "output_type": "stream",
     "text": [
      "Testing:  69%|█████████████████████▎         | 861/1250 [00:52<00:33, 11.70it/s]"
     ]
    },
    {
     "name": "stdout",
     "output_type": "stream",
     "text": [
      "Original shape torch.Size([1, 3, 224, 224])\n",
      "Original shape torch.Size([1, 3, 224, 224])\n",
      "Original shape torch.Size([1, 3, 224, 224])\n",
      "Original shape torch.Size([1, 3, 224, 224])\n",
      "Original shape torch.Size([1, 3, 224, 224])\n"
     ]
    },
    {
     "name": "stderr",
     "output_type": "stream",
     "text": [
      "\r",
      "Testing:  69%|█████████████████████▍         | 864/1250 [00:52<00:26, 14.34it/s]"
     ]
    },
    {
     "name": "stdout",
     "output_type": "stream",
     "text": [
      "Original shape torch.Size([1, 3, 224, 224])\n",
      "Original shape torch.Size([1, 3, 224, 224])\n",
      "Original shape torch.Size([1, 3, 224, 224])\n"
     ]
    },
    {
     "name": "stderr",
     "output_type": "stream",
     "text": [
      "\r",
      "Testing:  69%|█████████████████████▍         | 866/1250 [00:52<00:45,  8.46it/s]"
     ]
    },
    {
     "name": "stdout",
     "output_type": "stream",
     "text": [
      "Original shape torch.Size([1, 3, 224, 224])\n"
     ]
    },
    {
     "name": "stderr",
     "output_type": "stream",
     "text": [
      "Testing:  70%|█████████████████████▌         | 870/1250 [00:53<00:40,  9.30it/s]"
     ]
    },
    {
     "name": "stdout",
     "output_type": "stream",
     "text": [
      "Original shape torch.Size([1, 3, 224, 224])\n",
      "Original shape torch.Size([1, 3, 224, 224])\n",
      "Original shape torch.Size([1, 3, 224, 224])\n",
      "Original shape torch.Size([1, 3, 224, 224])\n",
      "Original shape torch.Size([1, 3, 224, 224])\n"
     ]
    },
    {
     "name": "stderr",
     "output_type": "stream",
     "text": [
      "\r",
      "Testing:  70%|█████████████████████▋         | 874/1250 [00:53<00:28, 13.24it/s]"
     ]
    },
    {
     "name": "stdout",
     "output_type": "stream",
     "text": [
      "Original shape torch.Size([1, 3, 224, 224])\n",
      "Original shape torch.Size([1, 3, 224, 224])\n",
      "Original shape torch.Size([1, 3, 224, 224])\n",
      "Original shape torch.Size([1, 3, 224, 224])\n",
      "Original shape torch.Size([1, 3, 224, 224])\n"
     ]
    },
    {
     "name": "stderr",
     "output_type": "stream",
     "text": [
      "Testing:  71%|█████████████████████▊         | 882/1250 [00:53<00:21, 17.41it/s]"
     ]
    },
    {
     "name": "stdout",
     "output_type": "stream",
     "text": [
      "Original shape torch.Size([1, 3, 224, 224])\n",
      "Original shape torch.Size([1, 3, 224, 224])\n",
      "Original shape torch.Size([1, 3, 224, 224])\n",
      "Original shape torch.Size([1, 3, 224, 224])\n",
      "Original shape torch.Size([1, 3, 224, 224])\n",
      "Original shape torch.Size([1, 3, 224, 224])\n",
      "Original shape torch.Size([1, 3, 224, 224])\n",
      "Original shape torch.Size([1, 3, 224, 224])\n"
     ]
    },
    {
     "name": "stderr",
     "output_type": "stream",
     "text": [
      "Testing:  71%|██████████████████████         | 888/1250 [00:54<00:23, 15.63it/s]"
     ]
    },
    {
     "name": "stdout",
     "output_type": "stream",
     "text": [
      "Original shape torch.Size([1, 3, 224, 224])\n",
      "Original shape torch.Size([1, 3, 224, 224])\n",
      "Original shape torch.Size([1, 3, 224, 224])\n",
      "Original shape torch.Size([1, 3, 224, 224])\n",
      "Original shape torch.Size([1, 3, 224, 224])\n",
      "Original shape torch.Size([1, 3, 224, 224])\n"
     ]
    },
    {
     "name": "stderr",
     "output_type": "stream",
     "text": [
      "Testing:  72%|██████████████████████▏        | 894/1250 [00:54<00:19, 18.26it/s]"
     ]
    },
    {
     "name": "stdout",
     "output_type": "stream",
     "text": [
      "Original shape torch.Size([1, 3, 224, 224])\n",
      "Original shape torch.Size([1, 3, 224, 224])\n",
      "Original shape torch.Size([1, 3, 224, 224])\n",
      "Original shape torch.Size([1, 3, 224, 224])\n"
     ]
    },
    {
     "name": "stderr",
     "output_type": "stream",
     "text": [
      "\r",
      "Testing:  72%|██████████████████████▏        | 897/1250 [00:54<00:21, 16.63it/s]"
     ]
    },
    {
     "name": "stdout",
     "output_type": "stream",
     "text": [
      "Original shape torch.Size([1, 3, 224, 224])\n",
      "Original shape torch.Size([1, 3, 224, 224])\n",
      "Original shape torch.Size([1, 3, 224, 224])\n",
      "Original shape torch.Size([1, 3, 224, 224])\n",
      "Original shape torch.Size([1, 3, 224, 224])\n",
      "Original shape torch.Size([1, 3, 224, 224])\n"
     ]
    },
    {
     "name": "stderr",
     "output_type": "stream",
     "text": [
      "Testing:  72%|██████████████████████▍        | 904/1250 [00:54<00:16, 21.35it/s]"
     ]
    },
    {
     "name": "stdout",
     "output_type": "stream",
     "text": [
      "Original shape torch.Size([1, 3, 224, 224])\n",
      "Original shape torch.Size([1, 3, 224, 224])\n",
      "Original shape torch.Size([1, 3, 224, 224])\n",
      "Original shape torch.Size([1, 3, 224, 224])\n",
      "Original shape torch.Size([1, 3, 224, 224])\n"
     ]
    },
    {
     "name": "stderr",
     "output_type": "stream",
     "text": [
      "Testing:  73%|██████████████████████▌        | 910/1250 [00:55<00:16, 20.47it/s]"
     ]
    },
    {
     "name": "stdout",
     "output_type": "stream",
     "text": [
      "Original shape torch.Size([1, 3, 224, 224])\n",
      "Original shape torch.Size([1, 3, 224, 224])\n",
      "Original shape torch.Size([1, 3, 224, 224])\n",
      "Original shape torch.Size([1, 3, 224, 224])\n",
      "Original shape torch.Size([1, 3, 224, 224])\n"
     ]
    },
    {
     "name": "stderr",
     "output_type": "stream",
     "text": [
      "\r",
      "Testing:  73%|██████████████████████▋        | 913/1250 [00:55<00:17, 18.77it/s]"
     ]
    },
    {
     "name": "stdout",
     "output_type": "stream",
     "text": [
      "Original shape torch.Size([1, 3, 224, 224])\n",
      "Original shape torch.Size([1, 3, 224, 224])\n",
      "Original shape torch.Size([1, 3, 224, 224])\n",
      "Original shape torch.Size([1, 3, 224, 224])\n"
     ]
    },
    {
     "name": "stderr",
     "output_type": "stream",
     "text": [
      "Testing:  74%|██████████████████████▊        | 919/1250 [00:55<00:15, 21.86it/s]"
     ]
    },
    {
     "name": "stdout",
     "output_type": "stream",
     "text": [
      "Original shape torch.Size([1, 3, 224, 224])\n",
      "Original shape torch.Size([1, 3, 224, 224])\n",
      "Original shape torch.Size([1, 3, 224, 224])\n",
      "Original shape torch.Size([1, 3, 224, 224])\n",
      "Original shape torch.Size([1, 3, 224, 224])\n",
      "Original shape torch.Size([1, 3, 224, 224])\n"
     ]
    },
    {
     "name": "stderr",
     "output_type": "stream",
     "text": [
      "Testing:  74%|██████████████████████▉        | 925/1250 [00:55<00:13, 23.58it/s]"
     ]
    },
    {
     "name": "stdout",
     "output_type": "stream",
     "text": [
      "Original shape torch.Size([1, 3, 224, 224])\n",
      "Original shape torch.Size([1, 3, 224, 224])\n",
      "Original shape torch.Size([1, 3, 224, 224])\n",
      "Original shape torch.Size([1, 3, 224, 224])\n",
      "Original shape torch.Size([1, 3, 224, 224])\n"
     ]
    },
    {
     "name": "stderr",
     "output_type": "stream",
     "text": [
      "\r",
      "Testing:  74%|███████████████████████        | 928/1250 [00:55<00:12, 25.02it/s]"
     ]
    },
    {
     "name": "stdout",
     "output_type": "stream",
     "text": [
      "Original shape torch.Size([1, 3, 224, 224])\n",
      "Original shape torch.Size([1, 3, 224, 224])\n",
      "Original shape torch.Size([1, 3, 224, 224])\n",
      "Original shape torch.Size([1, 3, 224, 224])\n",
      "Original shape torch.Size([1, 3, 224, 224])\n"
     ]
    },
    {
     "name": "stderr",
     "output_type": "stream",
     "text": [
      "Testing:  75%|███████████████████████▏       | 934/1250 [00:56<00:14, 21.56it/s]"
     ]
    },
    {
     "name": "stdout",
     "output_type": "stream",
     "text": [
      "Original shape torch.Size([1, 3, 224, 224])\n",
      "Original shape torch.Size([1, 3, 224, 224])\n",
      "Original shape torch.Size([1, 3, 224, 224])\n",
      "Original shape torch.Size([1, 3, 224, 224])\n",
      "Original shape torch.Size([1, 3, 224, 224])\n",
      "Original shape torch.Size([1, 3, 224, 224])\n"
     ]
    },
    {
     "name": "stderr",
     "output_type": "stream",
     "text": [
      "Testing:  75%|███████████████████████▎       | 940/1250 [00:56<00:12, 24.49it/s]"
     ]
    },
    {
     "name": "stdout",
     "output_type": "stream",
     "text": [
      "Original shape torch.Size([1, 3, 224, 224])\n",
      "Original shape torch.Size([1, 3, 224, 224])\n",
      "Original shape torch.Size([1, 3, 224, 224])\n",
      "Original shape torch.Size([1, 3, 224, 224])\n",
      "Original shape torch.Size([1, 3, 224, 224])\n",
      "Original shape torch.Size([1, 3, 224, 224])\n"
     ]
    },
    {
     "name": "stderr",
     "output_type": "stream",
     "text": [
      "Testing:  76%|███████████████████████▍       | 946/1250 [00:56<00:12, 24.86it/s]"
     ]
    },
    {
     "name": "stdout",
     "output_type": "stream",
     "text": [
      "Original shape torch.Size([1, 3, 224, 224])\n",
      "Original shape torch.Size([1, 3, 224, 224])\n",
      "Original shape torch.Size([1, 3, 224, 224])\n",
      "Original shape torch.Size([1, 3, 224, 224])\n",
      "Original shape torch.Size([1, 3, 224, 224])\n"
     ]
    },
    {
     "name": "stderr",
     "output_type": "stream",
     "text": [
      "Testing:  76%|███████████████████████▌       | 952/1250 [00:57<00:12, 23.09it/s]"
     ]
    },
    {
     "name": "stdout",
     "output_type": "stream",
     "text": [
      "Original shape torch.Size([1, 3, 224, 224])\n",
      "Original shape torch.Size([1, 3, 224, 224])\n",
      "Original shape torch.Size([1, 3, 224, 224])\n",
      "Original shape torch.Size([1, 3, 224, 224])\n",
      "Original shape torch.Size([1, 3, 224, 224])\n",
      "Original shape torch.Size([1, 3, 224, 224])\n"
     ]
    },
    {
     "name": "stderr",
     "output_type": "stream",
     "text": [
      "\r",
      "Testing:  76%|███████████████████████▋       | 956/1250 [00:57<00:11, 25.54it/s]"
     ]
    },
    {
     "name": "stdout",
     "output_type": "stream",
     "text": [
      "Original shape torch.Size([1, 3, 224, 224])\n",
      "Original shape torch.Size([1, 3, 224, 224])\n",
      "Original shape torch.Size([1, 3, 224, 224])\n",
      "Original shape torch.Size([1, 3, 224, 224])\n",
      "Original shape torch.Size([1, 3, 224, 224])\n",
      "Original shape torch.Size([1, 3, 224, 224])\n",
      "Original shape torch.Size([1, 3, 224, 224])\n"
     ]
    },
    {
     "name": "stderr",
     "output_type": "stream",
     "text": [
      "Testing:  77%|███████████████████████▉       | 963/1250 [00:57<00:11, 23.98it/s]"
     ]
    },
    {
     "name": "stdout",
     "output_type": "stream",
     "text": [
      "Original shape torch.Size([1, 3, 224, 224])\n",
      "Original shape torch.Size([1, 3, 224, 224])\n",
      "Original shape torch.Size([1, 3, 224, 224])\n",
      "Original shape torch.Size([1, 3, 224, 224])\n",
      "Original shape torch.Size([1, 3, 224, 224])\n",
      "Original shape torch.Size([1, 3, 224, 224])\n"
     ]
    },
    {
     "name": "stderr",
     "output_type": "stream",
     "text": [
      "Testing:  78%|████████████████████████       | 970/1250 [00:57<00:10, 26.39it/s]"
     ]
    },
    {
     "name": "stdout",
     "output_type": "stream",
     "text": [
      "Original shape torch.Size([1, 3, 224, 224])\n",
      "Original shape torch.Size([1, 3, 224, 224])\n",
      "Original shape torch.Size([1, 3, 224, 224])\n",
      "Original shape torch.Size([1, 3, 224, 224])\n",
      "Original shape torch.Size([1, 3, 224, 224])\n"
     ]
    },
    {
     "name": "stderr",
     "output_type": "stream",
     "text": [
      "Testing:  78%|████████████████████████▏      | 976/1250 [00:57<00:10, 25.03it/s]"
     ]
    },
    {
     "name": "stdout",
     "output_type": "stream",
     "text": [
      "Original shape torch.Size([1, 3, 224, 224])\n",
      "Original shape torch.Size([1, 3, 224, 224])\n",
      "Original shape torch.Size([1, 3, 224, 224])\n",
      "Original shape torch.Size([1, 3, 224, 224])\n",
      "Original shape torch.Size([1, 3, 224, 224])\n"
     ]
    },
    {
     "name": "stderr",
     "output_type": "stream",
     "text": [
      "\r",
      "Testing:  78%|████████████████████████▎      | 980/1250 [00:58<00:10, 26.87it/s]"
     ]
    },
    {
     "name": "stdout",
     "output_type": "stream",
     "text": [
      "Original shape torch.Size([1, 3, 224, 224])\n",
      "Original shape torch.Size([1, 3, 224, 224])\n",
      "Original shape torch.Size([1, 3, 224, 224])\n",
      "Original shape torch.Size([1, 3, 224, 224])\n",
      "Original shape torch.Size([1, 3, 224, 224])\n",
      "Original shape torch.Size([1, 3, 224, 224])\n",
      "Original shape torch.Size([1, 3, 224, 224])\n"
     ]
    },
    {
     "name": "stderr",
     "output_type": "stream",
     "text": [
      "Testing:  79%|████████████████████████▍      | 987/1250 [00:58<00:09, 28.25it/s]"
     ]
    },
    {
     "name": "stdout",
     "output_type": "stream",
     "text": [
      "Original shape torch.Size([1, 3, 224, 224])\n",
      "Original shape torch.Size([1, 3, 224, 224])\n",
      "Original shape torch.Size([1, 3, 224, 224])\n",
      "Original shape torch.Size([1, 3, 224, 224])\n",
      "Original shape torch.Size([1, 3, 224, 224])\n"
     ]
    },
    {
     "name": "stderr",
     "output_type": "stream",
     "text": [
      "Testing:  80%|████████████████████████▋      | 994/1250 [00:58<00:09, 27.00it/s]"
     ]
    },
    {
     "name": "stdout",
     "output_type": "stream",
     "text": [
      "Original shape torch.Size([1, 3, 224, 224])\n",
      "Original shape torch.Size([1, 3, 224, 224])\n",
      "Original shape torch.Size([1, 3, 224, 224])\n",
      "Original shape torch.Size([1, 3, 224, 224])\n",
      "Original shape torch.Size([1, 3, 224, 224])\n",
      "Original shape torch.Size([1, 3, 224, 224])\n",
      "Original shape torch.Size([1, 3, 224, 224])\n"
     ]
    },
    {
     "name": "stderr",
     "output_type": "stream",
     "text": [
      "Testing:  80%|████████████████████████      | 1000/1250 [00:58<00:08, 28.21it/s]"
     ]
    },
    {
     "name": "stdout",
     "output_type": "stream",
     "text": [
      "Original shape torch.Size([1, 3, 224, 224])\n",
      "Original shape torch.Size([1, 3, 224, 224])\n",
      "Original shape torch.Size([1, 3, 224, 224])\n",
      "Original shape torch.Size([1, 3, 224, 224])\n",
      "Original shape torch.Size([1, 3, 224, 224])\n",
      "Original shape torch.Size([1, 3, 224, 224])\n"
     ]
    },
    {
     "name": "stderr",
     "output_type": "stream",
     "text": [
      "Testing:  80%|████████████████████████▏     | 1006/1250 [00:59<00:09, 25.42it/s]"
     ]
    },
    {
     "name": "stdout",
     "output_type": "stream",
     "text": [
      "Original shape torch.Size([1, 3, 224, 224])\n",
      "Original shape torch.Size([1, 3, 224, 224])\n",
      "Original shape torch.Size([1, 3, 224, 224])\n",
      "Original shape torch.Size([1, 3, 224, 224])\n",
      "Original shape torch.Size([1, 3, 224, 224])\n",
      "Original shape torch.Size([1, 3, 224, 224])\n"
     ]
    },
    {
     "name": "stderr",
     "output_type": "stream",
     "text": [
      "Testing:  81%|████████████████████████▎     | 1013/1250 [00:59<00:08, 28.14it/s]"
     ]
    },
    {
     "name": "stdout",
     "output_type": "stream",
     "text": [
      "Original shape torch.Size([1, 3, 224, 224])\n",
      "Original shape torch.Size([1, 3, 224, 224])\n",
      "Original shape torch.Size([1, 3, 224, 224])\n",
      "Original shape torch.Size([1, 3, 224, 224])\n",
      "Original shape torch.Size([1, 3, 224, 224])\n",
      "Original shape torch.Size([1, 3, 224, 224])\n",
      "Original shape torch.Size([1, 3, 224, 224])\n"
     ]
    },
    {
     "name": "stderr",
     "output_type": "stream",
     "text": [
      "\r",
      "Testing:  81%|████████████████████████▍     | 1016/1250 [00:59<00:10, 21.69it/s]"
     ]
    },
    {
     "name": "stdout",
     "output_type": "stream",
     "text": [
      "Original shape torch.Size([1, 3, 224, 224])\n",
      "Original shape torch.Size([1, 3, 224, 224])\n"
     ]
    },
    {
     "name": "stderr",
     "output_type": "stream",
     "text": [
      "Testing:  82%|████████████████████████▌     | 1022/1250 [00:59<00:09, 22.82it/s]"
     ]
    },
    {
     "name": "stdout",
     "output_type": "stream",
     "text": [
      "Original shape torch.Size([1, 3, 224, 224])\n",
      "Original shape torch.Size([1, 3, 224, 224])\n",
      "Original shape torch.Size([1, 3, 224, 224])\n",
      "Original shape torch.Size([1, 3, 224, 224])\n",
      "Original shape torch.Size([1, 3, 224, 224])\n",
      "Original shape torch.Size([1, 3, 224, 224])\n"
     ]
    },
    {
     "name": "stderr",
     "output_type": "stream",
     "text": [
      "\r",
      "Testing:  82%|████████████████████████▌     | 1025/1250 [01:00<00:14, 15.99it/s]"
     ]
    },
    {
     "name": "stdout",
     "output_type": "stream",
     "text": [
      "Original shape torch.Size([1, 3, 224, 224])\n",
      "Original shape torch.Size([1, 3, 224, 224])\n",
      "Original shape torch.Size([1, 3, 224, 224])\n",
      "Original shape torch.Size([1, 3, 224, 224])\n"
     ]
    },
    {
     "name": "stderr",
     "output_type": "stream",
     "text": [
      "Testing:  82%|████████████████████████▋     | 1031/1250 [01:00<00:10, 20.57it/s]"
     ]
    },
    {
     "name": "stdout",
     "output_type": "stream",
     "text": [
      "Original shape torch.Size([1, 3, 224, 224])\n",
      "Original shape torch.Size([1, 3, 224, 224])\n",
      "Original shape torch.Size([1, 3, 224, 224])\n",
      "Original shape torch.Size([1, 3, 224, 224])\n",
      "Original shape torch.Size([1, 3, 224, 224])\n",
      "Original shape torch.Size([1, 3, 224, 224])\n"
     ]
    },
    {
     "name": "stderr",
     "output_type": "stream",
     "text": [
      "Testing:  83%|████████████████████████▉     | 1037/1250 [01:00<00:09, 21.68it/s]"
     ]
    },
    {
     "name": "stdout",
     "output_type": "stream",
     "text": [
      "Original shape torch.Size([1, 3, 224, 224])\n",
      "Original shape torch.Size([1, 3, 224, 224])\n",
      "Original shape torch.Size([1, 3, 224, 224])\n",
      "Original shape torch.Size([1, 3, 224, 224])\n",
      "Original shape torch.Size([1, 3, 224, 224])\n"
     ]
    },
    {
     "name": "stderr",
     "output_type": "stream",
     "text": [
      "\r",
      "Testing:  83%|████████████████████████▉     | 1040/1250 [01:00<00:08, 23.34it/s]"
     ]
    },
    {
     "name": "stdout",
     "output_type": "stream",
     "text": [
      "Original shape torch.Size([1, 3, 224, 224])\n",
      "Original shape torch.Size([1, 3, 224, 224])\n",
      "Original shape torch.Size([1, 3, 224, 224])\n",
      "Original shape torch.Size([1, 3, 224, 224])\n"
     ]
    },
    {
     "name": "stderr",
     "output_type": "stream",
     "text": [
      "Testing:  84%|█████████████████████████     | 1046/1250 [01:00<00:09, 21.75it/s]"
     ]
    },
    {
     "name": "stdout",
     "output_type": "stream",
     "text": [
      "Original shape torch.Size([1, 3, 224, 224])\n",
      "Original shape torch.Size([1, 3, 224, 224])\n",
      "Original shape torch.Size([1, 3, 224, 224])\n",
      "Original shape torch.Size([1, 3, 224, 224])\n",
      "Original shape torch.Size([1, 3, 224, 224])\n",
      "Original shape torch.Size([1, 3, 224, 224])\n"
     ]
    },
    {
     "name": "stderr",
     "output_type": "stream",
     "text": [
      "\r",
      "Testing:  84%|█████████████████████████▏    | 1049/1250 [01:01<00:10, 18.83it/s]"
     ]
    },
    {
     "name": "stdout",
     "output_type": "stream",
     "text": [
      "Original shape torch.Size([1, 3, 224, 224])\n",
      "Original shape torch.Size([1, 3, 224, 224])\n"
     ]
    },
    {
     "name": "stderr",
     "output_type": "stream",
     "text": [
      "Testing:  84%|█████████████████████████▎    | 1056/1250 [01:01<00:09, 20.83it/s]"
     ]
    },
    {
     "name": "stdout",
     "output_type": "stream",
     "text": [
      "Original shape torch.Size([1, 3, 224, 224])\n",
      "Original shape torch.Size([1, 3, 224, 224])\n",
      "Original shape torch.Size([1, 3, 224, 224])\n",
      "Original shape torch.Size([1, 3, 224, 224])\n",
      "Original shape torch.Size([1, 3, 224, 224])\n",
      "Original shape torch.Size([1, 3, 224, 224])\n",
      "Original shape torch.Size([1, 3, 224, 224])\n"
     ]
    },
    {
     "name": "stderr",
     "output_type": "stream",
     "text": [
      "\r",
      "Testing:  85%|█████████████████████████▍    | 1060/1250 [01:01<00:08, 23.34it/s]"
     ]
    },
    {
     "name": "stdout",
     "output_type": "stream",
     "text": [
      "Original shape torch.Size([1, 3, 224, 224])\n",
      "Original shape torch.Size([1, 3, 224, 224])\n",
      "Original shape torch.Size([1, 3, 224, 224])\n",
      "Original shape torch.Size([1, 3, 224, 224])\n"
     ]
    },
    {
     "name": "stderr",
     "output_type": "stream",
     "text": [
      "Testing:  85%|█████████████████████████▌    | 1067/1250 [01:01<00:07, 23.60it/s]"
     ]
    },
    {
     "name": "stdout",
     "output_type": "stream",
     "text": [
      "Original shape torch.Size([1, 3, 224, 224])\n",
      "Original shape torch.Size([1, 3, 224, 224])\n",
      "Original shape torch.Size([1, 3, 224, 224])\n",
      "Original shape torch.Size([1, 3, 224, 224])\n",
      "Original shape torch.Size([1, 3, 224, 224])\n",
      "Original shape torch.Size([1, 3, 224, 224])\n",
      "Original shape torch.Size([1, 3, 224, 224])\n"
     ]
    },
    {
     "name": "stderr",
     "output_type": "stream",
     "text": [
      "\r",
      "Testing:  86%|█████████████████████████▋    | 1071/1250 [01:02<00:07, 25.41it/s]"
     ]
    },
    {
     "name": "stdout",
     "output_type": "stream",
     "text": [
      "Original shape torch.Size([1, 3, 224, 224])\n",
      "Original shape torch.Size([1, 3, 224, 224])\n",
      "Original shape torch.Size([1, 3, 224, 224])\n",
      "Original shape torch.Size([1, 3, 224, 224])\n",
      "Original shape torch.Size([1, 3, 224, 224])\n"
     ]
    },
    {
     "name": "stderr",
     "output_type": "stream",
     "text": [
      "Testing:  86%|█████████████████████████▊    | 1078/1250 [01:02<00:07, 23.69it/s]"
     ]
    },
    {
     "name": "stdout",
     "output_type": "stream",
     "text": [
      "Original shape torch.Size([1, 3, 224, 224])\n",
      "Original shape torch.Size([1, 3, 224, 224])\n",
      "Original shape torch.Size([1, 3, 224, 224])\n",
      "Original shape torch.Size([1, 3, 224, 224])\n",
      "Original shape torch.Size([1, 3, 224, 224])\n",
      "Original shape torch.Size([1, 3, 224, 224])\n",
      "Original shape torch.Size([1, 3, 224, 224])\n"
     ]
    },
    {
     "name": "stderr",
     "output_type": "stream",
     "text": [
      "\r",
      "Testing:  86%|█████████████████████████▉    | 1081/1250 [01:02<00:06, 25.02it/s]"
     ]
    },
    {
     "name": "stdout",
     "output_type": "stream",
     "text": [
      "Original shape torch.Size([1, 3, 224, 224])\n",
      "Original shape torch.Size([1, 3, 224, 224])\n",
      "Original shape torch.Size([1, 3, 224, 224])\n",
      "Original shape torch.Size([1, 3, 224, 224])\n"
     ]
    },
    {
     "name": "stderr",
     "output_type": "stream",
     "text": [
      "Testing:  87%|██████████████████████████    | 1087/1250 [01:02<00:07, 20.78it/s]"
     ]
    },
    {
     "name": "stdout",
     "output_type": "stream",
     "text": [
      "Original shape torch.Size([1, 3, 224, 224])\n",
      "Original shape torch.Size([1, 3, 224, 224])\n",
      "Original shape torch.Size([1, 3, 224, 224])\n",
      "Original shape torch.Size([1, 3, 224, 224])\n",
      "Original shape torch.Size([1, 3, 224, 224])\n"
     ]
    },
    {
     "name": "stderr",
     "output_type": "stream",
     "text": [
      "Testing:  87%|██████████████████████████▏   | 1093/1250 [01:03<00:06, 23.07it/s]"
     ]
    },
    {
     "name": "stdout",
     "output_type": "stream",
     "text": [
      "Original shape torch.Size([1, 3, 224, 224])\n",
      "Original shape torch.Size([1, 3, 224, 224])\n",
      "Original shape torch.Size([1, 3, 224, 224])\n",
      "Original shape torch.Size([1, 3, 224, 224])\n",
      "Original shape torch.Size([1, 3, 224, 224])\n"
     ]
    },
    {
     "name": "stderr",
     "output_type": "stream",
     "text": [
      "\r",
      "Testing:  88%|██████████████████████████▎   | 1096/1250 [01:03<00:08, 17.77it/s]"
     ]
    },
    {
     "name": "stdout",
     "output_type": "stream",
     "text": [
      "Original shape torch.Size([1, 3, 224, 224])\n",
      "Original shape torch.Size([1, 3, 224, 224])\n",
      "Original shape torch.Size([1, 3, 224, 224])\n",
      "Original shape torch.Size([1, 3, 224, 224])\n"
     ]
    },
    {
     "name": "stderr",
     "output_type": "stream",
     "text": [
      "\r",
      "Testing:  88%|██████████████████████████▍   | 1099/1250 [01:03<00:08, 18.52it/s]"
     ]
    },
    {
     "name": "stdout",
     "output_type": "stream",
     "text": [
      "Original shape torch.Size([1, 3, 224, 224])\n",
      "Original shape torch.Size([1, 3, 224, 224])\n",
      "Original shape torch.Size([1, 3, 224, 224])\n",
      "Original shape torch.Size([1, 3, 224, 224])\n",
      "Original shape torch.Size([1, 3, 224, 224])\n"
     ]
    },
    {
     "name": "stderr",
     "output_type": "stream",
     "text": [
      "Testing:  88%|██████████████████████████▌   | 1105/1250 [01:03<00:07, 19.98it/s]"
     ]
    },
    {
     "name": "stdout",
     "output_type": "stream",
     "text": [
      "Original shape torch.Size([1, 3, 224, 224])\n",
      "Original shape torch.Size([1, 3, 224, 224])\n",
      "Original shape torch.Size([1, 3, 224, 224])\n",
      "Original shape torch.Size([1, 3, 224, 224])\n"
     ]
    },
    {
     "name": "stderr",
     "output_type": "stream",
     "text": [
      "Testing:  89%|██████████████████████████▋   | 1110/1250 [01:04<00:07, 17.76it/s]"
     ]
    },
    {
     "name": "stdout",
     "output_type": "stream",
     "text": [
      "Original shape torch.Size([1, 3, 224, 224])\n",
      "Original shape torch.Size([1, 3, 224, 224])\n",
      "Original shape torch.Size([1, 3, 224, 224])\n",
      "Original shape torch.Size([1, 3, 224, 224])\n",
      "Original shape torch.Size([1, 3, 224, 224])\n"
     ]
    },
    {
     "name": "stderr",
     "output_type": "stream",
     "text": [
      "Testing:  89%|██████████████████████████▊   | 1115/1250 [01:04<00:07, 17.35it/s]"
     ]
    },
    {
     "name": "stdout",
     "output_type": "stream",
     "text": [
      "Original shape torch.Size([1, 3, 224, 224])\n",
      "Original shape torch.Size([1, 3, 224, 224])\n",
      "Original shape torch.Size([1, 3, 224, 224])\n",
      "Original shape torch.Size([1, 3, 224, 224])\n"
     ]
    },
    {
     "name": "stderr",
     "output_type": "stream",
     "text": [
      "\r",
      "Testing:  89%|██████████████████████████▊   | 1118/1250 [01:04<00:06, 18.88it/s]"
     ]
    },
    {
     "name": "stdout",
     "output_type": "stream",
     "text": [
      "Original shape torch.Size([1, 3, 224, 224])\n",
      "Original shape torch.Size([1, 3, 224, 224])\n",
      "Original shape torch.Size([1, 3, 224, 224])\n",
      "Original shape torch.Size([1, 3, 224, 224])\n",
      "Original shape torch.Size([1, 3, 224, 224])\n"
     ]
    },
    {
     "name": "stderr",
     "output_type": "stream",
     "text": [
      "\r",
      "Testing:  90%|██████████████████████████▉   | 1121/1250 [01:04<00:06, 20.04it/s]"
     ]
    },
    {
     "name": "stdout",
     "output_type": "stream",
     "text": [
      "Original shape torch.Size([1, 3, 224, 224])\n",
      "Original shape torch.Size([1, 3, 224, 224])\n",
      "Original shape torch.Size([1, 3, 224, 224])\n"
     ]
    },
    {
     "name": "stderr",
     "output_type": "stream",
     "text": [
      "Testing:  90%|███████████████████████████   | 1127/1250 [01:05<00:07, 17.13it/s]"
     ]
    },
    {
     "name": "stdout",
     "output_type": "stream",
     "text": [
      "Original shape torch.Size([1, 3, 224, 224])\n",
      "Original shape torch.Size([1, 3, 224, 224])\n",
      "Original shape torch.Size([1, 3, 224, 224])\n",
      "Original shape torch.Size([1, 3, 224, 224])\n",
      "Original shape torch.Size([1, 3, 224, 224])\n"
     ]
    },
    {
     "name": "stderr",
     "output_type": "stream",
     "text": [
      "Testing:  91%|███████████████████████████▏  | 1133/1250 [01:05<00:06, 19.03it/s]"
     ]
    },
    {
     "name": "stdout",
     "output_type": "stream",
     "text": [
      "Original shape torch.Size([1, 3, 224, 224])\n",
      "Original shape torch.Size([1, 3, 224, 224])\n",
      "Original shape torch.Size([1, 3, 224, 224])\n",
      "Original shape torch.Size([1, 3, 224, 224])\n",
      "Original shape torch.Size([1, 3, 224, 224])\n"
     ]
    },
    {
     "name": "stderr",
     "output_type": "stream",
     "text": [
      "\r",
      "Testing:  91%|███████████████████████████▎  | 1136/1250 [01:05<00:05, 20.04it/s]"
     ]
    },
    {
     "name": "stdout",
     "output_type": "stream",
     "text": [
      "Original shape torch.Size([1, 3, 224, 224])\n",
      "Original shape torch.Size([1, 3, 224, 224])\n",
      "Original shape torch.Size([1, 3, 224, 224])\n",
      "Original shape torch.Size([1, 3, 224, 224])\n",
      "Original shape torch.Size([1, 3, 224, 224])\n"
     ]
    },
    {
     "name": "stderr",
     "output_type": "stream",
     "text": [
      "Testing:  91%|███████████████████████████▍  | 1142/1250 [01:05<00:05, 20.30it/s]"
     ]
    },
    {
     "name": "stdout",
     "output_type": "stream",
     "text": [
      "Original shape torch.Size([1, 3, 224, 224])\n",
      "Original shape torch.Size([1, 3, 224, 224])\n",
      "Original shape torch.Size([1, 3, 224, 224])\n",
      "Original shape torch.Size([1, 3, 224, 224])\n"
     ]
    },
    {
     "name": "stderr",
     "output_type": "stream",
     "text": [
      "\r",
      "Testing:  92%|███████████████████████████▍  | 1145/1250 [01:06<00:05, 18.15it/s]"
     ]
    },
    {
     "name": "stdout",
     "output_type": "stream",
     "text": [
      "Original shape torch.Size([1, 3, 224, 224])\n",
      "Original shape torch.Size([1, 3, 224, 224])\n",
      "Original shape torch.Size([1, 3, 224, 224])\n",
      "Original shape torch.Size([1, 3, 224, 224])\n",
      "Original shape torch.Size([1, 3, 224, 224])\n"
     ]
    },
    {
     "name": "stderr",
     "output_type": "stream",
     "text": [
      "Testing:  92%|███████████████████████████▌  | 1150/1250 [01:06<00:05, 18.44it/s]"
     ]
    },
    {
     "name": "stdout",
     "output_type": "stream",
     "text": [
      "Original shape torch.Size([1, 3, 224, 224])\n",
      "Original shape torch.Size([1, 3, 224, 224])\n",
      "Original shape torch.Size([1, 3, 224, 224])\n",
      "Original shape torch.Size([1, 3, 224, 224])\n"
     ]
    },
    {
     "name": "stderr",
     "output_type": "stream",
     "text": [
      "Testing:  92%|███████████████████████████▋  | 1154/1250 [01:06<00:05, 17.85it/s]"
     ]
    },
    {
     "name": "stdout",
     "output_type": "stream",
     "text": [
      "Original shape torch.Size([1, 3, 224, 224])\n",
      "Original shape torch.Size([1, 3, 224, 224])\n",
      "Original shape torch.Size([1, 3, 224, 224])\n",
      "Original shape torch.Size([1, 3, 224, 224])\n",
      "Original shape torch.Size([1, 3, 224, 224])\n"
     ]
    },
    {
     "name": "stderr",
     "output_type": "stream",
     "text": [
      "Testing:  93%|███████████████████████████▊  | 1160/1250 [01:06<00:04, 19.54it/s]"
     ]
    },
    {
     "name": "stdout",
     "output_type": "stream",
     "text": [
      "Original shape torch.Size([1, 3, 224, 224])\n",
      "Original shape torch.Size([1, 3, 224, 224])\n",
      "Original shape torch.Size([1, 3, 224, 224])\n",
      "Original shape torch.Size([1, 3, 224, 224])\n",
      "Original shape torch.Size([1, 3, 224, 224])\n"
     ]
    },
    {
     "name": "stderr",
     "output_type": "stream",
     "text": [
      "Testing:  93%|███████████████████████████▉  | 1166/1250 [01:07<00:04, 20.23it/s]"
     ]
    },
    {
     "name": "stdout",
     "output_type": "stream",
     "text": [
      "Original shape torch.Size([1, 3, 224, 224])\n",
      "Original shape torch.Size([1, 3, 224, 224])\n",
      "Original shape torch.Size([1, 3, 224, 224])\n",
      "Original shape torch.Size([1, 3, 224, 224])\n",
      "Original shape torch.Size([1, 3, 224, 224])\n"
     ]
    },
    {
     "name": "stderr",
     "output_type": "stream",
     "text": [
      "\r",
      "Testing:  94%|████████████████████████████  | 1169/1250 [01:07<00:03, 20.87it/s]"
     ]
    },
    {
     "name": "stdout",
     "output_type": "stream",
     "text": [
      "Original shape torch.Size([1, 3, 224, 224])\n",
      "Original shape torch.Size([1, 3, 224, 224])\n",
      "Original shape torch.Size([1, 3, 224, 224])\n",
      "Original shape torch.Size([1, 3, 224, 224])\n",
      "Original shape torch.Size([1, 3, 224, 224])\n"
     ]
    },
    {
     "name": "stderr",
     "output_type": "stream",
     "text": [
      "Testing:  94%|████████████████████████████▏ | 1175/1250 [01:07<00:03, 20.97it/s]"
     ]
    },
    {
     "name": "stdout",
     "output_type": "stream",
     "text": [
      "Original shape torch.Size([1, 3, 224, 224])\n",
      "Original shape torch.Size([1, 3, 224, 224])\n",
      "Original shape torch.Size([1, 3, 224, 224])\n",
      "Original shape torch.Size([1, 3, 224, 224])\n",
      "Original shape torch.Size([1, 3, 224, 224])\n"
     ]
    },
    {
     "name": "stderr",
     "output_type": "stream",
     "text": [
      "Testing:  94%|████████████████████████████▎ | 1181/1250 [01:07<00:03, 22.12it/s]"
     ]
    },
    {
     "name": "stdout",
     "output_type": "stream",
     "text": [
      "Original shape torch.Size([1, 3, 224, 224])\n",
      "Original shape torch.Size([1, 3, 224, 224])\n",
      "Original shape torch.Size([1, 3, 224, 224])\n",
      "Original shape torch.Size([1, 3, 224, 224])\n",
      "Original shape torch.Size([1, 3, 224, 224])\n",
      "Original shape torch.Size([1, 3, 224, 224])\n",
      "Original shape torch.Size([1, 3, 224, 224])\n"
     ]
    },
    {
     "name": "stderr",
     "output_type": "stream",
     "text": [
      "Testing:  95%|████████████████████████████▍ | 1187/1250 [01:08<00:03, 16.44it/s]"
     ]
    },
    {
     "name": "stdout",
     "output_type": "stream",
     "text": [
      "Original shape torch.Size([1, 3, 224, 224])\n",
      "Original shape torch.Size([1, 3, 224, 224])\n",
      "Original shape torch.Size([1, 3, 224, 224])\n",
      "Original shape torch.Size([1, 3, 224, 224])\n",
      "Original shape torch.Size([1, 3, 224, 224])\n"
     ]
    },
    {
     "name": "stderr",
     "output_type": "stream",
     "text": [
      "\r",
      "Testing:  95%|████████████████████████████▌ | 1190/1250 [01:08<00:03, 16.32it/s]"
     ]
    },
    {
     "name": "stdout",
     "output_type": "stream",
     "text": [
      "Original shape torch.Size([1, 3, 224, 224])\n",
      "Original shape torch.Size([1, 3, 224, 224])\n",
      "Original shape torch.Size([1, 3, 224, 224])\n",
      "Original shape torch.Size([1, 3, 224, 224])\n"
     ]
    },
    {
     "name": "stderr",
     "output_type": "stream",
     "text": [
      "Testing:  96%|████████████████████████████▋ | 1195/1250 [01:08<00:03, 17.99it/s]"
     ]
    },
    {
     "name": "stdout",
     "output_type": "stream",
     "text": [
      "Original shape torch.Size([1, 3, 224, 224])\n",
      "Original shape torch.Size([1, 3, 224, 224])\n",
      "Original shape torch.Size([1, 3, 224, 224])\n",
      "Original shape torch.Size([1, 3, 224, 224])\n",
      "Original shape torch.Size([1, 3, 224, 224])\n"
     ]
    },
    {
     "name": "stderr",
     "output_type": "stream",
     "text": [
      "Testing:  96%|████████████████████████████▊ | 1201/1250 [01:08<00:02, 19.73it/s]"
     ]
    },
    {
     "name": "stdout",
     "output_type": "stream",
     "text": [
      "Original shape torch.Size([1, 3, 224, 224])\n",
      "Original shape torch.Size([1, 3, 224, 224])\n",
      "Original shape torch.Size([1, 3, 224, 224])\n",
      "Original shape torch.Size([1, 3, 224, 224])\n",
      "Original shape torch.Size([1, 3, 224, 224])\n"
     ]
    },
    {
     "name": "stderr",
     "output_type": "stream",
     "text": [
      "Testing:  97%|████████████████████████████▉ | 1207/1250 [01:09<00:02, 17.30it/s]"
     ]
    },
    {
     "name": "stdout",
     "output_type": "stream",
     "text": [
      "Original shape torch.Size([1, 3, 224, 224])\n",
      "Original shape torch.Size([1, 3, 224, 224])\n",
      "Original shape torch.Size([1, 3, 224, 224])\n",
      "Original shape torch.Size([1, 3, 224, 224])\n",
      "Original shape torch.Size([1, 3, 224, 224])\n"
     ]
    },
    {
     "name": "stderr",
     "output_type": "stream",
     "text": [
      "\r",
      "Testing:  97%|█████████████████████████████ | 1210/1250 [01:09<00:02, 18.77it/s]"
     ]
    },
    {
     "name": "stdout",
     "output_type": "stream",
     "text": [
      "Original shape torch.Size([1, 3, 224, 224])\n",
      "Original shape torch.Size([1, 3, 224, 224])\n",
      "Original shape torch.Size([1, 3, 224, 224])\n",
      "Original shape torch.Size([1, 3, 224, 224])\n",
      "Original shape torch.Size([1, 3, 224, 224])\n"
     ]
    },
    {
     "name": "stderr",
     "output_type": "stream",
     "text": [
      "Testing:  97%|█████████████████████████████▏| 1215/1250 [01:09<00:02, 17.00it/s]"
     ]
    },
    {
     "name": "stdout",
     "output_type": "stream",
     "text": [
      "Original shape torch.Size([1, 3, 224, 224])\n",
      "Original shape torch.Size([1, 3, 224, 224])\n",
      "Original shape torch.Size([1, 3, 224, 224])\n",
      "Original shape torch.Size([1, 3, 224, 224])\n"
     ]
    },
    {
     "name": "stderr",
     "output_type": "stream",
     "text": [
      "Testing:  98%|█████████████████████████████▎| 1220/1250 [01:10<00:01, 20.02it/s]"
     ]
    },
    {
     "name": "stdout",
     "output_type": "stream",
     "text": [
      "Original shape torch.Size([1, 3, 224, 224])\n",
      "Original shape torch.Size([1, 3, 224, 224])\n",
      "Original shape torch.Size([1, 3, 224, 224])\n",
      "Original shape torch.Size([1, 3, 224, 224])\n",
      "Original shape torch.Size([1, 3, 224, 224])\n",
      "Original shape torch.Size([1, 3, 224, 224])\n"
     ]
    },
    {
     "name": "stderr",
     "output_type": "stream",
     "text": [
      "\r",
      "Testing:  98%|█████████████████████████████▎| 1223/1250 [01:10<00:01, 21.02it/s]"
     ]
    },
    {
     "name": "stdout",
     "output_type": "stream",
     "text": [
      "Original shape torch.Size([1, 3, 224, 224])\n"
     ]
    },
    {
     "name": "stderr",
     "output_type": "stream",
     "text": [
      "\r",
      "Testing:  98%|█████████████████████████████▍| 1226/1250 [01:10<00:01, 15.01it/s]"
     ]
    },
    {
     "name": "stdout",
     "output_type": "stream",
     "text": [
      "Original shape torch.Size([1, 3, 224, 224])\n",
      "Original shape torch.Size([1, 3, 224, 224])\n",
      "Original shape torch.Size([1, 3, 224, 224])\n",
      "Original shape torch.Size([1, 3, 224, 224])\n",
      "Original shape torch.Size([1, 3, 224, 224])\n"
     ]
    },
    {
     "name": "stderr",
     "output_type": "stream",
     "text": [
      "Testing:  99%|█████████████████████████████▌| 1232/1250 [01:10<00:00, 18.25it/s]"
     ]
    },
    {
     "name": "stdout",
     "output_type": "stream",
     "text": [
      "Original shape torch.Size([1, 3, 224, 224])\n",
      "Original shape torch.Size([1, 3, 224, 224])\n",
      "Original shape torch.Size([1, 3, 224, 224])\n",
      "Original shape torch.Size([1, 3, 224, 224])\n"
     ]
    },
    {
     "name": "stderr",
     "output_type": "stream",
     "text": [
      "\r",
      "Testing:  99%|█████████████████████████████▋| 1235/1250 [01:11<00:00, 15.13it/s]"
     ]
    },
    {
     "name": "stdout",
     "output_type": "stream",
     "text": [
      "Original shape torch.Size([1, 3, 224, 224])\n",
      "Original shape torch.Size([1, 3, 224, 224])\n",
      "Original shape torch.Size([1, 3, 224, 224])\n",
      "Original shape torch.Size([1, 3, 224, 224])\n",
      "Original shape torch.Size([1, 3, 224, 224])\n"
     ]
    },
    {
     "name": "stderr",
     "output_type": "stream",
     "text": [
      "Testing:  99%|█████████████████████████████▊| 1241/1250 [01:11<00:00, 18.46it/s]"
     ]
    },
    {
     "name": "stdout",
     "output_type": "stream",
     "text": [
      "Original shape torch.Size([1, 3, 224, 224])\n",
      "Original shape torch.Size([1, 3, 224, 224])\n",
      "Original shape torch.Size([1, 3, 224, 224])\n",
      "Original shape torch.Size([1, 3, 224, 224])\n",
      "Original shape torch.Size([1, 3, 224, 224])\n"
     ]
    },
    {
     "name": "stderr",
     "output_type": "stream",
     "text": [
      "\r",
      "Testing: 100%|█████████████████████████████▊| 1244/1250 [01:11<00:00, 17.78it/s]"
     ]
    },
    {
     "name": "stdout",
     "output_type": "stream",
     "text": [
      "Original shape torch.Size([1, 3, 224, 224])\n",
      "Original shape torch.Size([1, 3, 224, 224])\n",
      "Original shape torch.Size([1, 3, 224, 224])\n",
      "Original shape torch.Size([1, 3, 224, 224])\n"
     ]
    },
    {
     "name": "stderr",
     "output_type": "stream",
     "text": [
      "Testing: 100%|██████████████████████████████| 1250/1250 [01:11<00:00, 17.40it/s]"
     ]
    },
    {
     "name": "stdout",
     "output_type": "stream",
     "text": [
      "Original shape torch.Size([1, 3, 224, 224])\n",
      "Original shape torch.Size([1, 3, 224, 224])\n",
      "Original shape torch.Size([1, 3, 224, 224])\n",
      "Original shape torch.Size([1, 3, 224, 224])\n",
      "Test Loss: 3.913562\n",
      "\n",
      "\n",
      "Test Accuracy:  2% (25/1250)\n"
     ]
    },
    {
     "name": "stderr",
     "output_type": "stream",
     "text": [
      "\n"
     ]
    },
    {
     "data": {
      "text/plain": [
       "3.913562351036069"
      ]
     },
     "execution_count": 16,
     "metadata": {},
     "output_type": "execute_result"
    }
   ],
   "source": [
    "# load the model that got the best validation accuracy\n",
    "from src.train import one_epoch_test\n",
    "from src.model import MyModel\n",
    "import torch\n",
    "\n",
    "model = MyModel(num_classes=num_classes, dropout=dropout)\n",
    "\n",
    "# YOUR CODE HERE: load the weights in 'checkpoints/best_val_loss.pt'\n",
    "\n",
    "checkpoint = torch.load('checkpoints/best_val_loss.pt')\n",
    "\n",
    "# Apply the loaded state dictionary to your model\n",
    "model.load_state_dict(checkpoint)\n",
    "\n",
    "\n",
    "# Run test\n",
    "one_epoch_test(data_loaders['test'], model, loss)"
   ]
  },
  {
   "cell_type": "markdown",
   "metadata": {},
   "source": [
    "---\n",
    "## <img src=\"static_images/icons/noun-advance-2109145.png\" alt=\">\" style=\"width:50px\"/> Step 7: Export using torchscript\n",
    "\n",
    "Great job creating your CNN models! Now that you have put in all the hard work of creating accurate classifiers, let's export it so we can use it in our app.\n",
    "\n",
    "But first, as usual, we need to complete some code!\n",
    "\n",
    "Open `src/predictor.py` and fill up the missing code, then run the tests:"
   ]
  },
  {
   "cell_type": "code",
   "execution_count": 17,
   "metadata": {},
   "outputs": [
    {
     "name": "stdout",
     "output_type": "stream",
     "text": [
      "\u001b[1m============================= test session starts =============================\u001b[0m\n",
      "platform win32 -- Python 3.9.13, pytest-7.4.0, pluggy-1.0.0 -- C:\\Users\\91876\\anaconda3\\python.exe\n",
      "cachedir: .pytest_cache\n",
      "rootdir: D:\\Drive D\\LearningML\\Courses\\Udacity\\AWS Fundamentals\\LandMark Identification\n",
      "plugins: anyio-3.5.0, hydra-core-1.2.0\n",
      "\u001b[1mcollecting ... \u001b[0mcollected 1 item\n",
      "\n",
      "src/predictor.py::test_model_construction \u001b[32mPASSED\u001b[0m\u001b[32m                         [100%]\u001b[0m\n",
      "\n",
      "\u001b[32m============================= \u001b[32m\u001b[1m1 passed\u001b[0m\u001b[32m in 16.54s\u001b[0m\u001b[32m ==============================\u001b[0m\n"
     ]
    }
   ],
   "source": [
    "!pytest -vv src/predictor.py"
   ]
  },
  {
   "cell_type": "markdown",
   "metadata": {},
   "source": [
    "Allright, now we are ready to export our model using our Predictor class:"
   ]
  },
  {
   "cell_type": "code",
   "execution_count": 18,
   "metadata": {},
   "outputs": [
    {
     "name": "stdout",
     "output_type": "stream",
     "text": [
      "Reusing cached mean and std\n",
      "Dataset mean: tensor([0.4638, 0.4725, 0.4687]), std: tensor([0.2699, 0.2706, 0.3018])\n",
      "Reusing cached mean and std\n"
     ]
    }
   ],
   "source": [
    "# NOTE: you might need to restart the notebook before running this step\n",
    "# If you get an error about RuntimeError: Can't redefine method: forward on class\n",
    "# restart your notebook then execute only this cell\n",
    "from src.predictor import Predictor\n",
    "from src.helpers import compute_mean_and_std\n",
    "from src.model import MyModel\n",
    "from src.data import get_data_loaders\n",
    "import torch\n",
    "\n",
    "data_loaders = get_data_loaders(batch_size=1)\n",
    "\n",
    "# First let's get the class names from our data loaders\n",
    "class_names = data_loaders[\"train\"].dataset.classes\n",
    "\n",
    "# Then let's move the model_transfer to the CPU\n",
    "# (we don't need GPU for inference)\n",
    "model = MyModel(num_classes=50, dropout=0.5).cpu()\n",
    "\n",
    "# Let's make sure we use the right weights by loading the\n",
    "# best weights we have found during training\n",
    "# NOTE: remember to use map_location='cpu' so the weights\n",
    "# are loaded on the CPU (and not the GPU)\n",
    "\n",
    "# YOUR CODE HERE\n",
    "weights_path = 'checkpoints/best_val_loss.pt'\n",
    "\n",
    "# Load the model weights on the CPU\n",
    "loaded_weights = torch.load(weights_path, map_location='cpu')\n",
    "\n",
    "\n",
    "\n",
    "\n",
    "# Let's wrap our model using the predictor class\n",
    "mean, std = compute_mean_and_std()\n",
    "predictor = Predictor(model, class_names, mean, std).cpu()\n",
    "\n",
    "# Export using torch.jit.script\n",
    "scripted_predictor = torch.jit.script(model)\n",
    "\n",
    "scripted_predictor.save(\"checkpoints/original_exported.pt\")"
   ]
  },
  {
   "cell_type": "markdown",
   "metadata": {},
   "source": [
    "Now let's make sure the exported model has the same performance as the original one, by reloading it and testing it. The Predictor class takes different inputs than the non-wrapped model, so we have to use a specific test loop:"
   ]
  },
  {
   "cell_type": "code",
   "execution_count": 19,
   "metadata": {},
   "outputs": [],
   "source": [
    "import torch\n",
    "\n",
    "# Load using torch.jit.load\n",
    "model_reloaded =  torch.jit.load(\"checkpoints/original_exported.pt\")"
   ]
  },
  {
   "cell_type": "code",
   "execution_count": 34,
   "metadata": {},
   "outputs": [
    {
     "data": {
      "text/plain": [
       "torch.Size([1, 3, 224, 224])"
      ]
     },
     "execution_count": 34,
     "metadata": {},
     "output_type": "execute_result"
    }
   ],
   "source": [
    "img, value = next(iter(data_loaders['test']))\n",
    "\n",
    "img.shape"
   ]
  },
  {
   "cell_type": "code",
   "execution_count": 35,
   "metadata": {},
   "outputs": [
    {
     "name": "stderr",
     "output_type": "stream",
     "text": [
      "\r",
      "  0%|                                                  | 0/1250 [00:00<?, ?it/s]"
     ]
    },
    {
     "name": "stdout",
     "output_type": "stream",
     "text": [
      "Hello torch.Size([1, 3, 224, 224])\n",
      "Original shape [1, 3, 224, 224]\n"
     ]
    },
    {
     "name": "stderr",
     "output_type": "stream",
     "text": [
      "  0%|                                          | 2/1250 [00:00<05:15,  3.95it/s]"
     ]
    },
    {
     "name": "stdout",
     "output_type": "stream",
     "text": [
      "Hello torch.Size([1, 3, 224, 224])\n",
      "Original shape [1, 3, 224, 224]\n",
      "Hello torch.Size([1, 3, 224, 224])\n",
      "Original shape [1, 3, 224, 224]\n"
     ]
    },
    {
     "name": "stderr",
     "output_type": "stream",
     "text": [
      "  1%|▏                                         | 7/1250 [00:00<02:00, 10.28it/s]"
     ]
    },
    {
     "name": "stdout",
     "output_type": "stream",
     "text": [
      "Hello torch.Size([1, 3, 224, 224])\n",
      "Original shape [1, 3, 224, 224]\n",
      "Hello torch.Size([1, 3, 224, 224])\n",
      "Original shape [1, 3, 224, 224]\n",
      "Hello torch.Size([1, 3, 224, 224])\n",
      "Original shape [1, 3, 224, 224]\n",
      "Hello torch.Size([1, 3, 224, 224])\n",
      "Original shape [1, 3, 224, 224]\n"
     ]
    },
    {
     "name": "stderr",
     "output_type": "stream",
     "text": [
      "\r",
      "  1%|▎                                        | 10/1250 [00:01<01:38, 12.61it/s]"
     ]
    },
    {
     "name": "stdout",
     "output_type": "stream",
     "text": [
      "Hello torch.Size([1, 3, 224, 224])\n",
      "Original shape [1, 3, 224, 224]\n",
      "Hello torch.Size([1, 3, 224, 224])\n",
      "Original shape [1, 3, 224, 224]\n",
      "Hello torch.Size([1, 3, 224, 224])\n",
      "Original shape [1, 3, 224, 224]\n",
      "Hello torch.Size([1, 3, 224, 224])\n",
      "Original shape [1, 3, 224, 224]\n"
     ]
    },
    {
     "name": "stderr",
     "output_type": "stream",
     "text": [
      "  1%|▍                                        | 15/1250 [00:01<01:18, 15.68it/s]"
     ]
    },
    {
     "name": "stdout",
     "output_type": "stream",
     "text": [
      "Hello torch.Size([1, 3, 224, 224])\n",
      "Original shape [1, 3, 224, 224]\n",
      "Hello torch.Size([1, 3, 224, 224])\n",
      "Original shape [1, 3, 224, 224]\n",
      "Hello torch.Size([1, 3, 224, 224])\n",
      "Original shape [1, 3, 224, 224]\n",
      "Hello torch.Size([1, 3, 224, 224])\n",
      "Original shape [1, 3, 224, 224]\n",
      "Hello torch.Size([1, 3, 224, 224])\n",
      "Original shape [1, 3, 224, 224]\n"
     ]
    },
    {
     "name": "stderr",
     "output_type": "stream",
     "text": [
      "  2%|▌                                        | 19/1250 [00:01<01:19, 15.54it/s]"
     ]
    },
    {
     "name": "stdout",
     "output_type": "stream",
     "text": [
      "Hello torch.Size([1, 3, 224, 224])\n",
      "Original shape [1, 3, 224, 224]\n",
      "Hello torch.Size([1, 3, 224, 224])\n",
      "Original shape [1, 3, 224, 224]\n",
      "Hello torch.Size([1, 3, 224, 224])\n",
      "Original shape [1, 3, 224, 224]\n"
     ]
    },
    {
     "name": "stderr",
     "output_type": "stream",
     "text": [
      "\r",
      "  2%|▋                                        | 21/1250 [00:01<01:29, 13.73it/s]"
     ]
    },
    {
     "name": "stdout",
     "output_type": "stream",
     "text": [
      "Hello torch.Size([1, 3, 224, 224])\n",
      "Original shape [1, 3, 224, 224]\n",
      "Hello torch.Size([1, 3, 224, 224])\n",
      "Original shape [1, 3, 224, 224]\n",
      "Hello torch.Size([1, 3, 224, 224])\n",
      "Original shape [1, 3, 224, 224]\n",
      "Hello torch.Size([1, 3, 224, 224])\n",
      "Original shape [1, 3, 224, 224]\n"
     ]
    },
    {
     "name": "stderr",
     "output_type": "stream",
     "text": [
      "\r",
      "  2%|▊                                        | 24/1250 [00:01<01:22, 14.94it/s]"
     ]
    },
    {
     "name": "stdout",
     "output_type": "stream",
     "text": [
      "Hello torch.Size([1, 3, 224, 224])\n",
      "Original shape [1, 3, 224, 224]\n",
      "Hello torch.Size([1, 3, 224, 224])\n",
      "Original shape [1, 3, 224, 224]\n",
      "Hello torch.Size([1, 3, 224, 224])\n",
      "Original shape [1, 3, 224, 224]\n"
     ]
    },
    {
     "name": "stderr",
     "output_type": "stream",
     "text": [
      "  2%|▉                                        | 30/1250 [00:02<01:16, 16.04it/s]"
     ]
    },
    {
     "name": "stdout",
     "output_type": "stream",
     "text": [
      "Hello torch.Size([1, 3, 224, 224])\n",
      "Original shape [1, 3, 224, 224]\n",
      "Hello torch.Size([1, 3, 224, 224])\n",
      "Original shape [1, 3, 224, 224]\n",
      "Hello torch.Size([1, 3, 224, 224])\n",
      "Original shape [1, 3, 224, 224]\n",
      "Hello torch.Size([1, 3, 224, 224])\n",
      "Original shape [1, 3, 224, 224]\n"
     ]
    },
    {
     "name": "stderr",
     "output_type": "stream",
     "text": [
      "\r",
      "  3%|█                                        | 32/1250 [00:02<01:14, 16.27it/s]"
     ]
    },
    {
     "name": "stdout",
     "output_type": "stream",
     "text": [
      "Hello torch.Size([1, 3, 224, 224])\n",
      "Original shape [1, 3, 224, 224]\n",
      "Hello torch.Size([1, 3, 224, 224])\n",
      "Original shape [1, 3, 224, 224]\n",
      "Hello torch.Size([1, 3, 224, 224])\n",
      "Original shape [1, 3, 224, 224]\n",
      "Hello torch.Size([1, 3, 224, 224])\n",
      "Original shape [1, 3, 224, 224]\n",
      "Hello torch.Size([1, 3, 224, 224])\n",
      "Original shape [1, 3, 224, 224]\n"
     ]
    },
    {
     "name": "stderr",
     "output_type": "stream",
     "text": [
      "  3%|█▏                                       | 37/1250 [00:02<01:09, 17.45it/s]"
     ]
    },
    {
     "name": "stdout",
     "output_type": "stream",
     "text": [
      "Hello torch.Size([1, 3, 224, 224])\n",
      "Original shape [1, 3, 224, 224]\n",
      "Hello torch.Size([1, 3, 224, 224])\n",
      "Original shape [1, 3, 224, 224]\n",
      "Hello torch.Size([1, 3, 224, 224])\n",
      "Original shape [1, 3, 224, 224]\n",
      "Hello torch.Size([1, 3, 224, 224])\n",
      "Original shape [1, 3, 224, 224]\n",
      "Hello torch.Size([1, 3, 224, 224])\n",
      "Original shape [1, 3, 224, 224]\n"
     ]
    },
    {
     "name": "stderr",
     "output_type": "stream",
     "text": [
      "  3%|█▍                                       | 42/1250 [00:02<01:07, 17.92it/s]"
     ]
    },
    {
     "name": "stdout",
     "output_type": "stream",
     "text": [
      "Hello torch.Size([1, 3, 224, 224])\n",
      "Original shape [1, 3, 224, 224]\n",
      "Hello torch.Size([1, 3, 224, 224])\n",
      "Original shape [1, 3, 224, 224]\n",
      "Hello torch.Size([1, 3, 224, 224])\n",
      "Original shape [1, 3, 224, 224]\n",
      "Hello torch.Size([1, 3, 224, 224])\n",
      "Original shape [1, 3, 224, 224]\n"
     ]
    },
    {
     "name": "stderr",
     "output_type": "stream",
     "text": [
      "\r",
      "  4%|█▍                                       | 45/1250 [00:03<01:11, 16.83it/s]"
     ]
    },
    {
     "name": "stdout",
     "output_type": "stream",
     "text": [
      "Hello torch.Size([1, 3, 224, 224])\n",
      "Original shape [1, 3, 224, 224]\n",
      "Hello torch.Size([1, 3, 224, 224])\n",
      "Original shape [1, 3, 224, 224]\n",
      "Hello torch.Size([1, 3, 224, 224])\n",
      "Original shape [1, 3, 224, 224]\n",
      "Hello torch.Size([1, 3, 224, 224])\n",
      "Original shape [1, 3, 224, 224]\n"
     ]
    },
    {
     "name": "stderr",
     "output_type": "stream",
     "text": [
      "  4%|█▋                                       | 51/1250 [00:03<01:05, 18.22it/s]"
     ]
    },
    {
     "name": "stdout",
     "output_type": "stream",
     "text": [
      "Hello torch.Size([1, 3, 224, 224])\n",
      "Original shape [1, 3, 224, 224]\n",
      "Hello torch.Size([1, 3, 224, 224])\n",
      "Original shape [1, 3, 224, 224]\n",
      "Hello torch.Size([1, 3, 224, 224])\n",
      "Original shape [1, 3, 224, 224]\n",
      "Hello torch.Size([1, 3, 224, 224])\n",
      "Original shape [1, 3, 224, 224]\n"
     ]
    },
    {
     "name": "stderr",
     "output_type": "stream",
     "text": [
      "  4%|█▊                                       | 55/1250 [00:03<01:14, 15.98it/s]"
     ]
    },
    {
     "name": "stdout",
     "output_type": "stream",
     "text": [
      "Hello torch.Size([1, 3, 224, 224])\n",
      "Original shape [1, 3, 224, 224]\n",
      "Hello torch.Size([1, 3, 224, 224])\n",
      "Original shape [1, 3, 224, 224]\n",
      "Hello torch.Size([1, 3, 224, 224])\n",
      "Original shape [1, 3, 224, 224]\n",
      "Hello torch.Size([1, 3, 224, 224])\n",
      "Original shape [1, 3, 224, 224]\n"
     ]
    },
    {
     "name": "stderr",
     "output_type": "stream",
     "text": [
      "  5%|█▉                                       | 60/1250 [00:03<01:05, 18.14it/s]"
     ]
    },
    {
     "name": "stdout",
     "output_type": "stream",
     "text": [
      "Hello torch.Size([1, 3, 224, 224])\n",
      "Original shape [1, 3, 224, 224]\n",
      "Hello torch.Size([1, 3, 224, 224])\n",
      "Original shape [1, 3, 224, 224]\n",
      "Hello torch.Size([1, 3, 224, 224])\n",
      "Original shape [1, 3, 224, 224]\n",
      "Hello torch.Size([1, 3, 224, 224])\n",
      "Original shape [1, 3, 224, 224]\n",
      "Hello torch.Size([1, 3, 224, 224])\n",
      "Original shape [1, 3, 224, 224]\n"
     ]
    },
    {
     "name": "stderr",
     "output_type": "stream",
     "text": [
      "\r",
      "  5%|██                                       | 63/1250 [00:04<01:05, 18.20it/s]"
     ]
    },
    {
     "name": "stdout",
     "output_type": "stream",
     "text": [
      "Hello torch.Size([1, 3, 224, 224])\n",
      "Original shape [1, 3, 224, 224]\n",
      "Hello torch.Size([1, 3, 224, 224])\n",
      "Original shape [1, 3, 224, 224]\n",
      "Hello torch.Size([1, 3, 224, 224])\n",
      "Original shape [1, 3, 224, 224]\n",
      "Hello torch.Size([1, 3, 224, 224])\n",
      "Original shape [1, 3, 224, 224]\n"
     ]
    },
    {
     "name": "stderr",
     "output_type": "stream",
     "text": [
      "  5%|██▏                                      | 68/1250 [00:04<01:04, 18.45it/s]"
     ]
    },
    {
     "name": "stdout",
     "output_type": "stream",
     "text": [
      "Hello torch.Size([1, 3, 224, 224])\n",
      "Original shape [1, 3, 224, 224]\n",
      "Hello torch.Size([1, 3, 224, 224])\n",
      "Original shape [1, 3, 224, 224]\n",
      "Hello torch.Size([1, 3, 224, 224])\n",
      "Original shape [1, 3, 224, 224]\n",
      "Hello torch.Size([1, 3, 224, 224])\n",
      "Original shape [1, 3, 224, 224]\n"
     ]
    },
    {
     "name": "stderr",
     "output_type": "stream",
     "text": [
      "\r",
      "  6%|██▎                                      | 71/1250 [00:04<01:02, 18.81it/s]"
     ]
    },
    {
     "name": "stdout",
     "output_type": "stream",
     "text": [
      "Hello torch.Size([1, 3, 224, 224])\n",
      "Original shape [1, 3, 224, 224]\n",
      "Hello torch.Size([1, 3, 224, 224])\n",
      "Original shape [1, 3, 224, 224]\n",
      "Hello torch.Size([1, 3, 224, 224])\n",
      "Original shape [1, 3, 224, 224]\n",
      "Hello torch.Size([1, 3, 224, 224])\n",
      "Original shape [1, 3, 224, 224]\n"
     ]
    },
    {
     "name": "stderr",
     "output_type": "stream",
     "text": [
      "  6%|██▍                                      | 76/1250 [00:04<01:02, 18.88it/s]"
     ]
    },
    {
     "name": "stdout",
     "output_type": "stream",
     "text": [
      "Hello torch.Size([1, 3, 224, 224])\n",
      "Original shape [1, 3, 224, 224]\n",
      "Hello torch.Size([1, 3, 224, 224])\n",
      "Original shape [1, 3, 224, 224]\n",
      "Hello torch.Size([1, 3, 224, 224])\n",
      "Original shape [1, 3, 224, 224]\n",
      "Hello torch.Size([1, 3, 224, 224])\n",
      "Original shape [1, 3, 224, 224]\n",
      "Hello torch.Size([1, 3, 224, 224])\n",
      "Original shape [1, 3, 224, 224]\n"
     ]
    },
    {
     "name": "stderr",
     "output_type": "stream",
     "text": [
      "  7%|██▋                                      | 82/1250 [00:05<01:05, 17.91it/s]"
     ]
    },
    {
     "name": "stdout",
     "output_type": "stream",
     "text": [
      "Hello torch.Size([1, 3, 224, 224])\n",
      "Original shape [1, 3, 224, 224]\n",
      "Hello torch.Size([1, 3, 224, 224])\n",
      "Original shape [1, 3, 224, 224]\n",
      "Hello torch.Size([1, 3, 224, 224])\n",
      "Original shape [1, 3, 224, 224]\n",
      "Hello torch.Size([1, 3, 224, 224])\n",
      "Original shape [1, 3, 224, 224]\n"
     ]
    },
    {
     "name": "stderr",
     "output_type": "stream",
     "text": [
      "  7%|██▊                                      | 86/1250 [00:05<01:03, 18.28it/s]"
     ]
    },
    {
     "name": "stdout",
     "output_type": "stream",
     "text": [
      "Hello torch.Size([1, 3, 224, 224])\n",
      "Original shape [1, 3, 224, 224]\n",
      "Hello torch.Size([1, 3, 224, 224])\n",
      "Original shape [1, 3, 224, 224]\n",
      "Hello torch.Size([1, 3, 224, 224])\n",
      "Original shape [1, 3, 224, 224]\n",
      "Hello torch.Size([1, 3, 224, 224])\n",
      "Original shape [1, 3, 224, 224]\n"
     ]
    },
    {
     "name": "stderr",
     "output_type": "stream",
     "text": [
      "  7%|██▉                                      | 91/1250 [00:05<01:01, 18.71it/s]"
     ]
    },
    {
     "name": "stdout",
     "output_type": "stream",
     "text": [
      "Hello torch.Size([1, 3, 224, 224])\n",
      "Original shape [1, 3, 224, 224]\n",
      "Hello torch.Size([1, 3, 224, 224])\n",
      "Original shape [1, 3, 224, 224]\n",
      "Hello torch.Size([1, 3, 224, 224])\n",
      "Original shape [1, 3, 224, 224]\n",
      "Hello torch.Size([1, 3, 224, 224])\n",
      "Original shape [1, 3, 224, 224]\n",
      "Hello torch.Size([1, 3, 224, 224])\n",
      "Original shape [1, 3, 224, 224]\n"
     ]
    },
    {
     "name": "stderr",
     "output_type": "stream",
     "text": [
      "\r",
      "  8%|███                                      | 94/1250 [00:05<00:59, 19.37it/s]"
     ]
    },
    {
     "name": "stdout",
     "output_type": "stream",
     "text": [
      "Hello torch.Size([1, 3, 224, 224])\n",
      "Original shape [1, 3, 224, 224]\n",
      "Hello torch.Size([1, 3, 224, 224])\n",
      "Original shape [1, 3, 224, 224]\n",
      "Hello torch.Size([1, 3, 224, 224])\n",
      "Original shape [1, 3, 224, 224]\n",
      "Hello torch.Size([1, 3, 224, 224])\n",
      "Original shape [1, 3, 224, 224]\n",
      "Hello torch.Size([1, 3, 224, 224])\n",
      "Original shape [1, 3, 224, 224]\n"
     ]
    },
    {
     "name": "stderr",
     "output_type": "stream",
     "text": [
      "  8%|███▏                                    | 100/1250 [00:06<00:55, 20.54it/s]"
     ]
    },
    {
     "name": "stdout",
     "output_type": "stream",
     "text": [
      "Hello torch.Size([1, 3, 224, 224])\n",
      "Original shape [1, 3, 224, 224]\n",
      "Hello torch.Size([1, 3, 224, 224])\n",
      "Original shape [1, 3, 224, 224]\n",
      "Hello torch.Size([1, 3, 224, 224])\n",
      "Original shape [1, 3, 224, 224]\n",
      "Hello torch.Size([1, 3, 224, 224])\n",
      "Original shape [1, 3, 224, 224]\n",
      "Hello torch.Size([1, 3, 224, 224])\n",
      "Original shape [1, 3, 224, 224]\n"
     ]
    },
    {
     "name": "stderr",
     "output_type": "stream",
     "text": [
      "\r",
      "  8%|███▎                                    | 103/1250 [00:06<01:01, 18.74it/s]"
     ]
    },
    {
     "name": "stdout",
     "output_type": "stream",
     "text": [
      "Hello torch.Size([1, 3, 224, 224])\n",
      "Original shape [1, 3, 224, 224]\n",
      "Hello torch.Size([1, 3, 224, 224])\n",
      "Original shape [1, 3, 224, 224]\n",
      "Hello torch.Size([1, 3, 224, 224])\n",
      "Original shape [1, 3, 224, 224]\n"
     ]
    },
    {
     "name": "stderr",
     "output_type": "stream",
     "text": [
      "\r",
      "  8%|███▎                                    | 105/1250 [00:06<01:07, 17.01it/s]"
     ]
    },
    {
     "name": "stdout",
     "output_type": "stream",
     "text": [
      "Hello torch.Size([1, 3, 224, 224])\n",
      "Original shape [1, 3, 224, 224]\n",
      "Hello torch.Size([1, 3, 224, 224])\n",
      "Original shape [1, 3, 224, 224]\n",
      "Hello torch.Size([1, 3, 224, 224])\n",
      "Original shape [1, 3, 224, 224]\n"
     ]
    },
    {
     "name": "stderr",
     "output_type": "stream",
     "text": [
      "  9%|███▌                                    | 111/1250 [00:06<01:04, 17.74it/s]"
     ]
    },
    {
     "name": "stdout",
     "output_type": "stream",
     "text": [
      "Hello torch.Size([1, 3, 224, 224])\n",
      "Original shape [1, 3, 224, 224]\n",
      "Hello torch.Size([1, 3, 224, 224])\n",
      "Original shape [1, 3, 224, 224]\n",
      "Hello torch.Size([1, 3, 224, 224])\n",
      "Original shape [1, 3, 224, 224]\n",
      "Hello torch.Size([1, 3, 224, 224])\n",
      "Original shape [1, 3, 224, 224]\n",
      "Hello torch.Size([1, 3, 224, 224])\n",
      "Original shape [1, 3, 224, 224]\n"
     ]
    },
    {
     "name": "stderr",
     "output_type": "stream",
     "text": [
      "  9%|███▋                                    | 115/1250 [00:06<01:07, 16.75it/s]"
     ]
    },
    {
     "name": "stdout",
     "output_type": "stream",
     "text": [
      "Hello torch.Size([1, 3, 224, 224])\n",
      "Original shape [1, 3, 224, 224]\n",
      "Hello torch.Size([1, 3, 224, 224])\n",
      "Original shape [1, 3, 224, 224]\n",
      "Hello torch.Size([1, 3, 224, 224])\n",
      "Original shape [1, 3, 224, 224]\n",
      "Hello torch.Size([1, 3, 224, 224])\n",
      "Original shape [1, 3, 224, 224]\n"
     ]
    },
    {
     "name": "stderr",
     "output_type": "stream",
     "text": [
      " 10%|███▊                                    | 120/1250 [00:07<01:03, 17.85it/s]"
     ]
    },
    {
     "name": "stdout",
     "output_type": "stream",
     "text": [
      "Hello torch.Size([1, 3, 224, 224])\n",
      "Original shape [1, 3, 224, 224]\n",
      "Hello torch.Size([1, 3, 224, 224])\n",
      "Original shape [1, 3, 224, 224]\n",
      "Hello torch.Size([1, 3, 224, 224])\n",
      "Original shape [1, 3, 224, 224]\n",
      "Hello torch.Size([1, 3, 224, 224])\n",
      "Original shape [1, 3, 224, 224]\n"
     ]
    },
    {
     "name": "stderr",
     "output_type": "stream",
     "text": [
      "\r",
      " 10%|███▉                                    | 122/1250 [00:07<01:03, 17.74it/s]"
     ]
    },
    {
     "name": "stdout",
     "output_type": "stream",
     "text": [
      "Hello torch.Size([1, 3, 224, 224])\n",
      "Original shape [1, 3, 224, 224]\n",
      "Hello torch.Size([1, 3, 224, 224])\n",
      "Original shape [1, 3, 224, 224]\n",
      "Hello torch.Size([1, 3, 224, 224])\n",
      "Original shape [1, 3, 224, 224]\n",
      "Hello torch.Size([1, 3, 224, 224])\n",
      "Original shape [1, 3, 224, 224]\n"
     ]
    },
    {
     "name": "stderr",
     "output_type": "stream",
     "text": [
      " 10%|████                                    | 128/1250 [00:07<00:56, 19.76it/s]"
     ]
    },
    {
     "name": "stdout",
     "output_type": "stream",
     "text": [
      "Hello torch.Size([1, 3, 224, 224])\n",
      "Original shape [1, 3, 224, 224]\n",
      "Hello torch.Size([1, 3, 224, 224])\n",
      "Original shape [1, 3, 224, 224]\n",
      "Hello torch.Size([1, 3, 224, 224])\n",
      "Original shape [1, 3, 224, 224]\n",
      "Hello torch.Size([1, 3, 224, 224])\n",
      "Original shape [1, 3, 224, 224]\n",
      "Hello torch.Size([1, 3, 224, 224])\n",
      "Original shape [1, 3, 224, 224]\n"
     ]
    },
    {
     "name": "stderr",
     "output_type": "stream",
     "text": [
      " 11%|████▏                                   | 132/1250 [00:07<01:01, 18.30it/s]"
     ]
    },
    {
     "name": "stdout",
     "output_type": "stream",
     "text": [
      "Hello torch.Size([1, 3, 224, 224])\n",
      "Original shape [1, 3, 224, 224]\n",
      "Hello torch.Size([1, 3, 224, 224])\n",
      "Original shape [1, 3, 224, 224]\n",
      "Hello torch.Size([1, 3, 224, 224])\n",
      "Original shape [1, 3, 224, 224]\n",
      "Hello torch.Size([1, 3, 224, 224])\n",
      "Original shape [1, 3, 224, 224]\n"
     ]
    },
    {
     "name": "stderr",
     "output_type": "stream",
     "text": [
      "\r",
      " 11%|████▎                                   | 135/1250 [00:08<00:58, 19.08it/s]"
     ]
    },
    {
     "name": "stdout",
     "output_type": "stream",
     "text": [
      "Hello torch.Size([1, 3, 224, 224])\n",
      "Original shape [1, 3, 224, 224]\n",
      "Hello torch.Size([1, 3, 224, 224])\n",
      "Original shape [1, 3, 224, 224]\n",
      "Hello torch.Size([1, 3, 224, 224])\n",
      "Original shape [1, 3, 224, 224]\n",
      "Hello torch.Size([1, 3, 224, 224])\n",
      "Original shape [1, 3, 224, 224]\n"
     ]
    },
    {
     "name": "stderr",
     "output_type": "stream",
     "text": [
      " 11%|████▍                                   | 139/1250 [00:08<01:07, 16.45it/s]"
     ]
    },
    {
     "name": "stdout",
     "output_type": "stream",
     "text": [
      "Hello torch.Size([1, 3, 224, 224])\n",
      "Original shape [1, 3, 224, 224]\n",
      "Hello torch.Size([1, 3, 224, 224])\n",
      "Original shape [1, 3, 224, 224]\n",
      "Hello torch.Size([1, 3, 224, 224])\n",
      "Original shape [1, 3, 224, 224]\n",
      "Hello torch.Size([1, 3, 224, 224])\n",
      "Original shape [1, 3, 224, 224]\n"
     ]
    },
    {
     "name": "stderr",
     "output_type": "stream",
     "text": [
      " 12%|████▌                                   | 144/1250 [00:08<01:02, 17.82it/s]"
     ]
    },
    {
     "name": "stdout",
     "output_type": "stream",
     "text": [
      "Hello torch.Size([1, 3, 224, 224])\n",
      "Original shape [1, 3, 224, 224]\n",
      "Hello torch.Size([1, 3, 224, 224])\n",
      "Original shape [1, 3, 224, 224]\n",
      "Hello torch.Size([1, 3, 224, 224])\n",
      "Original shape [1, 3, 224, 224]\n",
      "Hello torch.Size([1, 3, 224, 224])\n",
      "Original shape [1, 3, 224, 224]\n",
      "Hello torch.Size([1, 3, 224, 224])\n",
      "Original shape [1, 3, 224, 224]\n"
     ]
    },
    {
     "name": "stderr",
     "output_type": "stream",
     "text": [
      " 12%|████▊                                   | 150/1250 [00:08<01:00, 18.11it/s]"
     ]
    },
    {
     "name": "stdout",
     "output_type": "stream",
     "text": [
      "Hello torch.Size([1, 3, 224, 224])\n",
      "Original shape [1, 3, 224, 224]\n",
      "Hello torch.Size([1, 3, 224, 224])\n",
      "Original shape [1, 3, 224, 224]\n",
      "Hello torch.Size([1, 3, 224, 224])\n",
      "Original shape [1, 3, 224, 224]\n",
      "Hello torch.Size([1, 3, 224, 224])\n",
      "Original shape [1, 3, 224, 224]\n"
     ]
    },
    {
     "name": "stderr",
     "output_type": "stream",
     "text": [
      "\r",
      " 12%|████▊                                   | 152/1250 [00:08<01:00, 18.25it/s]"
     ]
    },
    {
     "name": "stdout",
     "output_type": "stream",
     "text": [
      "Hello torch.Size([1, 3, 224, 224])\n",
      "Original shape [1, 3, 224, 224]\n",
      "Hello torch.Size([1, 3, 224, 224])\n",
      "Original shape [1, 3, 224, 224]\n",
      "Hello torch.Size([1, 3, 224, 224])\n",
      "Original shape [1, 3, 224, 224]\n",
      "Hello torch.Size([1, 3, 224, 224])\n",
      "Original shape [1, 3, 224, 224]\n"
     ]
    },
    {
     "name": "stderr",
     "output_type": "stream",
     "text": [
      " 13%|█████                                   | 157/1250 [00:09<00:59, 18.27it/s]"
     ]
    },
    {
     "name": "stdout",
     "output_type": "stream",
     "text": [
      "Hello torch.Size([1, 3, 224, 224])\n",
      "Original shape [1, 3, 224, 224]\n",
      "Hello torch.Size([1, 3, 224, 224])\n",
      "Original shape [1, 3, 224, 224]\n",
      "Hello torch.Size([1, 3, 224, 224])\n",
      "Original shape [1, 3, 224, 224]\n",
      "Hello torch.Size([1, 3, 224, 224])\n",
      "Original shape [1, 3, 224, 224]\n"
     ]
    },
    {
     "name": "stderr",
     "output_type": "stream",
     "text": [
      " 13%|█████▏                                  | 161/1250 [00:09<01:01, 17.72it/s]"
     ]
    },
    {
     "name": "stdout",
     "output_type": "stream",
     "text": [
      "Hello torch.Size([1, 3, 224, 224])\n",
      "Original shape [1, 3, 224, 224]\n",
      "Hello torch.Size([1, 3, 224, 224])\n",
      "Original shape [1, 3, 224, 224]\n",
      "Hello torch.Size([1, 3, 224, 224])\n",
      "Original shape [1, 3, 224, 224]\n",
      "Hello torch.Size([1, 3, 224, 224])\n",
      "Original shape [1, 3, 224, 224]\n"
     ]
    },
    {
     "name": "stderr",
     "output_type": "stream",
     "text": [
      " 13%|█████▎                                  | 165/1250 [00:09<01:09, 15.58it/s]"
     ]
    },
    {
     "name": "stdout",
     "output_type": "stream",
     "text": [
      "Hello torch.Size([1, 3, 224, 224])\n",
      "Original shape [1, 3, 224, 224]\n",
      "Hello torch.Size([1, 3, 224, 224])\n",
      "Original shape [1, 3, 224, 224]\n",
      "Hello torch.Size([1, 3, 224, 224])\n",
      "Original shape [1, 3, 224, 224]\n",
      "Hello torch.Size([1, 3, 224, 224])\n",
      "Original shape [1, 3, 224, 224]\n",
      "Hello torch.Size([1, 3, 224, 224])\n",
      "Original shape [1, 3, 224, 224]\n"
     ]
    },
    {
     "name": "stderr",
     "output_type": "stream",
     "text": [
      " 14%|█████▍                                  | 169/1250 [00:10<01:04, 16.76it/s]"
     ]
    },
    {
     "name": "stdout",
     "output_type": "stream",
     "text": [
      "Hello torch.Size([1, 3, 224, 224])\n",
      "Original shape [1, 3, 224, 224]\n",
      "Hello torch.Size([1, 3, 224, 224])\n",
      "Original shape [1, 3, 224, 224]\n",
      "Hello torch.Size([1, 3, 224, 224])\n",
      "Original shape [1, 3, 224, 224]\n",
      "Hello torch.Size([1, 3, 224, 224])\n",
      "Original shape [1, 3, 224, 224]\n"
     ]
    },
    {
     "name": "stderr",
     "output_type": "stream",
     "text": [
      " 14%|█████▋                                  | 176/1250 [00:10<00:58, 18.32it/s]"
     ]
    },
    {
     "name": "stdout",
     "output_type": "stream",
     "text": [
      "Hello torch.Size([1, 3, 224, 224])\n",
      "Original shape [1, 3, 224, 224]\n",
      "Hello torch.Size([1, 3, 224, 224])\n",
      "Original shape [1, 3, 224, 224]\n",
      "Hello torch.Size([1, 3, 224, 224])\n",
      "Original shape [1, 3, 224, 224]\n",
      "Hello torch.Size([1, 3, 224, 224])\n",
      "Original shape [1, 3, 224, 224]\n",
      "Hello torch.Size([1, 3, 224, 224])\n",
      "Original shape [1, 3, 224, 224]\n"
     ]
    },
    {
     "name": "stderr",
     "output_type": "stream",
     "text": [
      "\r",
      " 14%|█████▋                                  | 179/1250 [00:10<00:56, 18.80it/s]"
     ]
    },
    {
     "name": "stdout",
     "output_type": "stream",
     "text": [
      "Hello torch.Size([1, 3, 224, 224])\n",
      "Original shape [1, 3, 224, 224]\n",
      "Hello torch.Size([1, 3, 224, 224])\n",
      "Original shape [1, 3, 224, 224]\n",
      "Hello torch.Size([1, 3, 224, 224])\n",
      "Original shape [1, 3, 224, 224]\n",
      "Hello torch.Size([1, 3, 224, 224])\n",
      "Original shape [1, 3, 224, 224]\n",
      "Hello torch.Size([1, 3, 224, 224])\n",
      "Original shape [1, 3, 224, 224]\n"
     ]
    },
    {
     "name": "stderr",
     "output_type": "stream",
     "text": [
      " 15%|█████▉                                  | 185/1250 [00:10<00:52, 20.32it/s]"
     ]
    },
    {
     "name": "stdout",
     "output_type": "stream",
     "text": [
      "Hello torch.Size([1, 3, 224, 224])\n",
      "Original shape [1, 3, 224, 224]\n",
      "Hello torch.Size([1, 3, 224, 224])\n",
      "Original shape [1, 3, 224, 224]\n",
      "Hello torch.Size([1, 3, 224, 224])\n",
      "Original shape [1, 3, 224, 224]\n",
      "Hello torch.Size([1, 3, 224, 224])\n",
      "Original shape [1, 3, 224, 224]\n",
      "Hello torch.Size([1, 3, 224, 224])\n",
      "Original shape [1, 3, 224, 224]\n"
     ]
    },
    {
     "name": "stderr",
     "output_type": "stream",
     "text": [
      " 15%|██████                                  | 191/1250 [00:11<00:50, 21.09it/s]"
     ]
    },
    {
     "name": "stdout",
     "output_type": "stream",
     "text": [
      "Hello torch.Size([1, 3, 224, 224])\n",
      "Original shape [1, 3, 224, 224]\n",
      "Hello torch.Size([1, 3, 224, 224])\n",
      "Original shape [1, 3, 224, 224]\n",
      "Hello torch.Size([1, 3, 224, 224])\n",
      "Original shape [1, 3, 224, 224]\n",
      "Hello torch.Size([1, 3, 224, 224])\n",
      "Original shape [1, 3, 224, 224]\n",
      "Hello torch.Size([1, 3, 224, 224])\n",
      "Original shape [1, 3, 224, 224]\n"
     ]
    },
    {
     "name": "stderr",
     "output_type": "stream",
     "text": [
      "\r",
      " 16%|██████▏                                 | 194/1250 [00:11<00:53, 19.91it/s]"
     ]
    },
    {
     "name": "stdout",
     "output_type": "stream",
     "text": [
      "Hello torch.Size([1, 3, 224, 224])\n",
      "Original shape [1, 3, 224, 224]\n",
      "Hello torch.Size([1, 3, 224, 224])\n",
      "Original shape [1, 3, 224, 224]\n",
      "Hello torch.Size([1, 3, 224, 224])\n",
      "Original shape [1, 3, 224, 224]\n",
      "Hello torch.Size([1, 3, 224, 224])\n",
      "Original shape [1, 3, 224, 224]\n"
     ]
    },
    {
     "name": "stderr",
     "output_type": "stream",
     "text": [
      " 16%|██████▎                                 | 199/1250 [00:11<00:58, 18.10it/s]"
     ]
    },
    {
     "name": "stdout",
     "output_type": "stream",
     "text": [
      "Hello torch.Size([1, 3, 224, 224])\n",
      "Original shape [1, 3, 224, 224]\n",
      "Hello torch.Size([1, 3, 224, 224])\n",
      "Original shape [1, 3, 224, 224]\n",
      "Hello torch.Size([1, 3, 224, 224])\n",
      "Original shape [1, 3, 224, 224]\n",
      "Hello torch.Size([1, 3, 224, 224])\n",
      "Original shape [1, 3, 224, 224]\n"
     ]
    },
    {
     "name": "stderr",
     "output_type": "stream",
     "text": [
      "\r",
      " 16%|██████▍                                 | 202/1250 [00:11<00:54, 19.06it/s]"
     ]
    },
    {
     "name": "stdout",
     "output_type": "stream",
     "text": [
      "Hello torch.Size([1, 3, 224, 224])\n",
      "Original shape [1, 3, 224, 224]\n",
      "Hello torch.Size([1, 3, 224, 224])\n",
      "Original shape [1, 3, 224, 224]\n",
      "Hello torch.Size([1, 3, 224, 224])\n",
      "Original shape [1, 3, 224, 224]\n",
      "Hello torch.Size([1, 3, 224, 224])\n",
      "Original shape [1, 3, 224, 224]\n",
      "Hello torch.Size([1, 3, 224, 224])\n",
      "Original shape [1, 3, 224, 224]\n"
     ]
    },
    {
     "name": "stderr",
     "output_type": "stream",
     "text": [
      " 17%|██████▌                                 | 207/1250 [00:11<00:55, 18.75it/s]"
     ]
    },
    {
     "name": "stdout",
     "output_type": "stream",
     "text": [
      "Hello torch.Size([1, 3, 224, 224])\n",
      "Original shape [1, 3, 224, 224]\n",
      "Hello torch.Size([1, 3, 224, 224])\n",
      "Original shape [1, 3, 224, 224]\n",
      "Hello torch.Size([1, 3, 224, 224])\n",
      "Original shape [1, 3, 224, 224]\n",
      "Hello torch.Size([1, 3, 224, 224])\n",
      "Original shape [1, 3, 224, 224]\n",
      "Hello torch.Size([1, 3, 224, 224])\n",
      "Original shape [1, 3, 224, 224]\n"
     ]
    },
    {
     "name": "stderr",
     "output_type": "stream",
     "text": [
      " 17%|██████▊                                 | 213/1250 [00:12<00:52, 19.66it/s]"
     ]
    },
    {
     "name": "stdout",
     "output_type": "stream",
     "text": [
      "Hello torch.Size([1, 3, 224, 224])\n",
      "Original shape [1, 3, 224, 224]\n",
      "Hello torch.Size([1, 3, 224, 224])\n",
      "Original shape [1, 3, 224, 224]\n",
      "Hello torch.Size([1, 3, 224, 224])\n",
      "Original shape [1, 3, 224, 224]\n",
      "Hello torch.Size([1, 3, 224, 224])\n",
      "Original shape [1, 3, 224, 224]\n",
      "Hello torch.Size([1, 3, 224, 224])\n",
      "Original shape [1, 3, 224, 224]\n"
     ]
    },
    {
     "name": "stderr",
     "output_type": "stream",
     "text": [
      " 17%|██████▉                                 | 218/1250 [00:12<00:53, 19.20it/s]"
     ]
    },
    {
     "name": "stdout",
     "output_type": "stream",
     "text": [
      "Hello torch.Size([1, 3, 224, 224])\n",
      "Original shape [1, 3, 224, 224]\n",
      "Hello torch.Size([1, 3, 224, 224])\n",
      "Original shape [1, 3, 224, 224]\n",
      "Hello torch.Size([1, 3, 224, 224])\n",
      "Original shape [1, 3, 224, 224]\n",
      "Hello torch.Size([1, 3, 224, 224])\n",
      "Original shape [1, 3, 224, 224]\n",
      "Hello torch.Size([1, 3, 224, 224])\n",
      "Original shape [1, 3, 224, 224]\n"
     ]
    },
    {
     "name": "stderr",
     "output_type": "stream",
     "text": [
      "\r",
      " 18%|███████                                 | 221/1250 [00:12<00:58, 17.49it/s]"
     ]
    },
    {
     "name": "stdout",
     "output_type": "stream",
     "text": [
      "Hello torch.Size([1, 3, 224, 224])\n",
      "Original shape [1, 3, 224, 224]\n",
      "Hello torch.Size([1, 3, 224, 224])\n",
      "Original shape [1, 3, 224, 224]\n",
      "Hello torch.Size([1, 3, 224, 224])\n",
      "Original shape [1, 3, 224, 224]\n",
      "Hello torch.Size([1, 3, 224, 224])\n",
      "Original shape [1, 3, 224, 224]\n"
     ]
    },
    {
     "name": "stderr",
     "output_type": "stream",
     "text": [
      " 18%|███████▏                                | 225/1250 [00:13<01:02, 16.37it/s]"
     ]
    },
    {
     "name": "stdout",
     "output_type": "stream",
     "text": [
      "Hello torch.Size([1, 3, 224, 224])\n",
      "Original shape [1, 3, 224, 224]\n",
      "Hello torch.Size([1, 3, 224, 224])\n",
      "Original shape [1, 3, 224, 224]\n",
      "Hello torch.Size([1, 3, 224, 224])\n",
      "Original shape [1, 3, 224, 224]\n"
     ]
    },
    {
     "name": "stderr",
     "output_type": "stream",
     "text": [
      "\r",
      " 18%|███████▎                                | 227/1250 [00:13<01:16, 13.40it/s]"
     ]
    },
    {
     "name": "stdout",
     "output_type": "stream",
     "text": [
      "Hello torch.Size([1, 3, 224, 224])\n",
      "Original shape [1, 3, 224, 224]\n",
      "Hello torch.Size([1, 3, 224, 224])\n",
      "Original shape [1, 3, 224, 224]\n"
     ]
    },
    {
     "name": "stderr",
     "output_type": "stream",
     "text": [
      "\r",
      " 18%|███████▎                                | 229/1250 [00:13<01:49,  9.37it/s]"
     ]
    },
    {
     "name": "stdout",
     "output_type": "stream",
     "text": [
      "Hello torch.Size([1, 3, 224, 224])\n",
      "Original shape [1, 3, 224, 224]\n",
      "Hello torch.Size([1, 3, 224, 224])\n",
      "Original shape [1, 3, 224, 224]\n",
      "Hello torch.Size([1, 3, 224, 224])\n",
      "Original shape [1, 3, 224, 224]\n"
     ]
    },
    {
     "name": "stderr",
     "output_type": "stream",
     "text": [
      " 19%|███████▍                                | 234/1250 [00:14<01:42,  9.89it/s]"
     ]
    },
    {
     "name": "stdout",
     "output_type": "stream",
     "text": [
      "Hello torch.Size([1, 3, 224, 224])\n",
      "Original shape [1, 3, 224, 224]\n",
      "Hello torch.Size([1, 3, 224, 224])\n",
      "Original shape [1, 3, 224, 224]\n",
      "Hello torch.Size([1, 3, 224, 224])\n",
      "Original shape [1, 3, 224, 224]\n",
      "Hello torch.Size([1, 3, 224, 224])\n",
      "Original shape [1, 3, 224, 224]\n",
      "Hello torch.Size([1, 3, 224, 224])\n",
      "Original shape [1, 3, 224, 224]\n",
      "Hello torch.Size([1, 3, 224, 224])\n",
      "Original shape [1, 3, 224, 224]\n"
     ]
    },
    {
     "name": "stderr",
     "output_type": "stream",
     "text": [
      " 19%|███████▋                                | 239/1250 [00:14<01:26, 11.71it/s]"
     ]
    },
    {
     "name": "stdout",
     "output_type": "stream",
     "text": [
      "Hello torch.Size([1, 3, 224, 224])\n",
      "Original shape [1, 3, 224, 224]\n",
      "Hello torch.Size([1, 3, 224, 224])\n",
      "Original shape [1, 3, 224, 224]\n",
      "Hello torch.Size([1, 3, 224, 224])\n",
      "Original shape [1, 3, 224, 224]\n"
     ]
    },
    {
     "name": "stderr",
     "output_type": "stream",
     "text": [
      " 20%|███████▊                                | 244/1250 [00:14<01:07, 14.86it/s]"
     ]
    },
    {
     "name": "stdout",
     "output_type": "stream",
     "text": [
      "Hello torch.Size([1, 3, 224, 224])\n",
      "Original shape [1, 3, 224, 224]\n",
      "Hello torch.Size([1, 3, 224, 224])\n",
      "Original shape [1, 3, 224, 224]\n",
      "Hello torch.Size([1, 3, 224, 224])\n",
      "Original shape [1, 3, 224, 224]\n",
      "Hello torch.Size([1, 3, 224, 224])\n",
      "Original shape [1, 3, 224, 224]\n"
     ]
    },
    {
     "name": "stderr",
     "output_type": "stream",
     "text": [
      "\r",
      " 20%|███████▊                                | 246/1250 [00:14<01:10, 14.31it/s]"
     ]
    },
    {
     "name": "stdout",
     "output_type": "stream",
     "text": [
      "Hello torch.Size([1, 3, 224, 224])\n",
      "Original shape [1, 3, 224, 224]\n",
      "Hello torch.Size([1, 3, 224, 224])\n",
      "Original shape [1, 3, 224, 224]\n",
      "Hello torch.Size([1, 3, 224, 224])\n",
      "Original shape [1, 3, 224, 224]\n",
      "Hello torch.Size([1, 3, 224, 224])\n",
      "Original shape [1, 3, 224, 224]\n"
     ]
    },
    {
     "name": "stderr",
     "output_type": "stream",
     "text": [
      " 20%|████████                                | 251/1250 [00:15<01:51,  9.00it/s]"
     ]
    },
    {
     "name": "stdout",
     "output_type": "stream",
     "text": [
      "Hello torch.Size([1, 3, 224, 224])\n",
      "Original shape [1, 3, 224, 224]\n",
      "Hello torch.Size([1, 3, 224, 224])\n",
      "Original shape [1, 3, 224, 224]\n",
      "Hello torch.Size([1, 3, 224, 224])\n",
      "Original shape [1, 3, 224, 224]\n"
     ]
    },
    {
     "name": "stderr",
     "output_type": "stream",
     "text": [
      "\r",
      " 20%|████████                                | 253/1250 [00:15<01:47,  9.31it/s]"
     ]
    },
    {
     "name": "stdout",
     "output_type": "stream",
     "text": [
      "Hello torch.Size([1, 3, 224, 224])\n",
      "Original shape [1, 3, 224, 224]\n",
      "Hello torch.Size([1, 3, 224, 224])\n",
      "Original shape [1, 3, 224, 224]\n",
      "Hello torch.Size([1, 3, 224, 224])\n",
      "Original shape [1, 3, 224, 224]\n",
      "Hello torch.Size([1, 3, 224, 224])\n",
      "Original shape [1, 3, 224, 224]\n"
     ]
    },
    {
     "name": "stderr",
     "output_type": "stream",
     "text": [
      " 21%|████████▎                               | 258/1250 [00:16<01:36, 10.29it/s]"
     ]
    },
    {
     "name": "stdout",
     "output_type": "stream",
     "text": [
      "Hello torch.Size([1, 3, 224, 224])\n",
      "Original shape [1, 3, 224, 224]\n",
      "Hello torch.Size([1, 3, 224, 224])\n",
      "Original shape [1, 3, 224, 224]\n",
      "Hello torch.Size([1, 3, 224, 224])\n",
      "Original shape [1, 3, 224, 224]\n"
     ]
    },
    {
     "name": "stderr",
     "output_type": "stream",
     "text": [
      "\r",
      " 21%|████████▎                               | 261/1250 [00:16<01:16, 12.96it/s]"
     ]
    },
    {
     "name": "stdout",
     "output_type": "stream",
     "text": [
      "Hello torch.Size([1, 3, 224, 224])\n",
      "Original shape [1, 3, 224, 224]\n",
      "Hello torch.Size([1, 3, 224, 224])\n",
      "Original shape [1, 3, 224, 224]\n",
      "Hello torch.Size([1, 3, 224, 224])\n",
      "Original shape [1, 3, 224, 224]\n",
      "Hello torch.Size([1, 3, 224, 224])\n",
      "Original shape [1, 3, 224, 224]\n"
     ]
    },
    {
     "name": "stderr",
     "output_type": "stream",
     "text": [
      " 21%|████████▍                               | 265/1250 [00:16<01:20, 12.27it/s]"
     ]
    },
    {
     "name": "stdout",
     "output_type": "stream",
     "text": [
      "Hello torch.Size([1, 3, 224, 224])\n",
      "Original shape [1, 3, 224, 224]\n",
      "Hello torch.Size([1, 3, 224, 224])\n",
      "Original shape [1, 3, 224, 224]\n",
      "Hello torch.Size([1, 3, 224, 224])\n",
      "Original shape [1, 3, 224, 224]\n"
     ]
    },
    {
     "name": "stderr",
     "output_type": "stream",
     "text": [
      "\r",
      " 21%|████████▌                               | 267/1250 [00:16<01:15, 12.94it/s]"
     ]
    },
    {
     "name": "stdout",
     "output_type": "stream",
     "text": [
      "Hello torch.Size([1, 3, 224, 224])\n",
      "Original shape [1, 3, 224, 224]\n",
      "Hello torch.Size([1, 3, 224, 224])\n",
      "Original shape [1, 3, 224, 224]\n",
      "Hello torch.Size([1, 3, 224, 224])\n",
      "Original shape [1, 3, 224, 224]\n",
      "Hello torch.Size([1, 3, 224, 224])\n",
      "Original shape [1, 3, 224, 224]\n"
     ]
    },
    {
     "name": "stderr",
     "output_type": "stream",
     "text": [
      "\r",
      " 22%|████████▌                               | 269/1250 [00:17<01:18, 12.48it/s]"
     ]
    },
    {
     "name": "stdout",
     "output_type": "stream",
     "text": [
      "Hello torch.Size([1, 3, 224, 224])\n",
      "Original shape [1, 3, 224, 224]\n",
      "Hello torch.Size([1, 3, 224, 224])\n",
      "Original shape [1, 3, 224, 224]\n",
      "Hello torch.Size([1, 3, 224, 224])\n",
      "Original shape [1, 3, 224, 224]\n"
     ]
    },
    {
     "name": "stderr",
     "output_type": "stream",
     "text": [
      " 22%|████████▊                               | 274/1250 [00:17<01:11, 13.57it/s]"
     ]
    },
    {
     "name": "stdout",
     "output_type": "stream",
     "text": [
      "Hello torch.Size([1, 3, 224, 224])\n",
      "Original shape [1, 3, 224, 224]\n",
      "Hello torch.Size([1, 3, 224, 224])\n",
      "Original shape [1, 3, 224, 224]\n",
      "Hello torch.Size([1, 3, 224, 224])\n",
      "Original shape [1, 3, 224, 224]\n"
     ]
    },
    {
     "name": "stderr",
     "output_type": "stream",
     "text": [
      "\r",
      " 22%|████████▊                               | 276/1250 [00:17<01:29, 10.86it/s]"
     ]
    },
    {
     "name": "stdout",
     "output_type": "stream",
     "text": [
      "Hello torch.Size([1, 3, 224, 224])\n",
      "Original shape [1, 3, 224, 224]\n",
      "Hello torch.Size([1, 3, 224, 224])\n",
      "Original shape [1, 3, 224, 224]\n",
      "Hello torch.Size([1, 3, 224, 224])\n",
      "Original shape [1, 3, 224, 224]\n",
      "Hello torch.Size([1, 3, 224, 224])\n",
      "Original shape [1, 3, 224, 224]\n"
     ]
    },
    {
     "name": "stderr",
     "output_type": "stream",
     "text": [
      " 23%|█████████                               | 282/1250 [00:18<01:13, 13.16it/s]"
     ]
    },
    {
     "name": "stdout",
     "output_type": "stream",
     "text": [
      "Hello torch.Size([1, 3, 224, 224])\n",
      "Original shape [1, 3, 224, 224]\n",
      "Hello torch.Size([1, 3, 224, 224])\n",
      "Original shape [1, 3, 224, 224]\n",
      "Hello torch.Size([1, 3, 224, 224])\n",
      "Original shape [1, 3, 224, 224]\n",
      "Hello torch.Size([1, 3, 224, 224])\n",
      "Original shape [1, 3, 224, 224]\n"
     ]
    },
    {
     "name": "stderr",
     "output_type": "stream",
     "text": [
      "\r",
      " 23%|█████████                               | 285/1250 [00:18<01:10, 13.70it/s]"
     ]
    },
    {
     "name": "stdout",
     "output_type": "stream",
     "text": [
      "Hello torch.Size([1, 3, 224, 224])\n",
      "Original shape [1, 3, 224, 224]\n",
      "Hello torch.Size([1, 3, 224, 224])\n",
      "Original shape [1, 3, 224, 224]\n",
      "Hello torch.Size([1, 3, 224, 224])\n",
      "Original shape [1, 3, 224, 224]\n"
     ]
    },
    {
     "name": "stderr",
     "output_type": "stream",
     "text": [
      "\r",
      " 23%|█████████▏                              | 287/1250 [00:18<01:10, 13.75it/s]"
     ]
    },
    {
     "name": "stdout",
     "output_type": "stream",
     "text": [
      "Hello torch.Size([1, 3, 224, 224])\n",
      "Original shape [1, 3, 224, 224]\n",
      "Hello torch.Size([1, 3, 224, 224])\n",
      "Original shape [1, 3, 224, 224]\n",
      "Hello torch.Size([1, 3, 224, 224])\n",
      "Original shape [1, 3, 224, 224]\n"
     ]
    },
    {
     "name": "stderr",
     "output_type": "stream",
     "text": [
      "\r",
      " 23%|█████████▏                              | 289/1250 [00:18<01:17, 12.41it/s]"
     ]
    },
    {
     "name": "stdout",
     "output_type": "stream",
     "text": [
      "Hello torch.Size([1, 3, 224, 224])\n",
      "Original shape [1, 3, 224, 224]\n",
      "Hello torch.Size([1, 3, 224, 224])\n",
      "Original shape [1, 3, 224, 224]\n"
     ]
    },
    {
     "name": "stderr",
     "output_type": "stream",
     "text": [
      " 23%|█████████▍                              | 293/1250 [00:19<01:54,  8.37it/s]"
     ]
    },
    {
     "name": "stdout",
     "output_type": "stream",
     "text": [
      "Hello torch.Size([1, 3, 224, 224])\n",
      "Original shape [1, 3, 224, 224]\n",
      "Hello torch.Size([1, 3, 224, 224])\n",
      "Original shape [1, 3, 224, 224]\n",
      "Hello torch.Size([1, 3, 224, 224])\n",
      "Original shape [1, 3, 224, 224]\n"
     ]
    },
    {
     "name": "stderr",
     "output_type": "stream",
     "text": [
      "\r",
      " 24%|█████████▍                              | 295/1250 [00:19<01:39,  9.56it/s]"
     ]
    },
    {
     "name": "stdout",
     "output_type": "stream",
     "text": [
      "Hello torch.Size([1, 3, 224, 224])\n",
      "Original shape [1, 3, 224, 224]\n",
      "Hello torch.Size([1, 3, 224, 224])\n",
      "Original shape [1, 3, 224, 224]\n"
     ]
    },
    {
     "name": "stderr",
     "output_type": "stream",
     "text": [
      "\r",
      " 24%|█████████▌                              | 297/1250 [00:19<01:58,  8.05it/s]"
     ]
    },
    {
     "name": "stdout",
     "output_type": "stream",
     "text": [
      "Hello torch.Size([1, 3, 224, 224])\n",
      "Original shape [1, 3, 224, 224]\n",
      "Hello torch.Size([1, 3, 224, 224])\n",
      "Original shape [1, 3, 224, 224]\n"
     ]
    },
    {
     "name": "stderr",
     "output_type": "stream",
     "text": [
      " 24%|█████████▋                              | 301/1250 [00:20<01:42,  9.26it/s]"
     ]
    },
    {
     "name": "stdout",
     "output_type": "stream",
     "text": [
      "Hello torch.Size([1, 3, 224, 224])\n",
      "Original shape [1, 3, 224, 224]\n",
      "Hello torch.Size([1, 3, 224, 224])\n",
      "Original shape [1, 3, 224, 224]\n",
      "Hello torch.Size([1, 3, 224, 224])\n",
      "Original shape [1, 3, 224, 224]\n",
      "Hello torch.Size([1, 3, 224, 224])\n",
      "Original shape [1, 3, 224, 224]\n"
     ]
    },
    {
     "name": "stderr",
     "output_type": "stream",
     "text": [
      " 24%|█████████▊                              | 305/1250 [00:20<01:23, 11.35it/s]"
     ]
    },
    {
     "name": "stdout",
     "output_type": "stream",
     "text": [
      "Hello torch.Size([1, 3, 224, 224])\n",
      "Original shape [1, 3, 224, 224]\n",
      "Hello torch.Size([1, 3, 224, 224])\n",
      "Original shape [1, 3, 224, 224]\n",
      "Hello torch.Size([1, 3, 224, 224])\n",
      "Original shape [1, 3, 224, 224]\n"
     ]
    },
    {
     "name": "stderr",
     "output_type": "stream",
     "text": [
      " 25%|█████████▉                              | 309/1250 [00:20<01:05, 14.30it/s]"
     ]
    },
    {
     "name": "stdout",
     "output_type": "stream",
     "text": [
      "Hello torch.Size([1, 3, 224, 224])\n",
      "Original shape [1, 3, 224, 224]\n",
      "Hello torch.Size([1, 3, 224, 224])\n",
      "Original shape [1, 3, 224, 224]\n",
      "Hello torch.Size([1, 3, 224, 224])\n",
      "Original shape [1, 3, 224, 224]\n",
      "Hello torch.Size([1, 3, 224, 224])\n",
      "Original shape [1, 3, 224, 224]\n"
     ]
    },
    {
     "name": "stderr",
     "output_type": "stream",
     "text": [
      "\r",
      " 25%|█████████▉                              | 311/1250 [00:20<01:07, 13.94it/s]"
     ]
    },
    {
     "name": "stdout",
     "output_type": "stream",
     "text": [
      "Hello torch.Size([1, 3, 224, 224])\n",
      "Original shape [1, 3, 224, 224]\n",
      "Hello torch.Size([1, 3, 224, 224])\n",
      "Original shape [1, 3, 224, 224]\n",
      "Hello torch.Size([1, 3, 224, 224])\n",
      "Original shape [1, 3, 224, 224]\n"
     ]
    },
    {
     "name": "stderr",
     "output_type": "stream",
     "text": [
      " 25%|██████████                              | 315/1250 [00:21<01:01, 15.31it/s]"
     ]
    },
    {
     "name": "stdout",
     "output_type": "stream",
     "text": [
      "Hello torch.Size([1, 3, 224, 224])\n",
      "Original shape [1, 3, 224, 224]\n",
      "Hello torch.Size([1, 3, 224, 224])\n",
      "Original shape [1, 3, 224, 224]\n",
      "Hello torch.Size([1, 3, 224, 224])\n",
      "Original shape [1, 3, 224, 224]\n",
      "Hello torch.Size([1, 3, 224, 224])\n",
      "Original shape [1, 3, 224, 224]\n"
     ]
    },
    {
     "name": "stderr",
     "output_type": "stream",
     "text": [
      " 26%|██████████▏                             | 320/1250 [00:21<01:04, 14.34it/s]"
     ]
    },
    {
     "name": "stdout",
     "output_type": "stream",
     "text": [
      "Hello torch.Size([1, 3, 224, 224])\n",
      "Original shape [1, 3, 224, 224]\n",
      "Hello torch.Size([1, 3, 224, 224])\n",
      "Original shape [1, 3, 224, 224]\n",
      "Hello torch.Size([1, 3, 224, 224])\n",
      "Original shape [1, 3, 224, 224]\n",
      "Hello torch.Size([1, 3, 224, 224])\n",
      "Original shape [1, 3, 224, 224]\n",
      "Hello torch.Size([1, 3, 224, 224])\n",
      "Original shape [1, 3, 224, 224]\n"
     ]
    },
    {
     "name": "stderr",
     "output_type": "stream",
     "text": [
      " 26%|██████████▍                             | 325/1250 [00:21<00:54, 17.10it/s]"
     ]
    },
    {
     "name": "stdout",
     "output_type": "stream",
     "text": [
      "Hello torch.Size([1, 3, 224, 224])\n",
      "Original shape [1, 3, 224, 224]\n",
      "Hello torch.Size([1, 3, 224, 224])\n",
      "Original shape [1, 3, 224, 224]\n",
      "Hello torch.Size([1, 3, 224, 224])\n",
      "Original shape [1, 3, 224, 224]\n",
      "Hello torch.Size([1, 3, 224, 224])\n",
      "Original shape [1, 3, 224, 224]\n",
      "Hello torch.Size([1, 3, 224, 224])\n",
      "Original shape [1, 3, 224, 224]\n"
     ]
    },
    {
     "name": "stderr",
     "output_type": "stream",
     "text": [
      " 26%|██████████▌                             | 329/1250 [00:21<00:53, 17.08it/s]"
     ]
    },
    {
     "name": "stdout",
     "output_type": "stream",
     "text": [
      "Hello torch.Size([1, 3, 224, 224])\n",
      "Original shape [1, 3, 224, 224]\n",
      "Hello torch.Size([1, 3, 224, 224])\n",
      "Original shape [1, 3, 224, 224]\n",
      "Hello torch.Size([1, 3, 224, 224])\n",
      "Original shape [1, 3, 224, 224]\n",
      "Hello torch.Size([1, 3, 224, 224])\n",
      "Original shape [1, 3, 224, 224]\n"
     ]
    },
    {
     "name": "stderr",
     "output_type": "stream",
     "text": [
      "\r",
      " 26%|██████████▌                             | 331/1250 [00:22<00:56, 16.26it/s]"
     ]
    },
    {
     "name": "stdout",
     "output_type": "stream",
     "text": [
      "Hello torch.Size([1, 3, 224, 224])\n",
      "Original shape [1, 3, 224, 224]\n",
      "Hello torch.Size([1, 3, 224, 224])\n",
      "Original shape [1, 3, 224, 224]\n",
      "Hello torch.Size([1, 3, 224, 224])\n",
      "Original shape [1, 3, 224, 224]\n",
      "Hello torch.Size([1, 3, 224, 224])\n",
      "Original shape [1, 3, 224, 224]\n"
     ]
    },
    {
     "name": "stderr",
     "output_type": "stream",
     "text": [
      " 27%|██████████▊                             | 336/1250 [00:22<01:04, 14.12it/s]"
     ]
    },
    {
     "name": "stdout",
     "output_type": "stream",
     "text": [
      "Hello torch.Size([1, 3, 224, 224])\n",
      "Original shape [1, 3, 224, 224]\n",
      "Hello torch.Size([1, 3, 224, 224])\n",
      "Original shape [1, 3, 224, 224]\n",
      "Hello torch.Size([1, 3, 224, 224])\n",
      "Original shape [1, 3, 224, 224]\n",
      "Hello torch.Size([1, 3, 224, 224])\n",
      "Original shape [1, 3, 224, 224]\n"
     ]
    },
    {
     "name": "stderr",
     "output_type": "stream",
     "text": [
      " 27%|██████████▉                             | 342/1250 [00:22<00:54, 16.69it/s]"
     ]
    },
    {
     "name": "stdout",
     "output_type": "stream",
     "text": [
      "Hello torch.Size([1, 3, 224, 224])\n",
      "Original shape [1, 3, 224, 224]\n",
      "Hello torch.Size([1, 3, 224, 224])\n",
      "Original shape [1, 3, 224, 224]\n",
      "Hello torch.Size([1, 3, 224, 224])\n",
      "Original shape [1, 3, 224, 224]\n",
      "Hello torch.Size([1, 3, 224, 224])\n",
      "Original shape [1, 3, 224, 224]\n"
     ]
    },
    {
     "name": "stderr",
     "output_type": "stream",
     "text": [
      "\r",
      " 28%|███████████                             | 344/1250 [00:22<01:04, 14.11it/s]"
     ]
    },
    {
     "name": "stdout",
     "output_type": "stream",
     "text": [
      "Hello torch.Size([1, 3, 224, 224])\n",
      "Original shape [1, 3, 224, 224]\n",
      "Hello torch.Size([1, 3, 224, 224])\n",
      "Original shape [1, 3, 224, 224]\n",
      "Hello torch.Size([1, 3, 224, 224])\n",
      "Original shape [1, 3, 224, 224]\n"
     ]
    },
    {
     "name": "stderr",
     "output_type": "stream",
     "text": [
      "\r",
      " 28%|███████████                             | 346/1250 [00:23<01:08, 13.28it/s]"
     ]
    },
    {
     "name": "stdout",
     "output_type": "stream",
     "text": [
      "Hello torch.Size([1, 3, 224, 224])\n",
      "Original shape [1, 3, 224, 224]\n",
      "Hello torch.Size([1, 3, 224, 224])\n",
      "Original shape [1, 3, 224, 224]\n",
      "Hello torch.Size([1, 3, 224, 224])\n",
      "Original shape [1, 3, 224, 224]\n"
     ]
    },
    {
     "name": "stderr",
     "output_type": "stream",
     "text": [
      " 28%|███████████▏                            | 351/1250 [00:23<01:06, 13.44it/s]"
     ]
    },
    {
     "name": "stdout",
     "output_type": "stream",
     "text": [
      "Hello torch.Size([1, 3, 224, 224])\n",
      "Original shape [1, 3, 224, 224]\n",
      "Hello torch.Size([1, 3, 224, 224])\n",
      "Original shape [1, 3, 224, 224]\n",
      "Hello torch.Size([1, 3, 224, 224])\n",
      "Original shape [1, 3, 224, 224]\n"
     ]
    },
    {
     "name": "stderr",
     "output_type": "stream",
     "text": [
      "\r",
      " 28%|███████████▎                            | 353/1250 [00:23<01:08, 13.03it/s]"
     ]
    },
    {
     "name": "stdout",
     "output_type": "stream",
     "text": [
      "Hello torch.Size([1, 3, 224, 224])\n",
      "Original shape [1, 3, 224, 224]\n",
      "Hello torch.Size([1, 3, 224, 224])\n",
      "Original shape [1, 3, 224, 224]\n",
      "Hello torch.Size([1, 3, 224, 224])\n",
      "Original shape [1, 3, 224, 224]\n"
     ]
    },
    {
     "name": "stderr",
     "output_type": "stream",
     "text": [
      "\r",
      " 28%|███████████▎                            | 355/1250 [00:23<01:23, 10.76it/s]"
     ]
    },
    {
     "name": "stdout",
     "output_type": "stream",
     "text": [
      "Hello torch.Size([1, 3, 224, 224])\n",
      "Original shape [1, 3, 224, 224]\n",
      "Hello torch.Size([1, 3, 224, 224])\n",
      "Original shape [1, 3, 224, 224]\n"
     ]
    },
    {
     "name": "stderr",
     "output_type": "stream",
     "text": [
      "\r",
      " 29%|███████████▍                            | 357/1250 [00:24<01:40,  8.87it/s]"
     ]
    },
    {
     "name": "stdout",
     "output_type": "stream",
     "text": [
      "Hello torch.Size([1, 3, 224, 224])\n",
      "Original shape [1, 3, 224, 224]\n",
      "Hello torch.Size([1, 3, 224, 224])\n",
      "Original shape [1, 3, 224, 224]\n"
     ]
    },
    {
     "name": "stderr",
     "output_type": "stream",
     "text": [
      " 29%|███████████▌                            | 360/1250 [00:24<01:58,  7.52it/s]"
     ]
    },
    {
     "name": "stdout",
     "output_type": "stream",
     "text": [
      "Hello torch.Size([1, 3, 224, 224])\n",
      "Original shape [1, 3, 224, 224]\n",
      "Hello torch.Size([1, 3, 224, 224])\n",
      "Original shape [1, 3, 224, 224]\n",
      "Hello torch.Size([1, 3, 224, 224])\n",
      "Original shape [1, 3, 224, 224]\n",
      "Hello torch.Size([1, 3, 224, 224])\n",
      "Original shape [1, 3, 224, 224]\n"
     ]
    },
    {
     "name": "stderr",
     "output_type": "stream",
     "text": [
      " 29%|███████████▋                            | 364/1250 [00:25<01:28,  9.97it/s]"
     ]
    },
    {
     "name": "stdout",
     "output_type": "stream",
     "text": [
      "Hello torch.Size([1, 3, 224, 224])\n",
      "Original shape [1, 3, 224, 224]\n",
      "Hello torch.Size([1, 3, 224, 224])\n",
      "Original shape [1, 3, 224, 224]\n",
      "Hello torch.Size([1, 3, 224, 224])\n",
      "Original shape [1, 3, 224, 224]\n"
     ]
    },
    {
     "name": "stderr",
     "output_type": "stream",
     "text": [
      "\r",
      " 29%|███████████▋                            | 366/1250 [00:25<01:21, 10.81it/s]"
     ]
    },
    {
     "name": "stdout",
     "output_type": "stream",
     "text": [
      "Hello torch.Size([1, 3, 224, 224])\n",
      "Original shape [1, 3, 224, 224]\n",
      "Hello torch.Size([1, 3, 224, 224])\n",
      "Original shape [1, 3, 224, 224]\n"
     ]
    },
    {
     "name": "stderr",
     "output_type": "stream",
     "text": [
      " 30%|███████████▊                            | 370/1250 [00:25<01:17, 11.40it/s]"
     ]
    },
    {
     "name": "stdout",
     "output_type": "stream",
     "text": [
      "Hello torch.Size([1, 3, 224, 224])\n",
      "Original shape [1, 3, 224, 224]\n",
      "Hello torch.Size([1, 3, 224, 224])\n",
      "Original shape [1, 3, 224, 224]\n",
      "Hello torch.Size([1, 3, 224, 224])\n",
      "Original shape [1, 3, 224, 224]\n",
      "Hello torch.Size([1, 3, 224, 224])\n",
      "Original shape [1, 3, 224, 224]\n"
     ]
    },
    {
     "name": "stderr",
     "output_type": "stream",
     "text": [
      " 30%|███████████▉                            | 374/1250 [00:25<01:08, 12.72it/s]"
     ]
    },
    {
     "name": "stdout",
     "output_type": "stream",
     "text": [
      "Hello torch.Size([1, 3, 224, 224])\n",
      "Original shape [1, 3, 224, 224]\n",
      "Hello torch.Size([1, 3, 224, 224])\n",
      "Original shape [1, 3, 224, 224]\n",
      "Hello torch.Size([1, 3, 224, 224])\n",
      "Original shape [1, 3, 224, 224]\n",
      "Hello torch.Size([1, 3, 224, 224])\n",
      "Original shape [1, 3, 224, 224]\n"
     ]
    },
    {
     "name": "stderr",
     "output_type": "stream",
     "text": [
      " 30%|████████████                            | 378/1250 [00:26<01:00, 14.30it/s]"
     ]
    },
    {
     "name": "stdout",
     "output_type": "stream",
     "text": [
      "Hello torch.Size([1, 3, 224, 224])\n",
      "Original shape [1, 3, 224, 224]\n",
      "Hello torch.Size([1, 3, 224, 224])\n",
      "Original shape [1, 3, 224, 224]\n",
      "Hello torch.Size([1, 3, 224, 224])\n",
      "Original shape [1, 3, 224, 224]\n",
      "Hello torch.Size([1, 3, 224, 224])\n",
      "Original shape [1, 3, 224, 224]\n"
     ]
    },
    {
     "name": "stderr",
     "output_type": "stream",
     "text": [
      " 31%|████████████▏                           | 382/1250 [00:26<01:00, 14.41it/s]"
     ]
    },
    {
     "name": "stdout",
     "output_type": "stream",
     "text": [
      "Hello torch.Size([1, 3, 224, 224])\n",
      "Original shape [1, 3, 224, 224]\n",
      "Hello torch.Size([1, 3, 224, 224])\n",
      "Original shape [1, 3, 224, 224]\n",
      "Hello torch.Size([1, 3, 224, 224])\n",
      "Original shape [1, 3, 224, 224]\n"
     ]
    },
    {
     "name": "stderr",
     "output_type": "stream",
     "text": [
      "\r",
      " 31%|████████████▎                           | 384/1250 [00:26<01:04, 13.41it/s]"
     ]
    },
    {
     "name": "stdout",
     "output_type": "stream",
     "text": [
      "Hello torch.Size([1, 3, 224, 224])\n",
      "Original shape [1, 3, 224, 224]\n",
      "Hello torch.Size([1, 3, 224, 224])\n",
      "Original shape [1, 3, 224, 224]\n",
      "Hello torch.Size([1, 3, 224, 224])\n",
      "Original shape [1, 3, 224, 224]\n"
     ]
    },
    {
     "name": "stderr",
     "output_type": "stream",
     "text": [
      "\r",
      " 31%|████████████▎                           | 386/1250 [00:27<01:35,  9.05it/s]"
     ]
    },
    {
     "name": "stdout",
     "output_type": "stream",
     "text": [
      "Hello torch.Size([1, 3, 224, 224])\n",
      "Original shape [1, 3, 224, 224]\n",
      "Hello torch.Size([1, 3, 224, 224])\n",
      "Original shape [1, 3, 224, 224]\n"
     ]
    },
    {
     "name": "stderr",
     "output_type": "stream",
     "text": [
      "\r",
      " 31%|████████████▍                           | 388/1250 [00:27<01:59,  7.23it/s]"
     ]
    },
    {
     "name": "stdout",
     "output_type": "stream",
     "text": [
      "Hello torch.Size([1, 3, 224, 224])\n",
      "Original shape [1, 3, 224, 224]\n",
      "Hello torch.Size([1, 3, 224, 224])\n",
      "Original shape [1, 3, 224, 224]\n"
     ]
    },
    {
     "name": "stderr",
     "output_type": "stream",
     "text": [
      "\r",
      " 31%|████████████▍                           | 390/1250 [00:27<01:52,  7.67it/s]"
     ]
    },
    {
     "name": "stdout",
     "output_type": "stream",
     "text": [
      "Hello torch.Size([1, 3, 224, 224])\n",
      "Original shape [1, 3, 224, 224]\n",
      "Hello torch.Size([1, 3, 224, 224])\n",
      "Original shape [1, 3, 224, 224]\n"
     ]
    },
    {
     "name": "stderr",
     "output_type": "stream",
     "text": [
      " 31%|████████████▌                           | 393/1250 [00:27<01:34,  9.07it/s]"
     ]
    },
    {
     "name": "stdout",
     "output_type": "stream",
     "text": [
      "Hello torch.Size([1, 3, 224, 224])\n",
      "Original shape [1, 3, 224, 224]\n",
      "Hello torch.Size([1, 3, 224, 224])\n",
      "Original shape [1, 3, 224, 224]\n",
      "Hello torch.Size([1, 3, 224, 224])\n",
      "Original shape [1, 3, 224, 224]\n",
      "Hello torch.Size([1, 3, 224, 224])\n",
      "Original shape [1, 3, 224, 224]\n"
     ]
    },
    {
     "name": "stderr",
     "output_type": "stream",
     "text": [
      " 32%|████████████▊                           | 399/1250 [00:28<01:03, 13.45it/s]"
     ]
    },
    {
     "name": "stdout",
     "output_type": "stream",
     "text": [
      "Hello torch.Size([1, 3, 224, 224])\n",
      "Original shape [1, 3, 224, 224]\n",
      "Hello torch.Size([1, 3, 224, 224])\n",
      "Original shape [1, 3, 224, 224]\n",
      "Hello torch.Size([1, 3, 224, 224])\n",
      "Original shape [1, 3, 224, 224]\n",
      "Hello torch.Size([1, 3, 224, 224])\n",
      "Original shape [1, 3, 224, 224]\n"
     ]
    },
    {
     "name": "stderr",
     "output_type": "stream",
     "text": [
      "\r",
      " 32%|████████████▊                           | 401/1250 [00:28<01:08, 12.43it/s]"
     ]
    },
    {
     "name": "stdout",
     "output_type": "stream",
     "text": [
      "Hello torch.Size([1, 3, 224, 224])\n",
      "Original shape [1, 3, 224, 224]\n",
      "Hello torch.Size([1, 3, 224, 224])\n",
      "Original shape [1, 3, 224, 224]\n",
      "Hello torch.Size([1, 3, 224, 224])\n",
      "Original shape [1, 3, 224, 224]\n"
     ]
    },
    {
     "name": "stderr",
     "output_type": "stream",
     "text": [
      "\r",
      " 32%|████████████▉                           | 403/1250 [00:28<01:15, 11.29it/s]"
     ]
    },
    {
     "name": "stdout",
     "output_type": "stream",
     "text": [
      "Hello torch.Size([1, 3, 224, 224])\n",
      "Original shape [1, 3, 224, 224]\n",
      "Hello torch.Size([1, 3, 224, 224])\n",
      "Original shape [1, 3, 224, 224]\n",
      "Hello torch.Size([1, 3, 224, 224])\n",
      "Original shape [1, 3, 224, 224]\n"
     ]
    },
    {
     "name": "stderr",
     "output_type": "stream",
     "text": [
      "\r",
      " 32%|████████████▉                           | 406/1250 [00:28<01:10, 12.01it/s]"
     ]
    },
    {
     "name": "stdout",
     "output_type": "stream",
     "text": [
      "Hello torch.Size([1, 3, 224, 224])\n",
      "Original shape [1, 3, 224, 224]\n",
      "Hello torch.Size([1, 3, 224, 224])\n",
      "Original shape [1, 3, 224, 224]\n",
      "Hello torch.Size([1, 3, 224, 224])\n",
      "Original shape [1, 3, 224, 224]\n"
     ]
    },
    {
     "name": "stderr",
     "output_type": "stream",
     "text": [
      " 33%|█████████████                           | 410/1250 [00:29<01:21, 10.25it/s]"
     ]
    },
    {
     "name": "stdout",
     "output_type": "stream",
     "text": [
      "Hello torch.Size([1, 3, 224, 224])\n",
      "Original shape [1, 3, 224, 224]\n",
      "Hello torch.Size([1, 3, 224, 224])\n",
      "Original shape [1, 3, 224, 224]\n"
     ]
    },
    {
     "name": "stderr",
     "output_type": "stream",
     "text": [
      "\r",
      " 33%|█████████████▏                          | 412/1250 [00:29<01:15, 11.03it/s]"
     ]
    },
    {
     "name": "stdout",
     "output_type": "stream",
     "text": [
      "Hello torch.Size([1, 3, 224, 224])\n",
      "Original shape [1, 3, 224, 224]\n",
      "Hello torch.Size([1, 3, 224, 224])\n",
      "Original shape [1, 3, 224, 224]\n",
      "Hello torch.Size([1, 3, 224, 224])\n",
      "Original shape [1, 3, 224, 224]\n"
     ]
    },
    {
     "name": "stderr",
     "output_type": "stream",
     "text": [
      " 33%|█████████████▎                          | 416/1250 [00:29<01:07, 12.44it/s]"
     ]
    },
    {
     "name": "stdout",
     "output_type": "stream",
     "text": [
      "Hello torch.Size([1, 3, 224, 224])\n",
      "Original shape [1, 3, 224, 224]\n",
      "Hello torch.Size([1, 3, 224, 224])\n",
      "Original shape [1, 3, 224, 224]\n",
      "Hello torch.Size([1, 3, 224, 224])\n",
      "Original shape [1, 3, 224, 224]\n",
      "Hello torch.Size([1, 3, 224, 224])\n",
      "Original shape [1, 3, 224, 224]\n"
     ]
    },
    {
     "name": "stderr",
     "output_type": "stream",
     "text": [
      "\r",
      " 33%|█████████████▍                          | 418/1250 [00:30<01:19, 10.51it/s]"
     ]
    },
    {
     "name": "stdout",
     "output_type": "stream",
     "text": [
      "Hello torch.Size([1, 3, 224, 224])\n",
      "Original shape [1, 3, 224, 224]\n",
      "Hello torch.Size([1, 3, 224, 224])\n",
      "Original shape [1, 3, 224, 224]\n",
      "Hello torch.Size([1, 3, 224, 224])\n",
      "Original shape [1, 3, 224, 224]\n"
     ]
    },
    {
     "name": "stderr",
     "output_type": "stream",
     "text": [
      " 34%|█████████████▌                          | 422/1250 [00:30<01:20, 10.35it/s]"
     ]
    },
    {
     "name": "stdout",
     "output_type": "stream",
     "text": [
      "Hello torch.Size([1, 3, 224, 224])\n",
      "Original shape [1, 3, 224, 224]\n",
      "Hello torch.Size([1, 3, 224, 224])\n",
      "Original shape [1, 3, 224, 224]\n",
      "Hello torch.Size([1, 3, 224, 224])\n",
      "Original shape [1, 3, 224, 224]\n"
     ]
    },
    {
     "name": "stderr",
     "output_type": "stream",
     "text": [
      "\r",
      " 34%|█████████████▌                          | 424/1250 [00:30<01:34,  8.74it/s]"
     ]
    },
    {
     "name": "stdout",
     "output_type": "stream",
     "text": [
      "Hello torch.Size([1, 3, 224, 224])\n",
      "Original shape [1, 3, 224, 224]\n"
     ]
    },
    {
     "name": "stderr",
     "output_type": "stream",
     "text": [
      "\r",
      " 34%|█████████████▌                          | 425/1250 [00:30<01:39,  8.33it/s]"
     ]
    },
    {
     "name": "stdout",
     "output_type": "stream",
     "text": [
      "Hello torch.Size([1, 3, 224, 224])\n",
      "Original shape [1, 3, 224, 224]\n"
     ]
    },
    {
     "name": "stderr",
     "output_type": "stream",
     "text": [
      " 34%|█████████████▋                          | 428/1250 [00:31<01:32,  8.89it/s]"
     ]
    },
    {
     "name": "stdout",
     "output_type": "stream",
     "text": [
      "Hello torch.Size([1, 3, 224, 224])\n",
      "Original shape [1, 3, 224, 224]\n",
      "Hello torch.Size([1, 3, 224, 224])\n",
      "Original shape [1, 3, 224, 224]\n",
      "Hello torch.Size([1, 3, 224, 224])\n",
      "Original shape [1, 3, 224, 224]\n"
     ]
    },
    {
     "name": "stderr",
     "output_type": "stream",
     "text": [
      "\r",
      " 34%|█████████████▊                          | 430/1250 [00:31<01:15, 10.80it/s]"
     ]
    },
    {
     "name": "stdout",
     "output_type": "stream",
     "text": [
      "Hello torch.Size([1, 3, 224, 224])\n",
      "Original shape [1, 3, 224, 224]\n",
      "Hello torch.Size([1, 3, 224, 224])\n",
      "Original shape [1, 3, 224, 224]\n",
      "Hello torch.Size([1, 3, 224, 224])\n",
      "Original shape [1, 3, 224, 224]\n"
     ]
    },
    {
     "name": "stderr",
     "output_type": "stream",
     "text": [
      "\r",
      " 35%|█████████████▊                          | 432/1250 [00:31<01:18, 10.36it/s]"
     ]
    },
    {
     "name": "stdout",
     "output_type": "stream",
     "text": [
      "Hello torch.Size([1, 3, 224, 224])\n",
      "Original shape [1, 3, 224, 224]\n",
      "Hello torch.Size([1, 3, 224, 224])\n",
      "Original shape [1, 3, 224, 224]\n",
      "Hello torch.Size([1, 3, 224, 224])\n",
      "Original shape [1, 3, 224, 224]\n"
     ]
    },
    {
     "name": "stderr",
     "output_type": "stream",
     "text": [
      " 35%|█████████████▉                          | 436/1250 [00:32<01:22,  9.83it/s]"
     ]
    },
    {
     "name": "stdout",
     "output_type": "stream",
     "text": [
      "Hello torch.Size([1, 3, 224, 224])\n",
      "Original shape [1, 3, 224, 224]\n",
      "Hello torch.Size([1, 3, 224, 224])\n",
      "Original shape [1, 3, 224, 224]\n",
      "Hello torch.Size([1, 3, 224, 224])\n",
      "Original shape [1, 3, 224, 224]\n"
     ]
    },
    {
     "name": "stderr",
     "output_type": "stream",
     "text": [
      "\r",
      " 35%|██████████████                          | 438/1250 [00:32<01:37,  8.32it/s]"
     ]
    },
    {
     "name": "stdout",
     "output_type": "stream",
     "text": [
      "Hello torch.Size([1, 3, 224, 224])\n",
      "Original shape [1, 3, 224, 224]\n",
      "Hello torch.Size([1, 3, 224, 224])\n",
      "Original shape [1, 3, 224, 224]\n"
     ]
    },
    {
     "name": "stderr",
     "output_type": "stream",
     "text": [
      " 35%|██████████████▏                         | 442/1250 [00:32<01:22,  9.78it/s]"
     ]
    },
    {
     "name": "stdout",
     "output_type": "stream",
     "text": [
      "Hello torch.Size([1, 3, 224, 224])\n",
      "Original shape [1, 3, 224, 224]\n",
      "Hello torch.Size([1, 3, 224, 224])\n",
      "Original shape [1, 3, 224, 224]\n",
      "Hello torch.Size([1, 3, 224, 224])\n",
      "Original shape [1, 3, 224, 224]\n",
      "Hello torch.Size([1, 3, 224, 224])\n",
      "Original shape [1, 3, 224, 224]\n"
     ]
    },
    {
     "name": "stderr",
     "output_type": "stream",
     "text": [
      " 36%|██████████████▎                         | 447/1250 [00:33<00:58, 13.72it/s]"
     ]
    },
    {
     "name": "stdout",
     "output_type": "stream",
     "text": [
      "Hello torch.Size([1, 3, 224, 224])\n",
      "Original shape [1, 3, 224, 224]\n",
      "Hello torch.Size([1, 3, 224, 224])\n",
      "Original shape [1, 3, 224, 224]\n",
      "Hello torch.Size([1, 3, 224, 224])\n",
      "Original shape [1, 3, 224, 224]\n",
      "Hello torch.Size([1, 3, 224, 224])\n",
      "Original shape [1, 3, 224, 224]\n"
     ]
    },
    {
     "name": "stderr",
     "output_type": "stream",
     "text": [
      " 36%|██████████████▍                         | 451/1250 [00:33<00:53, 15.02it/s]"
     ]
    },
    {
     "name": "stdout",
     "output_type": "stream",
     "text": [
      "Hello torch.Size([1, 3, 224, 224])\n",
      "Original shape [1, 3, 224, 224]\n",
      "Hello torch.Size([1, 3, 224, 224])\n",
      "Original shape [1, 3, 224, 224]\n",
      "Hello torch.Size([1, 3, 224, 224])\n",
      "Original shape [1, 3, 224, 224]\n",
      "Hello torch.Size([1, 3, 224, 224])\n",
      "Original shape [1, 3, 224, 224]\n"
     ]
    },
    {
     "name": "stderr",
     "output_type": "stream",
     "text": [
      " 36%|██████████████▌                         | 456/1250 [00:33<00:44, 17.83it/s]"
     ]
    },
    {
     "name": "stdout",
     "output_type": "stream",
     "text": [
      "Hello torch.Size([1, 3, 224, 224])\n",
      "Original shape [1, 3, 224, 224]\n",
      "Hello torch.Size([1, 3, 224, 224])\n",
      "Original shape [1, 3, 224, 224]\n",
      "Hello torch.Size([1, 3, 224, 224])\n",
      "Original shape [1, 3, 224, 224]\n",
      "Hello torch.Size([1, 3, 224, 224])\n",
      "Original shape [1, 3, 224, 224]\n",
      "Hello torch.Size([1, 3, 224, 224])\n",
      "Original shape [1, 3, 224, 224]\n"
     ]
    },
    {
     "name": "stderr",
     "output_type": "stream",
     "text": [
      "\r",
      " 37%|██████████████▋                         | 459/1250 [00:33<00:41, 19.21it/s]"
     ]
    },
    {
     "name": "stdout",
     "output_type": "stream",
     "text": [
      "Hello torch.Size([1, 3, 224, 224])\n",
      "Original shape [1, 3, 224, 224]\n",
      "Hello torch.Size([1, 3, 224, 224])\n",
      "Original shape [1, 3, 224, 224]\n",
      "Hello torch.Size([1, 3, 224, 224])\n",
      "Original shape [1, 3, 224, 224]\n",
      "Hello torch.Size([1, 3, 224, 224])\n",
      "Original shape [1, 3, 224, 224]\n",
      "Hello torch.Size([1, 3, 224, 224])\n",
      "Original shape [1, 3, 224, 224]\n"
     ]
    },
    {
     "name": "stderr",
     "output_type": "stream",
     "text": [
      " 37%|██████████████▉                         | 465/1250 [00:33<00:36, 21.24it/s]"
     ]
    },
    {
     "name": "stdout",
     "output_type": "stream",
     "text": [
      "Hello torch.Size([1, 3, 224, 224])\n",
      "Original shape [1, 3, 224, 224]\n",
      "Hello torch.Size([1, 3, 224, 224])\n",
      "Original shape [1, 3, 224, 224]\n",
      "Hello torch.Size([1, 3, 224, 224])\n",
      "Original shape [1, 3, 224, 224]\n",
      "Hello torch.Size([1, 3, 224, 224])\n",
      "Original shape [1, 3, 224, 224]\n",
      "Hello torch.Size([1, 3, 224, 224])\n",
      "Original shape [1, 3, 224, 224]\n"
     ]
    },
    {
     "name": "stderr",
     "output_type": "stream",
     "text": [
      " 38%|███████████████                         | 471/1250 [00:34<00:35, 22.14it/s]"
     ]
    },
    {
     "name": "stdout",
     "output_type": "stream",
     "text": [
      "Hello torch.Size([1, 3, 224, 224])\n",
      "Original shape [1, 3, 224, 224]\n",
      "Hello torch.Size([1, 3, 224, 224])\n",
      "Original shape [1, 3, 224, 224]\n",
      "Hello torch.Size([1, 3, 224, 224])\n",
      "Original shape [1, 3, 224, 224]\n",
      "Hello torch.Size([1, 3, 224, 224])\n",
      "Original shape [1, 3, 224, 224]\n",
      "Hello torch.Size([1, 3, 224, 224])\n",
      "Original shape [1, 3, 224, 224]\n"
     ]
    },
    {
     "name": "stderr",
     "output_type": "stream",
     "text": [
      "\r",
      " 38%|███████████████▏                        | 474/1250 [00:34<00:36, 21.07it/s]"
     ]
    },
    {
     "name": "stdout",
     "output_type": "stream",
     "text": [
      "Hello torch.Size([1, 3, 224, 224])\n",
      "Original shape [1, 3, 224, 224]\n",
      "Hello torch.Size([1, 3, 224, 224])\n",
      "Original shape [1, 3, 224, 224]\n",
      "Hello torch.Size([1, 3, 224, 224])\n",
      "Original shape [1, 3, 224, 224]\n"
     ]
    },
    {
     "name": "stderr",
     "output_type": "stream",
     "text": [
      "\r",
      " 38%|███████████████▎                        | 477/1250 [00:34<00:42, 18.26it/s]"
     ]
    },
    {
     "name": "stdout",
     "output_type": "stream",
     "text": [
      "Hello torch.Size([1, 3, 224, 224])\n",
      "Original shape [1, 3, 224, 224]\n",
      "Hello torch.Size([1, 3, 224, 224])\n",
      "Original shape [1, 3, 224, 224]\n",
      "Hello torch.Size([1, 3, 224, 224])\n",
      "Original shape [1, 3, 224, 224]\n",
      "Hello torch.Size([1, 3, 224, 224])\n",
      "Original shape [1, 3, 224, 224]\n"
     ]
    },
    {
     "name": "stderr",
     "output_type": "stream",
     "text": [
      " 39%|███████████████▍                        | 482/1250 [00:34<00:40, 18.76it/s]"
     ]
    },
    {
     "name": "stdout",
     "output_type": "stream",
     "text": [
      "Hello torch.Size([1, 3, 224, 224])\n",
      "Original shape [1, 3, 224, 224]\n",
      "Hello torch.Size([1, 3, 224, 224])\n",
      "Original shape [1, 3, 224, 224]\n",
      "Hello torch.Size([1, 3, 224, 224])\n",
      "Original shape [1, 3, 224, 224]\n",
      "Hello torch.Size([1, 3, 224, 224])\n",
      "Original shape [1, 3, 224, 224]\n",
      "Hello torch.Size([1, 3, 224, 224])\n",
      "Original shape [1, 3, 224, 224]\n"
     ]
    },
    {
     "name": "stderr",
     "output_type": "stream",
     "text": [
      " 39%|███████████████▌                        | 487/1250 [00:35<00:39, 19.28it/s]"
     ]
    },
    {
     "name": "stdout",
     "output_type": "stream",
     "text": [
      "Hello torch.Size([1, 3, 224, 224])\n",
      "Original shape [1, 3, 224, 224]\n",
      "Hello torch.Size([1, 3, 224, 224])\n",
      "Original shape [1, 3, 224, 224]\n",
      "Hello torch.Size([1, 3, 224, 224])\n",
      "Original shape [1, 3, 224, 224]\n",
      "Hello torch.Size([1, 3, 224, 224])\n",
      "Original shape [1, 3, 224, 224]\n",
      "Hello torch.Size([1, 3, 224, 224])\n",
      "Original shape [1, 3, 224, 224]\n"
     ]
    },
    {
     "name": "stderr",
     "output_type": "stream",
     "text": [
      "\r",
      " 39%|███████████████▋                        | 490/1250 [00:35<00:41, 18.40it/s]"
     ]
    },
    {
     "name": "stdout",
     "output_type": "stream",
     "text": [
      "Hello torch.Size([1, 3, 224, 224])\n",
      "Original shape [1, 3, 224, 224]\n",
      "Hello torch.Size([1, 3, 224, 224])\n",
      "Original shape [1, 3, 224, 224]\n",
      "Hello torch.Size([1, 3, 224, 224])\n",
      "Original shape [1, 3, 224, 224]\n",
      "Hello torch.Size([1, 3, 224, 224])\n",
      "Original shape [1, 3, 224, 224]\n"
     ]
    },
    {
     "name": "stderr",
     "output_type": "stream",
     "text": [
      " 40%|███████████████▊                        | 496/1250 [00:35<00:36, 20.58it/s]"
     ]
    },
    {
     "name": "stdout",
     "output_type": "stream",
     "text": [
      "Hello torch.Size([1, 3, 224, 224])\n",
      "Original shape [1, 3, 224, 224]\n",
      "Hello torch.Size([1, 3, 224, 224])\n",
      "Original shape [1, 3, 224, 224]\n",
      "Hello torch.Size([1, 3, 224, 224])\n",
      "Original shape [1, 3, 224, 224]\n",
      "Hello torch.Size([1, 3, 224, 224])\n",
      "Original shape [1, 3, 224, 224]\n",
      "Hello torch.Size([1, 3, 224, 224])\n",
      "Original shape [1, 3, 224, 224]\n"
     ]
    },
    {
     "name": "stderr",
     "output_type": "stream",
     "text": [
      "\r",
      " 40%|███████████████▉                        | 499/1250 [00:35<00:38, 19.37it/s]"
     ]
    },
    {
     "name": "stdout",
     "output_type": "stream",
     "text": [
      "Hello torch.Size([1, 3, 224, 224])\n",
      "Original shape [1, 3, 224, 224]\n",
      "Hello torch.Size([1, 3, 224, 224])\n",
      "Original shape [1, 3, 224, 224]\n",
      "Hello torch.Size([1, 3, 224, 224])\n",
      "Original shape [1, 3, 224, 224]\n",
      "Hello torch.Size([1, 3, 224, 224])\n",
      "Original shape [1, 3, 224, 224]\n",
      "Hello torch.Size([1, 3, 224, 224])\n",
      "Original shape [1, 3, 224, 224]\n"
     ]
    },
    {
     "name": "stderr",
     "output_type": "stream",
     "text": [
      " 40%|████████████████▏                       | 505/1250 [00:35<00:35, 20.87it/s]"
     ]
    },
    {
     "name": "stdout",
     "output_type": "stream",
     "text": [
      "Hello torch.Size([1, 3, 224, 224])\n",
      "Original shape [1, 3, 224, 224]\n",
      "Hello torch.Size([1, 3, 224, 224])\n",
      "Original shape [1, 3, 224, 224]\n",
      "Hello torch.Size([1, 3, 224, 224])\n",
      "Original shape [1, 3, 224, 224]\n",
      "Hello torch.Size([1, 3, 224, 224])\n",
      "Original shape [1, 3, 224, 224]\n",
      "Hello torch.Size([1, 3, 224, 224])\n",
      "Original shape [1, 3, 224, 224]\n"
     ]
    },
    {
     "name": "stderr",
     "output_type": "stream",
     "text": [
      "\r",
      " 41%|████████████████▎                       | 508/1250 [00:36<00:36, 20.58it/s]"
     ]
    },
    {
     "name": "stdout",
     "output_type": "stream",
     "text": [
      "Hello torch.Size([1, 3, 224, 224])\n",
      "Original shape [1, 3, 224, 224]\n",
      "Hello torch.Size([1, 3, 224, 224])\n",
      "Original shape [1, 3, 224, 224]\n",
      "Hello torch.Size([1, 3, 224, 224])\n",
      "Original shape [1, 3, 224, 224]\n",
      "Hello torch.Size([1, 3, 224, 224])\n",
      "Original shape [1, 3, 224, 224]\n"
     ]
    },
    {
     "name": "stderr",
     "output_type": "stream",
     "text": [
      " 41%|████████████████▍                       | 514/1250 [00:36<00:40, 18.16it/s]"
     ]
    },
    {
     "name": "stdout",
     "output_type": "stream",
     "text": [
      "Hello torch.Size([1, 3, 224, 224])\n",
      "Original shape [1, 3, 224, 224]\n",
      "Hello torch.Size([1, 3, 224, 224])\n",
      "Original shape [1, 3, 224, 224]\n",
      "Hello torch.Size([1, 3, 224, 224])\n",
      "Original shape [1, 3, 224, 224]\n",
      "Hello torch.Size([1, 3, 224, 224])\n",
      "Original shape [1, 3, 224, 224]\n"
     ]
    },
    {
     "name": "stderr",
     "output_type": "stream",
     "text": [
      "\r",
      " 41%|████████████████▌                       | 517/1250 [00:36<00:37, 19.69it/s]"
     ]
    },
    {
     "name": "stdout",
     "output_type": "stream",
     "text": [
      "Hello torch.Size([1, 3, 224, 224])\n",
      "Original shape [1, 3, 224, 224]\n",
      "Hello torch.Size([1, 3, 224, 224])\n",
      "Original shape [1, 3, 224, 224]\n",
      "Hello torch.Size([1, 3, 224, 224])\n",
      "Original shape [1, 3, 224, 224]\n",
      "Hello torch.Size([1, 3, 224, 224])\n",
      "Original shape [1, 3, 224, 224]\n"
     ]
    },
    {
     "name": "stderr",
     "output_type": "stream",
     "text": [
      " 42%|████████████████▋                       | 523/1250 [00:36<00:36, 19.86it/s]"
     ]
    },
    {
     "name": "stdout",
     "output_type": "stream",
     "text": [
      "Hello torch.Size([1, 3, 224, 224])\n",
      "Original shape [1, 3, 224, 224]\n",
      "Hello torch.Size([1, 3, 224, 224])\n",
      "Original shape [1, 3, 224, 224]\n",
      "Hello torch.Size([1, 3, 224, 224])\n",
      "Original shape [1, 3, 224, 224]\n",
      "Hello torch.Size([1, 3, 224, 224])\n",
      "Original shape [1, 3, 224, 224]\n",
      "Hello torch.Size([1, 3, 224, 224])\n",
      "Original shape [1, 3, 224, 224]\n"
     ]
    },
    {
     "name": "stderr",
     "output_type": "stream",
     "text": [
      "\r",
      " 42%|████████████████▊                       | 526/1250 [00:37<00:37, 19.33it/s]"
     ]
    },
    {
     "name": "stdout",
     "output_type": "stream",
     "text": [
      "Hello torch.Size([1, 3, 224, 224])\n",
      "Original shape [1, 3, 224, 224]\n",
      "Hello torch.Size([1, 3, 224, 224])\n",
      "Original shape [1, 3, 224, 224]\n",
      "Hello torch.Size([1, 3, 224, 224])\n",
      "Original shape [1, 3, 224, 224]\n",
      "Hello torch.Size([1, 3, 224, 224])\n",
      "Original shape [1, 3, 224, 224]\n",
      "Hello torch.Size([1, 3, 224, 224])\n",
      "Original shape [1, 3, 224, 224]\n"
     ]
    },
    {
     "name": "stderr",
     "output_type": "stream",
     "text": [
      " 43%|█████████████████                       | 532/1250 [00:37<00:35, 20.14it/s]"
     ]
    },
    {
     "name": "stdout",
     "output_type": "stream",
     "text": [
      "Hello torch.Size([1, 3, 224, 224])\n",
      "Original shape [1, 3, 224, 224]\n",
      "Hello torch.Size([1, 3, 224, 224])\n",
      "Original shape [1, 3, 224, 224]\n",
      "Hello torch.Size([1, 3, 224, 224])\n",
      "Original shape [1, 3, 224, 224]\n",
      "Hello torch.Size([1, 3, 224, 224])\n",
      "Original shape [1, 3, 224, 224]\n"
     ]
    },
    {
     "name": "stderr",
     "output_type": "stream",
     "text": [
      "\r",
      " 43%|█████████████████                       | 535/1250 [00:37<00:45, 15.61it/s]"
     ]
    },
    {
     "name": "stdout",
     "output_type": "stream",
     "text": [
      "Hello torch.Size([1, 3, 224, 224])\n",
      "Original shape [1, 3, 224, 224]\n",
      "Hello torch.Size([1, 3, 224, 224])\n",
      "Original shape [1, 3, 224, 224]\n",
      "Hello torch.Size([1, 3, 224, 224])\n",
      "Original shape [1, 3, 224, 224]\n",
      "Hello torch.Size([1, 3, 224, 224])\n",
      "Original shape [1, 3, 224, 224]\n"
     ]
    },
    {
     "name": "stderr",
     "output_type": "stream",
     "text": [
      " 43%|█████████████████▎                      | 540/1250 [00:37<00:43, 16.36it/s]"
     ]
    },
    {
     "name": "stdout",
     "output_type": "stream",
     "text": [
      "Hello torch.Size([1, 3, 224, 224])\n",
      "Original shape [1, 3, 224, 224]\n",
      "Hello torch.Size([1, 3, 224, 224])\n",
      "Original shape [1, 3, 224, 224]\n",
      "Hello torch.Size([1, 3, 224, 224])\n",
      "Original shape [1, 3, 224, 224]\n",
      "Hello torch.Size([1, 3, 224, 224])\n",
      "Original shape [1, 3, 224, 224]\n"
     ]
    },
    {
     "name": "stderr",
     "output_type": "stream",
     "text": [
      "\r",
      " 43%|█████████████████▍                      | 543/1250 [00:38<00:40, 17.43it/s]"
     ]
    },
    {
     "name": "stdout",
     "output_type": "stream",
     "text": [
      "Hello torch.Size([1, 3, 224, 224])\n",
      "Original shape [1, 3, 224, 224]\n",
      "Hello torch.Size([1, 3, 224, 224])\n",
      "Original shape [1, 3, 224, 224]\n",
      "Hello torch.Size([1, 3, 224, 224])\n",
      "Original shape [1, 3, 224, 224]\n",
      "Hello torch.Size([1, 3, 224, 224])\n",
      "Original shape [1, 3, 224, 224]\n",
      "Hello torch.Size([1, 3, 224, 224])\n",
      "Original shape [1, 3, 224, 224]\n"
     ]
    },
    {
     "name": "stderr",
     "output_type": "stream",
     "text": [
      " 44%|█████████████████▌                      | 549/1250 [00:38<00:35, 19.65it/s]"
     ]
    },
    {
     "name": "stdout",
     "output_type": "stream",
     "text": [
      "Hello torch.Size([1, 3, 224, 224])\n",
      "Original shape [1, 3, 224, 224]\n",
      "Hello torch.Size([1, 3, 224, 224])\n",
      "Original shape [1, 3, 224, 224]\n",
      "Hello torch.Size([1, 3, 224, 224])\n",
      "Original shape [1, 3, 224, 224]\n",
      "Hello torch.Size([1, 3, 224, 224])\n",
      "Original shape [1, 3, 224, 224]\n",
      "Hello torch.Size([1, 3, 224, 224])\n",
      "Original shape [1, 3, 224, 224]\n"
     ]
    },
    {
     "name": "stderr",
     "output_type": "stream",
     "text": [
      " 44%|█████████████████▊                      | 555/1250 [00:38<00:36, 19.27it/s]"
     ]
    },
    {
     "name": "stdout",
     "output_type": "stream",
     "text": [
      "Hello torch.Size([1, 3, 224, 224])\n",
      "Original shape [1, 3, 224, 224]\n",
      "Hello torch.Size([1, 3, 224, 224])\n",
      "Original shape [1, 3, 224, 224]\n",
      "Hello torch.Size([1, 3, 224, 224])\n",
      "Original shape [1, 3, 224, 224]\n",
      "Hello torch.Size([1, 3, 224, 224])\n",
      "Original shape [1, 3, 224, 224]\n"
     ]
    },
    {
     "name": "stderr",
     "output_type": "stream",
     "text": [
      "\r",
      " 45%|█████████████████▊                      | 557/1250 [00:38<00:38, 17.90it/s]"
     ]
    },
    {
     "name": "stdout",
     "output_type": "stream",
     "text": [
      "Hello torch.Size([1, 3, 224, 224])\n",
      "Original shape [1, 3, 224, 224]\n",
      "Hello torch.Size([1, 3, 224, 224])\n",
      "Original shape [1, 3, 224, 224]\n",
      "Hello torch.Size([1, 3, 224, 224])\n",
      "Original shape [1, 3, 224, 224]\n"
     ]
    },
    {
     "name": "stderr",
     "output_type": "stream",
     "text": [
      " 45%|█████████████████▉                      | 562/1250 [00:39<00:39, 17.28it/s]"
     ]
    },
    {
     "name": "stdout",
     "output_type": "stream",
     "text": [
      "Hello torch.Size([1, 3, 224, 224])\n",
      "Original shape [1, 3, 224, 224]\n",
      "Hello torch.Size([1, 3, 224, 224])\n",
      "Original shape [1, 3, 224, 224]\n",
      "Hello torch.Size([1, 3, 224, 224])\n",
      "Original shape [1, 3, 224, 224]\n",
      "Hello torch.Size([1, 3, 224, 224])\n",
      "Original shape [1, 3, 224, 224]\n"
     ]
    },
    {
     "name": "stderr",
     "output_type": "stream",
     "text": [
      "\r",
      " 45%|██████████████████                      | 564/1250 [00:39<00:38, 17.66it/s]"
     ]
    },
    {
     "name": "stdout",
     "output_type": "stream",
     "text": [
      "Hello torch.Size([1, 3, 224, 224])\n",
      "Original shape [1, 3, 224, 224]\n",
      "Hello torch.Size([1, 3, 224, 224])\n",
      "Original shape [1, 3, 224, 224]\n",
      "Hello torch.Size([1, 3, 224, 224])\n",
      "Original shape [1, 3, 224, 224]\n",
      "Hello torch.Size([1, 3, 224, 224])\n",
      "Original shape [1, 3, 224, 224]\n"
     ]
    },
    {
     "name": "stderr",
     "output_type": "stream",
     "text": [
      " 45%|██████████████████▏                     | 568/1250 [00:39<00:41, 16.54it/s]"
     ]
    },
    {
     "name": "stdout",
     "output_type": "stream",
     "text": [
      "Hello torch.Size([1, 3, 224, 224])\n",
      "Original shape [1, 3, 224, 224]\n",
      "Hello torch.Size([1, 3, 224, 224])\n",
      "Original shape [1, 3, 224, 224]\n",
      "Hello torch.Size([1, 3, 224, 224])\n",
      "Original shape [1, 3, 224, 224]\n",
      "Hello torch.Size([1, 3, 224, 224])\n",
      "Original shape [1, 3, 224, 224]\n"
     ]
    },
    {
     "name": "stderr",
     "output_type": "stream",
     "text": [
      " 46%|██████████████████▎                     | 572/1250 [00:39<00:45, 14.85it/s]"
     ]
    },
    {
     "name": "stdout",
     "output_type": "stream",
     "text": [
      "Hello torch.Size([1, 3, 224, 224])\n",
      "Original shape [1, 3, 224, 224]\n",
      "Hello torch.Size([1, 3, 224, 224])\n",
      "Original shape [1, 3, 224, 224]\n",
      "Hello torch.Size([1, 3, 224, 224])\n",
      "Original shape [1, 3, 224, 224]\n"
     ]
    },
    {
     "name": "stderr",
     "output_type": "stream",
     "text": [
      " 46%|██████████████████▍                     | 577/1250 [00:40<00:43, 15.53it/s]"
     ]
    },
    {
     "name": "stdout",
     "output_type": "stream",
     "text": [
      "Hello torch.Size([1, 3, 224, 224])\n",
      "Original shape [1, 3, 224, 224]\n",
      "Hello torch.Size([1, 3, 224, 224])\n",
      "Original shape [1, 3, 224, 224]\n",
      "Hello torch.Size([1, 3, 224, 224])\n",
      "Original shape [1, 3, 224, 224]\n",
      "Hello torch.Size([1, 3, 224, 224])\n",
      "Original shape [1, 3, 224, 224]\n"
     ]
    },
    {
     "name": "stderr",
     "output_type": "stream",
     "text": [
      "\r",
      " 46%|██████████████████▌                     | 579/1250 [00:40<00:40, 16.44it/s]"
     ]
    },
    {
     "name": "stdout",
     "output_type": "stream",
     "text": [
      "Hello torch.Size([1, 3, 224, 224])\n",
      "Original shape [1, 3, 224, 224]\n",
      "Hello torch.Size([1, 3, 224, 224])\n",
      "Original shape [1, 3, 224, 224]\n",
      "Hello torch.Size([1, 3, 224, 224])\n",
      "Original shape [1, 3, 224, 224]\n",
      "Hello torch.Size([1, 3, 224, 224])\n",
      "Original shape [1, 3, 224, 224]\n"
     ]
    },
    {
     "name": "stderr",
     "output_type": "stream",
     "text": [
      " 47%|██████████████████▋                     | 584/1250 [00:40<00:43, 15.17it/s]"
     ]
    },
    {
     "name": "stdout",
     "output_type": "stream",
     "text": [
      "Hello torch.Size([1, 3, 224, 224])\n",
      "Original shape [1, 3, 224, 224]\n",
      "Hello torch.Size([1, 3, 224, 224])\n",
      "Original shape [1, 3, 224, 224]\n",
      "Hello torch.Size([1, 3, 224, 224])\n",
      "Original shape [1, 3, 224, 224]\n",
      "Hello torch.Size([1, 3, 224, 224])\n",
      "Original shape [1, 3, 224, 224]\n"
     ]
    },
    {
     "name": "stderr",
     "output_type": "stream",
     "text": [
      " 47%|██████████████████▊                     | 588/1250 [00:40<00:42, 15.48it/s]"
     ]
    },
    {
     "name": "stdout",
     "output_type": "stream",
     "text": [
      "Hello torch.Size([1, 3, 224, 224])\n",
      "Original shape [1, 3, 224, 224]\n",
      "Hello torch.Size([1, 3, 224, 224])\n",
      "Original shape [1, 3, 224, 224]\n",
      "Hello torch.Size([1, 3, 224, 224])\n",
      "Original shape [1, 3, 224, 224]\n",
      "Hello torch.Size([1, 3, 224, 224])\n",
      "Original shape [1, 3, 224, 224]\n"
     ]
    },
    {
     "name": "stderr",
     "output_type": "stream",
     "text": [
      "\r",
      " 47%|██████████████████▉                     | 590/1250 [00:40<00:45, 14.35it/s]"
     ]
    },
    {
     "name": "stdout",
     "output_type": "stream",
     "text": [
      "Hello torch.Size([1, 3, 224, 224])\n",
      "Original shape [1, 3, 224, 224]\n",
      "Hello torch.Size([1, 3, 224, 224])\n",
      "Original shape [1, 3, 224, 224]\n"
     ]
    },
    {
     "name": "stderr",
     "output_type": "stream",
     "text": [
      "\r",
      " 47%|██████████████████▉                     | 592/1250 [00:41<00:52, 12.58it/s]"
     ]
    },
    {
     "name": "stdout",
     "output_type": "stream",
     "text": [
      "Hello torch.Size([1, 3, 224, 224])\n",
      "Original shape [1, 3, 224, 224]\n"
     ]
    },
    {
     "name": "stderr",
     "output_type": "stream",
     "text": [
      "\r",
      " 48%|███████████████████                     | 594/1250 [00:41<01:04, 10.16it/s]"
     ]
    },
    {
     "name": "stdout",
     "output_type": "stream",
     "text": [
      "Hello torch.Size([1, 3, 224, 224])\n",
      "Original shape [1, 3, 224, 224]\n",
      "Hello torch.Size([1, 3, 224, 224])\n",
      "Original shape [1, 3, 224, 224]\n",
      "Hello torch.Size([1, 3, 224, 224])\n",
      "Original shape [1, 3, 224, 224]\n",
      "Hello torch.Size([1, 3, 224, 224])\n",
      "Original shape [1, 3, 224, 224]\n"
     ]
    },
    {
     "name": "stderr",
     "output_type": "stream",
     "text": [
      " 48%|███████████████████▏                    | 598/1250 [00:41<00:55, 11.78it/s]"
     ]
    },
    {
     "name": "stdout",
     "output_type": "stream",
     "text": [
      "Hello torch.Size([1, 3, 224, 224])\n",
      "Original shape [1, 3, 224, 224]\n",
      "Hello torch.Size([1, 3, 224, 224])\n",
      "Original shape [1, 3, 224, 224]\n",
      "Hello torch.Size([1, 3, 224, 224])\n",
      "Original shape [1, 3, 224, 224]\n",
      "Hello torch.Size([1, 3, 224, 224])\n",
      "Original shape [1, 3, 224, 224]\n"
     ]
    },
    {
     "name": "stderr",
     "output_type": "stream",
     "text": [
      " 48%|███████████████████▎                    | 604/1250 [00:42<00:41, 15.74it/s]"
     ]
    },
    {
     "name": "stdout",
     "output_type": "stream",
     "text": [
      "Hello torch.Size([1, 3, 224, 224])\n",
      "Original shape [1, 3, 224, 224]\n",
      "Hello torch.Size([1, 3, 224, 224])\n",
      "Original shape [1, 3, 224, 224]\n",
      "Hello torch.Size([1, 3, 224, 224])\n",
      "Original shape [1, 3, 224, 224]\n",
      "Hello torch.Size([1, 3, 224, 224])\n",
      "Original shape [1, 3, 224, 224]\n"
     ]
    },
    {
     "name": "stderr",
     "output_type": "stream",
     "text": [
      "\r",
      " 48%|███████████████████▍                    | 606/1250 [00:42<00:40, 15.85it/s]"
     ]
    },
    {
     "name": "stdout",
     "output_type": "stream",
     "text": [
      "Hello torch.Size([1, 3, 224, 224])\n",
      "Original shape [1, 3, 224, 224]\n",
      "Hello torch.Size([1, 3, 224, 224])\n",
      "Original shape [1, 3, 224, 224]\n",
      "Hello torch.Size([1, 3, 224, 224])\n",
      "Original shape [1, 3, 224, 224]\n",
      "Hello torch.Size([1, 3, 224, 224])\n",
      "Original shape [1, 3, 224, 224]\n"
     ]
    },
    {
     "name": "stderr",
     "output_type": "stream",
     "text": [
      "\r",
      " 49%|███████████████████▍                    | 608/1250 [00:42<00:43, 14.79it/s]"
     ]
    },
    {
     "name": "stdout",
     "output_type": "stream",
     "text": [
      "Hello torch.Size([1, 3, 224, 224])\n",
      "Original shape [1, 3, 224, 224]\n",
      "Hello torch.Size([1, 3, 224, 224])\n",
      "Original shape [1, 3, 224, 224]\n",
      "Hello torch.Size([1, 3, 224, 224])\n",
      "Original shape [1, 3, 224, 224]\n"
     ]
    },
    {
     "name": "stderr",
     "output_type": "stream",
     "text": [
      " 49%|███████████████████▌                    | 613/1250 [00:42<00:46, 13.78it/s]"
     ]
    },
    {
     "name": "stdout",
     "output_type": "stream",
     "text": [
      "Hello torch.Size([1, 3, 224, 224])\n",
      "Original shape [1, 3, 224, 224]\n",
      "Hello torch.Size([1, 3, 224, 224])\n",
      "Original shape [1, 3, 224, 224]\n",
      "Hello torch.Size([1, 3, 224, 224])\n",
      "Original shape [1, 3, 224, 224]\n"
     ]
    },
    {
     "name": "stderr",
     "output_type": "stream",
     "text": [
      "\r",
      " 49%|███████████████████▋                    | 615/1250 [00:42<00:47, 13.49it/s]"
     ]
    },
    {
     "name": "stdout",
     "output_type": "stream",
     "text": [
      "Hello torch.Size([1, 3, 224, 224])\n",
      "Original shape [1, 3, 224, 224]\n",
      "Hello torch.Size([1, 3, 224, 224])\n",
      "Original shape [1, 3, 224, 224]\n",
      "Hello torch.Size([1, 3, 224, 224])\n",
      "Original shape [1, 3, 224, 224]\n"
     ]
    },
    {
     "name": "stderr",
     "output_type": "stream",
     "text": [
      " 50%|███████████████████▊                    | 619/1250 [00:43<00:45, 13.98it/s]"
     ]
    },
    {
     "name": "stdout",
     "output_type": "stream",
     "text": [
      "Hello torch.Size([1, 3, 224, 224])\n",
      "Original shape [1, 3, 224, 224]\n",
      "Hello torch.Size([1, 3, 224, 224])\n",
      "Original shape [1, 3, 224, 224]\n",
      "Hello torch.Size([1, 3, 224, 224])\n",
      "Original shape [1, 3, 224, 224]\n",
      "Hello torch.Size([1, 3, 224, 224])\n",
      "Original shape [1, 3, 224, 224]\n"
     ]
    },
    {
     "name": "stderr",
     "output_type": "stream",
     "text": [
      " 50%|████████████████████                    | 625/1250 [00:43<00:35, 17.56it/s]"
     ]
    },
    {
     "name": "stdout",
     "output_type": "stream",
     "text": [
      "Hello torch.Size([1, 3, 224, 224])\n",
      "Original shape [1, 3, 224, 224]\n",
      "Hello torch.Size([1, 3, 224, 224])\n",
      "Original shape [1, 3, 224, 224]\n",
      "Hello torch.Size([1, 3, 224, 224])\n",
      "Original shape [1, 3, 224, 224]\n",
      "Hello torch.Size([1, 3, 224, 224])\n",
      "Original shape [1, 3, 224, 224]\n",
      "Hello torch.Size([1, 3, 224, 224])\n",
      "Original shape [1, 3, 224, 224]\n"
     ]
    },
    {
     "name": "stderr",
     "output_type": "stream",
     "text": [
      " 50%|████████████████████▏                   | 629/1250 [00:43<00:35, 17.40it/s]"
     ]
    },
    {
     "name": "stdout",
     "output_type": "stream",
     "text": [
      "Hello torch.Size([1, 3, 224, 224])\n",
      "Original shape [1, 3, 224, 224]\n",
      "Hello torch.Size([1, 3, 224, 224])\n",
      "Original shape [1, 3, 224, 224]\n",
      "Hello torch.Size([1, 3, 224, 224])\n",
      "Original shape [1, 3, 224, 224]\n",
      "Hello torch.Size([1, 3, 224, 224])\n",
      "Original shape [1, 3, 224, 224]\n"
     ]
    },
    {
     "name": "stderr",
     "output_type": "stream",
     "text": [
      " 51%|████████████████████▎                   | 634/1250 [00:43<00:33, 18.28it/s]"
     ]
    },
    {
     "name": "stdout",
     "output_type": "stream",
     "text": [
      "Hello torch.Size([1, 3, 224, 224])\n",
      "Original shape [1, 3, 224, 224]\n",
      "Hello torch.Size([1, 3, 224, 224])\n",
      "Original shape [1, 3, 224, 224]\n",
      "Hello torch.Size([1, 3, 224, 224])\n",
      "Original shape [1, 3, 224, 224]\n",
      "Hello torch.Size([1, 3, 224, 224])\n",
      "Original shape [1, 3, 224, 224]\n"
     ]
    },
    {
     "name": "stderr",
     "output_type": "stream",
     "text": [
      "\r",
      " 51%|████████████████████▎                   | 636/1250 [00:43<00:32, 18.71it/s]"
     ]
    },
    {
     "name": "stdout",
     "output_type": "stream",
     "text": [
      "Hello torch.Size([1, 3, 224, 224])\n",
      "Original shape [1, 3, 224, 224]\n",
      "Hello torch.Size([1, 3, 224, 224])\n",
      "Original shape [1, 3, 224, 224]\n",
      "Hello torch.Size([1, 3, 224, 224])\n",
      "Original shape [1, 3, 224, 224]\n"
     ]
    },
    {
     "name": "stderr",
     "output_type": "stream",
     "text": [
      " 51%|████████████████████▌                   | 641/1250 [00:44<00:33, 18.23it/s]"
     ]
    },
    {
     "name": "stdout",
     "output_type": "stream",
     "text": [
      "Hello torch.Size([1, 3, 224, 224])\n",
      "Original shape [1, 3, 224, 224]\n",
      "Hello torch.Size([1, 3, 224, 224])\n",
      "Original shape [1, 3, 224, 224]\n",
      "Hello torch.Size([1, 3, 224, 224])\n",
      "Original shape [1, 3, 224, 224]\n",
      "Hello torch.Size([1, 3, 224, 224])\n",
      "Original shape [1, 3, 224, 224]\n"
     ]
    },
    {
     "name": "stderr",
     "output_type": "stream",
     "text": [
      "\r",
      " 51%|████████████████████▌                   | 643/1250 [00:44<00:37, 16.35it/s]"
     ]
    },
    {
     "name": "stdout",
     "output_type": "stream",
     "text": [
      "Hello torch.Size([1, 3, 224, 224])\n",
      "Original shape [1, 3, 224, 224]\n",
      "Hello torch.Size([1, 3, 224, 224])\n",
      "Original shape [1, 3, 224, 224]\n",
      "Hello torch.Size([1, 3, 224, 224])\n",
      "Original shape [1, 3, 224, 224]\n"
     ]
    },
    {
     "name": "stderr",
     "output_type": "stream",
     "text": [
      " 52%|████████████████████▋                   | 647/1250 [00:44<00:36, 16.50it/s]"
     ]
    },
    {
     "name": "stdout",
     "output_type": "stream",
     "text": [
      "Hello torch.Size([1, 3, 224, 224])\n",
      "Original shape [1, 3, 224, 224]\n",
      "Hello torch.Size([1, 3, 224, 224])\n",
      "Original shape [1, 3, 224, 224]\n",
      "Hello torch.Size([1, 3, 224, 224])\n",
      "Original shape [1, 3, 224, 224]\n",
      "Hello torch.Size([1, 3, 224, 224])\n",
      "Original shape [1, 3, 224, 224]\n"
     ]
    },
    {
     "name": "stderr",
     "output_type": "stream",
     "text": [
      "\r",
      " 52%|████████████████████▊                   | 650/1250 [00:44<00:35, 16.75it/s]"
     ]
    },
    {
     "name": "stdout",
     "output_type": "stream",
     "text": [
      "Hello torch.Size([1, 3, 224, 224])\n",
      "Original shape [1, 3, 224, 224]\n",
      "Hello torch.Size([1, 3, 224, 224])\n",
      "Original shape [1, 3, 224, 224]\n",
      "Hello torch.Size([1, 3, 224, 224])\n",
      "Original shape [1, 3, 224, 224]\n",
      "Hello torch.Size([1, 3, 224, 224])\n",
      "Original shape [1, 3, 224, 224]\n"
     ]
    },
    {
     "name": "stderr",
     "output_type": "stream",
     "text": [
      " 52%|████████████████████▉                   | 654/1250 [00:45<00:38, 15.47it/s]"
     ]
    },
    {
     "name": "stdout",
     "output_type": "stream",
     "text": [
      "Hello torch.Size([1, 3, 224, 224])\n",
      "Original shape [1, 3, 224, 224]\n",
      "Hello torch.Size([1, 3, 224, 224])\n",
      "Original shape [1, 3, 224, 224]\n",
      "Hello torch.Size([1, 3, 224, 224])\n",
      "Original shape [1, 3, 224, 224]\n",
      "Hello torch.Size([1, 3, 224, 224])\n",
      "Original shape [1, 3, 224, 224]\n"
     ]
    },
    {
     "name": "stderr",
     "output_type": "stream",
     "text": [
      "\r",
      " 53%|█████████████████████                   | 657/1250 [00:45<00:33, 17.55it/s]"
     ]
    },
    {
     "name": "stdout",
     "output_type": "stream",
     "text": [
      "Hello torch.Size([1, 3, 224, 224])\n",
      "Original shape [1, 3, 224, 224]\n",
      "Hello torch.Size([1, 3, 224, 224])\n",
      "Original shape [1, 3, 224, 224]\n",
      "Hello torch.Size([1, 3, 224, 224])\n",
      "Original shape [1, 3, 224, 224]\n",
      "Hello torch.Size([1, 3, 224, 224])\n",
      "Original shape [1, 3, 224, 224]\n"
     ]
    },
    {
     "name": "stderr",
     "output_type": "stream",
     "text": [
      " 53%|█████████████████████▏                  | 663/1250 [00:45<00:36, 16.00it/s]"
     ]
    },
    {
     "name": "stdout",
     "output_type": "stream",
     "text": [
      "Hello torch.Size([1, 3, 224, 224])\n",
      "Original shape [1, 3, 224, 224]\n",
      "Hello torch.Size([1, 3, 224, 224])\n",
      "Original shape [1, 3, 224, 224]\n",
      "Hello torch.Size([1, 3, 224, 224])\n",
      "Original shape [1, 3, 224, 224]\n"
     ]
    },
    {
     "name": "stderr",
     "output_type": "stream",
     "text": [
      " 53%|█████████████████████▎                  | 667/1250 [00:45<00:36, 16.09it/s]"
     ]
    },
    {
     "name": "stdout",
     "output_type": "stream",
     "text": [
      "Hello torch.Size([1, 3, 224, 224])\n",
      "Original shape [1, 3, 224, 224]\n",
      "Hello torch.Size([1, 3, 224, 224])\n",
      "Original shape [1, 3, 224, 224]\n",
      "Hello torch.Size([1, 3, 224, 224])\n",
      "Original shape [1, 3, 224, 224]\n",
      "Hello torch.Size([1, 3, 224, 224])\n",
      "Original shape [1, 3, 224, 224]\n"
     ]
    },
    {
     "name": "stderr",
     "output_type": "stream",
     "text": [
      "\r",
      " 54%|█████████████████████▍                  | 669/1250 [00:46<00:34, 16.84it/s]"
     ]
    },
    {
     "name": "stdout",
     "output_type": "stream",
     "text": [
      "Hello torch.Size([1, 3, 224, 224])\n",
      "Original shape [1, 3, 224, 224]\n",
      "Hello torch.Size([1, 3, 224, 224])\n",
      "Original shape [1, 3, 224, 224]\n",
      "Hello torch.Size([1, 3, 224, 224])\n",
      "Original shape [1, 3, 224, 224]\n",
      "Hello torch.Size([1, 3, 224, 224])\n",
      "Original shape [1, 3, 224, 224]\n",
      "Hello torch.Size([1, 3, 224, 224])\n",
      "Original shape [1, 3, 224, 224]\n"
     ]
    },
    {
     "name": "stderr",
     "output_type": "stream",
     "text": [
      " 54%|█████████████████████▌                  | 674/1250 [00:46<00:32, 17.49it/s]"
     ]
    },
    {
     "name": "stdout",
     "output_type": "stream",
     "text": [
      "Hello torch.Size([1, 3, 224, 224])\n",
      "Original shape [1, 3, 224, 224]\n",
      "Hello torch.Size([1, 3, 224, 224])\n",
      "Original shape [1, 3, 224, 224]\n",
      "Hello torch.Size([1, 3, 224, 224])\n",
      "Original shape [1, 3, 224, 224]\n",
      "Hello torch.Size([1, 3, 224, 224])\n",
      "Original shape [1, 3, 224, 224]\n"
     ]
    },
    {
     "name": "stderr",
     "output_type": "stream",
     "text": [
      " 54%|█████████████████████▊                  | 680/1250 [00:46<00:31, 18.01it/s]"
     ]
    },
    {
     "name": "stdout",
     "output_type": "stream",
     "text": [
      "Hello torch.Size([1, 3, 224, 224])\n",
      "Original shape [1, 3, 224, 224]\n",
      "Hello torch.Size([1, 3, 224, 224])\n",
      "Original shape [1, 3, 224, 224]\n",
      "Hello torch.Size([1, 3, 224, 224])\n",
      "Original shape [1, 3, 224, 224]\n",
      "Hello torch.Size([1, 3, 224, 224])\n",
      "Original shape [1, 3, 224, 224]\n"
     ]
    },
    {
     "name": "stderr",
     "output_type": "stream",
     "text": [
      "\r",
      " 55%|█████████████████████▊                  | 682/1250 [00:46<00:32, 17.60it/s]"
     ]
    },
    {
     "name": "stdout",
     "output_type": "stream",
     "text": [
      "Hello torch.Size([1, 3, 224, 224])\n",
      "Original shape [1, 3, 224, 224]\n",
      "Hello torch.Size([1, 3, 224, 224])\n",
      "Original shape [1, 3, 224, 224]\n",
      "Hello torch.Size([1, 3, 224, 224])\n",
      "Original shape [1, 3, 224, 224]\n"
     ]
    },
    {
     "name": "stderr",
     "output_type": "stream",
     "text": [
      " 55%|█████████████████████▉                  | 686/1250 [00:46<00:32, 17.12it/s]"
     ]
    },
    {
     "name": "stdout",
     "output_type": "stream",
     "text": [
      "Hello torch.Size([1, 3, 224, 224])\n",
      "Original shape [1, 3, 224, 224]\n",
      "Hello torch.Size([1, 3, 224, 224])\n",
      "Original shape [1, 3, 224, 224]\n",
      "Hello torch.Size([1, 3, 224, 224])\n",
      "Original shape [1, 3, 224, 224]\n",
      "Hello torch.Size([1, 3, 224, 224])\n",
      "Original shape [1, 3, 224, 224]\n"
     ]
    },
    {
     "name": "stderr",
     "output_type": "stream",
     "text": [
      " 55%|██████████████████████                  | 690/1250 [00:47<00:31, 17.74it/s]"
     ]
    },
    {
     "name": "stdout",
     "output_type": "stream",
     "text": [
      "Hello torch.Size([1, 3, 224, 224])\n",
      "Original shape [1, 3, 224, 224]\n",
      "Hello torch.Size([1, 3, 224, 224])\n",
      "Original shape [1, 3, 224, 224]\n",
      "Hello torch.Size([1, 3, 224, 224])\n",
      "Original shape [1, 3, 224, 224]\n",
      "Hello torch.Size([1, 3, 224, 224])\n",
      "Original shape [1, 3, 224, 224]\n"
     ]
    },
    {
     "name": "stderr",
     "output_type": "stream",
     "text": [
      " 56%|██████████████████████▏                 | 694/1250 [00:47<00:32, 17.22it/s]"
     ]
    },
    {
     "name": "stdout",
     "output_type": "stream",
     "text": [
      "Hello torch.Size([1, 3, 224, 224])\n",
      "Original shape [1, 3, 224, 224]\n",
      "Hello torch.Size([1, 3, 224, 224])\n",
      "Original shape [1, 3, 224, 224]\n",
      "Hello torch.Size([1, 3, 224, 224])\n",
      "Original shape [1, 3, 224, 224]\n",
      "Hello torch.Size([1, 3, 224, 224])\n",
      "Original shape [1, 3, 224, 224]\n"
     ]
    },
    {
     "name": "stderr",
     "output_type": "stream",
     "text": [
      " 56%|██████████████████████▎                 | 698/1250 [00:47<00:41, 13.23it/s]"
     ]
    },
    {
     "name": "stdout",
     "output_type": "stream",
     "text": [
      "Hello torch.Size([1, 3, 224, 224])\n",
      "Original shape [1, 3, 224, 224]\n",
      "Hello torch.Size([1, 3, 224, 224])\n",
      "Original shape [1, 3, 224, 224]\n",
      "Hello torch.Size([1, 3, 224, 224])\n",
      "Original shape [1, 3, 224, 224]\n"
     ]
    },
    {
     "name": "stderr",
     "output_type": "stream",
     "text": [
      "\r",
      " 56%|██████████████████████▍                 | 701/1250 [00:47<00:36, 14.89it/s]"
     ]
    },
    {
     "name": "stdout",
     "output_type": "stream",
     "text": [
      "Hello torch.Size([1, 3, 224, 224])\n",
      "Original shape [1, 3, 224, 224]\n",
      "Hello torch.Size([1, 3, 224, 224])\n",
      "Original shape [1, 3, 224, 224]\n",
      "Hello torch.Size([1, 3, 224, 224])\n",
      "Original shape [1, 3, 224, 224]\n",
      "Hello torch.Size([1, 3, 224, 224])\n",
      "Original shape [1, 3, 224, 224]\n"
     ]
    },
    {
     "name": "stderr",
     "output_type": "stream",
     "text": [
      "\r",
      " 56%|██████████████████████▌                 | 704/1250 [00:48<00:32, 16.93it/s]"
     ]
    },
    {
     "name": "stdout",
     "output_type": "stream",
     "text": [
      "Hello torch.Size([1, 3, 224, 224])\n",
      "Original shape [1, 3, 224, 224]\n",
      "Hello torch.Size([1, 3, 224, 224])\n",
      "Original shape [1, 3, 224, 224]\n",
      "Hello torch.Size([1, 3, 224, 224])\n",
      "Original shape [1, 3, 224, 224]\n"
     ]
    },
    {
     "name": "stderr",
     "output_type": "stream",
     "text": [
      " 57%|██████████████████████▋                 | 708/1250 [00:48<00:40, 13.44it/s]"
     ]
    },
    {
     "name": "stdout",
     "output_type": "stream",
     "text": [
      "Hello torch.Size([1, 3, 224, 224])\n",
      "Original shape [1, 3, 224, 224]\n",
      "Hello torch.Size([1, 3, 224, 224])\n",
      "Original shape [1, 3, 224, 224]\n",
      "Hello torch.Size([1, 3, 224, 224])\n",
      "Original shape [1, 3, 224, 224]\n"
     ]
    },
    {
     "name": "stderr",
     "output_type": "stream",
     "text": [
      "\r",
      " 57%|██████████████████████▋                 | 710/1250 [00:48<00:39, 13.65it/s]"
     ]
    },
    {
     "name": "stdout",
     "output_type": "stream",
     "text": [
      "Hello torch.Size([1, 3, 224, 224])\n",
      "Original shape [1, 3, 224, 224]\n",
      "Hello torch.Size([1, 3, 224, 224])\n",
      "Original shape [1, 3, 224, 224]\n"
     ]
    },
    {
     "name": "stderr",
     "output_type": "stream",
     "text": [
      "\r",
      " 57%|██████████████████████▊                 | 712/1250 [00:48<00:47, 11.32it/s]"
     ]
    },
    {
     "name": "stdout",
     "output_type": "stream",
     "text": [
      "Hello torch.Size([1, 3, 224, 224])\n",
      "Original shape [1, 3, 224, 224]\n",
      "Hello torch.Size([1, 3, 224, 224])\n",
      "Original shape [1, 3, 224, 224]\n",
      "Hello torch.Size([1, 3, 224, 224])\n",
      "Original shape [1, 3, 224, 224]\n"
     ]
    },
    {
     "name": "stderr",
     "output_type": "stream",
     "text": [
      "\r",
      " 57%|██████████████████████▊                 | 714/1250 [00:49<00:48, 11.16it/s]"
     ]
    },
    {
     "name": "stdout",
     "output_type": "stream",
     "text": [
      "Hello torch.Size([1, 3, 224, 224])\n",
      "Original shape [1, 3, 224, 224]\n",
      "Hello torch.Size([1, 3, 224, 224])\n",
      "Original shape [1, 3, 224, 224]\n"
     ]
    },
    {
     "name": "stderr",
     "output_type": "stream",
     "text": [
      "\r",
      " 57%|██████████████████████▉                 | 716/1250 [00:49<00:49, 10.80it/s]"
     ]
    },
    {
     "name": "stdout",
     "output_type": "stream",
     "text": [
      "Hello torch.Size([1, 3, 224, 224])\n",
      "Original shape [1, 3, 224, 224]\n",
      "Hello torch.Size([1, 3, 224, 224])\n",
      "Original shape [1, 3, 224, 224]\n",
      "Hello torch.Size([1, 3, 224, 224])\n",
      "Original shape [1, 3, 224, 224]\n"
     ]
    },
    {
     "name": "stderr",
     "output_type": "stream",
     "text": [
      "\r",
      " 58%|███████████████████████                 | 719/1250 [00:49<00:45, 11.72it/s]"
     ]
    },
    {
     "name": "stdout",
     "output_type": "stream",
     "text": [
      "Hello torch.Size([1, 3, 224, 224])\n",
      "Original shape [1, 3, 224, 224]\n",
      "Hello torch.Size([1, 3, 224, 224])\n",
      "Original shape [1, 3, 224, 224]\n",
      "Hello torch.Size([1, 3, 224, 224])\n",
      "Original shape [1, 3, 224, 224]\n",
      "Hello torch.Size([1, 3, 224, 224])\n",
      "Original shape [1, 3, 224, 224]\n"
     ]
    },
    {
     "name": "stderr",
     "output_type": "stream",
     "text": [
      " 58%|███████████████████████▏                | 725/1250 [00:49<00:38, 13.80it/s]"
     ]
    },
    {
     "name": "stdout",
     "output_type": "stream",
     "text": [
      "Hello torch.Size([1, 3, 224, 224])\n",
      "Original shape [1, 3, 224, 224]\n",
      "Hello torch.Size([1, 3, 224, 224])\n",
      "Original shape [1, 3, 224, 224]\n",
      "Hello torch.Size([1, 3, 224, 224])\n",
      "Original shape [1, 3, 224, 224]\n",
      "Hello torch.Size([1, 3, 224, 224])\n",
      "Original shape [1, 3, 224, 224]\n"
     ]
    },
    {
     "name": "stderr",
     "output_type": "stream",
     "text": [
      " 58%|███████████████████████▎                | 729/1250 [00:50<00:33, 15.34it/s]"
     ]
    },
    {
     "name": "stdout",
     "output_type": "stream",
     "text": [
      "Hello torch.Size([1, 3, 224, 224])\n",
      "Original shape [1, 3, 224, 224]\n",
      "Hello torch.Size([1, 3, 224, 224])\n",
      "Original shape [1, 3, 224, 224]\n",
      "Hello torch.Size([1, 3, 224, 224])\n",
      "Original shape [1, 3, 224, 224]\n",
      "Hello torch.Size([1, 3, 224, 224])\n",
      "Original shape [1, 3, 224, 224]\n"
     ]
    },
    {
     "name": "stderr",
     "output_type": "stream",
     "text": [
      " 59%|███████████████████████▍                | 733/1250 [00:50<00:31, 16.41it/s]"
     ]
    },
    {
     "name": "stdout",
     "output_type": "stream",
     "text": [
      "Hello torch.Size([1, 3, 224, 224])\n",
      "Original shape [1, 3, 224, 224]\n",
      "Hello torch.Size([1, 3, 224, 224])\n",
      "Original shape [1, 3, 224, 224]\n",
      "Hello torch.Size([1, 3, 224, 224])\n",
      "Original shape [1, 3, 224, 224]\n",
      "Hello torch.Size([1, 3, 224, 224])\n",
      "Original shape [1, 3, 224, 224]\n"
     ]
    },
    {
     "name": "stderr",
     "output_type": "stream",
     "text": [
      " 59%|███████████████████████▌                | 737/1250 [00:50<00:33, 15.40it/s]"
     ]
    },
    {
     "name": "stdout",
     "output_type": "stream",
     "text": [
      "Hello torch.Size([1, 3, 224, 224])\n",
      "Original shape [1, 3, 224, 224]\n",
      "Hello torch.Size([1, 3, 224, 224])\n",
      "Original shape [1, 3, 224, 224]\n",
      "Hello torch.Size([1, 3, 224, 224])\n",
      "Original shape [1, 3, 224, 224]\n"
     ]
    },
    {
     "name": "stderr",
     "output_type": "stream",
     "text": [
      "\r",
      " 59%|███████████████████████▋                | 739/1250 [00:50<00:31, 16.03it/s]"
     ]
    },
    {
     "name": "stdout",
     "output_type": "stream",
     "text": [
      "Hello torch.Size([1, 3, 224, 224])\n",
      "Original shape [1, 3, 224, 224]\n",
      "Hello torch.Size([1, 3, 224, 224])\n",
      "Original shape [1, 3, 224, 224]\n",
      "Hello torch.Size([1, 3, 224, 224])\n",
      "Original shape [1, 3, 224, 224]\n",
      "Hello torch.Size([1, 3, 224, 224])\n",
      "Original shape [1, 3, 224, 224]\n",
      "Hello torch.Size([1, 3, 224, 224])\n",
      "Original shape [1, 3, 224, 224]\n"
     ]
    },
    {
     "name": "stderr",
     "output_type": "stream",
     "text": [
      " 60%|███████████████████████▊                | 745/1250 [00:51<00:27, 18.22it/s]"
     ]
    },
    {
     "name": "stdout",
     "output_type": "stream",
     "text": [
      "Hello torch.Size([1, 3, 224, 224])\n",
      "Original shape [1, 3, 224, 224]\n",
      "Hello torch.Size([1, 3, 224, 224])\n",
      "Original shape [1, 3, 224, 224]\n",
      "Hello torch.Size([1, 3, 224, 224])\n",
      "Original shape [1, 3, 224, 224]\n",
      "Hello torch.Size([1, 3, 224, 224])\n",
      "Original shape [1, 3, 224, 224]\n"
     ]
    },
    {
     "name": "stderr",
     "output_type": "stream",
     "text": [
      " 60%|███████████████████████▉                | 749/1250 [00:51<00:28, 17.83it/s]"
     ]
    },
    {
     "name": "stdout",
     "output_type": "stream",
     "text": [
      "Hello torch.Size([1, 3, 224, 224])\n",
      "Original shape [1, 3, 224, 224]\n",
      "Hello torch.Size([1, 3, 224, 224])\n",
      "Original shape [1, 3, 224, 224]\n",
      "Hello torch.Size([1, 3, 224, 224])\n",
      "Original shape [1, 3, 224, 224]\n"
     ]
    },
    {
     "name": "stderr",
     "output_type": "stream",
     "text": [
      " 60%|████████████████████████                | 753/1250 [00:51<00:30, 16.07it/s]"
     ]
    },
    {
     "name": "stdout",
     "output_type": "stream",
     "text": [
      "Hello torch.Size([1, 3, 224, 224])\n",
      "Original shape [1, 3, 224, 224]\n",
      "Hello torch.Size([1, 3, 224, 224])\n",
      "Original shape [1, 3, 224, 224]\n",
      "Hello torch.Size([1, 3, 224, 224])\n",
      "Original shape [1, 3, 224, 224]\n",
      "Hello torch.Size([1, 3, 224, 224])\n",
      "Original shape [1, 3, 224, 224]\n"
     ]
    },
    {
     "name": "stderr",
     "output_type": "stream",
     "text": [
      "\r",
      " 60%|████████████████████████▏               | 756/1250 [00:51<00:29, 16.51it/s]"
     ]
    },
    {
     "name": "stdout",
     "output_type": "stream",
     "text": [
      "Hello torch.Size([1, 3, 224, 224])\n",
      "Original shape [1, 3, 224, 224]\n",
      "Hello torch.Size([1, 3, 224, 224])\n",
      "Original shape [1, 3, 224, 224]\n",
      "Hello torch.Size([1, 3, 224, 224])\n",
      "Original shape [1, 3, 224, 224]\n",
      "Hello torch.Size([1, 3, 224, 224])\n",
      "Original shape [1, 3, 224, 224]\n"
     ]
    },
    {
     "name": "stderr",
     "output_type": "stream",
     "text": [
      "\r",
      " 61%|████████████████████████▎               | 758/1250 [00:51<00:29, 16.82it/s]"
     ]
    },
    {
     "name": "stdout",
     "output_type": "stream",
     "text": [
      "Hello torch.Size([1, 3, 224, 224])\n",
      "Original shape [1, 3, 224, 224]\n",
      "Hello torch.Size([1, 3, 224, 224])\n",
      "Original shape [1, 3, 224, 224]\n",
      "Hello torch.Size([1, 3, 224, 224])\n",
      "Original shape [1, 3, 224, 224]\n"
     ]
    },
    {
     "name": "stderr",
     "output_type": "stream",
     "text": [
      " 61%|████████████████████████▍               | 762/1250 [00:52<00:37, 13.04it/s]"
     ]
    },
    {
     "name": "stdout",
     "output_type": "stream",
     "text": [
      "Hello torch.Size([1, 3, 224, 224])\n",
      "Original shape [1, 3, 224, 224]\n",
      "Hello torch.Size([1, 3, 224, 224])\n",
      "Original shape [1, 3, 224, 224]\n",
      "Hello torch.Size([1, 3, 224, 224])\n",
      "Original shape [1, 3, 224, 224]\n"
     ]
    },
    {
     "name": "stderr",
     "output_type": "stream",
     "text": [
      " 61%|████████████████████████▌               | 766/1250 [00:52<00:39, 12.15it/s]"
     ]
    },
    {
     "name": "stdout",
     "output_type": "stream",
     "text": [
      "Hello torch.Size([1, 3, 224, 224])\n",
      "Original shape [1, 3, 224, 224]\n",
      "Hello torch.Size([1, 3, 224, 224])\n",
      "Original shape [1, 3, 224, 224]\n",
      "Hello torch.Size([1, 3, 224, 224])\n",
      "Original shape [1, 3, 224, 224]\n"
     ]
    },
    {
     "name": "stderr",
     "output_type": "stream",
     "text": [
      "\r",
      " 62%|████████████████████████▌               | 769/1250 [00:52<00:33, 14.27it/s]"
     ]
    },
    {
     "name": "stdout",
     "output_type": "stream",
     "text": [
      "Hello torch.Size([1, 3, 224, 224])\n",
      "Original shape [1, 3, 224, 224]\n",
      "Hello torch.Size([1, 3, 224, 224])\n",
      "Original shape [1, 3, 224, 224]\n",
      "Hello torch.Size([1, 3, 224, 224])\n",
      "Original shape [1, 3, 224, 224]\n",
      "Hello torch.Size([1, 3, 224, 224])\n",
      "Original shape [1, 3, 224, 224]\n"
     ]
    },
    {
     "name": "stderr",
     "output_type": "stream",
     "text": [
      " 62%|████████████████████████▋               | 773/1250 [00:52<00:29, 16.02it/s]"
     ]
    },
    {
     "name": "stdout",
     "output_type": "stream",
     "text": [
      "Hello torch.Size([1, 3, 224, 224])\n",
      "Original shape [1, 3, 224, 224]\n",
      "Hello torch.Size([1, 3, 224, 224])\n",
      "Original shape [1, 3, 224, 224]\n",
      "Hello torch.Size([1, 3, 224, 224])\n",
      "Original shape [1, 3, 224, 224]\n",
      "Hello torch.Size([1, 3, 224, 224])\n",
      "Original shape [1, 3, 224, 224]\n",
      "Hello torch.Size([1, 3, 224, 224])\n",
      "Original shape [1, 3, 224, 224]\n"
     ]
    },
    {
     "name": "stderr",
     "output_type": "stream",
     "text": [
      " 62%|████████████████████████▉               | 778/1250 [00:53<00:26, 17.76it/s]"
     ]
    },
    {
     "name": "stdout",
     "output_type": "stream",
     "text": [
      "Hello torch.Size([1, 3, 224, 224])\n",
      "Original shape [1, 3, 224, 224]\n",
      "Hello torch.Size([1, 3, 224, 224])\n",
      "Original shape [1, 3, 224, 224]\n",
      "Hello torch.Size([1, 3, 224, 224])\n",
      "Original shape [1, 3, 224, 224]\n",
      "Hello torch.Size([1, 3, 224, 224])\n",
      "Original shape [1, 3, 224, 224]\n"
     ]
    },
    {
     "name": "stderr",
     "output_type": "stream",
     "text": [
      " 63%|█████████████████████████               | 782/1250 [00:53<00:29, 15.65it/s]"
     ]
    },
    {
     "name": "stdout",
     "output_type": "stream",
     "text": [
      "Hello torch.Size([1, 3, 224, 224])\n",
      "Original shape [1, 3, 224, 224]\n",
      "Hello torch.Size([1, 3, 224, 224])\n",
      "Original shape [1, 3, 224, 224]\n",
      "Hello torch.Size([1, 3, 224, 224])\n",
      "Original shape [1, 3, 224, 224]\n",
      "Hello torch.Size([1, 3, 224, 224])\n",
      "Original shape [1, 3, 224, 224]\n"
     ]
    },
    {
     "name": "stderr",
     "output_type": "stream",
     "text": [
      " 63%|█████████████████████████▏              | 786/1250 [00:53<00:27, 16.75it/s]"
     ]
    },
    {
     "name": "stdout",
     "output_type": "stream",
     "text": [
      "Hello torch.Size([1, 3, 224, 224])\n",
      "Original shape [1, 3, 224, 224]\n",
      "Hello torch.Size([1, 3, 224, 224])\n",
      "Original shape [1, 3, 224, 224]\n",
      "Hello torch.Size([1, 3, 224, 224])\n",
      "Original shape [1, 3, 224, 224]\n",
      "Hello torch.Size([1, 3, 224, 224])\n",
      "Original shape [1, 3, 224, 224]\n"
     ]
    },
    {
     "name": "stderr",
     "output_type": "stream",
     "text": [
      " 63%|█████████████████████████▎              | 791/1250 [00:53<00:25, 17.77it/s]"
     ]
    },
    {
     "name": "stdout",
     "output_type": "stream",
     "text": [
      "Hello torch.Size([1, 3, 224, 224])\n",
      "Original shape [1, 3, 224, 224]\n",
      "Hello torch.Size([1, 3, 224, 224])\n",
      "Original shape [1, 3, 224, 224]\n",
      "Hello torch.Size([1, 3, 224, 224])\n",
      "Original shape [1, 3, 224, 224]\n",
      "Hello torch.Size([1, 3, 224, 224])\n",
      "Original shape [1, 3, 224, 224]\n",
      "Hello torch.Size([1, 3, 224, 224])\n",
      "Original shape [1, 3, 224, 224]\n"
     ]
    },
    {
     "name": "stderr",
     "output_type": "stream",
     "text": [
      " 64%|█████████████████████████▍              | 795/1250 [00:54<00:25, 17.68it/s]"
     ]
    },
    {
     "name": "stdout",
     "output_type": "stream",
     "text": [
      "Hello torch.Size([1, 3, 224, 224])\n",
      "Original shape [1, 3, 224, 224]\n",
      "Hello torch.Size([1, 3, 224, 224])\n",
      "Original shape [1, 3, 224, 224]\n",
      "Hello torch.Size([1, 3, 224, 224])\n",
      "Original shape [1, 3, 224, 224]\n",
      "Hello torch.Size([1, 3, 224, 224])\n",
      "Original shape [1, 3, 224, 224]\n"
     ]
    },
    {
     "name": "stderr",
     "output_type": "stream",
     "text": [
      "\r",
      " 64%|█████████████████████████▌              | 798/1250 [00:54<00:23, 18.86it/s]"
     ]
    },
    {
     "name": "stdout",
     "output_type": "stream",
     "text": [
      "Hello torch.Size([1, 3, 224, 224])\n",
      "Original shape [1, 3, 224, 224]\n",
      "Hello torch.Size([1, 3, 224, 224])\n",
      "Original shape [1, 3, 224, 224]\n",
      "Hello torch.Size([1, 3, 224, 224])\n",
      "Original shape [1, 3, 224, 224]\n",
      "Hello torch.Size([1, 3, 224, 224])\n",
      "Original shape [1, 3, 224, 224]\n",
      "Hello torch.Size([1, 3, 224, 224])\n",
      "Original shape [1, 3, 224, 224]\n"
     ]
    },
    {
     "name": "stderr",
     "output_type": "stream",
     "text": [
      " 64%|█████████████████████████▋              | 803/1250 [00:54<00:23, 19.10it/s]"
     ]
    },
    {
     "name": "stdout",
     "output_type": "stream",
     "text": [
      "Hello torch.Size([1, 3, 224, 224])\n",
      "Original shape [1, 3, 224, 224]\n",
      "Hello torch.Size([1, 3, 224, 224])\n",
      "Original shape [1, 3, 224, 224]\n",
      "Hello torch.Size([1, 3, 224, 224])\n",
      "Original shape [1, 3, 224, 224]\n",
      "Hello torch.Size([1, 3, 224, 224])\n",
      "Original shape [1, 3, 224, 224]\n"
     ]
    },
    {
     "name": "stderr",
     "output_type": "stream",
     "text": [
      " 65%|█████████████████████████▊              | 807/1250 [00:54<00:26, 16.86it/s]"
     ]
    },
    {
     "name": "stdout",
     "output_type": "stream",
     "text": [
      "Hello torch.Size([1, 3, 224, 224])\n",
      "Original shape [1, 3, 224, 224]\n",
      "Hello torch.Size([1, 3, 224, 224])\n",
      "Original shape [1, 3, 224, 224]\n",
      "Hello torch.Size([1, 3, 224, 224])\n",
      "Original shape [1, 3, 224, 224]\n",
      "Hello torch.Size([1, 3, 224, 224])\n",
      "Original shape [1, 3, 224, 224]\n"
     ]
    },
    {
     "name": "stderr",
     "output_type": "stream",
     "text": [
      " 65%|█████████████████████████▉              | 812/1250 [00:55<00:24, 18.05it/s]"
     ]
    },
    {
     "name": "stdout",
     "output_type": "stream",
     "text": [
      "Hello torch.Size([1, 3, 224, 224])\n",
      "Original shape [1, 3, 224, 224]\n",
      "Hello torch.Size([1, 3, 224, 224])\n",
      "Original shape [1, 3, 224, 224]\n",
      "Hello torch.Size([1, 3, 224, 224])\n",
      "Original shape [1, 3, 224, 224]\n",
      "Hello torch.Size([1, 3, 224, 224])\n",
      "Original shape [1, 3, 224, 224]\n"
     ]
    },
    {
     "name": "stderr",
     "output_type": "stream",
     "text": [
      " 65%|██████████████████████████              | 816/1250 [00:55<00:27, 15.65it/s]"
     ]
    },
    {
     "name": "stdout",
     "output_type": "stream",
     "text": [
      "Hello torch.Size([1, 3, 224, 224])\n",
      "Original shape [1, 3, 224, 224]\n",
      "Hello torch.Size([1, 3, 224, 224])\n",
      "Original shape [1, 3, 224, 224]\n",
      "Hello torch.Size([1, 3, 224, 224])\n",
      "Original shape [1, 3, 224, 224]\n"
     ]
    },
    {
     "name": "stderr",
     "output_type": "stream",
     "text": [
      "\r",
      " 65%|██████████████████████████▏             | 818/1250 [00:55<00:31, 13.75it/s]"
     ]
    },
    {
     "name": "stdout",
     "output_type": "stream",
     "text": [
      "Hello torch.Size([1, 3, 224, 224])\n",
      "Original shape [1, 3, 224, 224]\n",
      "Hello torch.Size([1, 3, 224, 224])\n",
      "Original shape [1, 3, 224, 224]\n",
      "Hello torch.Size([1, 3, 224, 224])\n",
      "Original shape [1, 3, 224, 224]\n"
     ]
    },
    {
     "name": "stderr",
     "output_type": "stream",
     "text": [
      "\r",
      " 66%|██████████████████████████▎             | 821/1250 [00:55<00:26, 15.91it/s]"
     ]
    },
    {
     "name": "stdout",
     "output_type": "stream",
     "text": [
      "Hello torch.Size([1, 3, 224, 224])\n",
      "Original shape [1, 3, 224, 224]\n",
      "Hello torch.Size([1, 3, 224, 224])\n",
      "Original shape [1, 3, 224, 224]\n",
      "Hello torch.Size([1, 3, 224, 224])\n",
      "Original shape [1, 3, 224, 224]\n",
      "Hello torch.Size([1, 3, 224, 224])\n",
      "Original shape [1, 3, 224, 224]\n",
      "Hello torch.Size([1, 3, 224, 224])\n",
      "Original shape [1, 3, 224, 224]\n"
     ]
    },
    {
     "name": "stderr",
     "output_type": "stream",
     "text": [
      " 66%|██████████████████████████▌             | 829/1250 [00:56<00:21, 19.67it/s]"
     ]
    },
    {
     "name": "stdout",
     "output_type": "stream",
     "text": [
      "Hello torch.Size([1, 3, 224, 224])\n",
      "Original shape [1, 3, 224, 224]\n",
      "Hello torch.Size([1, 3, 224, 224])\n",
      "Original shape [1, 3, 224, 224]\n",
      "Hello torch.Size([1, 3, 224, 224])\n",
      "Original shape [1, 3, 224, 224]\n",
      "Hello torch.Size([1, 3, 224, 224])\n",
      "Original shape [1, 3, 224, 224]\n",
      "Hello torch.Size([1, 3, 224, 224])\n",
      "Original shape [1, 3, 224, 224]\n"
     ]
    },
    {
     "name": "stderr",
     "output_type": "stream",
     "text": [
      "\r",
      " 67%|██████████████████████████▌             | 832/1250 [00:56<00:22, 18.86it/s]"
     ]
    },
    {
     "name": "stdout",
     "output_type": "stream",
     "text": [
      "Hello torch.Size([1, 3, 224, 224])\n",
      "Original shape [1, 3, 224, 224]\n",
      "Hello torch.Size([1, 3, 224, 224])\n",
      "Original shape [1, 3, 224, 224]\n",
      "Hello torch.Size([1, 3, 224, 224])\n",
      "Original shape [1, 3, 224, 224]\n",
      "Hello torch.Size([1, 3, 224, 224])\n",
      "Original shape [1, 3, 224, 224]\n"
     ]
    },
    {
     "name": "stderr",
     "output_type": "stream",
     "text": [
      " 67%|██████████████████████████▊             | 837/1250 [00:56<00:22, 18.45it/s]"
     ]
    },
    {
     "name": "stdout",
     "output_type": "stream",
     "text": [
      "Hello torch.Size([1, 3, 224, 224])\n",
      "Original shape [1, 3, 224, 224]\n",
      "Hello torch.Size([1, 3, 224, 224])\n",
      "Original shape [1, 3, 224, 224]\n",
      "Hello torch.Size([1, 3, 224, 224])\n",
      "Original shape [1, 3, 224, 224]\n",
      "Hello torch.Size([1, 3, 224, 224])\n",
      "Original shape [1, 3, 224, 224]\n",
      "Hello torch.Size([1, 3, 224, 224])\n",
      "Original shape [1, 3, 224, 224]\n"
     ]
    },
    {
     "name": "stderr",
     "output_type": "stream",
     "text": [
      "\r",
      " 67%|██████████████████████████▉             | 840/1250 [00:56<00:20, 19.72it/s]"
     ]
    },
    {
     "name": "stdout",
     "output_type": "stream",
     "text": [
      "Hello torch.Size([1, 3, 224, 224])\n",
      "Original shape [1, 3, 224, 224]\n",
      "Hello torch.Size([1, 3, 224, 224])\n",
      "Original shape [1, 3, 224, 224]\n",
      "Hello torch.Size([1, 3, 224, 224])\n",
      "Original shape [1, 3, 224, 224]\n",
      "Hello torch.Size([1, 3, 224, 224])\n",
      "Original shape [1, 3, 224, 224]\n",
      "Hello torch.Size([1, 3, 224, 224])\n",
      "Original shape [1, 3, 224, 224]\n"
     ]
    },
    {
     "name": "stderr",
     "output_type": "stream",
     "text": [
      " 68%|███████████████████████████             | 846/1250 [00:57<00:20, 20.04it/s]"
     ]
    },
    {
     "name": "stdout",
     "output_type": "stream",
     "text": [
      "Hello torch.Size([1, 3, 224, 224])\n",
      "Original shape [1, 3, 224, 224]\n",
      "Hello torch.Size([1, 3, 224, 224])\n",
      "Original shape [1, 3, 224, 224]\n",
      "Hello torch.Size([1, 3, 224, 224])\n",
      "Original shape [1, 3, 224, 224]\n",
      "Hello torch.Size([1, 3, 224, 224])\n",
      "Original shape [1, 3, 224, 224]\n",
      "Hello torch.Size([1, 3, 224, 224])\n",
      "Original shape [1, 3, 224, 224]\n"
     ]
    },
    {
     "name": "stderr",
     "output_type": "stream",
     "text": [
      " 68%|███████████████████████████▎            | 852/1250 [00:57<00:19, 20.07it/s]"
     ]
    },
    {
     "name": "stdout",
     "output_type": "stream",
     "text": [
      "Hello torch.Size([1, 3, 224, 224])\n",
      "Original shape [1, 3, 224, 224]\n",
      "Hello torch.Size([1, 3, 224, 224])\n",
      "Original shape [1, 3, 224, 224]\n",
      "Hello torch.Size([1, 3, 224, 224])\n",
      "Original shape [1, 3, 224, 224]\n",
      "Hello torch.Size([1, 3, 224, 224])\n",
      "Original shape [1, 3, 224, 224]\n"
     ]
    },
    {
     "name": "stderr",
     "output_type": "stream",
     "text": [
      "\r",
      " 68%|███████████████████████████▎            | 855/1250 [00:57<00:19, 19.80it/s]"
     ]
    },
    {
     "name": "stdout",
     "output_type": "stream",
     "text": [
      "Hello torch.Size([1, 3, 224, 224])\n",
      "Original shape [1, 3, 224, 224]\n",
      "Hello torch.Size([1, 3, 224, 224])\n",
      "Original shape [1, 3, 224, 224]\n",
      "Hello torch.Size([1, 3, 224, 224])\n",
      "Original shape [1, 3, 224, 224]\n",
      "Hello torch.Size([1, 3, 224, 224])\n",
      "Original shape [1, 3, 224, 224]\n"
     ]
    },
    {
     "name": "stderr",
     "output_type": "stream",
     "text": [
      " 69%|███████████████████████████▌            | 860/1250 [00:57<00:18, 20.94it/s]"
     ]
    },
    {
     "name": "stdout",
     "output_type": "stream",
     "text": [
      "Hello torch.Size([1, 3, 224, 224])\n",
      "Original shape [1, 3, 224, 224]\n",
      "Hello torch.Size([1, 3, 224, 224])\n",
      "Original shape [1, 3, 224, 224]\n",
      "Hello torch.Size([1, 3, 224, 224])\n",
      "Original shape [1, 3, 224, 224]\n",
      "Hello torch.Size([1, 3, 224, 224])\n",
      "Original shape [1, 3, 224, 224]\n",
      "Hello torch.Size([1, 3, 224, 224])\n",
      "Original shape [1, 3, 224, 224]\n"
     ]
    },
    {
     "name": "stderr",
     "output_type": "stream",
     "text": [
      "\r",
      " 69%|███████████████████████████▌            | 863/1250 [00:57<00:18, 20.74it/s]"
     ]
    },
    {
     "name": "stdout",
     "output_type": "stream",
     "text": [
      "Hello torch.Size([1, 3, 224, 224])\n",
      "Original shape [1, 3, 224, 224]\n",
      "Hello torch.Size([1, 3, 224, 224])\n",
      "Original shape [1, 3, 224, 224]\n",
      "Hello torch.Size([1, 3, 224, 224])\n",
      "Original shape [1, 3, 224, 224]\n",
      "Hello torch.Size([1, 3, 224, 224])\n",
      "Original shape [1, 3, 224, 224]\n"
     ]
    },
    {
     "name": "stderr",
     "output_type": "stream",
     "text": [
      " 70%|███████████████████████████▊            | 869/1250 [00:58<00:18, 20.84it/s]"
     ]
    },
    {
     "name": "stdout",
     "output_type": "stream",
     "text": [
      "Hello torch.Size([1, 3, 224, 224])\n",
      "Original shape [1, 3, 224, 224]\n",
      "Hello torch.Size([1, 3, 224, 224])\n",
      "Original shape [1, 3, 224, 224]\n",
      "Hello torch.Size([1, 3, 224, 224])\n",
      "Original shape [1, 3, 224, 224]\n",
      "Hello torch.Size([1, 3, 224, 224])\n",
      "Original shape [1, 3, 224, 224]\n",
      "Hello torch.Size([1, 3, 224, 224])\n",
      "Original shape [1, 3, 224, 224]\n"
     ]
    },
    {
     "name": "stderr",
     "output_type": "stream",
     "text": [
      "\r",
      " 70%|███████████████████████████▉            | 872/1250 [00:58<00:18, 20.79it/s]"
     ]
    },
    {
     "name": "stdout",
     "output_type": "stream",
     "text": [
      "Hello torch.Size([1, 3, 224, 224])\n",
      "Original shape [1, 3, 224, 224]\n",
      "Hello torch.Size([1, 3, 224, 224])\n",
      "Original shape [1, 3, 224, 224]\n",
      "Hello torch.Size([1, 3, 224, 224])\n",
      "Original shape [1, 3, 224, 224]\n",
      "Hello torch.Size([1, 3, 224, 224])\n",
      "Original shape [1, 3, 224, 224]\n",
      "Hello torch.Size([1, 3, 224, 224])\n",
      "Original shape [1, 3, 224, 224]\n"
     ]
    },
    {
     "name": "stderr",
     "output_type": "stream",
     "text": [
      " 70%|████████████████████████████            | 878/1250 [00:58<00:18, 19.78it/s]"
     ]
    },
    {
     "name": "stdout",
     "output_type": "stream",
     "text": [
      "Hello torch.Size([1, 3, 224, 224])\n",
      "Original shape [1, 3, 224, 224]\n",
      "Hello torch.Size([1, 3, 224, 224])\n",
      "Original shape [1, 3, 224, 224]\n",
      "Hello torch.Size([1, 3, 224, 224])\n",
      "Original shape [1, 3, 224, 224]\n",
      "Hello torch.Size([1, 3, 224, 224])\n",
      "Original shape [1, 3, 224, 224]\n"
     ]
    },
    {
     "name": "stderr",
     "output_type": "stream",
     "text": [
      "\r",
      " 70%|████████████████████████████▏           | 881/1250 [00:58<00:20, 17.78it/s]"
     ]
    },
    {
     "name": "stdout",
     "output_type": "stream",
     "text": [
      "Hello torch.Size([1, 3, 224, 224])\n",
      "Original shape [1, 3, 224, 224]\n",
      "Hello torch.Size([1, 3, 224, 224])\n",
      "Original shape [1, 3, 224, 224]\n",
      "Hello torch.Size([1, 3, 224, 224])\n",
      "Original shape [1, 3, 224, 224]\n",
      "Hello torch.Size([1, 3, 224, 224])\n",
      "Original shape [1, 3, 224, 224]\n",
      "Hello torch.Size([1, 3, 224, 224])\n",
      "Original shape [1, 3, 224, 224]\n"
     ]
    },
    {
     "name": "stderr",
     "output_type": "stream",
     "text": [
      " 71%|████████████████████████████▎           | 886/1250 [00:59<00:20, 17.78it/s]"
     ]
    },
    {
     "name": "stdout",
     "output_type": "stream",
     "text": [
      "Hello torch.Size([1, 3, 224, 224])\n",
      "Original shape [1, 3, 224, 224]\n",
      "Hello torch.Size([1, 3, 224, 224])\n",
      "Original shape [1, 3, 224, 224]\n",
      "Hello torch.Size([1, 3, 224, 224])\n",
      "Original shape [1, 3, 224, 224]\n"
     ]
    },
    {
     "name": "stderr",
     "output_type": "stream",
     "text": [
      "\r",
      " 71%|████████████████████████████▍           | 888/1250 [00:59<00:23, 15.66it/s]"
     ]
    },
    {
     "name": "stdout",
     "output_type": "stream",
     "text": [
      "Hello torch.Size([1, 3, 224, 224])\n",
      "Original shape [1, 3, 224, 224]\n",
      "Hello torch.Size([1, 3, 224, 224])\n",
      "Original shape [1, 3, 224, 224]\n",
      "Hello torch.Size([1, 3, 224, 224])\n",
      "Original shape [1, 3, 224, 224]\n"
     ]
    },
    {
     "name": "stderr",
     "output_type": "stream",
     "text": [
      " 72%|████████████████████████████▌           | 894/1250 [00:59<00:23, 15.14it/s]"
     ]
    },
    {
     "name": "stdout",
     "output_type": "stream",
     "text": [
      "Hello torch.Size([1, 3, 224, 224])\n",
      "Original shape [1, 3, 224, 224]\n",
      "Hello torch.Size([1, 3, 224, 224])\n",
      "Original shape [1, 3, 224, 224]\n",
      "Hello torch.Size([1, 3, 224, 224])\n",
      "Original shape [1, 3, 224, 224]\n",
      "Hello torch.Size([1, 3, 224, 224])\n",
      "Original shape [1, 3, 224, 224]\n"
     ]
    },
    {
     "name": "stderr",
     "output_type": "stream",
     "text": [
      "\r",
      " 72%|████████████████████████████▋           | 896/1250 [00:59<00:24, 14.44it/s]"
     ]
    },
    {
     "name": "stdout",
     "output_type": "stream",
     "text": [
      "Hello torch.Size([1, 3, 224, 224])\n",
      "Original shape [1, 3, 224, 224]\n",
      "Hello torch.Size([1, 3, 224, 224])\n",
      "Original shape [1, 3, 224, 224]\n",
      "Hello torch.Size([1, 3, 224, 224])\n",
      "Original shape [1, 3, 224, 224]\n",
      "Hello torch.Size([1, 3, 224, 224])\n",
      "Original shape [1, 3, 224, 224]\n"
     ]
    },
    {
     "name": "stderr",
     "output_type": "stream",
     "text": [
      "\r",
      " 72%|████████████████████████████▊           | 899/1250 [00:59<00:21, 16.71it/s]"
     ]
    },
    {
     "name": "stdout",
     "output_type": "stream",
     "text": [
      "Hello torch.Size([1, 3, 224, 224])\n",
      "Original shape [1, 3, 224, 224]\n",
      "Hello torch.Size([1, 3, 224, 224])\n",
      "Original shape [1, 3, 224, 224]\n"
     ]
    },
    {
     "name": "stderr",
     "output_type": "stream",
     "text": [
      " 72%|████████████████████████████▉           | 903/1250 [01:00<00:24, 13.91it/s]"
     ]
    },
    {
     "name": "stdout",
     "output_type": "stream",
     "text": [
      "Hello torch.Size([1, 3, 224, 224])\n",
      "Original shape [1, 3, 224, 224]\n",
      "Hello torch.Size([1, 3, 224, 224])\n",
      "Original shape [1, 3, 224, 224]\n",
      "Hello torch.Size([1, 3, 224, 224])\n",
      "Original shape [1, 3, 224, 224]\n",
      "Hello torch.Size([1, 3, 224, 224])\n",
      "Original shape [1, 3, 224, 224]\n"
     ]
    },
    {
     "name": "stderr",
     "output_type": "stream",
     "text": [
      " 73%|█████████████████████████████           | 907/1250 [01:00<00:23, 14.68it/s]"
     ]
    },
    {
     "name": "stdout",
     "output_type": "stream",
     "text": [
      "Hello torch.Size([1, 3, 224, 224])\n",
      "Original shape [1, 3, 224, 224]\n",
      "Hello torch.Size([1, 3, 224, 224])\n",
      "Original shape [1, 3, 224, 224]\n",
      "Hello torch.Size([1, 3, 224, 224])\n",
      "Original shape [1, 3, 224, 224]\n"
     ]
    },
    {
     "name": "stderr",
     "output_type": "stream",
     "text": [
      "\r",
      " 73%|█████████████████████████████           | 909/1250 [01:00<00:25, 13.46it/s]"
     ]
    },
    {
     "name": "stdout",
     "output_type": "stream",
     "text": [
      "Hello torch.Size([1, 3, 224, 224])\n",
      "Original shape [1, 3, 224, 224]\n",
      "Hello torch.Size([1, 3, 224, 224])\n",
      "Original shape [1, 3, 224, 224]\n",
      "Hello torch.Size([1, 3, 224, 224])\n",
      "Original shape [1, 3, 224, 224]\n"
     ]
    },
    {
     "name": "stderr",
     "output_type": "stream",
     "text": [
      "\r",
      " 73%|█████████████████████████████▏          | 912/1250 [01:00<00:23, 14.33it/s]"
     ]
    },
    {
     "name": "stdout",
     "output_type": "stream",
     "text": [
      "Hello torch.Size([1, 3, 224, 224])\n",
      "Original shape [1, 3, 224, 224]\n",
      "Hello torch.Size([1, 3, 224, 224])\n",
      "Original shape [1, 3, 224, 224]\n",
      "Hello torch.Size([1, 3, 224, 224])\n",
      "Original shape [1, 3, 224, 224]\n",
      "Hello torch.Size([1, 3, 224, 224])\n",
      "Original shape [1, 3, 224, 224]\n"
     ]
    },
    {
     "name": "stderr",
     "output_type": "stream",
     "text": [
      " 73%|█████████████████████████████▎          | 917/1250 [01:01<00:24, 13.70it/s]"
     ]
    },
    {
     "name": "stdout",
     "output_type": "stream",
     "text": [
      "Hello torch.Size([1, 3, 224, 224])\n",
      "Original shape [1, 3, 224, 224]\n",
      "Hello torch.Size([1, 3, 224, 224])\n",
      "Original shape [1, 3, 224, 224]\n",
      "Hello torch.Size([1, 3, 224, 224])\n",
      "Original shape [1, 3, 224, 224]\n"
     ]
    },
    {
     "name": "stderr",
     "output_type": "stream",
     "text": [
      "\r",
      " 74%|█████████████████████████████▍          | 919/1250 [01:01<00:23, 14.38it/s]"
     ]
    },
    {
     "name": "stdout",
     "output_type": "stream",
     "text": [
      "Hello torch.Size([1, 3, 224, 224])\n",
      "Original shape [1, 3, 224, 224]\n",
      "Hello torch.Size([1, 3, 224, 224])\n",
      "Original shape [1, 3, 224, 224]\n",
      "Hello torch.Size([1, 3, 224, 224])\n",
      "Original shape [1, 3, 224, 224]\n"
     ]
    },
    {
     "name": "stderr",
     "output_type": "stream",
     "text": [
      " 74%|█████████████████████████████▌          | 923/1250 [01:01<00:23, 13.72it/s]"
     ]
    },
    {
     "name": "stdout",
     "output_type": "stream",
     "text": [
      "Hello torch.Size([1, 3, 224, 224])\n",
      "Original shape [1, 3, 224, 224]\n",
      "Hello torch.Size([1, 3, 224, 224])\n",
      "Original shape [1, 3, 224, 224]\n",
      "Hello torch.Size([1, 3, 224, 224])\n",
      "Original shape [1, 3, 224, 224]\n"
     ]
    },
    {
     "name": "stderr",
     "output_type": "stream",
     "text": [
      "\r",
      " 74%|█████████████████████████████▌          | 925/1250 [01:01<00:24, 13.45it/s]"
     ]
    },
    {
     "name": "stdout",
     "output_type": "stream",
     "text": [
      "Hello torch.Size([1, 3, 224, 224])\n",
      "Original shape [1, 3, 224, 224]\n",
      "Hello torch.Size([1, 3, 224, 224])\n",
      "Original shape [1, 3, 224, 224]\n",
      "Hello torch.Size([1, 3, 224, 224])\n",
      "Original shape [1, 3, 224, 224]\n",
      "Hello torch.Size([1, 3, 224, 224])\n",
      "Original shape [1, 3, 224, 224]\n"
     ]
    },
    {
     "name": "stderr",
     "output_type": "stream",
     "text": [
      " 74%|█████████████████████████████▋          | 929/1250 [01:02<00:21, 14.76it/s]"
     ]
    },
    {
     "name": "stdout",
     "output_type": "stream",
     "text": [
      "Hello torch.Size([1, 3, 224, 224])\n",
      "Original shape [1, 3, 224, 224]\n",
      "Hello torch.Size([1, 3, 224, 224])\n",
      "Original shape [1, 3, 224, 224]\n",
      "Hello torch.Size([1, 3, 224, 224])\n",
      "Original shape [1, 3, 224, 224]\n",
      "Hello torch.Size([1, 3, 224, 224])\n",
      "Original shape [1, 3, 224, 224]\n",
      "Hello torch.Size([1, 3, 224, 224])\n",
      "Original shape [1, 3, 224, 224]\n"
     ]
    },
    {
     "name": "stderr",
     "output_type": "stream",
     "text": [
      " 75%|█████████████████████████████▉          | 935/1250 [01:02<00:17, 17.63it/s]"
     ]
    },
    {
     "name": "stdout",
     "output_type": "stream",
     "text": [
      "Hello torch.Size([1, 3, 224, 224])\n",
      "Original shape [1, 3, 224, 224]\n",
      "Hello torch.Size([1, 3, 224, 224])\n",
      "Original shape [1, 3, 224, 224]\n",
      "Hello torch.Size([1, 3, 224, 224])\n",
      "Original shape [1, 3, 224, 224]\n",
      "Hello torch.Size([1, 3, 224, 224])\n",
      "Original shape [1, 3, 224, 224]\n"
     ]
    },
    {
     "name": "stderr",
     "output_type": "stream",
     "text": [
      " 75%|██████████████████████████████          | 940/1250 [01:02<00:17, 18.18it/s]"
     ]
    },
    {
     "name": "stdout",
     "output_type": "stream",
     "text": [
      "Hello torch.Size([1, 3, 224, 224])\n",
      "Original shape [1, 3, 224, 224]\n",
      "Hello torch.Size([1, 3, 224, 224])\n",
      "Original shape [1, 3, 224, 224]\n",
      "Hello torch.Size([1, 3, 224, 224])\n",
      "Original shape [1, 3, 224, 224]\n",
      "Hello torch.Size([1, 3, 224, 224])\n",
      "Original shape [1, 3, 224, 224]\n",
      "Hello torch.Size([1, 3, 224, 224])\n",
      "Original shape [1, 3, 224, 224]\n"
     ]
    },
    {
     "name": "stderr",
     "output_type": "stream",
     "text": [
      "\r",
      " 75%|██████████████████████████████▏         | 943/1250 [01:02<00:16, 18.70it/s]"
     ]
    },
    {
     "name": "stdout",
     "output_type": "stream",
     "text": [
      "Hello torch.Size([1, 3, 224, 224])\n",
      "Original shape [1, 3, 224, 224]\n",
      "Hello torch.Size([1, 3, 224, 224])\n",
      "Original shape [1, 3, 224, 224]\n",
      "Hello torch.Size([1, 3, 224, 224])\n",
      "Original shape [1, 3, 224, 224]\n",
      "Hello torch.Size([1, 3, 224, 224])\n",
      "Original shape [1, 3, 224, 224]\n",
      "Hello torch.Size([1, 3, 224, 224])\n",
      "Original shape [1, 3, 224, 224]\n"
     ]
    },
    {
     "name": "stderr",
     "output_type": "stream",
     "text": [
      " 76%|██████████████████████████████▍         | 951/1250 [01:03<00:14, 19.97it/s]"
     ]
    },
    {
     "name": "stdout",
     "output_type": "stream",
     "text": [
      "Hello torch.Size([1, 3, 224, 224])\n",
      "Original shape [1, 3, 224, 224]\n",
      "Hello torch.Size([1, 3, 224, 224])\n",
      "Original shape [1, 3, 224, 224]\n",
      "Hello torch.Size([1, 3, 224, 224])\n",
      "Original shape [1, 3, 224, 224]\n",
      "Hello torch.Size([1, 3, 224, 224])\n",
      "Original shape [1, 3, 224, 224]\n",
      "Hello torch.Size([1, 3, 224, 224])\n",
      "Original shape [1, 3, 224, 224]\n"
     ]
    },
    {
     "name": "stderr",
     "output_type": "stream",
     "text": [
      "\r",
      " 76%|██████████████████████████████▌         | 954/1250 [01:03<00:14, 20.63it/s]"
     ]
    },
    {
     "name": "stdout",
     "output_type": "stream",
     "text": [
      "Hello torch.Size([1, 3, 224, 224])\n",
      "Original shape [1, 3, 224, 224]\n",
      "Hello torch.Size([1, 3, 224, 224])\n",
      "Original shape [1, 3, 224, 224]\n",
      "Hello torch.Size([1, 3, 224, 224])\n",
      "Original shape [1, 3, 224, 224]\n",
      "Hello torch.Size([1, 3, 224, 224])\n",
      "Original shape [1, 3, 224, 224]\n",
      "Hello torch.Size([1, 3, 224, 224])\n",
      "Original shape [1, 3, 224, 224]\n"
     ]
    },
    {
     "name": "stderr",
     "output_type": "stream",
     "text": [
      " 77%|██████████████████████████████▋         | 960/1250 [01:03<00:14, 19.51it/s]"
     ]
    },
    {
     "name": "stdout",
     "output_type": "stream",
     "text": [
      "Hello torch.Size([1, 3, 224, 224])\n",
      "Original shape [1, 3, 224, 224]\n",
      "Hello torch.Size([1, 3, 224, 224])\n",
      "Original shape [1, 3, 224, 224]\n",
      "Hello torch.Size([1, 3, 224, 224])\n",
      "Original shape [1, 3, 224, 224]\n",
      "Hello torch.Size([1, 3, 224, 224])\n",
      "Original shape [1, 3, 224, 224]\n",
      "Hello torch.Size([1, 3, 224, 224])\n",
      "Original shape [1, 3, 224, 224]\n"
     ]
    },
    {
     "name": "stderr",
     "output_type": "stream",
     "text": [
      " 77%|██████████████████████████████▉         | 966/1250 [01:03<00:13, 21.30it/s]"
     ]
    },
    {
     "name": "stdout",
     "output_type": "stream",
     "text": [
      "Hello torch.Size([1, 3, 224, 224])\n",
      "Original shape [1, 3, 224, 224]\n",
      "Hello torch.Size([1, 3, 224, 224])\n",
      "Original shape [1, 3, 224, 224]\n",
      "Hello torch.Size([1, 3, 224, 224])\n",
      "Original shape [1, 3, 224, 224]\n",
      "Hello torch.Size([1, 3, 224, 224])\n",
      "Original shape [1, 3, 224, 224]\n",
      "Hello torch.Size([1, 3, 224, 224])\n",
      "Original shape [1, 3, 224, 224]\n"
     ]
    },
    {
     "name": "stderr",
     "output_type": "stream",
     "text": [
      "\r",
      " 78%|███████████████████████████████         | 969/1250 [01:04<00:14, 19.44it/s]"
     ]
    },
    {
     "name": "stdout",
     "output_type": "stream",
     "text": [
      "Hello torch.Size([1, 3, 224, 224])\n",
      "Original shape [1, 3, 224, 224]\n",
      "Hello torch.Size([1, 3, 224, 224])\n",
      "Original shape [1, 3, 224, 224]\n",
      "Hello torch.Size([1, 3, 224, 224])\n",
      "Original shape [1, 3, 224, 224]\n",
      "Hello torch.Size([1, 3, 224, 224])\n",
      "Original shape [1, 3, 224, 224]\n"
     ]
    },
    {
     "name": "stderr",
     "output_type": "stream",
     "text": [
      " 78%|███████████████████████████████▏        | 974/1250 [01:04<00:13, 20.38it/s]"
     ]
    },
    {
     "name": "stdout",
     "output_type": "stream",
     "text": [
      "Hello torch.Size([1, 3, 224, 224])\n",
      "Original shape [1, 3, 224, 224]\n",
      "Hello torch.Size([1, 3, 224, 224])\n",
      "Original shape [1, 3, 224, 224]\n",
      "Hello torch.Size([1, 3, 224, 224])\n",
      "Original shape [1, 3, 224, 224]\n",
      "Hello torch.Size([1, 3, 224, 224])\n",
      "Original shape [1, 3, 224, 224]\n",
      "Hello torch.Size([1, 3, 224, 224])\n",
      "Original shape [1, 3, 224, 224]\n"
     ]
    },
    {
     "name": "stderr",
     "output_type": "stream",
     "text": [
      "\r",
      " 78%|███████████████████████████████▎        | 977/1250 [01:04<00:16, 16.19it/s]"
     ]
    },
    {
     "name": "stdout",
     "output_type": "stream",
     "text": [
      "Hello torch.Size([1, 3, 224, 224])\n",
      "Original shape [1, 3, 224, 224]\n",
      "Hello torch.Size([1, 3, 224, 224])\n",
      "Original shape [1, 3, 224, 224]\n",
      "Hello torch.Size([1, 3, 224, 224])\n",
      "Original shape [1, 3, 224, 224]\n"
     ]
    },
    {
     "name": "stderr",
     "output_type": "stream",
     "text": [
      "\r",
      " 78%|███████████████████████████████▎        | 979/1250 [01:04<00:16, 16.84it/s]"
     ]
    },
    {
     "name": "stdout",
     "output_type": "stream",
     "text": [
      "Hello torch.Size([1, 3, 224, 224])\n",
      "Original shape [1, 3, 224, 224]\n",
      "Hello torch.Size([1, 3, 224, 224])\n",
      "Original shape [1, 3, 224, 224]\n",
      "Hello torch.Size([1, 3, 224, 224])\n",
      "Original shape [1, 3, 224, 224]\n"
     ]
    },
    {
     "name": "stderr",
     "output_type": "stream",
     "text": [
      " 79%|███████████████████████████████▍        | 983/1250 [01:05<00:18, 14.05it/s]"
     ]
    },
    {
     "name": "stdout",
     "output_type": "stream",
     "text": [
      "Hello torch.Size([1, 3, 224, 224])\n",
      "Original shape [1, 3, 224, 224]\n",
      "Hello torch.Size([1, 3, 224, 224])\n",
      "Original shape [1, 3, 224, 224]\n",
      "Hello torch.Size([1, 3, 224, 224])\n",
      "Original shape [1, 3, 224, 224]\n"
     ]
    },
    {
     "name": "stderr",
     "output_type": "stream",
     "text": [
      " 79%|███████████████████████████████▌        | 988/1250 [01:05<00:18, 14.53it/s]"
     ]
    },
    {
     "name": "stdout",
     "output_type": "stream",
     "text": [
      "Hello torch.Size([1, 3, 224, 224])\n",
      "Original shape [1, 3, 224, 224]\n",
      "Hello torch.Size([1, 3, 224, 224])\n",
      "Original shape [1, 3, 224, 224]\n",
      "Hello torch.Size([1, 3, 224, 224])\n",
      "Original shape [1, 3, 224, 224]\n",
      "Hello torch.Size([1, 3, 224, 224])\n",
      "Original shape [1, 3, 224, 224]\n"
     ]
    },
    {
     "name": "stderr",
     "output_type": "stream",
     "text": [
      "\r",
      " 79%|███████████████████████████████▋        | 990/1250 [01:05<00:18, 13.97it/s]"
     ]
    },
    {
     "name": "stdout",
     "output_type": "stream",
     "text": [
      "Hello torch.Size([1, 3, 224, 224])\n",
      "Original shape [1, 3, 224, 224]\n",
      "Hello torch.Size([1, 3, 224, 224])\n",
      "Original shape [1, 3, 224, 224]\n",
      "Hello torch.Size([1, 3, 224, 224])\n",
      "Original shape [1, 3, 224, 224]\n",
      "Hello torch.Size([1, 3, 224, 224])\n",
      "Original shape [1, 3, 224, 224]\n"
     ]
    },
    {
     "name": "stderr",
     "output_type": "stream",
     "text": [
      " 80%|███████████████████████████████▊        | 995/1250 [01:05<00:16, 15.91it/s]"
     ]
    },
    {
     "name": "stdout",
     "output_type": "stream",
     "text": [
      "Hello torch.Size([1, 3, 224, 224])\n",
      "Original shape [1, 3, 224, 224]\n",
      "Hello torch.Size([1, 3, 224, 224])\n",
      "Original shape [1, 3, 224, 224]\n",
      "Hello torch.Size([1, 3, 224, 224])\n",
      "Original shape [1, 3, 224, 224]\n",
      "Hello torch.Size([1, 3, 224, 224])\n",
      "Original shape [1, 3, 224, 224]\n"
     ]
    },
    {
     "name": "stderr",
     "output_type": "stream",
     "text": [
      "\r",
      " 80%|███████████████████████████████▉        | 998/1250 [01:06<00:15, 16.38it/s]"
     ]
    },
    {
     "name": "stdout",
     "output_type": "stream",
     "text": [
      "Hello torch.Size([1, 3, 224, 224])\n",
      "Original shape [1, 3, 224, 224]\n",
      "Hello torch.Size([1, 3, 224, 224])\n",
      "Original shape [1, 3, 224, 224]\n",
      "Hello torch.Size([1, 3, 224, 224])\n",
      "Original shape [1, 3, 224, 224]\n",
      "Hello torch.Size([1, 3, 224, 224])\n",
      "Original shape [1, 3, 224, 224]\n"
     ]
    },
    {
     "name": "stderr",
     "output_type": "stream",
     "text": [
      " 80%|███████████████████████████████▎       | 1004/1250 [01:06<00:15, 16.17it/s]"
     ]
    },
    {
     "name": "stdout",
     "output_type": "stream",
     "text": [
      "Hello torch.Size([1, 3, 224, 224])\n",
      "Original shape [1, 3, 224, 224]\n",
      "Hello torch.Size([1, 3, 224, 224])\n",
      "Original shape [1, 3, 224, 224]\n",
      "Hello torch.Size([1, 3, 224, 224])\n",
      "Original shape [1, 3, 224, 224]\n",
      "Hello torch.Size([1, 3, 224, 224])\n",
      "Original shape [1, 3, 224, 224]\n"
     ]
    },
    {
     "name": "stderr",
     "output_type": "stream",
     "text": [
      "\r",
      " 81%|███████████████████████████████▍       | 1007/1250 [01:06<00:13, 17.54it/s]"
     ]
    },
    {
     "name": "stdout",
     "output_type": "stream",
     "text": [
      "Hello torch.Size([1, 3, 224, 224])\n",
      "Original shape [1, 3, 224, 224]\n",
      "Hello torch.Size([1, 3, 224, 224])\n",
      "Original shape [1, 3, 224, 224]\n",
      "Hello torch.Size([1, 3, 224, 224])\n",
      "Original shape [1, 3, 224, 224]\n",
      "Hello torch.Size([1, 3, 224, 224])\n",
      "Original shape [1, 3, 224, 224]\n",
      "Hello torch.Size([1, 3, 224, 224])\n",
      "Original shape [1, 3, 224, 224]\n"
     ]
    },
    {
     "name": "stderr",
     "output_type": "stream",
     "text": [
      " 81%|███████████████████████████████▌       | 1012/1250 [01:06<00:12, 19.37it/s]"
     ]
    },
    {
     "name": "stdout",
     "output_type": "stream",
     "text": [
      "Hello torch.Size([1, 3, 224, 224])\n",
      "Original shape [1, 3, 224, 224]\n",
      "Hello torch.Size([1, 3, 224, 224])\n",
      "Original shape [1, 3, 224, 224]\n",
      "Hello torch.Size([1, 3, 224, 224])\n",
      "Original shape [1, 3, 224, 224]\n",
      "Hello torch.Size([1, 3, 224, 224])\n",
      "Original shape [1, 3, 224, 224]\n"
     ]
    },
    {
     "name": "stderr",
     "output_type": "stream",
     "text": [
      "\r",
      " 81%|███████████████████████████████▋       | 1014/1250 [01:06<00:12, 18.96it/s]"
     ]
    },
    {
     "name": "stdout",
     "output_type": "stream",
     "text": [
      "Hello torch.Size([1, 3, 224, 224])\n",
      "Original shape [1, 3, 224, 224]\n",
      "Hello torch.Size([1, 3, 224, 224])\n",
      "Original shape [1, 3, 224, 224]\n",
      "Hello torch.Size([1, 3, 224, 224])\n",
      "Original shape [1, 3, 224, 224]\n",
      "Hello torch.Size([1, 3, 224, 224])\n",
      "Original shape [1, 3, 224, 224]\n"
     ]
    },
    {
     "name": "stderr",
     "output_type": "stream",
     "text": [
      " 82%|███████████████████████████████▊       | 1020/1250 [01:07<00:11, 19.33it/s]"
     ]
    },
    {
     "name": "stdout",
     "output_type": "stream",
     "text": [
      "Hello torch.Size([1, 3, 224, 224])\n",
      "Original shape [1, 3, 224, 224]\n",
      "Hello torch.Size([1, 3, 224, 224])\n",
      "Original shape [1, 3, 224, 224]\n",
      "Hello torch.Size([1, 3, 224, 224])\n",
      "Original shape [1, 3, 224, 224]\n",
      "Hello torch.Size([1, 3, 224, 224])\n",
      "Original shape [1, 3, 224, 224]\n"
     ]
    },
    {
     "name": "stderr",
     "output_type": "stream",
     "text": [
      " 82%|███████████████████████████████▉       | 1024/1250 [01:07<00:13, 16.55it/s]"
     ]
    },
    {
     "name": "stdout",
     "output_type": "stream",
     "text": [
      "Hello torch.Size([1, 3, 224, 224])\n",
      "Original shape [1, 3, 224, 224]\n",
      "Hello torch.Size([1, 3, 224, 224])\n",
      "Original shape [1, 3, 224, 224]\n",
      "Hello torch.Size([1, 3, 224, 224])\n",
      "Original shape [1, 3, 224, 224]\n",
      "Hello torch.Size([1, 3, 224, 224])\n",
      "Original shape [1, 3, 224, 224]\n"
     ]
    },
    {
     "name": "stderr",
     "output_type": "stream",
     "text": [
      "\r",
      " 82%|████████████████████████████████       | 1027/1250 [01:07<00:13, 16.21it/s]"
     ]
    },
    {
     "name": "stdout",
     "output_type": "stream",
     "text": [
      "Hello torch.Size([1, 3, 224, 224])\n",
      "Original shape [1, 3, 224, 224]\n",
      "Hello torch.Size([1, 3, 224, 224])\n",
      "Original shape [1, 3, 224, 224]\n",
      "Hello torch.Size([1, 3, 224, 224])\n",
      "Original shape [1, 3, 224, 224]\n",
      "Hello torch.Size([1, 3, 224, 224])\n",
      "Original shape [1, 3, 224, 224]\n"
     ]
    },
    {
     "name": "stderr",
     "output_type": "stream",
     "text": [
      " 83%|████████████████████████████████▏      | 1033/1250 [01:08<00:13, 15.68it/s]"
     ]
    },
    {
     "name": "stdout",
     "output_type": "stream",
     "text": [
      "Hello torch.Size([1, 3, 224, 224])\n",
      "Original shape [1, 3, 224, 224]\n",
      "Hello torch.Size([1, 3, 224, 224])\n",
      "Original shape [1, 3, 224, 224]\n",
      "Hello torch.Size([1, 3, 224, 224])\n",
      "Original shape [1, 3, 224, 224]\n",
      "Hello torch.Size([1, 3, 224, 224])\n",
      "Original shape [1, 3, 224, 224]\n"
     ]
    },
    {
     "name": "stderr",
     "output_type": "stream",
     "text": [
      " 83%|████████████████████████████████▍      | 1038/1250 [01:08<00:12, 17.64it/s]"
     ]
    },
    {
     "name": "stdout",
     "output_type": "stream",
     "text": [
      "Hello torch.Size([1, 3, 224, 224])\n",
      "Original shape [1, 3, 224, 224]\n",
      "Hello torch.Size([1, 3, 224, 224])\n",
      "Original shape [1, 3, 224, 224]\n",
      "Hello torch.Size([1, 3, 224, 224])\n",
      "Original shape [1, 3, 224, 224]\n",
      "Hello torch.Size([1, 3, 224, 224])\n",
      "Original shape [1, 3, 224, 224]\n",
      "Hello torch.Size([1, 3, 224, 224])\n",
      "Original shape [1, 3, 224, 224]\n"
     ]
    },
    {
     "name": "stderr",
     "output_type": "stream",
     "text": [
      "\r",
      " 83%|████████████████████████████████▍      | 1041/1250 [01:08<00:12, 17.13it/s]"
     ]
    },
    {
     "name": "stdout",
     "output_type": "stream",
     "text": [
      "Hello torch.Size([1, 3, 224, 224])\n",
      "Original shape [1, 3, 224, 224]\n",
      "Hello torch.Size([1, 3, 224, 224])\n",
      "Original shape [1, 3, 224, 224]\n",
      "Hello torch.Size([1, 3, 224, 224])\n",
      "Original shape [1, 3, 224, 224]\n",
      "Hello torch.Size([1, 3, 224, 224])\n",
      "Original shape [1, 3, 224, 224]\n"
     ]
    },
    {
     "name": "stderr",
     "output_type": "stream",
     "text": [
      "\r",
      " 84%|████████████████████████████████▌      | 1044/1250 [01:08<00:12, 16.03it/s]"
     ]
    },
    {
     "name": "stdout",
     "output_type": "stream",
     "text": [
      "Hello torch.Size([1, 3, 224, 224])\n",
      "Original shape [1, 3, 224, 224]\n",
      "Hello torch.Size([1, 3, 224, 224])\n",
      "Original shape [1, 3, 224, 224]\n",
      "Hello torch.Size([1, 3, 224, 224])\n",
      "Original shape [1, 3, 224, 224]\n"
     ]
    },
    {
     "name": "stderr",
     "output_type": "stream",
     "text": [
      " 84%|████████████████████████████████▋      | 1049/1250 [01:09<00:11, 16.94it/s]"
     ]
    },
    {
     "name": "stdout",
     "output_type": "stream",
     "text": [
      "Hello torch.Size([1, 3, 224, 224])\n",
      "Original shape [1, 3, 224, 224]\n",
      "Hello torch.Size([1, 3, 224, 224])\n",
      "Original shape [1, 3, 224, 224]\n",
      "Hello torch.Size([1, 3, 224, 224])\n",
      "Original shape [1, 3, 224, 224]\n",
      "Hello torch.Size([1, 3, 224, 224])\n",
      "Original shape [1, 3, 224, 224]\n"
     ]
    },
    {
     "name": "stderr",
     "output_type": "stream",
     "text": [
      "\r",
      " 84%|████████████████████████████████▊      | 1051/1250 [01:09<00:14, 14.19it/s]"
     ]
    },
    {
     "name": "stdout",
     "output_type": "stream",
     "text": [
      "Hello torch.Size([1, 3, 224, 224])\n",
      "Original shape [1, 3, 224, 224]\n",
      "Hello torch.Size([1, 3, 224, 224])\n",
      "Original shape [1, 3, 224, 224]\n",
      "Hello torch.Size([1, 3, 224, 224])\n",
      "Original shape [1, 3, 224, 224]\n"
     ]
    },
    {
     "name": "stderr",
     "output_type": "stream",
     "text": [
      "\r",
      " 84%|████████████████████████████████▊      | 1053/1250 [01:09<00:13, 14.35it/s]"
     ]
    },
    {
     "name": "stdout",
     "output_type": "stream",
     "text": [
      "Hello torch.Size([1, 3, 224, 224])\n",
      "Original shape [1, 3, 224, 224]\n",
      "Hello torch.Size([1, 3, 224, 224])\n",
      "Original shape [1, 3, 224, 224]\n"
     ]
    },
    {
     "name": "stderr",
     "output_type": "stream",
     "text": [
      " 85%|████████████████████████████████▉      | 1057/1250 [01:09<00:14, 13.30it/s]"
     ]
    },
    {
     "name": "stdout",
     "output_type": "stream",
     "text": [
      "Hello torch.Size([1, 3, 224, 224])\n",
      "Original shape [1, 3, 224, 224]\n",
      "Hello torch.Size([1, 3, 224, 224])\n",
      "Original shape [1, 3, 224, 224]\n",
      "Hello torch.Size([1, 3, 224, 224])\n",
      "Original shape [1, 3, 224, 224]\n",
      "Hello torch.Size([1, 3, 224, 224])\n",
      "Original shape [1, 3, 224, 224]\n"
     ]
    },
    {
     "name": "stderr",
     "output_type": "stream",
     "text": [
      " 85%|█████████████████████████████████      | 1061/1250 [01:10<00:13, 13.93it/s]"
     ]
    },
    {
     "name": "stdout",
     "output_type": "stream",
     "text": [
      "Hello torch.Size([1, 3, 224, 224])\n",
      "Original shape [1, 3, 224, 224]\n",
      "Hello torch.Size([1, 3, 224, 224])\n",
      "Original shape [1, 3, 224, 224]\n",
      "Hello torch.Size([1, 3, 224, 224])\n",
      "Original shape [1, 3, 224, 224]\n",
      "Hello torch.Size([1, 3, 224, 224])\n",
      "Original shape [1, 3, 224, 224]\n"
     ]
    },
    {
     "name": "stderr",
     "output_type": "stream",
     "text": [
      " 85%|█████████████████████████████████▎     | 1066/1250 [01:10<00:11, 15.67it/s]"
     ]
    },
    {
     "name": "stdout",
     "output_type": "stream",
     "text": [
      "Hello torch.Size([1, 3, 224, 224])\n",
      "Original shape [1, 3, 224, 224]\n",
      "Hello torch.Size([1, 3, 224, 224])\n",
      "Original shape [1, 3, 224, 224]\n",
      "Hello torch.Size([1, 3, 224, 224])\n",
      "Original shape [1, 3, 224, 224]\n",
      "Hello torch.Size([1, 3, 224, 224])\n",
      "Original shape [1, 3, 224, 224]\n"
     ]
    },
    {
     "name": "stderr",
     "output_type": "stream",
     "text": [
      "\r",
      " 85%|█████████████████████████████████▎     | 1068/1250 [01:10<00:12, 15.06it/s]"
     ]
    },
    {
     "name": "stdout",
     "output_type": "stream",
     "text": [
      "Hello torch.Size([1, 3, 224, 224])\n",
      "Original shape [1, 3, 224, 224]\n",
      "Hello torch.Size([1, 3, 224, 224])\n",
      "Original shape [1, 3, 224, 224]\n",
      "Hello torch.Size([1, 3, 224, 224])\n",
      "Original shape [1, 3, 224, 224]\n"
     ]
    },
    {
     "name": "stderr",
     "output_type": "stream",
     "text": [
      " 86%|█████████████████████████████████▍     | 1072/1250 [01:10<00:10, 16.19it/s]"
     ]
    },
    {
     "name": "stdout",
     "output_type": "stream",
     "text": [
      "Hello torch.Size([1, 3, 224, 224])\n",
      "Original shape [1, 3, 224, 224]\n",
      "Hello torch.Size([1, 3, 224, 224])\n",
      "Original shape [1, 3, 224, 224]\n",
      "Hello torch.Size([1, 3, 224, 224])\n",
      "Original shape [1, 3, 224, 224]\n",
      "Hello torch.Size([1, 3, 224, 224])\n",
      "Original shape [1, 3, 224, 224]\n",
      "Hello torch.Size([1, 3, 224, 224])\n",
      "Original shape [1, 3, 224, 224]\n"
     ]
    },
    {
     "name": "stderr",
     "output_type": "stream",
     "text": [
      " 86%|█████████████████████████████████▋     | 1078/1250 [01:10<00:09, 19.00it/s]"
     ]
    },
    {
     "name": "stdout",
     "output_type": "stream",
     "text": [
      "Hello torch.Size([1, 3, 224, 224])\n",
      "Original shape [1, 3, 224, 224]\n",
      "Hello torch.Size([1, 3, 224, 224])\n",
      "Original shape [1, 3, 224, 224]\n",
      "Hello torch.Size([1, 3, 224, 224])\n",
      "Original shape [1, 3, 224, 224]\n",
      "Hello torch.Size([1, 3, 224, 224])\n",
      "Original shape [1, 3, 224, 224]\n"
     ]
    },
    {
     "name": "stderr",
     "output_type": "stream",
     "text": [
      "\r",
      " 86%|█████████████████████████████████▋     | 1080/1250 [01:11<00:10, 16.82it/s]"
     ]
    },
    {
     "name": "stdout",
     "output_type": "stream",
     "text": [
      "Hello torch.Size([1, 3, 224, 224])\n",
      "Original shape [1, 3, 224, 224]\n",
      "Hello torch.Size([1, 3, 224, 224])\n",
      "Original shape [1, 3, 224, 224]\n",
      "Hello torch.Size([1, 3, 224, 224])\n",
      "Original shape [1, 3, 224, 224]\n"
     ]
    },
    {
     "name": "stderr",
     "output_type": "stream",
     "text": [
      " 87%|█████████████████████████████████▊     | 1084/1250 [01:11<00:11, 14.25it/s]"
     ]
    },
    {
     "name": "stdout",
     "output_type": "stream",
     "text": [
      "Hello torch.Size([1, 3, 224, 224])\n",
      "Original shape [1, 3, 224, 224]\n",
      "Hello torch.Size([1, 3, 224, 224])\n",
      "Original shape [1, 3, 224, 224]\n",
      "Hello torch.Size([1, 3, 224, 224])\n",
      "Original shape [1, 3, 224, 224]\n",
      "Hello torch.Size([1, 3, 224, 224])\n",
      "Original shape [1, 3, 224, 224]\n"
     ]
    },
    {
     "name": "stderr",
     "output_type": "stream",
     "text": [
      "\r",
      " 87%|█████████████████████████████████▉     | 1087/1250 [01:11<00:10, 15.27it/s]"
     ]
    },
    {
     "name": "stdout",
     "output_type": "stream",
     "text": [
      "Hello torch.Size([1, 3, 224, 224])\n",
      "Original shape [1, 3, 224, 224]\n",
      "Hello torch.Size([1, 3, 224, 224])\n",
      "Original shape [1, 3, 224, 224]\n",
      "Hello torch.Size([1, 3, 224, 224])\n",
      "Original shape [1, 3, 224, 224]\n",
      "Hello torch.Size([1, 3, 224, 224])\n",
      "Original shape [1, 3, 224, 224]\n",
      "Hello torch.Size([1, 3, 224, 224])\n",
      "Original shape [1, 3, 224, 224]\n"
     ]
    },
    {
     "name": "stderr",
     "output_type": "stream",
     "text": [
      " 87%|██████████████████████████████████     | 1093/1250 [01:11<00:08, 18.98it/s]"
     ]
    },
    {
     "name": "stdout",
     "output_type": "stream",
     "text": [
      "Hello torch.Size([1, 3, 224, 224])\n",
      "Original shape [1, 3, 224, 224]\n",
      "Hello torch.Size([1, 3, 224, 224])\n",
      "Original shape [1, 3, 224, 224]\n",
      "Hello torch.Size([1, 3, 224, 224])\n",
      "Original shape [1, 3, 224, 224]\n",
      "Hello torch.Size([1, 3, 224, 224])\n",
      "Original shape [1, 3, 224, 224]\n"
     ]
    },
    {
     "name": "stderr",
     "output_type": "stream",
     "text": [
      " 88%|██████████████████████████████████▎    | 1099/1250 [01:12<00:07, 21.34it/s]"
     ]
    },
    {
     "name": "stdout",
     "output_type": "stream",
     "text": [
      "Hello torch.Size([1, 3, 224, 224])\n",
      "Original shape [1, 3, 224, 224]\n",
      "Hello torch.Size([1, 3, 224, 224])\n",
      "Original shape [1, 3, 224, 224]\n",
      "Hello torch.Size([1, 3, 224, 224])\n",
      "Original shape [1, 3, 224, 224]\n",
      "Hello torch.Size([1, 3, 224, 224])\n",
      "Original shape [1, 3, 224, 224]\n",
      "Hello torch.Size([1, 3, 224, 224])\n",
      "Original shape [1, 3, 224, 224]\n",
      "Hello torch.Size([1, 3, 224, 224])\n",
      "Original shape [1, 3, 224, 224]\n"
     ]
    },
    {
     "name": "stderr",
     "output_type": "stream",
     "text": [
      "\r",
      " 88%|██████████████████████████████████▍    | 1102/1250 [01:12<00:07, 20.33it/s]"
     ]
    },
    {
     "name": "stdout",
     "output_type": "stream",
     "text": [
      "Hello torch.Size([1, 3, 224, 224])\n",
      "Original shape [1, 3, 224, 224]\n",
      "Hello torch.Size([1, 3, 224, 224])\n",
      "Original shape [1, 3, 224, 224]\n",
      "Hello torch.Size([1, 3, 224, 224])\n",
      "Original shape [1, 3, 224, 224]\n",
      "Hello torch.Size([1, 3, 224, 224])\n",
      "Original shape [1, 3, 224, 224]\n"
     ]
    },
    {
     "name": "stderr",
     "output_type": "stream",
     "text": [
      " 89%|██████████████████████████████████▌    | 1108/1250 [01:12<00:06, 21.29it/s]"
     ]
    },
    {
     "name": "stdout",
     "output_type": "stream",
     "text": [
      "Hello torch.Size([1, 3, 224, 224])\n",
      "Original shape [1, 3, 224, 224]\n",
      "Hello torch.Size([1, 3, 224, 224])\n",
      "Original shape [1, 3, 224, 224]\n",
      "Hello torch.Size([1, 3, 224, 224])\n",
      "Original shape [1, 3, 224, 224]\n",
      "Hello torch.Size([1, 3, 224, 224])\n",
      "Original shape [1, 3, 224, 224]\n"
     ]
    },
    {
     "name": "stderr",
     "output_type": "stream",
     "text": [
      "\r",
      " 89%|██████████████████████████████████▋    | 1111/1250 [01:12<00:07, 18.13it/s]"
     ]
    },
    {
     "name": "stdout",
     "output_type": "stream",
     "text": [
      "Hello torch.Size([1, 3, 224, 224])\n",
      "Original shape [1, 3, 224, 224]\n",
      "Hello torch.Size([1, 3, 224, 224])\n",
      "Original shape [1, 3, 224, 224]\n",
      "Hello torch.Size([1, 3, 224, 224])\n",
      "Original shape [1, 3, 224, 224]\n",
      "Hello torch.Size([1, 3, 224, 224])\n",
      "Original shape [1, 3, 224, 224]\n"
     ]
    },
    {
     "name": "stderr",
     "output_type": "stream",
     "text": [
      " 89%|██████████████████████████████████▊    | 1116/1250 [01:13<00:07, 17.45it/s]"
     ]
    },
    {
     "name": "stdout",
     "output_type": "stream",
     "text": [
      "Hello torch.Size([1, 3, 224, 224])\n",
      "Original shape [1, 3, 224, 224]\n",
      "Hello torch.Size([1, 3, 224, 224])\n",
      "Original shape [1, 3, 224, 224]\n",
      "Hello torch.Size([1, 3, 224, 224])\n",
      "Original shape [1, 3, 224, 224]\n",
      "Hello torch.Size([1, 3, 224, 224])\n",
      "Original shape [1, 3, 224, 224]\n",
      "Hello torch.Size([1, 3, 224, 224])\n",
      "Original shape [1, 3, 224, 224]\n"
     ]
    },
    {
     "name": "stderr",
     "output_type": "stream",
     "text": [
      " 90%|███████████████████████████████████    | 1122/1250 [01:13<00:06, 19.96it/s]"
     ]
    },
    {
     "name": "stdout",
     "output_type": "stream",
     "text": [
      "Hello torch.Size([1, 3, 224, 224])\n",
      "Original shape [1, 3, 224, 224]\n",
      "Hello torch.Size([1, 3, 224, 224])\n",
      "Original shape [1, 3, 224, 224]\n",
      "Hello torch.Size([1, 3, 224, 224])\n",
      "Original shape [1, 3, 224, 224]\n",
      "Hello torch.Size([1, 3, 224, 224])\n",
      "Original shape [1, 3, 224, 224]\n",
      "Hello torch.Size([1, 3, 224, 224])\n",
      "Original shape [1, 3, 224, 224]\n"
     ]
    },
    {
     "name": "stderr",
     "output_type": "stream",
     "text": [
      "\r",
      " 90%|███████████████████████████████████    | 1125/1250 [01:13<00:06, 19.71it/s]"
     ]
    },
    {
     "name": "stdout",
     "output_type": "stream",
     "text": [
      "Hello torch.Size([1, 3, 224, 224])\n",
      "Original shape [1, 3, 224, 224]\n",
      "Hello torch.Size([1, 3, 224, 224])\n",
      "Original shape [1, 3, 224, 224]\n",
      "Hello torch.Size([1, 3, 224, 224])\n",
      "Original shape [1, 3, 224, 224]\n",
      "Hello torch.Size([1, 3, 224, 224])\n",
      "Original shape [1, 3, 224, 224]\n",
      "Hello torch.Size([1, 3, 224, 224])\n",
      "Original shape [1, 3, 224, 224]\n"
     ]
    },
    {
     "name": "stderr",
     "output_type": "stream",
     "text": [
      " 90%|███████████████████████████████████▎   | 1131/1250 [01:13<00:05, 21.44it/s]"
     ]
    },
    {
     "name": "stdout",
     "output_type": "stream",
     "text": [
      "Hello torch.Size([1, 3, 224, 224])\n",
      "Original shape [1, 3, 224, 224]\n",
      "Hello torch.Size([1, 3, 224, 224])\n",
      "Original shape [1, 3, 224, 224]\n",
      "Hello torch.Size([1, 3, 224, 224])\n",
      "Original shape [1, 3, 224, 224]\n",
      "Hello torch.Size([1, 3, 224, 224])\n",
      "Original shape [1, 3, 224, 224]\n",
      "Hello torch.Size([1, 3, 224, 224])\n",
      "Original shape [1, 3, 224, 224]\n"
     ]
    },
    {
     "name": "stderr",
     "output_type": "stream",
     "text": [
      " 91%|███████████████████████████████████▍   | 1137/1250 [01:14<00:05, 22.42it/s]"
     ]
    },
    {
     "name": "stdout",
     "output_type": "stream",
     "text": [
      "Hello torch.Size([1, 3, 224, 224])\n",
      "Original shape [1, 3, 224, 224]\n",
      "Hello torch.Size([1, 3, 224, 224])\n",
      "Original shape [1, 3, 224, 224]\n",
      "Hello torch.Size([1, 3, 224, 224])\n",
      "Original shape [1, 3, 224, 224]\n",
      "Hello torch.Size([1, 3, 224, 224])\n",
      "Original shape [1, 3, 224, 224]\n",
      "Hello torch.Size([1, 3, 224, 224])\n",
      "Original shape [1, 3, 224, 224]\n",
      "Hello torch.Size([1, 3, 224, 224])\n",
      "Original shape [1, 3, 224, 224]\n"
     ]
    },
    {
     "name": "stderr",
     "output_type": "stream",
     "text": [
      " 91%|███████████████████████████████████▋   | 1143/1250 [01:14<00:04, 23.09it/s]"
     ]
    },
    {
     "name": "stdout",
     "output_type": "stream",
     "text": [
      "Hello torch.Size([1, 3, 224, 224])\n",
      "Original shape [1, 3, 224, 224]\n",
      "Hello torch.Size([1, 3, 224, 224])\n",
      "Original shape [1, 3, 224, 224]\n",
      "Hello torch.Size([1, 3, 224, 224])\n",
      "Original shape [1, 3, 224, 224]\n",
      "Hello torch.Size([1, 3, 224, 224])\n",
      "Original shape [1, 3, 224, 224]\n",
      "Hello torch.Size([1, 3, 224, 224])\n",
      "Original shape [1, 3, 224, 224]\n"
     ]
    },
    {
     "name": "stderr",
     "output_type": "stream",
     "text": [
      "\r",
      " 92%|███████████████████████████████████▊   | 1146/1250 [01:14<00:04, 21.49it/s]"
     ]
    },
    {
     "name": "stdout",
     "output_type": "stream",
     "text": [
      "Hello torch.Size([1, 3, 224, 224])\n",
      "Original shape [1, 3, 224, 224]\n",
      "Hello torch.Size([1, 3, 224, 224])\n",
      "Original shape [1, 3, 224, 224]\n",
      "Hello torch.Size([1, 3, 224, 224])\n",
      "Original shape [1, 3, 224, 224]\n",
      "Hello torch.Size([1, 3, 224, 224])\n",
      "Original shape [1, 3, 224, 224]\n",
      "Hello torch.Size([1, 3, 224, 224])\n",
      "Original shape [1, 3, 224, 224]\n"
     ]
    },
    {
     "name": "stderr",
     "output_type": "stream",
     "text": [
      " 92%|███████████████████████████████████▉   | 1152/1250 [01:14<00:04, 22.16it/s]"
     ]
    },
    {
     "name": "stdout",
     "output_type": "stream",
     "text": [
      "Hello torch.Size([1, 3, 224, 224])\n",
      "Original shape [1, 3, 224, 224]\n",
      "Hello torch.Size([1, 3, 224, 224])\n",
      "Original shape [1, 3, 224, 224]\n",
      "Hello torch.Size([1, 3, 224, 224])\n",
      "Original shape [1, 3, 224, 224]\n",
      "Hello torch.Size([1, 3, 224, 224])\n",
      "Original shape [1, 3, 224, 224]\n",
      "Hello torch.Size([1, 3, 224, 224])\n",
      "Original shape [1, 3, 224, 224]\n"
     ]
    },
    {
     "name": "stderr",
     "output_type": "stream",
     "text": [
      "\r",
      " 92%|████████████████████████████████████   | 1155/1250 [01:14<00:04, 21.42it/s]"
     ]
    },
    {
     "name": "stdout",
     "output_type": "stream",
     "text": [
      "Hello torch.Size([1, 3, 224, 224])\n",
      "Original shape [1, 3, 224, 224]\n",
      "Hello torch.Size([1, 3, 224, 224])\n",
      "Original shape [1, 3, 224, 224]\n",
      "Hello torch.Size([1, 3, 224, 224])\n",
      "Original shape [1, 3, 224, 224]\n",
      "Hello torch.Size([1, 3, 224, 224])\n",
      "Original shape [1, 3, 224, 224]\n",
      "Hello torch.Size([1, 3, 224, 224])\n",
      "Original shape [1, 3, 224, 224]\n"
     ]
    },
    {
     "name": "stderr",
     "output_type": "stream",
     "text": [
      " 93%|████████████████████████████████████▏  | 1161/1250 [01:15<00:04, 21.25it/s]"
     ]
    },
    {
     "name": "stdout",
     "output_type": "stream",
     "text": [
      "Hello torch.Size([1, 3, 224, 224])\n",
      "Original shape [1, 3, 224, 224]\n",
      "Hello torch.Size([1, 3, 224, 224])\n",
      "Original shape [1, 3, 224, 224]\n",
      "Hello torch.Size([1, 3, 224, 224])\n",
      "Original shape [1, 3, 224, 224]\n",
      "Hello torch.Size([1, 3, 224, 224])\n",
      "Original shape [1, 3, 224, 224]\n",
      "Hello torch.Size([1, 3, 224, 224])\n",
      "Original shape [1, 3, 224, 224]\n"
     ]
    },
    {
     "name": "stderr",
     "output_type": "stream",
     "text": [
      " 93%|████████████████████████████████████▍  | 1167/1250 [01:15<00:04, 20.75it/s]"
     ]
    },
    {
     "name": "stdout",
     "output_type": "stream",
     "text": [
      "Hello torch.Size([1, 3, 224, 224])\n",
      "Original shape [1, 3, 224, 224]\n",
      "Hello torch.Size([1, 3, 224, 224])\n",
      "Original shape [1, 3, 224, 224]\n",
      "Hello torch.Size([1, 3, 224, 224])\n",
      "Original shape [1, 3, 224, 224]\n",
      "Hello torch.Size([1, 3, 224, 224])\n",
      "Original shape [1, 3, 224, 224]\n"
     ]
    },
    {
     "name": "stderr",
     "output_type": "stream",
     "text": [
      "\r",
      " 94%|████████████████████████████████████▌  | 1171/1250 [01:15<00:03, 20.74it/s]"
     ]
    },
    {
     "name": "stdout",
     "output_type": "stream",
     "text": [
      "Hello torch.Size([1, 3, 224, 224])\n",
      "Original shape [1, 3, 224, 224]\n",
      "Hello torch.Size([1, 3, 224, 224])\n",
      "Original shape [1, 3, 224, 224]\n",
      "Hello torch.Size([1, 3, 224, 224])\n",
      "Original shape [1, 3, 224, 224]\n",
      "Hello torch.Size([1, 3, 224, 224])\n",
      "Original shape [1, 3, 224, 224]\n",
      "Hello torch.Size([1, 3, 224, 224])\n",
      "Original shape [1, 3, 224, 224]\n"
     ]
    },
    {
     "name": "stderr",
     "output_type": "stream",
     "text": [
      " 94%|████████████████████████████████████▋  | 1177/1250 [01:15<00:03, 21.76it/s]"
     ]
    },
    {
     "name": "stdout",
     "output_type": "stream",
     "text": [
      "Hello torch.Size([1, 3, 224, 224])\n",
      "Original shape [1, 3, 224, 224]\n",
      "Hello torch.Size([1, 3, 224, 224])\n",
      "Original shape [1, 3, 224, 224]\n",
      "Hello torch.Size([1, 3, 224, 224])\n",
      "Original shape [1, 3, 224, 224]\n",
      "Hello torch.Size([1, 3, 224, 224])\n",
      "Original shape [1, 3, 224, 224]\n",
      "Hello torch.Size([1, 3, 224, 224])\n",
      "Original shape [1, 3, 224, 224]\n"
     ]
    },
    {
     "name": "stderr",
     "output_type": "stream",
     "text": [
      "\r",
      " 94%|████████████████████████████████████▊  | 1180/1250 [01:16<00:03, 20.53it/s]"
     ]
    },
    {
     "name": "stdout",
     "output_type": "stream",
     "text": [
      "Hello torch.Size([1, 3, 224, 224])\n",
      "Original shape [1, 3, 224, 224]\n",
      "Hello torch.Size([1, 3, 224, 224])\n",
      "Original shape [1, 3, 224, 224]\n",
      "Hello torch.Size([1, 3, 224, 224])\n",
      "Original shape [1, 3, 224, 224]\n",
      "Hello torch.Size([1, 3, 224, 224])\n",
      "Original shape [1, 3, 224, 224]\n",
      "Hello torch.Size([1, 3, 224, 224])\n",
      "Original shape [1, 3, 224, 224]\n"
     ]
    },
    {
     "name": "stderr",
     "output_type": "stream",
     "text": [
      " 95%|█████████████████████████████████████  | 1186/1250 [01:16<00:03, 21.24it/s]"
     ]
    },
    {
     "name": "stdout",
     "output_type": "stream",
     "text": [
      "Hello torch.Size([1, 3, 224, 224])\n",
      "Original shape [1, 3, 224, 224]\n",
      "Hello torch.Size([1, 3, 224, 224])\n",
      "Original shape [1, 3, 224, 224]\n",
      "Hello torch.Size([1, 3, 224, 224])\n",
      "Original shape [1, 3, 224, 224]\n",
      "Hello torch.Size([1, 3, 224, 224])\n",
      "Original shape [1, 3, 224, 224]\n",
      "Hello torch.Size([1, 3, 224, 224])\n",
      "Original shape [1, 3, 224, 224]\n"
     ]
    },
    {
     "name": "stderr",
     "output_type": "stream",
     "text": [
      " 95%|█████████████████████████████████████▏ | 1192/1250 [01:16<00:02, 23.43it/s]"
     ]
    },
    {
     "name": "stdout",
     "output_type": "stream",
     "text": [
      "Hello torch.Size([1, 3, 224, 224])\n",
      "Original shape [1, 3, 224, 224]\n",
      "Hello torch.Size([1, 3, 224, 224])\n",
      "Original shape [1, 3, 224, 224]\n",
      "Hello torch.Size([1, 3, 224, 224])\n",
      "Original shape [1, 3, 224, 224]\n",
      "Hello torch.Size([1, 3, 224, 224])\n",
      "Original shape [1, 3, 224, 224]\n",
      "Hello torch.Size([1, 3, 224, 224])\n",
      "Original shape [1, 3, 224, 224]\n",
      "Hello torch.Size([1, 3, 224, 224])\n",
      "Original shape [1, 3, 224, 224]\n"
     ]
    },
    {
     "name": "stderr",
     "output_type": "stream",
     "text": [
      " 96%|█████████████████████████████████████▍ | 1198/1250 [01:16<00:02, 22.97it/s]"
     ]
    },
    {
     "name": "stdout",
     "output_type": "stream",
     "text": [
      "Hello torch.Size([1, 3, 224, 224])\n",
      "Original shape [1, 3, 224, 224]\n",
      "Hello torch.Size([1, 3, 224, 224])\n",
      "Original shape [1, 3, 224, 224]\n",
      "Hello torch.Size([1, 3, 224, 224])\n",
      "Original shape [1, 3, 224, 224]\n",
      "Hello torch.Size([1, 3, 224, 224])\n",
      "Original shape [1, 3, 224, 224]\n",
      "Hello torch.Size([1, 3, 224, 224])\n",
      "Original shape [1, 3, 224, 224]\n"
     ]
    },
    {
     "name": "stderr",
     "output_type": "stream",
     "text": [
      "\r",
      " 96%|█████████████████████████████████████▍ | 1201/1250 [01:16<00:02, 23.66it/s]"
     ]
    },
    {
     "name": "stdout",
     "output_type": "stream",
     "text": [
      "Hello torch.Size([1, 3, 224, 224])\n",
      "Original shape [1, 3, 224, 224]\n",
      "Hello torch.Size([1, 3, 224, 224])\n",
      "Original shape [1, 3, 224, 224]\n",
      "Hello torch.Size([1, 3, 224, 224])\n",
      "Original shape [1, 3, 224, 224]\n",
      "Hello torch.Size([1, 3, 224, 224])\n",
      "Original shape [1, 3, 224, 224]\n",
      "Hello torch.Size([1, 3, 224, 224])\n",
      "Original shape [1, 3, 224, 224]\n"
     ]
    },
    {
     "name": "stderr",
     "output_type": "stream",
     "text": [
      " 97%|█████████████████████████████████████▋ | 1207/1250 [01:17<00:01, 23.98it/s]"
     ]
    },
    {
     "name": "stdout",
     "output_type": "stream",
     "text": [
      "Hello torch.Size([1, 3, 224, 224])\n",
      "Original shape [1, 3, 224, 224]\n",
      "Hello torch.Size([1, 3, 224, 224])\n",
      "Original shape [1, 3, 224, 224]\n",
      "Hello torch.Size([1, 3, 224, 224])\n",
      "Original shape [1, 3, 224, 224]\n",
      "Hello torch.Size([1, 3, 224, 224])\n",
      "Original shape [1, 3, 224, 224]\n",
      "Hello torch.Size([1, 3, 224, 224])\n",
      "Original shape [1, 3, 224, 224]\n",
      "Hello torch.Size([1, 3, 224, 224])\n",
      "Original shape [1, 3, 224, 224]\n"
     ]
    },
    {
     "name": "stderr",
     "output_type": "stream",
     "text": [
      " 97%|█████████████████████████████████████▊ | 1213/1250 [01:17<00:01, 23.38it/s]"
     ]
    },
    {
     "name": "stdout",
     "output_type": "stream",
     "text": [
      "Hello torch.Size([1, 3, 224, 224])\n",
      "Original shape [1, 3, 224, 224]\n",
      "Hello torch.Size([1, 3, 224, 224])\n",
      "Original shape [1, 3, 224, 224]\n",
      "Hello torch.Size([1, 3, 224, 224])\n",
      "Original shape [1, 3, 224, 224]\n",
      "Hello torch.Size([1, 3, 224, 224])\n",
      "Original shape [1, 3, 224, 224]\n",
      "Hello torch.Size([1, 3, 224, 224])\n",
      "Original shape [1, 3, 224, 224]\n"
     ]
    },
    {
     "name": "stderr",
     "output_type": "stream",
     "text": [
      " 98%|██████████████████████████████████████ | 1219/1250 [01:17<00:01, 24.73it/s]"
     ]
    },
    {
     "name": "stdout",
     "output_type": "stream",
     "text": [
      "Hello torch.Size([1, 3, 224, 224])\n",
      "Original shape [1, 3, 224, 224]\n",
      "Hello torch.Size([1, 3, 224, 224])\n",
      "Original shape [1, 3, 224, 224]\n",
      "Hello torch.Size([1, 3, 224, 224])\n",
      "Original shape [1, 3, 224, 224]\n",
      "Hello torch.Size([1, 3, 224, 224])\n",
      "Original shape [1, 3, 224, 224]\n",
      "Hello torch.Size([1, 3, 224, 224])\n",
      "Original shape [1, 3, 224, 224]\n",
      "Hello torch.Size([1, 3, 224, 224])\n",
      "Original shape [1, 3, 224, 224]\n"
     ]
    },
    {
     "name": "stderr",
     "output_type": "stream",
     "text": [
      " 98%|██████████████████████████████████████▏| 1225/1250 [01:17<00:00, 25.24it/s]"
     ]
    },
    {
     "name": "stdout",
     "output_type": "stream",
     "text": [
      "Hello torch.Size([1, 3, 224, 224])\n",
      "Original shape [1, 3, 224, 224]\n",
      "Hello torch.Size([1, 3, 224, 224])\n",
      "Original shape [1, 3, 224, 224]\n",
      "Hello torch.Size([1, 3, 224, 224])\n",
      "Original shape [1, 3, 224, 224]\n",
      "Hello torch.Size([1, 3, 224, 224])\n",
      "Original shape [1, 3, 224, 224]\n",
      "Hello torch.Size([1, 3, 224, 224])\n",
      "Original shape [1, 3, 224, 224]\n",
      "Hello torch.Size([1, 3, 224, 224])\n",
      "Original shape [1, 3, 224, 224]\n"
     ]
    },
    {
     "name": "stderr",
     "output_type": "stream",
     "text": [
      " 98%|██████████████████████████████████████▍| 1231/1250 [01:18<00:00, 24.94it/s]"
     ]
    },
    {
     "name": "stdout",
     "output_type": "stream",
     "text": [
      "Hello torch.Size([1, 3, 224, 224])\n",
      "Original shape [1, 3, 224, 224]\n",
      "Hello torch.Size([1, 3, 224, 224])\n",
      "Original shape [1, 3, 224, 224]\n",
      "Hello torch.Size([1, 3, 224, 224])\n",
      "Original shape [1, 3, 224, 224]\n",
      "Hello torch.Size([1, 3, 224, 224])\n",
      "Original shape [1, 3, 224, 224]\n",
      "Hello torch.Size([1, 3, 224, 224])\n",
      "Original shape [1, 3, 224, 224]\n",
      "Hello torch.Size([1, 3, 224, 224])\n",
      "Original shape [1, 3, 224, 224]\n"
     ]
    },
    {
     "name": "stderr",
     "output_type": "stream",
     "text": [
      " 99%|██████████████████████████████████████▌| 1237/1250 [01:18<00:00, 23.61it/s]"
     ]
    },
    {
     "name": "stdout",
     "output_type": "stream",
     "text": [
      "Hello torch.Size([1, 3, 224, 224])\n",
      "Original shape [1, 3, 224, 224]\n",
      "Hello torch.Size([1, 3, 224, 224])\n",
      "Original shape [1, 3, 224, 224]\n",
      "Hello torch.Size([1, 3, 224, 224])\n",
      "Original shape [1, 3, 224, 224]\n",
      "Hello torch.Size([1, 3, 224, 224])\n",
      "Original shape [1, 3, 224, 224]\n",
      "Hello torch.Size([1, 3, 224, 224])\n",
      "Original shape [1, 3, 224, 224]\n",
      "Hello torch.Size([1, 3, 224, 224])\n",
      "Original shape [1, 3, 224, 224]\n"
     ]
    },
    {
     "name": "stderr",
     "output_type": "stream",
     "text": [
      "\r",
      " 99%|██████████████████████████████████████▋| 1241/1250 [01:18<00:00, 24.91it/s]"
     ]
    },
    {
     "name": "stdout",
     "output_type": "stream",
     "text": [
      "Hello torch.Size([1, 3, 224, 224])\n",
      "Original shape [1, 3, 224, 224]\n",
      "Hello torch.Size([1, 3, 224, 224])\n",
      "Original shape [1, 3, 224, 224]\n",
      "Hello torch.Size([1, 3, 224, 224])\n",
      "Original shape [1, 3, 224, 224]\n",
      "Hello torch.Size([1, 3, 224, 224])\n",
      "Original shape [1, 3, 224, 224]\n",
      "Hello torch.Size([1, 3, 224, 224])\n",
      "Original shape [1, 3, 224, 224]\n"
     ]
    },
    {
     "name": "stderr",
     "output_type": "stream",
     "text": [
      "100%|██████████████████████████████████████▉| 1247/1250 [01:18<00:00, 24.06it/s]"
     ]
    },
    {
     "name": "stdout",
     "output_type": "stream",
     "text": [
      "Hello torch.Size([1, 3, 224, 224])\n",
      "Original shape [1, 3, 224, 224]\n",
      "Hello torch.Size([1, 3, 224, 224])\n",
      "Original shape [1, 3, 224, 224]\n",
      "Hello torch.Size([1, 3, 224, 224])\n",
      "Original shape [1, 3, 224, 224]\n",
      "Hello torch.Size([1, 3, 224, 224])\n",
      "Original shape [1, 3, 224, 224]\n",
      "Hello torch.Size([1, 3, 224, 224])\n",
      "Original shape [1, 3, 224, 224]\n"
     ]
    },
    {
     "name": "stderr",
     "output_type": "stream",
     "text": [
      "100%|███████████████████████████████████████| 1250/1250 [01:19<00:00, 15.82it/s]"
     ]
    },
    {
     "name": "stdout",
     "output_type": "stream",
     "text": [
      "Hello torch.Size([1, 3, 224, 224])\n",
      "Original shape [1, 3, 224, 224]\n",
      "Hello torch.Size([1, 3, 224, 224])\n",
      "Original shape [1, 3, 224, 224]\n",
      "Accuracy: 0.0232\n"
     ]
    },
    {
     "name": "stderr",
     "output_type": "stream",
     "text": [
      "\n"
     ]
    }
   ],
   "source": [
    "from src.predictor import predictor_test\n",
    "\n",
    "pred, truth = predictor_test(data_loaders['test'], model_reloaded)"
   ]
  },
  {
   "cell_type": "markdown",
   "metadata": {},
   "source": [
    "Finally, let's have a look at the confusion matrix of the model we are going to use in production:"
   ]
  },
  {
   "cell_type": "code",
   "execution_count": 36,
   "metadata": {},
   "outputs": [
    {
     "data": {
      "image/png": "[encoded data removed]",
      "text/plain": [
       "<Figure size 1400x1200 with 1 Axes>"
      ]
     },
     "metadata": {},
     "output_type": "display_data"
    }
   ],
   "source": [
    "from src.helpers import plot_confusion_matrix\n",
    "\n",
    "plot_confusion_matrix(pred, truth)"
   ]
  },
  {
   "cell_type": "code",
   "execution_count": 38,
   "metadata": {},
   "outputs": [
    {
     "data": {
      "text/plain": [
       "array([ 0,  0,  0, ..., 49, 49, 49])"
      ]
     },
     "execution_count": 38,
     "metadata": {},
     "output_type": "execute_result"
    }
   ],
   "source": []
  },
  {
   "cell_type": "code",
   "execution_count": null,
   "metadata": {},
   "outputs": [],
   "source": []
  }
 ],
 "metadata": {
  "kernelspec": {
   "display_name": "Python 3 (ipykernel)",
   "language": "python",
   "name": "python3"
  },
  "language_info": {
   "codemirror_mode": {
    "name": "ipython",
    "version": 3
   },
   "file_extension": ".py",
   "mimetype": "text/x-python",
   "name": "python",
   "nbconvert_exporter": "python",
   "pygments_lexer": "ipython3",
   "version": "3.9.13"
  },
  "widgets": {
   "application/vnd.jupyter.widget-state+json": {
    "state": {},
    "version_major": 2,
    "version_minor": 0
   }
  }
 },
 "nbformat": 4,
 "nbformat_minor": 4
}
